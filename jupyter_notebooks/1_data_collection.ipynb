{
  "cells": [
    {
      "cell_type": "markdown",
      "metadata": {
        "id": "0aStgWSO0E0E"
      },
      "source": [
        "# **Data Collection Notebook**"
      ]
    },
    {
      "cell_type": "markdown",
      "metadata": {
        "id": "1eLEkw5O0ECa"
      },
      "source": [
        "## Objectives\n",
        "\n",
        "* Fetch data from Kaggle, via storage on local computer, and save it as raw data.\n",
        "* Inspect the data and save it under outputs/datasets/collection\n",
        "\n",
        "## Inputs\n",
        "\n",
        "*   The inputs/datasets/raw/Airplane_Complete_Imputation.csv downloaded from Kaggle and uploaded to gitpod workspace via local computer.\n",
        "\n",
        "## Outputs\n",
        "\n",
        "* Generate Dataset: outputs/datasets/collection/airplane_performance_study.csv\n",
        "\n",
        "## Additional Comments\n",
        "\n",
        "Method to download data directly from Kaggle to the notebook with an authentication token (Kaggle JSON file) gave a \"403 - Forbidden\".\n"
      ]
    },
    {
      "cell_type": "markdown",
      "metadata": {
        "id": "9uWZXH9LwoQg"
      },
      "source": [
        "---"
      ]
    },
    {
      "cell_type": "markdown",
      "metadata": {
        "id": "cqP-UeN-z3i2"
      },
      "source": [
        "# Change working directory"
      ]
    },
    {
      "cell_type": "markdown",
      "metadata": {
        "id": "aOGIGS-uz3i2"
      },
      "source": [
        "We need to change the working directory from its current folder to its parent folder\n",
        "* Access the current directory with os.getcwd()"
      ]
    },
    {
      "cell_type": "code",
      "execution_count": 1,
      "metadata": {
        "id": "wZfF_j-Bz3i4"
      },
      "outputs": [
        {
          "data": {
            "text/plain": [
              "'/workspace/data-driven-design/jupyter_notebooks'"
            ]
          },
          "execution_count": 1,
          "metadata": {},
          "output_type": "execute_result"
        }
      ],
      "source": [
        "import os\n",
        "current_dir = os.getcwd()\n",
        "current_dir"
      ]
    },
    {
      "cell_type": "markdown",
      "metadata": {
        "id": "9MWW8E7lz3i7"
      },
      "source": [
        "Make the parent of the current directory the new current directory.\n",
        "* os.path.dirname() gets the parent directory\n",
        "* os.chir() defines the new current directory"
      ]
    },
    {
      "cell_type": "code",
      "execution_count": 2,
      "metadata": {
        "id": "TwHsQRWjz3i9"
      },
      "outputs": [
        {
          "name": "stdout",
          "output_type": "stream",
          "text": [
            "You set a new current directory\n"
          ]
        }
      ],
      "source": [
        "os.chdir(os.path.dirname(current_dir))\n",
        "print(\"You set a new current directory\")"
      ]
    },
    {
      "cell_type": "markdown",
      "metadata": {
        "id": "M_xPk_Ijz3i-"
      },
      "source": [
        "Confirm the new current directory"
      ]
    },
    {
      "cell_type": "code",
      "execution_count": 3,
      "metadata": {
        "id": "vz3S-_kjz3jA"
      },
      "outputs": [
        {
          "data": {
            "text/plain": [
              "'/workspace/data-driven-design'"
            ]
          },
          "execution_count": 3,
          "metadata": {},
          "output_type": "execute_result"
        }
      ],
      "source": [
        "current_dir = os.getcwd()\n",
        "current_dir"
      ]
    },
    {
      "cell_type": "markdown",
      "metadata": {},
      "source": [
        "---"
      ]
    },
    {
      "attachments": {},
      "cell_type": "markdown",
      "metadata": {},
      "source": [
        "# Install python packages in the notebooks"
      ]
    },
    {
      "cell_type": "code",
      "execution_count": 4,
      "metadata": {},
      "outputs": [
        {
          "name": "stdout",
          "output_type": "stream",
          "text": [
            "Requirement already satisfied: altair==4.2.2 in /workspace/.pip-modules/lib/python3.8/site-packages (from -r /workspace/data-driven-design//requirements.txt (line 1)) (4.2.2)\n",
            "Requirement already satisfied: astor==0.8.1 in /workspace/.pip-modules/lib/python3.8/site-packages (from -r /workspace/data-driven-design//requirements.txt (line 2)) (0.8.1)\n",
            "Requirement already satisfied: backports.zoneinfo==0.2.1 in /workspace/.pip-modules/lib/python3.8/site-packages (from -r /workspace/data-driven-design//requirements.txt (line 3)) (0.2.1)\n",
            "Requirement already satisfied: base58==2.1.1 in /workspace/.pip-modules/lib/python3.8/site-packages (from -r /workspace/data-driven-design//requirements.txt (line 4)) (2.1.1)\n",
            "Requirement already satisfied: blinker==1.8.2 in /workspace/.pip-modules/lib/python3.8/site-packages (from -r /workspace/data-driven-design//requirements.txt (line 5)) (1.8.2)\n",
            "Requirement already satisfied: cachetools==5.5.0 in /workspace/.pip-modules/lib/python3.8/site-packages (from -r /workspace/data-driven-design//requirements.txt (line 6)) (5.5.0)\n",
            "Requirement already satisfied: click==7.1.2 in /workspace/.pip-modules/lib/python3.8/site-packages (from -r /workspace/data-driven-design//requirements.txt (line 7)) (7.1.2)\n",
            "Requirement already satisfied: cycler==0.12.1 in /workspace/.pip-modules/lib/python3.8/site-packages (from -r /workspace/data-driven-design//requirements.txt (line 8)) (0.12.1)\n",
            "Requirement already satisfied: dacite==1.8.1 in /workspace/.pip-modules/lib/python3.8/site-packages (from -r /workspace/data-driven-design//requirements.txt (line 9)) (1.8.1)\n",
            "Requirement already satisfied: entrypoints==0.4 in /workspace/.pip-modules/lib/python3.8/site-packages (from -r /workspace/data-driven-design//requirements.txt (line 10)) (0.4)\n",
            "Requirement already satisfied: feature-engine==1.0.2 in /workspace/.pip-modules/lib/python3.8/site-packages (from -r /workspace/data-driven-design//requirements.txt (line 11)) (1.0.2)\n",
            "Requirement already satisfied: gitdb==4.0.11 in /workspace/.pip-modules/lib/python3.8/site-packages (from -r /workspace/data-driven-design//requirements.txt (line 12)) (4.0.11)\n",
            "Requirement already satisfied: GitPython==3.1.43 in /workspace/.pip-modules/lib/python3.8/site-packages (from -r /workspace/data-driven-design//requirements.txt (line 13)) (3.1.43)\n",
            "Requirement already satisfied: html-minifier==0.0.4 in /workspace/.pip-modules/lib/python3.8/site-packages (from -r /workspace/data-driven-design//requirements.txt (line 14)) (0.0.4)\n",
            "Requirement already satisfied: ImageHash==4.3.1 in /workspace/.pip-modules/lib/python3.8/site-packages (from -r /workspace/data-driven-design//requirements.txt (line 15)) (4.3.1)\n",
            "Requirement already satisfied: imbalanced-learn==0.8.0 in /workspace/.pip-modules/lib/python3.8/site-packages (from -r /workspace/data-driven-design//requirements.txt (line 16)) (0.8.0)\n",
            "Requirement already satisfied: ipywidgets==8.0.2 in /workspace/.pip-modules/lib/python3.8/site-packages (from -r /workspace/data-driven-design//requirements.txt (line 17)) (8.0.2)\n",
            "Requirement already satisfied: Jinja2==3.1.1 in /workspace/.pip-modules/lib/python3.8/site-packages (from -r /workspace/data-driven-design//requirements.txt (line 18)) (3.1.1)\n",
            "Requirement already satisfied: joblib==1.4.2 in /workspace/.pip-modules/lib/python3.8/site-packages (from -r /workspace/data-driven-design//requirements.txt (line 19)) (1.4.2)\n",
            "Requirement already satisfied: jupyterlab_widgets==3.0.13 in /workspace/.pip-modules/lib/python3.8/site-packages (from -r /workspace/data-driven-design//requirements.txt (line 20)) (3.0.13)\n",
            "Requirement already satisfied: kiwisolver==1.4.7 in /workspace/.pip-modules/lib/python3.8/site-packages (from -r /workspace/data-driven-design//requirements.txt (line 21)) (1.4.7)\n",
            "Requirement already satisfied: MarkupSafe==2.0.1 in /workspace/.pip-modules/lib/python3.8/site-packages (from -r /workspace/data-driven-design//requirements.txt (line 22)) (2.0.1)\n",
            "Collecting matplotlib==3.6.0 (from -r /workspace/data-driven-design//requirements.txt (line 23))\n",
            "  Downloading matplotlib-3.6.0-cp38-cp38-manylinux_2_12_x86_64.manylinux2010_x86_64.whl.metadata (6.8 kB)\n",
            "Requirement already satisfied: multimethod==1.10 in /workspace/.pip-modules/lib/python3.8/site-packages (from -r /workspace/data-driven-design//requirements.txt (line 24)) (1.10)\n",
            "Requirement already satisfied: networkx==3.1 in /workspace/.pip-modules/lib/python3.8/site-packages (from -r /workspace/data-driven-design//requirements.txt (line 25)) (3.1)\n",
            "Requirement already satisfied: numpy==1.18.5 in /workspace/.pip-modules/lib/python3.8/site-packages (from -r /workspace/data-driven-design//requirements.txt (line 26)) (1.18.5)\n",
            "Requirement already satisfied: pandas==1.4.2 in /workspace/.pip-modules/lib/python3.8/site-packages (from -r /workspace/data-driven-design//requirements.txt (line 27)) (1.4.2)\n",
            "Requirement already satisfied: patsy==0.5.6 in /workspace/.pip-modules/lib/python3.8/site-packages (from -r /workspace/data-driven-design//requirements.txt (line 28)) (0.5.6)\n",
            "Requirement already satisfied: phik==0.12.4 in /workspace/.pip-modules/lib/python3.8/site-packages (from -r /workspace/data-driven-design//requirements.txt (line 29)) (0.12.4)\n",
            "Requirement already satisfied: pillow==10.4.0 in /workspace/.pip-modules/lib/python3.8/site-packages (from -r /workspace/data-driven-design//requirements.txt (line 30)) (10.4.0)\n",
            "Requirement already satisfied: plotly==4.12.0 in /workspace/.pip-modules/lib/python3.8/site-packages (from -r /workspace/data-driven-design//requirements.txt (line 31)) (4.12.0)\n",
            "Requirement already satisfied: ppscore==1.2.0 in /workspace/.pip-modules/lib/python3.8/site-packages (from -r /workspace/data-driven-design//requirements.txt (line 32)) (1.2.0)\n",
            "Requirement already satisfied: protobuf==3.20.0 in /workspace/.pip-modules/lib/python3.8/site-packages (from -r /workspace/data-driven-design//requirements.txt (line 33)) (3.20.0)\n",
            "Requirement already satisfied: pyarrow==17.0.0 in /workspace/.pip-modules/lib/python3.8/site-packages (from -r /workspace/data-driven-design//requirements.txt (line 34)) (17.0.0)\n",
            "Requirement already satisfied: pydantic==1.10.18 in /workspace/.pip-modules/lib/python3.8/site-packages (from -r /workspace/data-driven-design//requirements.txt (line 35)) (1.10.18)\n",
            "Requirement already satisfied: pydeck==0.9.1 in /workspace/.pip-modules/lib/python3.8/site-packages (from -r /workspace/data-driven-design//requirements.txt (line 36)) (0.9.1)\n",
            "Requirement already satisfied: pyparsing==3.1.4 in /workspace/.pip-modules/lib/python3.8/site-packages (from -r /workspace/data-driven-design//requirements.txt (line 37)) (3.1.4)\n",
            "Requirement already satisfied: PyWavelets==1.4.1 in /workspace/.pip-modules/lib/python3.8/site-packages (from -r /workspace/data-driven-design//requirements.txt (line 38)) (1.4.1)\n",
            "Requirement already satisfied: retrying==1.3.4 in /workspace/.pip-modules/lib/python3.8/site-packages (from -r /workspace/data-driven-design//requirements.txt (line 39)) (1.3.4)\n",
            "Requirement already satisfied: scikit-learn==0.24.2 in /workspace/.pip-modules/lib/python3.8/site-packages (from -r /workspace/data-driven-design//requirements.txt (line 40)) (0.24.2)\n",
            "Requirement already satisfied: scipy==1.9.3 in /workspace/.pip-modules/lib/python3.8/site-packages (from -r /workspace/data-driven-design//requirements.txt (line 41)) (1.9.3)\n",
            "Requirement already satisfied: seaborn==0.11.0 in /workspace/.pip-modules/lib/python3.8/site-packages (from -r /workspace/data-driven-design//requirements.txt (line 42)) (0.11.0)\n",
            "Requirement already satisfied: smmap==5.0.1 in /workspace/.pip-modules/lib/python3.8/site-packages (from -r /workspace/data-driven-design//requirements.txt (line 43)) (5.0.1)\n",
            "Requirement already satisfied: statsmodels==0.14.1 in /workspace/.pip-modules/lib/python3.8/site-packages (from -r /workspace/data-driven-design//requirements.txt (line 44)) (0.14.1)\n",
            "Requirement already satisfied: streamlit==0.88.0 in /workspace/.pip-modules/lib/python3.8/site-packages (from -r /workspace/data-driven-design//requirements.txt (line 45)) (0.88.0)\n",
            "Requirement already satisfied: tangled-up-in-unicode==0.2.0 in /workspace/.pip-modules/lib/python3.8/site-packages (from -r /workspace/data-driven-design//requirements.txt (line 46)) (0.2.0)\n",
            "Requirement already satisfied: threadpoolctl==3.5.0 in /workspace/.pip-modules/lib/python3.8/site-packages (from -r /workspace/data-driven-design//requirements.txt (line 47)) (3.5.0)\n",
            "Requirement already satisfied: toml==0.10.2 in /workspace/.pip-modules/lib/python3.8/site-packages (from -r /workspace/data-driven-design//requirements.txt (line 48)) (0.10.2)\n",
            "Requirement already satisfied: toolz==1.0.0 in /workspace/.pip-modules/lib/python3.8/site-packages (from -r /workspace/data-driven-design//requirements.txt (line 49)) (1.0.0)\n",
            "Requirement already satisfied: tqdm==4.66.5 in /workspace/.pip-modules/lib/python3.8/site-packages (from -r /workspace/data-driven-design//requirements.txt (line 50)) (4.66.5)\n",
            "Requirement already satisfied: typeguard==2.13.3 in /workspace/.pip-modules/lib/python3.8/site-packages (from -r /workspace/data-driven-design//requirements.txt (line 51)) (2.13.3)\n",
            "Requirement already satisfied: tzlocal==5.2 in /workspace/.pip-modules/lib/python3.8/site-packages (from -r /workspace/data-driven-design//requirements.txt (line 52)) (5.2)\n",
            "Requirement already satisfied: validators==0.34.0 in /workspace/.pip-modules/lib/python3.8/site-packages (from -r /workspace/data-driven-design//requirements.txt (line 53)) (0.34.0)\n",
            "Requirement already satisfied: visions==0.7.5 in /workspace/.pip-modules/lib/python3.8/site-packages (from -r /workspace/data-driven-design//requirements.txt (line 54)) (0.7.5)\n",
            "Requirement already satisfied: watchdog==4.0.2 in /workspace/.pip-modules/lib/python3.8/site-packages (from -r /workspace/data-driven-design//requirements.txt (line 55)) (4.0.2)\n",
            "Requirement already satisfied: widgetsnbextension==4.0.13 in /workspace/.pip-modules/lib/python3.8/site-packages (from -r /workspace/data-driven-design//requirements.txt (line 56)) (4.0.13)\n",
            "Requirement already satisfied: wordcloud==1.9.3 in /workspace/.pip-modules/lib/python3.8/site-packages (from -r /workspace/data-driven-design//requirements.txt (line 57)) (1.9.3)\n",
            "Requirement already satisfied: xgboost==1.2.1 in /workspace/.pip-modules/lib/python3.8/site-packages (from -r /workspace/data-driven-design//requirements.txt (line 58)) (1.2.1)\n",
            "Requirement already satisfied: ydata-profiling==4.4.0 in /workspace/.pip-modules/lib/python3.8/site-packages (from -r /workspace/data-driven-design//requirements.txt (line 59)) (4.4.0)\n",
            "Requirement already satisfied: yellowbrick==1.3 in /workspace/.pip-modules/lib/python3.8/site-packages (from -r /workspace/data-driven-design//requirements.txt (line 60)) (1.3)\n",
            "Requirement already satisfied: jsonschema>=3.0 in /home/gitpod/.pyenv/versions/3.8.18/lib/python3.8/site-packages (from altair==4.2.2->-r /workspace/data-driven-design//requirements.txt (line 1)) (4.23.0)\n",
            "Requirement already satisfied: ipykernel>=4.5.1 in /home/gitpod/.pyenv/versions/3.8.18/lib/python3.8/site-packages (from ipywidgets==8.0.2->-r /workspace/data-driven-design//requirements.txt (line 17)) (6.29.5)\n",
            "Requirement already satisfied: ipython>=6.1.0 in /home/gitpod/.pyenv/versions/3.8.18/lib/python3.8/site-packages (from ipywidgets==8.0.2->-r /workspace/data-driven-design//requirements.txt (line 17)) (8.12.3)\n",
            "Requirement already satisfied: traitlets>=4.3.1 in /home/gitpod/.pyenv/versions/3.8.18/lib/python3.8/site-packages (from ipywidgets==8.0.2->-r /workspace/data-driven-design//requirements.txt (line 17)) (5.14.3)\n",
            "Collecting contourpy>=1.0.1 (from matplotlib==3.6.0->-r /workspace/data-driven-design//requirements.txt (line 23))\n",
            "  Downloading contourpy-1.1.1-cp38-cp38-manylinux_2_17_x86_64.manylinux2014_x86_64.whl.metadata (5.9 kB)\n",
            "Collecting fonttools>=4.22.0 (from matplotlib==3.6.0->-r /workspace/data-driven-design//requirements.txt (line 23))\n",
            "  Downloading fonttools-4.56.0-cp38-cp38-manylinux_2_17_x86_64.manylinux2014_x86_64.whl.metadata (101 kB)\n",
            "INFO: pip is looking at multiple versions of matplotlib to determine which version is compatible with other requirements. This could take a while.\n",
            "Collecting imbalanced-learn==0.8.0 (from -r /workspace/data-driven-design//requirements.txt (line 16))\n",
            "  Downloading imbalanced_learn-0.8.0-py3-none-any.whl.metadata (11 kB)\n",
            "Collecting ImageHash==4.3.1 (from -r /workspace/data-driven-design//requirements.txt (line 15))\n",
            "  Downloading ImageHash-4.3.1-py2.py3-none-any.whl.metadata (8.0 kB)\n",
            "Collecting feature-engine==1.0.2 (from -r /workspace/data-driven-design//requirements.txt (line 11))\n",
            "  Downloading feature_engine-1.0.2-py2.py3-none-any.whl.metadata (7.1 kB)\n",
            "INFO: pip is still looking at multiple versions of matplotlib to determine which version is compatible with other requirements. This could take a while.\n",
            "Collecting altair==4.2.2 (from -r /workspace/data-driven-design//requirements.txt (line 1))\n",
            "  Downloading altair-4.2.2-py3-none-any.whl.metadata (13 kB)\n",
            "INFO: This is taking longer than usual. You might need to provide the dependency resolver with stricter constraints to reduce runtime. See https://pip.pypa.io/warnings/backtracking for guidance. If you want to abort this run, press Ctrl + C.\n",
            "\u001b[31mERROR: Cannot install -r /workspace/data-driven-design//requirements.txt (line 1), -r /workspace/data-driven-design//requirements.txt (line 11), -r /workspace/data-driven-design//requirements.txt (line 15), -r /workspace/data-driven-design//requirements.txt (line 16), -r /workspace/data-driven-design//requirements.txt (line 23) and numpy==1.18.5 because these package versions have conflicting dependencies.\u001b[0m\u001b[31m\n",
            "\u001b[0m\n",
            "The conflict is caused by:\n",
            "    The user requested numpy==1.18.5\n",
            "    altair 4.2.2 depends on numpy\n",
            "    feature-engine 1.0.2 depends on numpy>=1.18.2\n",
            "    imagehash 4.3.1 depends on numpy\n",
            "    imbalanced-learn 0.8.0 depends on numpy>=1.13.3\n",
            "    matplotlib 3.6.0 depends on numpy>=1.19\n",
            "\n",
            "To fix this you could try to:\n",
            "1. loosen the range of package versions you've specified\n",
            "2. remove package versions to allow pip to attempt to solve the dependency conflict\n",
            "\n",
            "\n",
            "\u001b[1m[\u001b[0m\u001b[34;49mnotice\u001b[0m\u001b[1;39;49m]\u001b[0m\u001b[39;49m A new release of pip is available: \u001b[0m\u001b[31;49m24.3.1\u001b[0m\u001b[39;49m -> \u001b[0m\u001b[32;49m25.0.1\u001b[0m\n",
            "\u001b[1m[\u001b[0m\u001b[34;49mnotice\u001b[0m\u001b[1;39;49m]\u001b[0m\u001b[39;49m To update, run: \u001b[0m\u001b[32;49mpip install --upgrade pip\u001b[0m\n",
            "\u001b[31mERROR: ResolutionImpossible: for help visit https://pip.pypa.io/en/latest/topics/dependency-resolution/#dealing-with-dependency-conflicts\u001b[0m\u001b[31m\n",
            "\u001b[0mNote: you may need to restart the kernel to use updated packages.\n"
          ]
        }
      ],
      "source": [
        "%pip install -r /workspace/data-driven-design//requirements.txt"
      ]
    },
    {
      "cell_type": "code",
      "execution_count": 5,
      "metadata": {},
      "outputs": [
        {
          "name": "stdout",
          "output_type": "stream",
          "text": [
            "Note: you may need to restart the kernel to use updated packages.\n"
          ]
        }
      ],
      "source": [
        "pip freeze > requirements.txt"
      ]
    },
    {
      "cell_type": "markdown",
      "metadata": {
        "id": "-mavJ8DibrcQ"
      },
      "source": [
        "# Fetch data from Kaggle"
      ]
    },
    {
      "cell_type": "markdown",
      "metadata": {
        "id": "XQrZFfd_J4Ix"
      },
      "source": [
        "Download data file directly from Kaggle and upload to Explorer in Git Pod workspace via local computer:\n",
        "\n",
        "Step 1: Go to [Aircraft Performance (Aircraft Bluebook) ](https://www.kaggle.com/datasets/heitornunes/aircraft-performance-dataset-aircraft-bluebook?select=Airplane_Complete_Imputation.csv)\n",
        "\n",
        "Step 2: Scroll down and choose the \"Airplane Complete Imputation.csv\"-file \n",
        "\n",
        "<img src=\"/workspace/data-driven-design/images_notebook/choose_file_from_kaggle.jpg\" alt=\"Screenshot showing which file on Kaggle to download\" width=\"700\" />\n",
        "\n",
        "Step 3: Download data file from Kaggle to local computer [Aircraft Performance (Aircraft Bluebook) ](https://www.kaggle.com/datasets/heitornunes/aircraft-performance-dataset-aircraft-bluebook?select=Airplane_Complete_Imputation.csv)\n",
        "\n",
        "<img src=\"/workspace/data-driven-design/images_notebook/download_from_kaggle.jpg\" alt=\"Screenshot showing where to download the data on Kaggle\" width=\"700\" />"
      ]
    },
    {
      "cell_type": "markdown",
      "metadata": {},
      "source": [
        "---"
      ]
    },
    {
      "cell_type": "markdown",
      "metadata": {
        "id": "uFQo3ycuO-v6"
      },
      "source": [
        "# Load, Rearrange and Inspect Kaggle data"
      ]
    },
    {
      "cell_type": "markdown",
      "metadata": {},
      "source": [
        "Set pandas to display all columns without truncating (and enabling horizontal slider)"
      ]
    },
    {
      "cell_type": "code",
      "execution_count": 6,
      "metadata": {},
      "outputs": [],
      "source": [
        "import pandas as pd\n",
        "pd.set_option('display.max_columns', None)  # Show all columns"
      ]
    },
    {
      "cell_type": "code",
      "execution_count": null,
      "metadata": {
        "id": "CjEM52Z1YLRP"
      },
      "outputs": [],
      "source": [
        "df = pd.read_csv(f\"inputs/datasets/raw/Airplane_Complete_Imputation.csv\")\n",
        "df.head()"
      ]
    },
    {
      "cell_type": "markdown",
      "metadata": {},
      "source": [
        "Rearrange columns in data to group features that belong together side by side in order to make heatmaps etc. more easily interpreted"
      ]
    },
    {
      "cell_type": "code",
      "execution_count": null,
      "metadata": {},
      "outputs": [],
      "source": [
        "new_order = ['Model', 'Company', 'Wing Span', 'Length', 'Height', 'Multi Engine', 'TP mods', 'Engine Type', 'THR', 'SHP', 'AUW', 'MEW', 'FW', 'Vmax', 'Vcruise', 'Vstall', 'Range', 'Hmax', 'Hmax (One)', 'ROC', 'ROC (One)', 'Vlo', 'Slo', 'Vl', 'Sl']  # Specify new order\n",
        "df = df[new_order]\n",
        "df.to_csv('rearranged_file.csv', index=False)  # We overwrite the df with this rearranged file\n",
        "df.head()"
      ]
    },
    {
      "cell_type": "markdown",
      "metadata": {
        "id": "cKG2pKb3hmY4"
      },
      "source": [
        "DataFrame Summary. Click 'View as a scrollable element' at the bottom of the output in case the 'display.max_columns'-command does not work (probably overruled by jupyter notebook)"
      ]
    },
    {
      "cell_type": "code",
      "execution_count": null,
      "metadata": {
        "id": "YtKKWuPhg7r8"
      },
      "outputs": [],
      "source": [
        "df.info()"
      ]
    },
    {
      "cell_type": "markdown",
      "metadata": {
        "id": "hcB2YJiOH4pm"
      },
      "source": [
        "We want to check if there are duplicated airplanes by checking `Model`: There are three duplicates."
      ]
    },
    {
      "cell_type": "markdown",
      "metadata": {},
      "source": [
        "The 'keep=False' ensures that both lines of duplicate values are being displayed"
      ]
    },
    {
      "cell_type": "code",
      "execution_count": null,
      "metadata": {
        "id": "3om7yFYAH1vl"
      },
      "outputs": [],
      "source": [
        "df[df.duplicated(subset=['Model'], keep=False)]"
      ]
    },
    {
      "cell_type": "markdown",
      "metadata": {},
      "source": [
        "The double entries having the same and almost the same values for their features probably refer to confusion in the \"Company\" or similar versions of the same model.  We will drop one of each double entries."
      ]
    },
    {
      "cell_type": "code",
      "execution_count": null,
      "metadata": {},
      "outputs": [],
      "source": [
        "# Drop the row at index 1\n",
        "df_dropped = df.drop(index=[65, 445, 514], inplace=True)\n",
        "print(df_dropped)"
      ]
    },
    {
      "cell_type": "markdown",
      "metadata": {},
      "source": [
        "We check for duplicates again: There are no duplicates."
      ]
    },
    {
      "cell_type": "code",
      "execution_count": null,
      "metadata": {},
      "outputs": [],
      "source": [
        "df[df.duplicated(subset=['Model'], keep=False)]"
      ]
    },
    {
      "cell_type": "markdown",
      "metadata": {
        "id": "HaObnZm0x8od"
      },
      "source": [
        "We noticed `Engine Type` is a categorical variable with three alternatives: 'Piston', 'Propjet'and 'Jet'. We will replace/convert the categories to integers as the ML model requires numeric variables. "
      ]
    },
    {
      "cell_type": "code",
      "execution_count": null,
      "metadata": {
        "id": "9ivG1m2Ntryw"
      },
      "outputs": [],
      "source": [
        "df['Engine Type'].unique()"
      ]
    },
    {
      "cell_type": "code",
      "execution_count": 14,
      "metadata": {
        "id": "AX5SeWxpxg8z"
      },
      "outputs": [],
      "source": [
        "df['Engine Type'] = df['Engine Type'].replace({\"Piston\":0, \"Propjet\":1, \"Jet\":2})"
      ]
    },
    {
      "cell_type": "markdown",
      "metadata": {
        "id": "vbo03aCPyKu-"
      },
      "source": [
        "Check the `Engine Type` data type."
      ]
    },
    {
      "cell_type": "code",
      "execution_count": null,
      "metadata": {
        "id": "W6vlA0ZxyHeO"
      },
      "outputs": [],
      "source": [
        "df['Engine Type'].dtype"
      ]
    },
    {
      "cell_type": "markdown",
      "metadata": {},
      "source": [
        "Finally before we push the df to the repo we replace the pesky spaces with underscores."
      ]
    },
    {
      "cell_type": "code",
      "execution_count": 16,
      "metadata": {},
      "outputs": [],
      "source": [
        "# Renaming columns\n",
        "df.rename(columns={\n",
        "    'Multi Engine': 'Multi_Engine',\n",
        "    'Wing Span': 'Wing_Span',\n",
        "    'TP mods': 'TP_mods',  # Fixed this entry to match naming convention\n",
        "    'Engine Type': 'Engine_Type',  # Adjusted to use underscores\n",
        "    'Hmax (One)': 'Hmax_(One)',\n",
        "    'ROC (One)': 'ROC_(One)'\n",
        "}, inplace=True)"
      ]
    },
    {
      "cell_type": "markdown",
      "metadata": {
        "id": "ltNetd085qHf"
      },
      "source": [
        "# Push files to Repo"
      ]
    },
    {
      "cell_type": "code",
      "execution_count": null,
      "metadata": {
        "id": "aKlnIozA4eQO"
      },
      "outputs": [],
      "source": [
        "import os\n",
        "try:\n",
        "  os.makedirs(name='outputs/datasets/collection') # create outputs/datasets/collection folder\n",
        "except Exception as e:\n",
        "  print(e)\n",
        "\n",
        "df.to_csv(f\"outputs/datasets/collection/airplane_performance_study.csv\",index=False)"
      ]
    },
    {
      "cell_type": "markdown",
      "metadata": {},
      "source": [
        "Double check that we really have the correct update csv-file in the repo and yes it is correct."
      ]
    },
    {
      "cell_type": "code",
      "execution_count": null,
      "metadata": {},
      "outputs": [],
      "source": [
        "df = pd.read_csv(f\"outputs/datasets/collection/airplane_performance_study.csv\")\n",
        "df.head()"
      ]
    }
  ],
  "metadata": {
    "accelerator": "GPU",
    "colab": {
      "name": "Data Practitioner Jupyter Notebook.ipynb",
      "provenance": [],
      "toc_visible": true
    },
    "kernelspec": {
      "display_name": "Python 3",
      "language": "python",
      "name": "python3"
    },
    "language_info": {
      "codemirror_mode": {
        "name": "ipython",
        "version": 3
      },
      "file_extension": ".py",
      "mimetype": "text/x-python",
      "name": "python",
      "nbconvert_exporter": "python",
      "pygments_lexer": "ipython3",
      "version": "3.8.18"
    },
    "orig_nbformat": 2
  },
  "nbformat": 4,
  "nbformat_minor": 0
}
