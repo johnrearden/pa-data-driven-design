{
  "cells": [
    {
      "cell_type": "markdown",
      "metadata": {
        "id": "0aStgWSO0E0E"
      },
      "source": [
        "# **Data Collection Notebook**"
      ]
    },
    {
      "cell_type": "markdown",
      "metadata": {
        "id": "1eLEkw5O0ECa"
      },
      "source": [
        "## Objectives\n",
        "\n",
        "* Fetch data from Kaggle, via storage on local computer, and save it as raw data.\n",
        "* Inspect the data and save it under outputs/datasets/collection\n",
        "\n",
        "## Inputs\n",
        "\n",
        "*   The inputs/datasets/raw/Airplane_Complete_Imputation.csv downloaded from Kaggle and uploaded to gitpod workspace via local computer.\n",
        "\n",
        "## Outputs\n",
        "\n",
        "* Generate Dataset: outputs/datasets/collection/airplane_performance_study.csv\n",
        "\n",
        "## Additional Comments\n",
        "\n",
        "Method to download data directly from Kaggle to the notebook with an authentication token (Kaggle JSON file) gave a \"403 - Forbidden\".\n"
      ]
    },
    {
      "cell_type": "markdown",
      "metadata": {
        "id": "9uWZXH9LwoQg"
      },
      "source": [
        "---"
      ]
    },
    {
      "cell_type": "markdown",
      "metadata": {
        "id": "cqP-UeN-z3i2"
      },
      "source": [
        "# Change working directory"
      ]
    },
    {
      "cell_type": "markdown",
      "metadata": {
        "id": "aOGIGS-uz3i2"
      },
      "source": [
        "We need to change the working directory from its current folder to its parent folder\n",
        "* Access the current directory with os.getcwd()"
      ]
    },
    {
      "cell_type": "code",
      "execution_count": 1,
      "metadata": {
        "id": "wZfF_j-Bz3i4"
      },
      "outputs": [
        {
          "data": {
            "text/plain": [
              "'/workspace/data-driven-design/jupyter_notebooks'"
            ]
          },
          "execution_count": 1,
          "metadata": {},
          "output_type": "execute_result"
        }
      ],
      "source": [
        "import os\n",
        "current_dir = os.getcwd()\n",
        "current_dir"
      ]
    },
    {
      "cell_type": "markdown",
      "metadata": {
        "id": "9MWW8E7lz3i7"
      },
      "source": [
        "Make the parent of the current directory the new current directory.\n",
        "* os.path.dirname() gets the parent directory\n",
        "* os.chir() defines the new current directory"
      ]
    },
    {
      "cell_type": "code",
      "execution_count": 2,
      "metadata": {
        "id": "TwHsQRWjz3i9"
      },
      "outputs": [
        {
          "name": "stdout",
          "output_type": "stream",
          "text": [
            "You set a new current directory\n"
          ]
        }
      ],
      "source": [
        "os.chdir(os.path.dirname(current_dir))\n",
        "print(\"You set a new current directory\")"
      ]
    },
    {
      "cell_type": "markdown",
      "metadata": {
        "id": "M_xPk_Ijz3i-"
      },
      "source": [
        "Confirm the new current directory"
      ]
    },
    {
      "cell_type": "code",
      "execution_count": 3,
      "metadata": {
        "id": "vz3S-_kjz3jA"
      },
      "outputs": [
        {
          "data": {
            "text/plain": [
              "'/workspace/data-driven-design'"
            ]
          },
          "execution_count": 3,
          "metadata": {},
          "output_type": "execute_result"
        }
      ],
      "source": [
        "current_dir = os.getcwd()\n",
        "current_dir"
      ]
    },
    {
      "cell_type": "markdown",
      "metadata": {},
      "source": [
        "---"
      ]
    },
    {
      "attachments": {},
      "cell_type": "markdown",
      "metadata": {},
      "source": [
        "# Install python packages in the notebooks"
      ]
    },
    {
      "cell_type": "code",
      "execution_count": 4,
      "metadata": {},
      "outputs": [
        {
          "name": "stdout",
          "output_type": "stream",
          "text": [
            "Requirement already satisfied: pip in /workspace/.pip-modules/lib/python3.8/site-packages (25.0.1)\n",
            "Note: you may need to restart the kernel to use updated packages.\n"
          ]
        }
      ],
      "source": [
        "pip install --upgrade pip"
      ]
    },
    {
      "cell_type": "code",
      "execution_count": 5,
      "metadata": {},
      "outputs": [
        {
          "name": "stdout",
          "output_type": "stream",
          "text": [
            "Requirement already satisfied: setuptools>=68.1.2 in /home/gitpod/.pyenv/versions/3.8.18/lib/python3.8/site-packages (from -r /workspace/data-driven-design/requirements.txt (line 1)) (75.3.0)\n",
            "Requirement already satisfied: wheel>=0.37.1 in /home/gitpod/.pyenv/versions/3.8.18/lib/python3.8/site-packages (from -r /workspace/data-driven-design/requirements.txt (line 2)) (0.45.1)\n",
            "Requirement already satisfied: altair==4.2.2 in /workspace/.pip-modules/lib/python3.8/site-packages (from -r /workspace/data-driven-design/requirements.txt (line 3)) (4.2.2)\n",
            "Requirement already satisfied: astor==0.8.1 in /workspace/.pip-modules/lib/python3.8/site-packages (from -r /workspace/data-driven-design/requirements.txt (line 4)) (0.8.1)\n",
            "Requirement already satisfied: backports.zoneinfo==0.2.1 in /workspace/.pip-modules/lib/python3.8/site-packages (from -r /workspace/data-driven-design/requirements.txt (line 5)) (0.2.1)\n",
            "Requirement already satisfied: base58==2.1.1 in /workspace/.pip-modules/lib/python3.8/site-packages (from -r /workspace/data-driven-design/requirements.txt (line 6)) (2.1.1)\n",
            "Requirement already satisfied: blinker==1.8.2 in /workspace/.pip-modules/lib/python3.8/site-packages (from -r /workspace/data-driven-design/requirements.txt (line 7)) (1.8.2)\n",
            "Requirement already satisfied: cachetools==5.5.0 in /workspace/.pip-modules/lib/python3.8/site-packages (from -r /workspace/data-driven-design/requirements.txt (line 8)) (5.5.0)\n",
            "Requirement already satisfied: click==7.1.2 in /workspace/.pip-modules/lib/python3.8/site-packages (from -r /workspace/data-driven-design/requirements.txt (line 9)) (7.1.2)\n",
            "Requirement already satisfied: contourpy==1.1.1 in /workspace/.pip-modules/lib/python3.8/site-packages (from -r /workspace/data-driven-design/requirements.txt (line 10)) (1.1.1)\n",
            "Requirement already satisfied: cycler==0.12.1 in /workspace/.pip-modules/lib/python3.8/site-packages (from -r /workspace/data-driven-design/requirements.txt (line 11)) (0.12.1)\n",
            "Requirement already satisfied: dacite==1.8.1 in /workspace/.pip-modules/lib/python3.8/site-packages (from -r /workspace/data-driven-design/requirements.txt (line 12)) (1.8.1)\n",
            "Requirement already satisfied: entrypoints==0.4 in /workspace/.pip-modules/lib/python3.8/site-packages (from -r /workspace/data-driven-design/requirements.txt (line 13)) (0.4)\n",
            "Requirement already satisfied: feature-engine==1.0.2 in /workspace/.pip-modules/lib/python3.8/site-packages (from -r /workspace/data-driven-design/requirements.txt (line 14)) (1.0.2)\n",
            "Requirement already satisfied: fonttools==4.56.0 in /workspace/.pip-modules/lib/python3.8/site-packages (from -r /workspace/data-driven-design/requirements.txt (line 15)) (4.56.0)\n",
            "Requirement already satisfied: gitdb==4.0.11 in /workspace/.pip-modules/lib/python3.8/site-packages (from -r /workspace/data-driven-design/requirements.txt (line 16)) (4.0.11)\n",
            "Requirement already satisfied: GitPython==3.1.43 in /workspace/.pip-modules/lib/python3.8/site-packages (from -r /workspace/data-driven-design/requirements.txt (line 17)) (3.1.43)\n",
            "Requirement already satisfied: html-minifier==0.0.4 in /workspace/.pip-modules/lib/python3.8/site-packages (from -r /workspace/data-driven-design/requirements.txt (line 18)) (0.0.4)\n",
            "Requirement already satisfied: ImageHash==4.3.1 in /workspace/.pip-modules/lib/python3.8/site-packages (from -r /workspace/data-driven-design/requirements.txt (line 19)) (4.3.1)\n",
            "Requirement already satisfied: imbalanced-learn==0.8.0 in /workspace/.pip-modules/lib/python3.8/site-packages (from -r /workspace/data-driven-design/requirements.txt (line 20)) (0.8.0)\n",
            "Requirement already satisfied: ipywidgets==8.0.2 in /workspace/.pip-modules/lib/python3.8/site-packages (from -r /workspace/data-driven-design/requirements.txt (line 21)) (8.0.2)\n",
            "Requirement already satisfied: Jinja2==3.1.1 in /workspace/.pip-modules/lib/python3.8/site-packages (from -r /workspace/data-driven-design/requirements.txt (line 22)) (3.1.1)\n",
            "Requirement already satisfied: joblib==1.4.2 in /workspace/.pip-modules/lib/python3.8/site-packages (from -r /workspace/data-driven-design/requirements.txt (line 23)) (1.4.2)\n",
            "Requirement already satisfied: jupyterlab_widgets==3.0.13 in /workspace/.pip-modules/lib/python3.8/site-packages (from -r /workspace/data-driven-design/requirements.txt (line 24)) (3.0.13)\n",
            "Requirement already satisfied: kiwisolver==1.4.7 in /workspace/.pip-modules/lib/python3.8/site-packages (from -r /workspace/data-driven-design/requirements.txt (line 25)) (1.4.7)\n",
            "Requirement already satisfied: MarkupSafe==2.0.1 in /workspace/.pip-modules/lib/python3.8/site-packages (from -r /workspace/data-driven-design/requirements.txt (line 26)) (2.0.1)\n",
            "Requirement already satisfied: matplotlib==3.6.0 in /workspace/.pip-modules/lib/python3.8/site-packages (from -r /workspace/data-driven-design/requirements.txt (line 27)) (3.6.0)\n",
            "Requirement already satisfied: multimethod==1.10 in /workspace/.pip-modules/lib/python3.8/site-packages (from -r /workspace/data-driven-design/requirements.txt (line 28)) (1.10)\n",
            "Requirement already satisfied: narwhals==1.26.0 in /workspace/.pip-modules/lib/python3.8/site-packages (from -r /workspace/data-driven-design/requirements.txt (line 29)) (1.26.0)\n",
            "Requirement already satisfied: networkx==3.1 in /workspace/.pip-modules/lib/python3.8/site-packages (from -r /workspace/data-driven-design/requirements.txt (line 30)) (3.1)\n",
            "Requirement already satisfied: numpy==1.23.5 in /workspace/.pip-modules/lib/python3.8/site-packages (from -r /workspace/data-driven-design/requirements.txt (line 31)) (1.23.5)\n",
            "Requirement already satisfied: pandas==1.5.3 in /workspace/.pip-modules/lib/python3.8/site-packages (from -r /workspace/data-driven-design/requirements.txt (line 32)) (1.5.3)\n",
            "Requirement already satisfied: patsy==1.0.1 in /workspace/.pip-modules/lib/python3.8/site-packages (from -r /workspace/data-driven-design/requirements.txt (line 33)) (1.0.1)\n",
            "Requirement already satisfied: phik==0.12.4 in /workspace/.pip-modules/lib/python3.8/site-packages (from -r /workspace/data-driven-design/requirements.txt (line 34)) (0.12.4)\n",
            "Requirement already satisfied: pillow==10.4.0 in /workspace/.pip-modules/lib/python3.8/site-packages (from -r /workspace/data-driven-design/requirements.txt (line 35)) (10.4.0)\n",
            "Requirement already satisfied: plotly==4.12.0 in /workspace/.pip-modules/lib/python3.8/site-packages (from -r /workspace/data-driven-design/requirements.txt (line 36)) (4.12.0)\n",
            "Requirement already satisfied: ppscore==1.2.0 in /workspace/.pip-modules/lib/python3.8/site-packages (from -r /workspace/data-driven-design/requirements.txt (line 37)) (1.2.0)\n",
            "Requirement already satisfied: protobuf==3.20.0 in /workspace/.pip-modules/lib/python3.8/site-packages (from -r /workspace/data-driven-design/requirements.txt (line 38)) (3.20.0)\n",
            "Requirement already satisfied: pyarrow==17.0.0 in /workspace/.pip-modules/lib/python3.8/site-packages (from -r /workspace/data-driven-design/requirements.txt (line 39)) (17.0.0)\n",
            "Requirement already satisfied: pydantic==1.10.18 in /workspace/.pip-modules/lib/python3.8/site-packages (from -r /workspace/data-driven-design/requirements.txt (line 40)) (1.10.18)\n",
            "Requirement already satisfied: pydeck==0.9.1 in /workspace/.pip-modules/lib/python3.8/site-packages (from -r /workspace/data-driven-design/requirements.txt (line 41)) (0.9.1)\n",
            "Requirement already satisfied: pyparsing==3.1.4 in /workspace/.pip-modules/lib/python3.8/site-packages (from -r /workspace/data-driven-design/requirements.txt (line 42)) (3.1.4)\n",
            "Requirement already satisfied: PyWavelets==1.4.1 in /workspace/.pip-modules/lib/python3.8/site-packages (from -r /workspace/data-driven-design/requirements.txt (line 43)) (1.4.1)\n",
            "Requirement already satisfied: retrying==1.3.4 in /workspace/.pip-modules/lib/python3.8/site-packages (from -r /workspace/data-driven-design/requirements.txt (line 44)) (1.3.4)\n",
            "Requirement already satisfied: scikit-learn==0.24.2 in /workspace/.pip-modules/lib/python3.8/site-packages (from -r /workspace/data-driven-design/requirements.txt (line 45)) (0.24.2)\n",
            "Requirement already satisfied: scipy==1.9.3 in /workspace/.pip-modules/lib/python3.8/site-packages (from -r /workspace/data-driven-design/requirements.txt (line 46)) (1.9.3)\n",
            "Requirement already satisfied: seaborn==0.11.2 in /workspace/.pip-modules/lib/python3.8/site-packages (from -r /workspace/data-driven-design/requirements.txt (line 47)) (0.11.2)\n",
            "Requirement already satisfied: smmap==5.0.1 in /workspace/.pip-modules/lib/python3.8/site-packages (from -r /workspace/data-driven-design/requirements.txt (line 48)) (5.0.1)\n",
            "Requirement already satisfied: statsmodels==0.14.1 in /workspace/.pip-modules/lib/python3.8/site-packages (from -r /workspace/data-driven-design/requirements.txt (line 49)) (0.14.1)\n",
            "Requirement already satisfied: streamlit==0.88.0 in /workspace/.pip-modules/lib/python3.8/site-packages (from -r /workspace/data-driven-design/requirements.txt (line 50)) (0.88.0)\n",
            "Requirement already satisfied: tangled-up-in-unicode==0.2.0 in /workspace/.pip-modules/lib/python3.8/site-packages (from -r /workspace/data-driven-design/requirements.txt (line 51)) (0.2.0)\n",
            "Requirement already satisfied: threadpoolctl==3.5.0 in /workspace/.pip-modules/lib/python3.8/site-packages (from -r /workspace/data-driven-design/requirements.txt (line 52)) (3.5.0)\n",
            "Requirement already satisfied: toml==0.10.2 in /workspace/.pip-modules/lib/python3.8/site-packages (from -r /workspace/data-driven-design/requirements.txt (line 53)) (0.10.2)\n",
            "Requirement already satisfied: toolz==1.0.0 in /workspace/.pip-modules/lib/python3.8/site-packages (from -r /workspace/data-driven-design/requirements.txt (line 54)) (1.0.0)\n",
            "Requirement already satisfied: tqdm==4.66.5 in /workspace/.pip-modules/lib/python3.8/site-packages (from -r /workspace/data-driven-design/requirements.txt (line 55)) (4.66.5)\n",
            "Requirement already satisfied: typeguard==2.13.3 in /workspace/.pip-modules/lib/python3.8/site-packages (from -r /workspace/data-driven-design/requirements.txt (line 56)) (2.13.3)\n",
            "Requirement already satisfied: tzlocal==5.2 in /workspace/.pip-modules/lib/python3.8/site-packages (from -r /workspace/data-driven-design/requirements.txt (line 57)) (5.2)\n",
            "Requirement already satisfied: validators==0.34.0 in /workspace/.pip-modules/lib/python3.8/site-packages (from -r /workspace/data-driven-design/requirements.txt (line 58)) (0.34.0)\n",
            "Requirement already satisfied: visions==0.7.5 in /workspace/.pip-modules/lib/python3.8/site-packages (from -r /workspace/data-driven-design/requirements.txt (line 59)) (0.7.5)\n",
            "Requirement already satisfied: watchdog==4.0.2 in /workspace/.pip-modules/lib/python3.8/site-packages (from -r /workspace/data-driven-design/requirements.txt (line 60)) (4.0.2)\n",
            "Requirement already satisfied: widgetsnbextension==4.0.13 in /workspace/.pip-modules/lib/python3.8/site-packages (from -r /workspace/data-driven-design/requirements.txt (line 61)) (4.0.13)\n",
            "Requirement already satisfied: wordcloud==1.9.3 in /workspace/.pip-modules/lib/python3.8/site-packages (from -r /workspace/data-driven-design/requirements.txt (line 62)) (1.9.3)\n",
            "Requirement already satisfied: xgboost==1.2.1 in /workspace/.pip-modules/lib/python3.8/site-packages (from -r /workspace/data-driven-design/requirements.txt (line 63)) (1.2.1)\n",
            "Requirement already satisfied: ydata-profiling==4.4.0 in /workspace/.pip-modules/lib/python3.8/site-packages (from -r /workspace/data-driven-design/requirements.txt (line 64)) (4.4.0)\n",
            "Requirement already satisfied: yellowbrick==1.0 in /workspace/.pip-modules/lib/python3.8/site-packages (from -r /workspace/data-driven-design/requirements.txt (line 65)) (1.0)\n",
            "Requirement already satisfied: jsonschema>=3.0 in /home/gitpod/.pyenv/versions/3.8.18/lib/python3.8/site-packages (from altair==4.2.2->-r /workspace/data-driven-design/requirements.txt (line 3)) (4.23.0)\n",
            "Requirement already satisfied: ipykernel>=4.5.1 in /home/gitpod/.pyenv/versions/3.8.18/lib/python3.8/site-packages (from ipywidgets==8.0.2->-r /workspace/data-driven-design/requirements.txt (line 21)) (6.29.5)\n",
            "Requirement already satisfied: ipython>=6.1.0 in /home/gitpod/.pyenv/versions/3.8.18/lib/python3.8/site-packages (from ipywidgets==8.0.2->-r /workspace/data-driven-design/requirements.txt (line 21)) (8.12.3)\n",
            "Requirement already satisfied: traitlets>=4.3.1 in /home/gitpod/.pyenv/versions/3.8.18/lib/python3.8/site-packages (from ipywidgets==8.0.2->-r /workspace/data-driven-design/requirements.txt (line 21)) (5.14.3)\n",
            "Requirement already satisfied: packaging>=20.0 in /home/gitpod/.pyenv/versions/3.8.18/lib/python3.8/site-packages (from matplotlib==3.6.0->-r /workspace/data-driven-design/requirements.txt (line 27)) (24.2)\n",
            "Requirement already satisfied: python-dateutil>=2.7 in /home/gitpod/.pyenv/versions/3.8.18/lib/python3.8/site-packages (from matplotlib==3.6.0->-r /workspace/data-driven-design/requirements.txt (line 27)) (2.9.0.post0)\n",
            "Requirement already satisfied: pytz>=2020.1 in /home/gitpod/.pyenv/versions/3.8.18/lib/python3.8/site-packages (from pandas==1.5.3->-r /workspace/data-driven-design/requirements.txt (line 32)) (2024.2)\n",
            "Requirement already satisfied: six in /home/gitpod/.pyenv/versions/3.8.18/lib/python3.8/site-packages (from plotly==4.12.0->-r /workspace/data-driven-design/requirements.txt (line 36)) (1.17.0)\n",
            "Requirement already satisfied: typing-extensions>=4.2.0 in /home/gitpod/.pyenv/versions/3.8.18/lib/python3.8/site-packages (from pydantic==1.10.18->-r /workspace/data-driven-design/requirements.txt (line 40)) (4.12.2)\n",
            "Requirement already satisfied: attrs in /home/gitpod/.pyenv/versions/3.8.18/lib/python3.8/site-packages (from streamlit==0.88.0->-r /workspace/data-driven-design/requirements.txt (line 50)) (24.3.0)\n",
            "Requirement already satisfied: requests in /home/gitpod/.pyenv/versions/3.8.18/lib/python3.8/site-packages (from streamlit==0.88.0->-r /workspace/data-driven-design/requirements.txt (line 50)) (2.32.3)\n",
            "Requirement already satisfied: tornado>=5.0 in /home/gitpod/.pyenv/versions/3.8.18/lib/python3.8/site-packages (from streamlit==0.88.0->-r /workspace/data-driven-design/requirements.txt (line 50)) (6.4.2)\n",
            "Requirement already satisfied: PyYAML<6.1,>=5.0.0 in /home/gitpod/.pyenv/versions/3.8.18/lib/python3.8/site-packages (from ydata-profiling==4.4.0->-r /workspace/data-driven-design/requirements.txt (line 64)) (6.0.2)\n",
            "Requirement already satisfied: htmlmin==0.1.12 in /workspace/.pip-modules/lib/python3.8/site-packages (from ydata-profiling==4.4.0->-r /workspace/data-driven-design/requirements.txt (line 64)) (0.1.12)\n",
            "Requirement already satisfied: comm>=0.1.1 in /home/gitpod/.pyenv/versions/3.8.18/lib/python3.8/site-packages (from ipykernel>=4.5.1->ipywidgets==8.0.2->-r /workspace/data-driven-design/requirements.txt (line 21)) (0.2.2)\n",
            "Requirement already satisfied: debugpy>=1.6.5 in /home/gitpod/.pyenv/versions/3.8.18/lib/python3.8/site-packages (from ipykernel>=4.5.1->ipywidgets==8.0.2->-r /workspace/data-driven-design/requirements.txt (line 21)) (1.8.11)\n",
            "Requirement already satisfied: jupyter-client>=6.1.12 in /home/gitpod/.pyenv/versions/3.8.18/lib/python3.8/site-packages (from ipykernel>=4.5.1->ipywidgets==8.0.2->-r /workspace/data-driven-design/requirements.txt (line 21)) (8.6.3)\n",
            "Requirement already satisfied: jupyter-core!=5.0.*,>=4.12 in /home/gitpod/.pyenv/versions/3.8.18/lib/python3.8/site-packages (from ipykernel>=4.5.1->ipywidgets==8.0.2->-r /workspace/data-driven-design/requirements.txt (line 21)) (5.7.2)\n",
            "Requirement already satisfied: matplotlib-inline>=0.1 in /home/gitpod/.pyenv/versions/3.8.18/lib/python3.8/site-packages (from ipykernel>=4.5.1->ipywidgets==8.0.2->-r /workspace/data-driven-design/requirements.txt (line 21)) (0.1.7)\n",
            "Requirement already satisfied: nest-asyncio in /home/gitpod/.pyenv/versions/3.8.18/lib/python3.8/site-packages (from ipykernel>=4.5.1->ipywidgets==8.0.2->-r /workspace/data-driven-design/requirements.txt (line 21)) (1.6.0)\n",
            "Requirement already satisfied: psutil in /home/gitpod/.pyenv/versions/3.8.18/lib/python3.8/site-packages (from ipykernel>=4.5.1->ipywidgets==8.0.2->-r /workspace/data-driven-design/requirements.txt (line 21)) (6.1.1)\n",
            "Requirement already satisfied: pyzmq>=24 in /home/gitpod/.pyenv/versions/3.8.18/lib/python3.8/site-packages (from ipykernel>=4.5.1->ipywidgets==8.0.2->-r /workspace/data-driven-design/requirements.txt (line 21)) (26.2.0)\n",
            "Requirement already satisfied: backcall in /home/gitpod/.pyenv/versions/3.8.18/lib/python3.8/site-packages (from ipython>=6.1.0->ipywidgets==8.0.2->-r /workspace/data-driven-design/requirements.txt (line 21)) (0.2.0)\n",
            "Requirement already satisfied: decorator in /home/gitpod/.pyenv/versions/3.8.18/lib/python3.8/site-packages (from ipython>=6.1.0->ipywidgets==8.0.2->-r /workspace/data-driven-design/requirements.txt (line 21)) (5.1.1)\n",
            "Requirement already satisfied: jedi>=0.16 in /home/gitpod/.pyenv/versions/3.8.18/lib/python3.8/site-packages (from ipython>=6.1.0->ipywidgets==8.0.2->-r /workspace/data-driven-design/requirements.txt (line 21)) (0.19.2)\n",
            "Requirement already satisfied: pickleshare in /home/gitpod/.pyenv/versions/3.8.18/lib/python3.8/site-packages (from ipython>=6.1.0->ipywidgets==8.0.2->-r /workspace/data-driven-design/requirements.txt (line 21)) (0.7.5)\n",
            "Requirement already satisfied: prompt-toolkit!=3.0.37,<3.1.0,>=3.0.30 in /home/gitpod/.pyenv/versions/3.8.18/lib/python3.8/site-packages (from ipython>=6.1.0->ipywidgets==8.0.2->-r /workspace/data-driven-design/requirements.txt (line 21)) (3.0.48)\n",
            "Requirement already satisfied: pygments>=2.4.0 in /home/gitpod/.pyenv/versions/3.8.18/lib/python3.8/site-packages (from ipython>=6.1.0->ipywidgets==8.0.2->-r /workspace/data-driven-design/requirements.txt (line 21)) (2.18.0)\n",
            "Requirement already satisfied: stack-data in /home/gitpod/.pyenv/versions/3.8.18/lib/python3.8/site-packages (from ipython>=6.1.0->ipywidgets==8.0.2->-r /workspace/data-driven-design/requirements.txt (line 21)) (0.6.3)\n",
            "Requirement already satisfied: pexpect>4.3 in /home/gitpod/.pyenv/versions/3.8.18/lib/python3.8/site-packages (from ipython>=6.1.0->ipywidgets==8.0.2->-r /workspace/data-driven-design/requirements.txt (line 21)) (4.9.0)\n",
            "Requirement already satisfied: importlib-resources>=1.4.0 in /home/gitpod/.pyenv/versions/3.8.18/lib/python3.8/site-packages (from jsonschema>=3.0->altair==4.2.2->-r /workspace/data-driven-design/requirements.txt (line 3)) (6.4.5)\n",
            "Requirement already satisfied: jsonschema-specifications>=2023.03.6 in /home/gitpod/.pyenv/versions/3.8.18/lib/python3.8/site-packages (from jsonschema>=3.0->altair==4.2.2->-r /workspace/data-driven-design/requirements.txt (line 3)) (2023.12.1)\n",
            "Requirement already satisfied: pkgutil-resolve-name>=1.3.10 in /home/gitpod/.pyenv/versions/3.8.18/lib/python3.8/site-packages (from jsonschema>=3.0->altair==4.2.2->-r /workspace/data-driven-design/requirements.txt (line 3)) (1.3.10)\n",
            "Requirement already satisfied: referencing>=0.28.4 in /home/gitpod/.pyenv/versions/3.8.18/lib/python3.8/site-packages (from jsonschema>=3.0->altair==4.2.2->-r /workspace/data-driven-design/requirements.txt (line 3)) (0.35.1)\n",
            "Requirement already satisfied: rpds-py>=0.7.1 in /home/gitpod/.pyenv/versions/3.8.18/lib/python3.8/site-packages (from jsonschema>=3.0->altair==4.2.2->-r /workspace/data-driven-design/requirements.txt (line 3)) (0.20.1)\n",
            "Requirement already satisfied: charset-normalizer<4,>=2 in /home/gitpod/.pyenv/versions/3.8.18/lib/python3.8/site-packages (from requests->streamlit==0.88.0->-r /workspace/data-driven-design/requirements.txt (line 50)) (3.4.1)\n",
            "Requirement already satisfied: idna<4,>=2.5 in /home/gitpod/.pyenv/versions/3.8.18/lib/python3.8/site-packages (from requests->streamlit==0.88.0->-r /workspace/data-driven-design/requirements.txt (line 50)) (3.10)\n",
            "Requirement already satisfied: urllib3<3,>=1.21.1 in /home/gitpod/.pyenv/versions/3.8.18/lib/python3.8/site-packages (from requests->streamlit==0.88.0->-r /workspace/data-driven-design/requirements.txt (line 50)) (2.2.3)\n",
            "Requirement already satisfied: certifi>=2017.4.17 in /home/gitpod/.pyenv/versions/3.8.18/lib/python3.8/site-packages (from requests->streamlit==0.88.0->-r /workspace/data-driven-design/requirements.txt (line 50)) (2024.12.14)\n",
            "Requirement already satisfied: zipp>=3.1.0 in /home/gitpod/.pyenv/versions/3.8.18/lib/python3.8/site-packages (from importlib-resources>=1.4.0->jsonschema>=3.0->altair==4.2.2->-r /workspace/data-driven-design/requirements.txt (line 3)) (3.20.2)\n",
            "Requirement already satisfied: parso<0.9.0,>=0.8.4 in /home/gitpod/.pyenv/versions/3.8.18/lib/python3.8/site-packages (from jedi>=0.16->ipython>=6.1.0->ipywidgets==8.0.2->-r /workspace/data-driven-design/requirements.txt (line 21)) (0.8.4)\n",
            "Requirement already satisfied: importlib-metadata>=4.8.3 in /home/gitpod/.pyenv/versions/3.8.18/lib/python3.8/site-packages (from jupyter-client>=6.1.12->ipykernel>=4.5.1->ipywidgets==8.0.2->-r /workspace/data-driven-design/requirements.txt (line 21)) (8.5.0)\n",
            "Requirement already satisfied: platformdirs>=2.5 in /home/gitpod/.pyenv/versions/3.8.18/lib/python3.8/site-packages (from jupyter-core!=5.0.*,>=4.12->ipykernel>=4.5.1->ipywidgets==8.0.2->-r /workspace/data-driven-design/requirements.txt (line 21)) (4.3.6)\n",
            "Requirement already satisfied: ptyprocess>=0.5 in /home/gitpod/.pyenv/versions/3.8.18/lib/python3.8/site-packages (from pexpect>4.3->ipython>=6.1.0->ipywidgets==8.0.2->-r /workspace/data-driven-design/requirements.txt (line 21)) (0.7.0)\n",
            "Requirement already satisfied: wcwidth in /home/gitpod/.pyenv/versions/3.8.18/lib/python3.8/site-packages (from prompt-toolkit!=3.0.37,<3.1.0,>=3.0.30->ipython>=6.1.0->ipywidgets==8.0.2->-r /workspace/data-driven-design/requirements.txt (line 21)) (0.2.13)\n",
            "Requirement already satisfied: executing>=1.2.0 in /home/gitpod/.pyenv/versions/3.8.18/lib/python3.8/site-packages (from stack-data->ipython>=6.1.0->ipywidgets==8.0.2->-r /workspace/data-driven-design/requirements.txt (line 21)) (2.1.0)\n",
            "Requirement already satisfied: asttokens>=2.1.0 in /home/gitpod/.pyenv/versions/3.8.18/lib/python3.8/site-packages (from stack-data->ipython>=6.1.0->ipywidgets==8.0.2->-r /workspace/data-driven-design/requirements.txt (line 21)) (3.0.0)\n",
            "Requirement already satisfied: pure-eval in /home/gitpod/.pyenv/versions/3.8.18/lib/python3.8/site-packages (from stack-data->ipython>=6.1.0->ipywidgets==8.0.2->-r /workspace/data-driven-design/requirements.txt (line 21)) (0.2.3)\n",
            "Note: you may need to restart the kernel to use updated packages.\n"
          ]
        }
      ],
      "source": [
        "%pip install --no-cache-dir -r /workspace/data-driven-design/requirements.txt"
      ]
    },
    {
      "cell_type": "code",
      "execution_count": 6,
      "metadata": {},
      "outputs": [],
      "source": [
        "#pip freeze > requirements.txt"
      ]
    },
    {
      "cell_type": "markdown",
      "metadata": {
        "id": "-mavJ8DibrcQ"
      },
      "source": [
        "# Fetch data from Kaggle"
      ]
    },
    {
      "cell_type": "markdown",
      "metadata": {
        "id": "XQrZFfd_J4Ix"
      },
      "source": [
        "Download data file directly from Kaggle and upload to Explorer in Git Pod workspace via local computer:\n",
        "\n",
        "Step 1: Go to [Aircraft Performance (Aircraft Bluebook) ](https://www.kaggle.com/datasets/heitornunes/aircraft-performance-dataset-aircraft-bluebook?select=Airplane_Complete_Imputation.csv)\n",
        "\n",
        "Step 2: Scroll down and choose the \"Airplane Complete Imputation.csv\"-file \n",
        "\n",
        "<img src=\"/workspace/data-driven-design/images_notebook/choose_file_from_kaggle.jpg\" alt=\"Screenshot showing which file on Kaggle to download\" width=\"700\" />\n",
        "\n",
        "Step 3: Download data file from Kaggle to local computer [Aircraft Performance (Aircraft Bluebook) ](https://www.kaggle.com/datasets/heitornunes/aircraft-performance-dataset-aircraft-bluebook?select=Airplane_Complete_Imputation.csv)\n",
        "\n",
        "<img src=\"/workspace/data-driven-design/images_notebook/download_from_kaggle.jpg\" alt=\"Screenshot showing where to download the data on Kaggle\" width=\"700\" />"
      ]
    },
    {
      "cell_type": "markdown",
      "metadata": {},
      "source": [
        "---"
      ]
    },
    {
      "cell_type": "markdown",
      "metadata": {
        "id": "uFQo3ycuO-v6"
      },
      "source": [
        "# Load, Rearrange and Inspect Kaggle data"
      ]
    },
    {
      "cell_type": "markdown",
      "metadata": {},
      "source": [
        "Set pandas to display all columns without truncating (and enabling horizontal slider)"
      ]
    },
    {
      "cell_type": "code",
      "execution_count": 7,
      "metadata": {},
      "outputs": [],
      "source": [
        "import pandas as pd\n",
        "pd.set_option('display.max_columns', None)  # Show all columns"
      ]
    },
    {
      "cell_type": "code",
      "execution_count": 8,
      "metadata": {
        "id": "CjEM52Z1YLRP"
      },
      "outputs": [
        {
          "data": {
            "text/html": [
              "<div>\n",
              "<style scoped>\n",
              "    .dataframe tbody tr th:only-of-type {\n",
              "        vertical-align: middle;\n",
              "    }\n",
              "\n",
              "    .dataframe tbody tr th {\n",
              "        vertical-align: top;\n",
              "    }\n",
              "\n",
              "    .dataframe thead th {\n",
              "        text-align: right;\n",
              "    }\n",
              "</style>\n",
              "<table border=\"1\" class=\"dataframe\">\n",
              "  <thead>\n",
              "    <tr style=\"text-align: right;\">\n",
              "      <th></th>\n",
              "      <th>Model</th>\n",
              "      <th>Company</th>\n",
              "      <th>Engine Type</th>\n",
              "      <th>Multi Engine</th>\n",
              "      <th>TP mods</th>\n",
              "      <th>THR</th>\n",
              "      <th>SHP</th>\n",
              "      <th>Length</th>\n",
              "      <th>Height</th>\n",
              "      <th>Wing Span</th>\n",
              "      <th>FW</th>\n",
              "      <th>MEW</th>\n",
              "      <th>AUW</th>\n",
              "      <th>Vmax</th>\n",
              "      <th>Vcruise</th>\n",
              "      <th>Vstall</th>\n",
              "      <th>Hmax</th>\n",
              "      <th>Hmax (One)</th>\n",
              "      <th>ROC</th>\n",
              "      <th>ROC (One)</th>\n",
              "      <th>Vlo</th>\n",
              "      <th>Slo</th>\n",
              "      <th>Vl</th>\n",
              "      <th>Sl</th>\n",
              "      <th>Range</th>\n",
              "    </tr>\n",
              "  </thead>\n",
              "  <tbody>\n",
              "    <tr>\n",
              "      <th>0</th>\n",
              "      <td>15 AC Sedan</td>\n",
              "      <td>Aeronca</td>\n",
              "      <td>Piston</td>\n",
              "      <td>False</td>\n",
              "      <td>False</td>\n",
              "      <td>NaN</td>\n",
              "      <td>145.0</td>\n",
              "      <td>25.250000</td>\n",
              "      <td>10.250000</td>\n",
              "      <td>37.416667</td>\n",
              "      <td>241.2</td>\n",
              "      <td>1180.0</td>\n",
              "      <td>2050.0</td>\n",
              "      <td>104.0</td>\n",
              "      <td>91.0</td>\n",
              "      <td>46.0</td>\n",
              "      <td>13000.0</td>\n",
              "      <td>13000.0</td>\n",
              "      <td>450.0</td>\n",
              "      <td>450.0</td>\n",
              "      <td>900.0</td>\n",
              "      <td>391.970247</td>\n",
              "      <td>1300.0</td>\n",
              "      <td>257.745075</td>\n",
              "      <td>370.0</td>\n",
              "    </tr>\n",
              "    <tr>\n",
              "      <th>1</th>\n",
              "      <td>11 CC Super Chief</td>\n",
              "      <td>Aeronca</td>\n",
              "      <td>Piston</td>\n",
              "      <td>False</td>\n",
              "      <td>False</td>\n",
              "      <td>NaN</td>\n",
              "      <td>85.0</td>\n",
              "      <td>20.583333</td>\n",
              "      <td>8.750000</td>\n",
              "      <td>36.083333</td>\n",
              "      <td>100.5</td>\n",
              "      <td>820.0</td>\n",
              "      <td>1350.0</td>\n",
              "      <td>89.0</td>\n",
              "      <td>83.0</td>\n",
              "      <td>44.0</td>\n",
              "      <td>12300.0</td>\n",
              "      <td>12300.0</td>\n",
              "      <td>600.0</td>\n",
              "      <td>600.0</td>\n",
              "      <td>720.0</td>\n",
              "      <td>26.247647</td>\n",
              "      <td>800.0</td>\n",
              "      <td>225.324824</td>\n",
              "      <td>190.0</td>\n",
              "    </tr>\n",
              "    <tr>\n",
              "      <th>2</th>\n",
              "      <td>7 CCM Champ</td>\n",
              "      <td>Aeronca</td>\n",
              "      <td>Piston</td>\n",
              "      <td>False</td>\n",
              "      <td>False</td>\n",
              "      <td>NaN</td>\n",
              "      <td>90.0</td>\n",
              "      <td>21.416667</td>\n",
              "      <td>8.583333</td>\n",
              "      <td>35.000000</td>\n",
              "      <td>127.3</td>\n",
              "      <td>810.0</td>\n",
              "      <td>1300.0</td>\n",
              "      <td>90.0</td>\n",
              "      <td>78.0</td>\n",
              "      <td>37.0</td>\n",
              "      <td>16000.0</td>\n",
              "      <td>16000.0</td>\n",
              "      <td>650.0</td>\n",
              "      <td>650.0</td>\n",
              "      <td>475.0</td>\n",
              "      <td>363.139711</td>\n",
              "      <td>850.0</td>\n",
              "      <td>585.751317</td>\n",
              "      <td>210.0</td>\n",
              "    </tr>\n",
              "    <tr>\n",
              "      <th>3</th>\n",
              "      <td>7 DC Champ</td>\n",
              "      <td>Aeronca</td>\n",
              "      <td>Piston</td>\n",
              "      <td>False</td>\n",
              "      <td>False</td>\n",
              "      <td>NaN</td>\n",
              "      <td>85.0</td>\n",
              "      <td>21.416667</td>\n",
              "      <td>8.583333</td>\n",
              "      <td>35.000000</td>\n",
              "      <td>127.3</td>\n",
              "      <td>800.0</td>\n",
              "      <td>1300.0</td>\n",
              "      <td>88.0</td>\n",
              "      <td>78.0</td>\n",
              "      <td>37.0</td>\n",
              "      <td>13000.0</td>\n",
              "      <td>13000.0</td>\n",
              "      <td>620.0</td>\n",
              "      <td>620.0</td>\n",
              "      <td>500.0</td>\n",
              "      <td>407.797297</td>\n",
              "      <td>850.0</td>\n",
              "      <td>642.046166</td>\n",
              "      <td>210.0</td>\n",
              "    </tr>\n",
              "    <tr>\n",
              "      <th>4</th>\n",
              "      <td>7 AC Champ</td>\n",
              "      <td>Aeronca</td>\n",
              "      <td>Piston</td>\n",
              "      <td>False</td>\n",
              "      <td>False</td>\n",
              "      <td>NaN</td>\n",
              "      <td>65.0</td>\n",
              "      <td>21.416667</td>\n",
              "      <td>8.750000</td>\n",
              "      <td>35.000000</td>\n",
              "      <td>93.8</td>\n",
              "      <td>740.0</td>\n",
              "      <td>1220.0</td>\n",
              "      <td>83.0</td>\n",
              "      <td>74.0</td>\n",
              "      <td>33.0</td>\n",
              "      <td>12500.0</td>\n",
              "      <td>12500.0</td>\n",
              "      <td>370.0</td>\n",
              "      <td>370.0</td>\n",
              "      <td>632.0</td>\n",
              "      <td>297.056192</td>\n",
              "      <td>885.0</td>\n",
              "      <td>329.571813</td>\n",
              "      <td>175.0</td>\n",
              "    </tr>\n",
              "  </tbody>\n",
              "</table>\n",
              "</div>"
            ],
            "text/plain": [
              "               Model  Company Engine Type  Multi Engine  TP mods  THR    SHP  \\\n",
              "0        15 AC Sedan  Aeronca      Piston         False    False  NaN  145.0   \n",
              "1  11 CC Super Chief  Aeronca      Piston         False    False  NaN   85.0   \n",
              "2        7 CCM Champ  Aeronca      Piston         False    False  NaN   90.0   \n",
              "3         7 DC Champ  Aeronca      Piston         False    False  NaN   85.0   \n",
              "4         7 AC Champ  Aeronca      Piston         False    False  NaN   65.0   \n",
              "\n",
              "      Length     Height  Wing Span     FW     MEW     AUW   Vmax  Vcruise  \\\n",
              "0  25.250000  10.250000  37.416667  241.2  1180.0  2050.0  104.0     91.0   \n",
              "1  20.583333   8.750000  36.083333  100.5   820.0  1350.0   89.0     83.0   \n",
              "2  21.416667   8.583333  35.000000  127.3   810.0  1300.0   90.0     78.0   \n",
              "3  21.416667   8.583333  35.000000  127.3   800.0  1300.0   88.0     78.0   \n",
              "4  21.416667   8.750000  35.000000   93.8   740.0  1220.0   83.0     74.0   \n",
              "\n",
              "   Vstall     Hmax  Hmax (One)    ROC  ROC (One)    Vlo         Slo      Vl  \\\n",
              "0    46.0  13000.0     13000.0  450.0      450.0  900.0  391.970247  1300.0   \n",
              "1    44.0  12300.0     12300.0  600.0      600.0  720.0   26.247647   800.0   \n",
              "2    37.0  16000.0     16000.0  650.0      650.0  475.0  363.139711   850.0   \n",
              "3    37.0  13000.0     13000.0  620.0      620.0  500.0  407.797297   850.0   \n",
              "4    33.0  12500.0     12500.0  370.0      370.0  632.0  297.056192   885.0   \n",
              "\n",
              "           Sl  Range  \n",
              "0  257.745075  370.0  \n",
              "1  225.324824  190.0  \n",
              "2  585.751317  210.0  \n",
              "3  642.046166  210.0  \n",
              "4  329.571813  175.0  "
            ]
          },
          "execution_count": 8,
          "metadata": {},
          "output_type": "execute_result"
        }
      ],
      "source": [
        "df = pd.read_csv(f\"inputs/datasets/raw/Airplane_Complete_Imputation.csv\")\n",
        "df.head()"
      ]
    },
    {
      "cell_type": "markdown",
      "metadata": {},
      "source": [
        "Rearrange columns in data to group features that belong together side by side in order to make heatmaps etc. more easily interpreted"
      ]
    },
    {
      "cell_type": "code",
      "execution_count": 9,
      "metadata": {},
      "outputs": [
        {
          "data": {
            "text/html": [
              "<div>\n",
              "<style scoped>\n",
              "    .dataframe tbody tr th:only-of-type {\n",
              "        vertical-align: middle;\n",
              "    }\n",
              "\n",
              "    .dataframe tbody tr th {\n",
              "        vertical-align: top;\n",
              "    }\n",
              "\n",
              "    .dataframe thead th {\n",
              "        text-align: right;\n",
              "    }\n",
              "</style>\n",
              "<table border=\"1\" class=\"dataframe\">\n",
              "  <thead>\n",
              "    <tr style=\"text-align: right;\">\n",
              "      <th></th>\n",
              "      <th>Model</th>\n",
              "      <th>Company</th>\n",
              "      <th>Wing Span</th>\n",
              "      <th>Length</th>\n",
              "      <th>Height</th>\n",
              "      <th>Multi Engine</th>\n",
              "      <th>TP mods</th>\n",
              "      <th>Engine Type</th>\n",
              "      <th>THR</th>\n",
              "      <th>SHP</th>\n",
              "      <th>AUW</th>\n",
              "      <th>MEW</th>\n",
              "      <th>FW</th>\n",
              "      <th>Vmax</th>\n",
              "      <th>Vcruise</th>\n",
              "      <th>Vstall</th>\n",
              "      <th>Range</th>\n",
              "      <th>Hmax</th>\n",
              "      <th>Hmax (One)</th>\n",
              "      <th>ROC</th>\n",
              "      <th>ROC (One)</th>\n",
              "      <th>Vlo</th>\n",
              "      <th>Slo</th>\n",
              "      <th>Vl</th>\n",
              "      <th>Sl</th>\n",
              "    </tr>\n",
              "  </thead>\n",
              "  <tbody>\n",
              "    <tr>\n",
              "      <th>0</th>\n",
              "      <td>15 AC Sedan</td>\n",
              "      <td>Aeronca</td>\n",
              "      <td>37.416667</td>\n",
              "      <td>25.250000</td>\n",
              "      <td>10.250000</td>\n",
              "      <td>False</td>\n",
              "      <td>False</td>\n",
              "      <td>Piston</td>\n",
              "      <td>NaN</td>\n",
              "      <td>145.0</td>\n",
              "      <td>2050.0</td>\n",
              "      <td>1180.0</td>\n",
              "      <td>241.2</td>\n",
              "      <td>104.0</td>\n",
              "      <td>91.0</td>\n",
              "      <td>46.0</td>\n",
              "      <td>370.0</td>\n",
              "      <td>13000.0</td>\n",
              "      <td>13000.0</td>\n",
              "      <td>450.0</td>\n",
              "      <td>450.0</td>\n",
              "      <td>900.0</td>\n",
              "      <td>391.970247</td>\n",
              "      <td>1300.0</td>\n",
              "      <td>257.745075</td>\n",
              "    </tr>\n",
              "    <tr>\n",
              "      <th>1</th>\n",
              "      <td>11 CC Super Chief</td>\n",
              "      <td>Aeronca</td>\n",
              "      <td>36.083333</td>\n",
              "      <td>20.583333</td>\n",
              "      <td>8.750000</td>\n",
              "      <td>False</td>\n",
              "      <td>False</td>\n",
              "      <td>Piston</td>\n",
              "      <td>NaN</td>\n",
              "      <td>85.0</td>\n",
              "      <td>1350.0</td>\n",
              "      <td>820.0</td>\n",
              "      <td>100.5</td>\n",
              "      <td>89.0</td>\n",
              "      <td>83.0</td>\n",
              "      <td>44.0</td>\n",
              "      <td>190.0</td>\n",
              "      <td>12300.0</td>\n",
              "      <td>12300.0</td>\n",
              "      <td>600.0</td>\n",
              "      <td>600.0</td>\n",
              "      <td>720.0</td>\n",
              "      <td>26.247647</td>\n",
              "      <td>800.0</td>\n",
              "      <td>225.324824</td>\n",
              "    </tr>\n",
              "    <tr>\n",
              "      <th>2</th>\n",
              "      <td>7 CCM Champ</td>\n",
              "      <td>Aeronca</td>\n",
              "      <td>35.000000</td>\n",
              "      <td>21.416667</td>\n",
              "      <td>8.583333</td>\n",
              "      <td>False</td>\n",
              "      <td>False</td>\n",
              "      <td>Piston</td>\n",
              "      <td>NaN</td>\n",
              "      <td>90.0</td>\n",
              "      <td>1300.0</td>\n",
              "      <td>810.0</td>\n",
              "      <td>127.3</td>\n",
              "      <td>90.0</td>\n",
              "      <td>78.0</td>\n",
              "      <td>37.0</td>\n",
              "      <td>210.0</td>\n",
              "      <td>16000.0</td>\n",
              "      <td>16000.0</td>\n",
              "      <td>650.0</td>\n",
              "      <td>650.0</td>\n",
              "      <td>475.0</td>\n",
              "      <td>363.139711</td>\n",
              "      <td>850.0</td>\n",
              "      <td>585.751317</td>\n",
              "    </tr>\n",
              "    <tr>\n",
              "      <th>3</th>\n",
              "      <td>7 DC Champ</td>\n",
              "      <td>Aeronca</td>\n",
              "      <td>35.000000</td>\n",
              "      <td>21.416667</td>\n",
              "      <td>8.583333</td>\n",
              "      <td>False</td>\n",
              "      <td>False</td>\n",
              "      <td>Piston</td>\n",
              "      <td>NaN</td>\n",
              "      <td>85.0</td>\n",
              "      <td>1300.0</td>\n",
              "      <td>800.0</td>\n",
              "      <td>127.3</td>\n",
              "      <td>88.0</td>\n",
              "      <td>78.0</td>\n",
              "      <td>37.0</td>\n",
              "      <td>210.0</td>\n",
              "      <td>13000.0</td>\n",
              "      <td>13000.0</td>\n",
              "      <td>620.0</td>\n",
              "      <td>620.0</td>\n",
              "      <td>500.0</td>\n",
              "      <td>407.797297</td>\n",
              "      <td>850.0</td>\n",
              "      <td>642.046166</td>\n",
              "    </tr>\n",
              "    <tr>\n",
              "      <th>4</th>\n",
              "      <td>7 AC Champ</td>\n",
              "      <td>Aeronca</td>\n",
              "      <td>35.000000</td>\n",
              "      <td>21.416667</td>\n",
              "      <td>8.750000</td>\n",
              "      <td>False</td>\n",
              "      <td>False</td>\n",
              "      <td>Piston</td>\n",
              "      <td>NaN</td>\n",
              "      <td>65.0</td>\n",
              "      <td>1220.0</td>\n",
              "      <td>740.0</td>\n",
              "      <td>93.8</td>\n",
              "      <td>83.0</td>\n",
              "      <td>74.0</td>\n",
              "      <td>33.0</td>\n",
              "      <td>175.0</td>\n",
              "      <td>12500.0</td>\n",
              "      <td>12500.0</td>\n",
              "      <td>370.0</td>\n",
              "      <td>370.0</td>\n",
              "      <td>632.0</td>\n",
              "      <td>297.056192</td>\n",
              "      <td>885.0</td>\n",
              "      <td>329.571813</td>\n",
              "    </tr>\n",
              "  </tbody>\n",
              "</table>\n",
              "</div>"
            ],
            "text/plain": [
              "               Model  Company  Wing Span     Length     Height  Multi Engine  \\\n",
              "0        15 AC Sedan  Aeronca  37.416667  25.250000  10.250000         False   \n",
              "1  11 CC Super Chief  Aeronca  36.083333  20.583333   8.750000         False   \n",
              "2        7 CCM Champ  Aeronca  35.000000  21.416667   8.583333         False   \n",
              "3         7 DC Champ  Aeronca  35.000000  21.416667   8.583333         False   \n",
              "4         7 AC Champ  Aeronca  35.000000  21.416667   8.750000         False   \n",
              "\n",
              "   TP mods Engine Type  THR    SHP     AUW     MEW     FW   Vmax  Vcruise  \\\n",
              "0    False      Piston  NaN  145.0  2050.0  1180.0  241.2  104.0     91.0   \n",
              "1    False      Piston  NaN   85.0  1350.0   820.0  100.5   89.0     83.0   \n",
              "2    False      Piston  NaN   90.0  1300.0   810.0  127.3   90.0     78.0   \n",
              "3    False      Piston  NaN   85.0  1300.0   800.0  127.3   88.0     78.0   \n",
              "4    False      Piston  NaN   65.0  1220.0   740.0   93.8   83.0     74.0   \n",
              "\n",
              "   Vstall  Range     Hmax  Hmax (One)    ROC  ROC (One)    Vlo         Slo  \\\n",
              "0    46.0  370.0  13000.0     13000.0  450.0      450.0  900.0  391.970247   \n",
              "1    44.0  190.0  12300.0     12300.0  600.0      600.0  720.0   26.247647   \n",
              "2    37.0  210.0  16000.0     16000.0  650.0      650.0  475.0  363.139711   \n",
              "3    37.0  210.0  13000.0     13000.0  620.0      620.0  500.0  407.797297   \n",
              "4    33.0  175.0  12500.0     12500.0  370.0      370.0  632.0  297.056192   \n",
              "\n",
              "       Vl          Sl  \n",
              "0  1300.0  257.745075  \n",
              "1   800.0  225.324824  \n",
              "2   850.0  585.751317  \n",
              "3   850.0  642.046166  \n",
              "4   885.0  329.571813  "
            ]
          },
          "execution_count": 9,
          "metadata": {},
          "output_type": "execute_result"
        }
      ],
      "source": [
        "new_order = ['Model', 'Company', 'Wing Span', 'Length', 'Height', 'Multi Engine', 'TP mods', 'Engine Type', 'THR', 'SHP', 'AUW', 'MEW', 'FW', 'Vmax', 'Vcruise', 'Vstall', 'Range', 'Hmax', 'Hmax (One)', 'ROC', 'ROC (One)', 'Vlo', 'Slo', 'Vl', 'Sl']  # Specify new order\n",
        "df = df[new_order]\n",
        "df.to_csv('rearranged_file.csv', index=False)  # We overwrite the df with this rearranged file\n",
        "df.head()"
      ]
    },
    {
      "cell_type": "markdown",
      "metadata": {
        "id": "cKG2pKb3hmY4"
      },
      "source": [
        "DataFrame Summary. Click 'View as a scrollable element' at the bottom of the output in case the 'display.max_columns'-command does not work (probably overruled by jupyter notebook)"
      ]
    },
    {
      "cell_type": "code",
      "execution_count": 10,
      "metadata": {
        "id": "YtKKWuPhg7r8"
      },
      "outputs": [
        {
          "name": "stdout",
          "output_type": "stream",
          "text": [
            "<class 'pandas.core.frame.DataFrame'>\n",
            "RangeIndex: 860 entries, 0 to 859\n",
            "Data columns (total 25 columns):\n",
            " #   Column        Non-Null Count  Dtype  \n",
            "---  ------        --------------  -----  \n",
            " 0   Model         860 non-null    object \n",
            " 1   Company       860 non-null    object \n",
            " 2   Wing Span     860 non-null    float64\n",
            " 3   Length        860 non-null    float64\n",
            " 4   Height        860 non-null    float64\n",
            " 5   Multi Engine  860 non-null    bool   \n",
            " 6   TP mods       860 non-null    bool   \n",
            " 7   Engine Type   860 non-null    object \n",
            " 8   THR           156 non-null    float64\n",
            " 9   SHP           704 non-null    float64\n",
            " 10  AUW           860 non-null    float64\n",
            " 11  MEW           860 non-null    float64\n",
            " 12  FW            860 non-null    float64\n",
            " 13  Vmax          860 non-null    float64\n",
            " 14  Vcruise       860 non-null    float64\n",
            " 15  Vstall        860 non-null    float64\n",
            " 16  Range         860 non-null    float64\n",
            " 17  Hmax          860 non-null    float64\n",
            " 18  Hmax (One)    860 non-null    float64\n",
            " 19  ROC           860 non-null    float64\n",
            " 20  ROC (One)     860 non-null    float64\n",
            " 21  Vlo           860 non-null    float64\n",
            " 22  Slo           860 non-null    float64\n",
            " 23  Vl            860 non-null    float64\n",
            " 24  Sl            860 non-null    float64\n",
            "dtypes: bool(2), float64(20), object(3)\n",
            "memory usage: 156.3+ KB\n"
          ]
        }
      ],
      "source": [
        "df.info()"
      ]
    },
    {
      "cell_type": "markdown",
      "metadata": {
        "id": "hcB2YJiOH4pm"
      },
      "source": [
        "We want to check if there are duplicated airplanes by checking `Model`: There are three duplicates."
      ]
    },
    {
      "cell_type": "markdown",
      "metadata": {},
      "source": [
        "The 'keep=False' ensures that both lines of duplicate values are being displayed"
      ]
    },
    {
      "cell_type": "code",
      "execution_count": 11,
      "metadata": {
        "id": "3om7yFYAH1vl"
      },
      "outputs": [
        {
          "data": {
            "text/html": [
              "<div>\n",
              "<style scoped>\n",
              "    .dataframe tbody tr th:only-of-type {\n",
              "        vertical-align: middle;\n",
              "    }\n",
              "\n",
              "    .dataframe tbody tr th {\n",
              "        vertical-align: top;\n",
              "    }\n",
              "\n",
              "    .dataframe thead th {\n",
              "        text-align: right;\n",
              "    }\n",
              "</style>\n",
              "<table border=\"1\" class=\"dataframe\">\n",
              "  <thead>\n",
              "    <tr style=\"text-align: right;\">\n",
              "      <th></th>\n",
              "      <th>Model</th>\n",
              "      <th>Company</th>\n",
              "      <th>Wing Span</th>\n",
              "      <th>Length</th>\n",
              "      <th>Height</th>\n",
              "      <th>Multi Engine</th>\n",
              "      <th>TP mods</th>\n",
              "      <th>Engine Type</th>\n",
              "      <th>THR</th>\n",
              "      <th>SHP</th>\n",
              "      <th>AUW</th>\n",
              "      <th>MEW</th>\n",
              "      <th>FW</th>\n",
              "      <th>Vmax</th>\n",
              "      <th>Vcruise</th>\n",
              "      <th>Vstall</th>\n",
              "      <th>Range</th>\n",
              "      <th>Hmax</th>\n",
              "      <th>Hmax (One)</th>\n",
              "      <th>ROC</th>\n",
              "      <th>ROC (One)</th>\n",
              "      <th>Vlo</th>\n",
              "      <th>Slo</th>\n",
              "      <th>Vl</th>\n",
              "      <th>Sl</th>\n",
              "    </tr>\n",
              "  </thead>\n",
              "  <tbody>\n",
              "    <tr>\n",
              "      <th>29</th>\n",
              "      <td>AT-602</td>\n",
              "      <td>Air Tractor, Inc.</td>\n",
              "      <td>56.000000</td>\n",
              "      <td>33.500000</td>\n",
              "      <td>12.166667</td>\n",
              "      <td>False</td>\n",
              "      <td>False</td>\n",
              "      <td>Propjet</td>\n",
              "      <td>NaN</td>\n",
              "      <td>1050.0</td>\n",
              "      <td>12500.0</td>\n",
              "      <td>5829.0</td>\n",
              "      <td>1447.2</td>\n",
              "      <td>158.000</td>\n",
              "      <td>126.00</td>\n",
              "      <td>52.000000</td>\n",
              "      <td>600.0</td>\n",
              "      <td>8000.0</td>\n",
              "      <td>8000.000000</td>\n",
              "      <td>650.000000</td>\n",
              "      <td>650.000000</td>\n",
              "      <td>1756.907849</td>\n",
              "      <td>1830.0</td>\n",
              "      <td>1949.973315</td>\n",
              "      <td>1634.223699</td>\n",
              "    </tr>\n",
              "    <tr>\n",
              "      <th>65</th>\n",
              "      <td>AT-602</td>\n",
              "      <td>Beechcraft (Hawker Beechcraft)</td>\n",
              "      <td>56.000000</td>\n",
              "      <td>33.500000</td>\n",
              "      <td>11.000000</td>\n",
              "      <td>False</td>\n",
              "      <td>False</td>\n",
              "      <td>Propjet</td>\n",
              "      <td>NaN</td>\n",
              "      <td>1050.0</td>\n",
              "      <td>12500.0</td>\n",
              "      <td>5829.0</td>\n",
              "      <td>1447.2</td>\n",
              "      <td>158.000</td>\n",
              "      <td>126.00</td>\n",
              "      <td>52.000000</td>\n",
              "      <td>600.0</td>\n",
              "      <td>8000.0</td>\n",
              "      <td>8000.000000</td>\n",
              "      <td>650.000000</td>\n",
              "      <td>650.000000</td>\n",
              "      <td>2803.267722</td>\n",
              "      <td>1830.0</td>\n",
              "      <td>2862.650930</td>\n",
              "      <td>1820.805987</td>\n",
              "    </tr>\n",
              "    <tr>\n",
              "      <th>445</th>\n",
              "      <td>Lineage 1000</td>\n",
              "      <td>Dassault Falcon Jet</td>\n",
              "      <td>94.250000</td>\n",
              "      <td>118.916667</td>\n",
              "      <td>33.750000</td>\n",
              "      <td>True</td>\n",
              "      <td>False</td>\n",
              "      <td>Jet</td>\n",
              "      <td>18500.0</td>\n",
              "      <td>NaN</td>\n",
              "      <td>120152.0</td>\n",
              "      <td>70841.0</td>\n",
              "      <td>48217.0</td>\n",
              "      <td>546.940</td>\n",
              "      <td>472.00</td>\n",
              "      <td>133.063795</td>\n",
              "      <td>4600.0</td>\n",
              "      <td>41000.0</td>\n",
              "      <td>16816.632111</td>\n",
              "      <td>2464.000000</td>\n",
              "      <td>720.000000</td>\n",
              "      <td>7351.680105</td>\n",
              "      <td>6076.0</td>\n",
              "      <td>4108.774275</td>\n",
              "      <td>2450.000000</td>\n",
              "    </tr>\n",
              "    <tr>\n",
              "      <th>481</th>\n",
              "      <td>Lineage 1000</td>\n",
              "      <td>Embraer Aircraft - Empresa Brasileira</td>\n",
              "      <td>94.250000</td>\n",
              "      <td>118.916667</td>\n",
              "      <td>33.750000</td>\n",
              "      <td>True</td>\n",
              "      <td>False</td>\n",
              "      <td>Jet</td>\n",
              "      <td>18500.0</td>\n",
              "      <td>NaN</td>\n",
              "      <td>120152.0</td>\n",
              "      <td>70841.0</td>\n",
              "      <td>48217.0</td>\n",
              "      <td>546.940</td>\n",
              "      <td>452.00</td>\n",
              "      <td>107.896643</td>\n",
              "      <td>4592.0</td>\n",
              "      <td>41000.0</td>\n",
              "      <td>16648.502977</td>\n",
              "      <td>2464.000000</td>\n",
              "      <td>720.000000</td>\n",
              "      <td>6661.152244</td>\n",
              "      <td>6076.0</td>\n",
              "      <td>2647.677210</td>\n",
              "      <td>3402.000000</td>\n",
              "    </tr>\n",
              "    <tr>\n",
              "      <th>511</th>\n",
              "      <td>G500</td>\n",
              "      <td>Gulfstream Aerospace</td>\n",
              "      <td>86.333333</td>\n",
              "      <td>91.166667</td>\n",
              "      <td>25.500000</td>\n",
              "      <td>True</td>\n",
              "      <td>False</td>\n",
              "      <td>Jet</td>\n",
              "      <td>15144.0</td>\n",
              "      <td>NaN</td>\n",
              "      <td>79600.0</td>\n",
              "      <td>46850.0</td>\n",
              "      <td>30250.0</td>\n",
              "      <td>616.975</td>\n",
              "      <td>566.95</td>\n",
              "      <td>127.868748</td>\n",
              "      <td>5300.0</td>\n",
              "      <td>51000.0</td>\n",
              "      <td>29210.904017</td>\n",
              "      <td>2467.000000</td>\n",
              "      <td>732.453021</td>\n",
              "      <td>5912.498345</td>\n",
              "      <td>5300.0</td>\n",
              "      <td>3333.022500</td>\n",
              "      <td>2620.000000</td>\n",
              "    </tr>\n",
              "    <tr>\n",
              "      <th>514</th>\n",
              "      <td>G500</td>\n",
              "      <td>Gulfstream Aerospace</td>\n",
              "      <td>93.500000</td>\n",
              "      <td>96.416667</td>\n",
              "      <td>25.833333</td>\n",
              "      <td>True</td>\n",
              "      <td>False</td>\n",
              "      <td>Jet</td>\n",
              "      <td>15385.0</td>\n",
              "      <td>NaN</td>\n",
              "      <td>85100.0</td>\n",
              "      <td>47600.0</td>\n",
              "      <td>34939.0</td>\n",
              "      <td>590.295</td>\n",
              "      <td>566.95</td>\n",
              "      <td>107.629085</td>\n",
              "      <td>5200.0</td>\n",
              "      <td>51000.0</td>\n",
              "      <td>27700.000000</td>\n",
              "      <td>5515.951635</td>\n",
              "      <td>707.000000</td>\n",
              "      <td>6700.448422</td>\n",
              "      <td>5150.0</td>\n",
              "      <td>4383.458188</td>\n",
              "      <td>2770.000000</td>\n",
              "    </tr>\n",
              "  </tbody>\n",
              "</table>\n",
              "</div>"
            ],
            "text/plain": [
              "            Model                                Company  Wing Span  \\\n",
              "29         AT-602                      Air Tractor, Inc.  56.000000   \n",
              "65         AT-602         Beechcraft (Hawker Beechcraft)  56.000000   \n",
              "445  Lineage 1000                    Dassault Falcon Jet  94.250000   \n",
              "481  Lineage 1000  Embraer Aircraft - Empresa Brasileira  94.250000   \n",
              "511          G500                   Gulfstream Aerospace  86.333333   \n",
              "514          G500                   Gulfstream Aerospace  93.500000   \n",
              "\n",
              "         Length     Height  Multi Engine  TP mods Engine Type      THR  \\\n",
              "29    33.500000  12.166667         False    False     Propjet      NaN   \n",
              "65    33.500000  11.000000         False    False     Propjet      NaN   \n",
              "445  118.916667  33.750000          True    False         Jet  18500.0   \n",
              "481  118.916667  33.750000          True    False         Jet  18500.0   \n",
              "511   91.166667  25.500000          True    False         Jet  15144.0   \n",
              "514   96.416667  25.833333          True    False         Jet  15385.0   \n",
              "\n",
              "        SHP       AUW      MEW       FW     Vmax  Vcruise      Vstall   Range  \\\n",
              "29   1050.0   12500.0   5829.0   1447.2  158.000   126.00   52.000000   600.0   \n",
              "65   1050.0   12500.0   5829.0   1447.2  158.000   126.00   52.000000   600.0   \n",
              "445     NaN  120152.0  70841.0  48217.0  546.940   472.00  133.063795  4600.0   \n",
              "481     NaN  120152.0  70841.0  48217.0  546.940   452.00  107.896643  4592.0   \n",
              "511     NaN   79600.0  46850.0  30250.0  616.975   566.95  127.868748  5300.0   \n",
              "514     NaN   85100.0  47600.0  34939.0  590.295   566.95  107.629085  5200.0   \n",
              "\n",
              "        Hmax    Hmax (One)          ROC   ROC (One)          Vlo     Slo  \\\n",
              "29    8000.0   8000.000000   650.000000  650.000000  1756.907849  1830.0   \n",
              "65    8000.0   8000.000000   650.000000  650.000000  2803.267722  1830.0   \n",
              "445  41000.0  16816.632111  2464.000000  720.000000  7351.680105  6076.0   \n",
              "481  41000.0  16648.502977  2464.000000  720.000000  6661.152244  6076.0   \n",
              "511  51000.0  29210.904017  2467.000000  732.453021  5912.498345  5300.0   \n",
              "514  51000.0  27700.000000  5515.951635  707.000000  6700.448422  5150.0   \n",
              "\n",
              "              Vl           Sl  \n",
              "29   1949.973315  1634.223699  \n",
              "65   2862.650930  1820.805987  \n",
              "445  4108.774275  2450.000000  \n",
              "481  2647.677210  3402.000000  \n",
              "511  3333.022500  2620.000000  \n",
              "514  4383.458188  2770.000000  "
            ]
          },
          "execution_count": 11,
          "metadata": {},
          "output_type": "execute_result"
        }
      ],
      "source": [
        "df[df.duplicated(subset=['Model'], keep=False)]"
      ]
    },
    {
      "cell_type": "markdown",
      "metadata": {},
      "source": [
        "The double entries having the same and almost the same values for their features probably refer to confusion in the \"Company\" or similar versions of the same model.  We will drop one of each double entries."
      ]
    },
    {
      "cell_type": "code",
      "execution_count": 12,
      "metadata": {},
      "outputs": [
        {
          "name": "stdout",
          "output_type": "stream",
          "text": [
            "None\n"
          ]
        }
      ],
      "source": [
        "# Drop the row at index 1\n",
        "df_dropped = df.drop(index=[65, 445, 514], inplace=True)\n",
        "print(df_dropped)"
      ]
    },
    {
      "cell_type": "markdown",
      "metadata": {},
      "source": [
        "We check for duplicates again: There are no duplicates."
      ]
    },
    {
      "cell_type": "code",
      "execution_count": 13,
      "metadata": {},
      "outputs": [
        {
          "data": {
            "text/html": [
              "<div>\n",
              "<style scoped>\n",
              "    .dataframe tbody tr th:only-of-type {\n",
              "        vertical-align: middle;\n",
              "    }\n",
              "\n",
              "    .dataframe tbody tr th {\n",
              "        vertical-align: top;\n",
              "    }\n",
              "\n",
              "    .dataframe thead th {\n",
              "        text-align: right;\n",
              "    }\n",
              "</style>\n",
              "<table border=\"1\" class=\"dataframe\">\n",
              "  <thead>\n",
              "    <tr style=\"text-align: right;\">\n",
              "      <th></th>\n",
              "      <th>Model</th>\n",
              "      <th>Company</th>\n",
              "      <th>Wing Span</th>\n",
              "      <th>Length</th>\n",
              "      <th>Height</th>\n",
              "      <th>Multi Engine</th>\n",
              "      <th>TP mods</th>\n",
              "      <th>Engine Type</th>\n",
              "      <th>THR</th>\n",
              "      <th>SHP</th>\n",
              "      <th>AUW</th>\n",
              "      <th>MEW</th>\n",
              "      <th>FW</th>\n",
              "      <th>Vmax</th>\n",
              "      <th>Vcruise</th>\n",
              "      <th>Vstall</th>\n",
              "      <th>Range</th>\n",
              "      <th>Hmax</th>\n",
              "      <th>Hmax (One)</th>\n",
              "      <th>ROC</th>\n",
              "      <th>ROC (One)</th>\n",
              "      <th>Vlo</th>\n",
              "      <th>Slo</th>\n",
              "      <th>Vl</th>\n",
              "      <th>Sl</th>\n",
              "    </tr>\n",
              "  </thead>\n",
              "  <tbody>\n",
              "  </tbody>\n",
              "</table>\n",
              "</div>"
            ],
            "text/plain": [
              "Empty DataFrame\n",
              "Columns: [Model, Company, Wing Span, Length, Height, Multi Engine, TP mods, Engine Type, THR, SHP, AUW, MEW, FW, Vmax, Vcruise, Vstall, Range, Hmax, Hmax (One), ROC, ROC (One), Vlo, Slo, Vl, Sl]\n",
              "Index: []"
            ]
          },
          "execution_count": 13,
          "metadata": {},
          "output_type": "execute_result"
        }
      ],
      "source": [
        "df[df.duplicated(subset=['Model'], keep=False)]"
      ]
    },
    {
      "cell_type": "markdown",
      "metadata": {
        "id": "HaObnZm0x8od"
      },
      "source": [
        "We noticed `Engine Type` is a categorical variable with three alternatives: 'Piston', 'Propjet'and 'Jet'. We will replace/convert the categories to integers as the ML model requires numeric variables. "
      ]
    },
    {
      "cell_type": "code",
      "execution_count": 14,
      "metadata": {
        "id": "9ivG1m2Ntryw"
      },
      "outputs": [
        {
          "data": {
            "text/plain": [
              "array(['Piston', 'Propjet', 'Jet'], dtype=object)"
            ]
          },
          "execution_count": 14,
          "metadata": {},
          "output_type": "execute_result"
        }
      ],
      "source": [
        "df['Engine Type'].unique()"
      ]
    },
    {
      "cell_type": "code",
      "execution_count": 15,
      "metadata": {
        "id": "AX5SeWxpxg8z"
      },
      "outputs": [],
      "source": [
        "df['Engine Type'] = df['Engine Type'].replace({\"Piston\":0, \"Propjet\":1, \"Jet\":2})"
      ]
    },
    {
      "cell_type": "markdown",
      "metadata": {
        "id": "vbo03aCPyKu-"
      },
      "source": [
        "Check the `Engine Type` data type."
      ]
    },
    {
      "cell_type": "code",
      "execution_count": 16,
      "metadata": {
        "id": "W6vlA0ZxyHeO"
      },
      "outputs": [
        {
          "data": {
            "text/plain": [
              "dtype('int64')"
            ]
          },
          "execution_count": 16,
          "metadata": {},
          "output_type": "execute_result"
        }
      ],
      "source": [
        "df['Engine Type'].dtype"
      ]
    },
    {
      "cell_type": "markdown",
      "metadata": {},
      "source": [
        "Finally before we push the df to the repo we replace the pesky spaces with underscores."
      ]
    },
    {
      "cell_type": "code",
      "execution_count": 17,
      "metadata": {},
      "outputs": [],
      "source": [
        "# Renaming columns\n",
        "df.rename(columns={\n",
        "    'Multi Engine': 'Multi_Engine',\n",
        "    'Wing Span': 'Wing_Span',\n",
        "    'TP mods': 'TP_mods',  # Fixed this entry to match naming convention\n",
        "    'Engine Type': 'Engine_Type',  # Adjusted to use underscores\n",
        "    'Hmax (One)': 'Hmax_(One)',\n",
        "    'ROC (One)': 'ROC_(One)'\n",
        "}, inplace=True)"
      ]
    },
    {
      "cell_type": "markdown",
      "metadata": {
        "id": "ltNetd085qHf"
      },
      "source": [
        "# Push files to Repo"
      ]
    },
    {
      "cell_type": "code",
      "execution_count": 18,
      "metadata": {
        "id": "aKlnIozA4eQO"
      },
      "outputs": [
        {
          "name": "stdout",
          "output_type": "stream",
          "text": [
            "[Errno 17] File exists: 'outputs/datasets/collection'\n"
          ]
        }
      ],
      "source": [
        "import os\n",
        "try:\n",
        "  os.makedirs(name='outputs/datasets/collection') # create outputs/datasets/collection folder\n",
        "except Exception as e:\n",
        "  print(e)\n",
        "\n",
        "df.to_csv(f\"outputs/datasets/collection/airplane_performance_study.csv\",index=False)"
      ]
    },
    {
      "cell_type": "markdown",
      "metadata": {},
      "source": [
        "Double check that we really have the correct update csv-file in the repo and yes it is correct."
      ]
    },
    {
      "cell_type": "code",
      "execution_count": 19,
      "metadata": {},
      "outputs": [
        {
          "data": {
            "text/html": [
              "<div>\n",
              "<style scoped>\n",
              "    .dataframe tbody tr th:only-of-type {\n",
              "        vertical-align: middle;\n",
              "    }\n",
              "\n",
              "    .dataframe tbody tr th {\n",
              "        vertical-align: top;\n",
              "    }\n",
              "\n",
              "    .dataframe thead th {\n",
              "        text-align: right;\n",
              "    }\n",
              "</style>\n",
              "<table border=\"1\" class=\"dataframe\">\n",
              "  <thead>\n",
              "    <tr style=\"text-align: right;\">\n",
              "      <th></th>\n",
              "      <th>Model</th>\n",
              "      <th>Company</th>\n",
              "      <th>Wing_Span</th>\n",
              "      <th>Length</th>\n",
              "      <th>Height</th>\n",
              "      <th>Multi_Engine</th>\n",
              "      <th>TP_mods</th>\n",
              "      <th>Engine_Type</th>\n",
              "      <th>THR</th>\n",
              "      <th>SHP</th>\n",
              "      <th>AUW</th>\n",
              "      <th>MEW</th>\n",
              "      <th>FW</th>\n",
              "      <th>Vmax</th>\n",
              "      <th>Vcruise</th>\n",
              "      <th>Vstall</th>\n",
              "      <th>Range</th>\n",
              "      <th>Hmax</th>\n",
              "      <th>Hmax_(One)</th>\n",
              "      <th>ROC</th>\n",
              "      <th>ROC_(One)</th>\n",
              "      <th>Vlo</th>\n",
              "      <th>Slo</th>\n",
              "      <th>Vl</th>\n",
              "      <th>Sl</th>\n",
              "    </tr>\n",
              "  </thead>\n",
              "  <tbody>\n",
              "    <tr>\n",
              "      <th>0</th>\n",
              "      <td>15 AC Sedan</td>\n",
              "      <td>Aeronca</td>\n",
              "      <td>37.416667</td>\n",
              "      <td>25.250000</td>\n",
              "      <td>10.250000</td>\n",
              "      <td>False</td>\n",
              "      <td>False</td>\n",
              "      <td>0</td>\n",
              "      <td>NaN</td>\n",
              "      <td>145.0</td>\n",
              "      <td>2050.0</td>\n",
              "      <td>1180.0</td>\n",
              "      <td>241.2</td>\n",
              "      <td>104.0</td>\n",
              "      <td>91.0</td>\n",
              "      <td>46.0</td>\n",
              "      <td>370.0</td>\n",
              "      <td>13000.0</td>\n",
              "      <td>13000.0</td>\n",
              "      <td>450.0</td>\n",
              "      <td>450.0</td>\n",
              "      <td>900.0</td>\n",
              "      <td>391.970247</td>\n",
              "      <td>1300.0</td>\n",
              "      <td>257.745075</td>\n",
              "    </tr>\n",
              "    <tr>\n",
              "      <th>1</th>\n",
              "      <td>11 CC Super Chief</td>\n",
              "      <td>Aeronca</td>\n",
              "      <td>36.083333</td>\n",
              "      <td>20.583333</td>\n",
              "      <td>8.750000</td>\n",
              "      <td>False</td>\n",
              "      <td>False</td>\n",
              "      <td>0</td>\n",
              "      <td>NaN</td>\n",
              "      <td>85.0</td>\n",
              "      <td>1350.0</td>\n",
              "      <td>820.0</td>\n",
              "      <td>100.5</td>\n",
              "      <td>89.0</td>\n",
              "      <td>83.0</td>\n",
              "      <td>44.0</td>\n",
              "      <td>190.0</td>\n",
              "      <td>12300.0</td>\n",
              "      <td>12300.0</td>\n",
              "      <td>600.0</td>\n",
              "      <td>600.0</td>\n",
              "      <td>720.0</td>\n",
              "      <td>26.247647</td>\n",
              "      <td>800.0</td>\n",
              "      <td>225.324824</td>\n",
              "    </tr>\n",
              "    <tr>\n",
              "      <th>2</th>\n",
              "      <td>7 CCM Champ</td>\n",
              "      <td>Aeronca</td>\n",
              "      <td>35.000000</td>\n",
              "      <td>21.416667</td>\n",
              "      <td>8.583333</td>\n",
              "      <td>False</td>\n",
              "      <td>False</td>\n",
              "      <td>0</td>\n",
              "      <td>NaN</td>\n",
              "      <td>90.0</td>\n",
              "      <td>1300.0</td>\n",
              "      <td>810.0</td>\n",
              "      <td>127.3</td>\n",
              "      <td>90.0</td>\n",
              "      <td>78.0</td>\n",
              "      <td>37.0</td>\n",
              "      <td>210.0</td>\n",
              "      <td>16000.0</td>\n",
              "      <td>16000.0</td>\n",
              "      <td>650.0</td>\n",
              "      <td>650.0</td>\n",
              "      <td>475.0</td>\n",
              "      <td>363.139711</td>\n",
              "      <td>850.0</td>\n",
              "      <td>585.751317</td>\n",
              "    </tr>\n",
              "    <tr>\n",
              "      <th>3</th>\n",
              "      <td>7 DC Champ</td>\n",
              "      <td>Aeronca</td>\n",
              "      <td>35.000000</td>\n",
              "      <td>21.416667</td>\n",
              "      <td>8.583333</td>\n",
              "      <td>False</td>\n",
              "      <td>False</td>\n",
              "      <td>0</td>\n",
              "      <td>NaN</td>\n",
              "      <td>85.0</td>\n",
              "      <td>1300.0</td>\n",
              "      <td>800.0</td>\n",
              "      <td>127.3</td>\n",
              "      <td>88.0</td>\n",
              "      <td>78.0</td>\n",
              "      <td>37.0</td>\n",
              "      <td>210.0</td>\n",
              "      <td>13000.0</td>\n",
              "      <td>13000.0</td>\n",
              "      <td>620.0</td>\n",
              "      <td>620.0</td>\n",
              "      <td>500.0</td>\n",
              "      <td>407.797297</td>\n",
              "      <td>850.0</td>\n",
              "      <td>642.046166</td>\n",
              "    </tr>\n",
              "    <tr>\n",
              "      <th>4</th>\n",
              "      <td>7 AC Champ</td>\n",
              "      <td>Aeronca</td>\n",
              "      <td>35.000000</td>\n",
              "      <td>21.416667</td>\n",
              "      <td>8.750000</td>\n",
              "      <td>False</td>\n",
              "      <td>False</td>\n",
              "      <td>0</td>\n",
              "      <td>NaN</td>\n",
              "      <td>65.0</td>\n",
              "      <td>1220.0</td>\n",
              "      <td>740.0</td>\n",
              "      <td>93.8</td>\n",
              "      <td>83.0</td>\n",
              "      <td>74.0</td>\n",
              "      <td>33.0</td>\n",
              "      <td>175.0</td>\n",
              "      <td>12500.0</td>\n",
              "      <td>12500.0</td>\n",
              "      <td>370.0</td>\n",
              "      <td>370.0</td>\n",
              "      <td>632.0</td>\n",
              "      <td>297.056192</td>\n",
              "      <td>885.0</td>\n",
              "      <td>329.571813</td>\n",
              "    </tr>\n",
              "  </tbody>\n",
              "</table>\n",
              "</div>"
            ],
            "text/plain": [
              "               Model  Company  Wing_Span     Length     Height  Multi_Engine  \\\n",
              "0        15 AC Sedan  Aeronca  37.416667  25.250000  10.250000         False   \n",
              "1  11 CC Super Chief  Aeronca  36.083333  20.583333   8.750000         False   \n",
              "2        7 CCM Champ  Aeronca  35.000000  21.416667   8.583333         False   \n",
              "3         7 DC Champ  Aeronca  35.000000  21.416667   8.583333         False   \n",
              "4         7 AC Champ  Aeronca  35.000000  21.416667   8.750000         False   \n",
              "\n",
              "   TP_mods  Engine_Type  THR    SHP     AUW     MEW     FW   Vmax  Vcruise  \\\n",
              "0    False            0  NaN  145.0  2050.0  1180.0  241.2  104.0     91.0   \n",
              "1    False            0  NaN   85.0  1350.0   820.0  100.5   89.0     83.0   \n",
              "2    False            0  NaN   90.0  1300.0   810.0  127.3   90.0     78.0   \n",
              "3    False            0  NaN   85.0  1300.0   800.0  127.3   88.0     78.0   \n",
              "4    False            0  NaN   65.0  1220.0   740.0   93.8   83.0     74.0   \n",
              "\n",
              "   Vstall  Range     Hmax  Hmax_(One)    ROC  ROC_(One)    Vlo         Slo  \\\n",
              "0    46.0  370.0  13000.0     13000.0  450.0      450.0  900.0  391.970247   \n",
              "1    44.0  190.0  12300.0     12300.0  600.0      600.0  720.0   26.247647   \n",
              "2    37.0  210.0  16000.0     16000.0  650.0      650.0  475.0  363.139711   \n",
              "3    37.0  210.0  13000.0     13000.0  620.0      620.0  500.0  407.797297   \n",
              "4    33.0  175.0  12500.0     12500.0  370.0      370.0  632.0  297.056192   \n",
              "\n",
              "       Vl          Sl  \n",
              "0  1300.0  257.745075  \n",
              "1   800.0  225.324824  \n",
              "2   850.0  585.751317  \n",
              "3   850.0  642.046166  \n",
              "4   885.0  329.571813  "
            ]
          },
          "execution_count": 19,
          "metadata": {},
          "output_type": "execute_result"
        }
      ],
      "source": [
        "df = pd.read_csv(f\"outputs/datasets/collection/airplane_performance_study.csv\")\n",
        "df.head()"
      ]
    }
  ],
  "metadata": {
    "accelerator": "GPU",
    "colab": {
      "name": "Data Practitioner Jupyter Notebook.ipynb",
      "provenance": [],
      "toc_visible": true
    },
    "kernelspec": {
      "display_name": "Python 3",
      "language": "python",
      "name": "python3"
    },
    "language_info": {
      "codemirror_mode": {
        "name": "ipython",
        "version": 3
      },
      "file_extension": ".py",
      "mimetype": "text/x-python",
      "name": "python",
      "nbconvert_exporter": "python",
      "pygments_lexer": "ipython3",
      "version": "3.8.18"
    },
    "orig_nbformat": 2
  },
  "nbformat": 4,
  "nbformat_minor": 0
}
