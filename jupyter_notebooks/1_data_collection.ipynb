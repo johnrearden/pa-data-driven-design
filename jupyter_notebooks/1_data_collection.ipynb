{
  "cells": [
    {
      "cell_type": "markdown",
      "metadata": {
        "id": "0aStgWSO0E0E"
      },
      "source": [
        "# **Data Collection Notebook**"
      ]
    },
    {
      "cell_type": "markdown",
      "metadata": {
        "id": "1eLEkw5O0ECa"
      },
      "source": [
        "## Objectives\n",
        "\n",
        "* Fetch data from Kaggle, via storage on local computer, and save it as raw data.\n",
        "* Inspect the data and save it under outputs/datasets/collection\n",
        "\n",
        "## Inputs\n",
        "\n",
        "*   The inputs/datasets/raw/Airplane_Complete_Imputation.csv downloaded from Kaggle and uploaded to gitpod workspace via local computer.\n",
        "\n",
        "## Outputs\n",
        "\n",
        "* Generate Dataset: outputs/datasets/collection/airplane_performance_study.csv\n",
        "\n",
        "## Additional Comments\n",
        "\n",
        "Method to download data directly from Kaggle to the notebook with an authentication token (Kaggle JSON file) gave a \"403 - Forbidden\".\n"
      ]
    },
    {
      "cell_type": "markdown",
      "metadata": {
        "id": "9uWZXH9LwoQg"
      },
      "source": [
        "---"
      ]
    },
    {
      "cell_type": "markdown",
      "metadata": {
        "id": "cqP-UeN-z3i2"
      },
      "source": [
        "# Change working directory"
      ]
    },
    {
      "cell_type": "markdown",
      "metadata": {
        "id": "aOGIGS-uz3i2"
      },
      "source": [
        "We need to change the working directory from its current folder to its parent folder\n",
        "* Access the current directory with os.getcwd()"
      ]
    },
    {
      "cell_type": "code",
      "execution_count": 1,
      "metadata": {
        "id": "wZfF_j-Bz3i4"
      },
      "outputs": [
        {
          "data": {
            "text/plain": [
              "'/workspace/data-driven-design/jupyter_notebooks'"
            ]
          },
          "execution_count": 1,
          "metadata": {},
          "output_type": "execute_result"
        }
      ],
      "source": [
        "import os\n",
        "current_dir = os.getcwd()\n",
        "current_dir"
      ]
    },
    {
      "cell_type": "markdown",
      "metadata": {
        "id": "9MWW8E7lz3i7"
      },
      "source": [
        "Make the parent of the current directory the new current directory.\n",
        "* os.path.dirname() gets the parent directory\n",
        "* os.chir() defines the new current directory"
      ]
    },
    {
      "cell_type": "code",
      "execution_count": 2,
      "metadata": {
        "id": "TwHsQRWjz3i9"
      },
      "outputs": [
        {
          "name": "stdout",
          "output_type": "stream",
          "text": [
            "You set a new current directory\n"
          ]
        }
      ],
      "source": [
        "os.chdir(os.path.dirname(current_dir))\n",
        "print(\"You set a new current directory\")"
      ]
    },
    {
      "cell_type": "markdown",
      "metadata": {
        "id": "M_xPk_Ijz3i-"
      },
      "source": [
        "Confirm the new current directory"
      ]
    },
    {
      "cell_type": "code",
      "execution_count": 3,
      "metadata": {
        "id": "vz3S-_kjz3jA"
      },
      "outputs": [
        {
          "data": {
            "text/plain": [
              "'/workspace/data-driven-design'"
            ]
          },
          "execution_count": 3,
          "metadata": {},
          "output_type": "execute_result"
        }
      ],
      "source": [
        "current_dir = os.getcwd()\n",
        "current_dir"
      ]
    },
    {
      "cell_type": "markdown",
      "metadata": {},
      "source": [
        "---"
      ]
    },
    {
      "attachments": {},
      "cell_type": "markdown",
      "metadata": {},
      "source": [
        "# Install python packages in the notebooks"
      ]
    },
    {
      "cell_type": "code",
      "execution_count": 6,
      "metadata": {},
      "outputs": [
        {
          "name": "stdout",
          "output_type": "stream",
          "text": [
            "Requirement already satisfied: pip in /workspace/.pip-modules/lib/python3.8/site-packages (25.0.1)\n",
            "Note: you may need to restart the kernel to use updated packages.\n"
          ]
        }
      ],
      "source": [
        "pip install --upgrade pip"
      ]
    },
    {
      "cell_type": "code",
      "execution_count": 10,
      "metadata": {},
      "outputs": [
        {
          "name": "stdout",
          "output_type": "stream",
          "text": [
            "Requirement already satisfied: setuptools>=65.0 in /home/gitpod/.pyenv/versions/3.8.18/lib/python3.8/site-packages (from -r /workspace/data-driven-design/requirements.txt (line 1)) (75.3.0)\n",
            "Requirement already satisfied: pip>=24.0 in /workspace/.pip-modules/lib/python3.8/site-packages (from -r /workspace/data-driven-design/requirements.txt (line 2)) (25.0.1)\n",
            "Requirement already satisfied: wheel>=0.40.0 in /home/gitpod/.pyenv/versions/3.8.18/lib/python3.8/site-packages (from -r /workspace/data-driven-design/requirements.txt (line 3)) (0.45.1)\n",
            "Collecting astor==0.8.1 (from -r /workspace/data-driven-design/requirements.txt (line 5))\n",
            "  Downloading astor-0.8.1-py2.py3-none-any.whl.metadata (4.2 kB)\n",
            "Collecting backports.zoneinfo==0.2.1 (from -r /workspace/data-driven-design/requirements.txt (line 6))\n",
            "  Downloading backports.zoneinfo-0.2.1-cp38-cp38-manylinux1_x86_64.whl.metadata (4.7 kB)\n",
            "Collecting base58==2.1.1 (from -r /workspace/data-driven-design/requirements.txt (line 7))\n",
            "  Downloading base58-2.1.1-py3-none-any.whl.metadata (3.1 kB)\n",
            "Collecting blinker==1.8.2 (from -r /workspace/data-driven-design/requirements.txt (line 8))\n",
            "  Downloading blinker-1.8.2-py3-none-any.whl.metadata (1.6 kB)\n",
            "Collecting cachetools==5.5.0 (from -r /workspace/data-driven-design/requirements.txt (line 9))\n",
            "  Downloading cachetools-5.5.0-py3-none-any.whl.metadata (5.3 kB)\n",
            "Collecting click==7.1.2 (from -r /workspace/data-driven-design/requirements.txt (line 10))\n",
            "  Downloading click-7.1.2-py2.py3-none-any.whl.metadata (2.9 kB)\n",
            "Collecting cycler==0.12.1 (from -r /workspace/data-driven-design/requirements.txt (line 11))\n",
            "  Downloading cycler-0.12.1-py3-none-any.whl.metadata (3.8 kB)\n",
            "Collecting dacite==1.8.1 (from -r /workspace/data-driven-design/requirements.txt (line 12))\n",
            "  Downloading dacite-1.8.1-py3-none-any.whl.metadata (15 kB)\n",
            "Collecting entrypoints==0.4 (from -r /workspace/data-driven-design/requirements.txt (line 13))\n",
            "  Downloading entrypoints-0.4-py3-none-any.whl.metadata (2.6 kB)\n",
            "Collecting gitdb==4.0.11 (from -r /workspace/data-driven-design/requirements.txt (line 15))\n",
            "  Downloading gitdb-4.0.11-py3-none-any.whl.metadata (1.2 kB)\n",
            "Collecting GitPython==3.1.43 (from -r /workspace/data-driven-design/requirements.txt (line 16))\n",
            "  Downloading GitPython-3.1.43-py3-none-any.whl.metadata (13 kB)\n",
            "Collecting html-minifier==0.0.4 (from -r /workspace/data-driven-design/requirements.txt (line 17))\n",
            "  Downloading html_minifier-0.0.4-py2.py3-none-any.whl.metadata (639 bytes)\n",
            "Collecting ipywidgets==8.0.2 (from -r /workspace/data-driven-design/requirements.txt (line 20))\n",
            "  Downloading ipywidgets-8.0.2-py3-none-any.whl.metadata (2.3 kB)\n",
            "Collecting Jinja2==3.1.1 (from -r /workspace/data-driven-design/requirements.txt (line 21))\n",
            "  Downloading Jinja2-3.1.1-py3-none-any.whl.metadata (3.5 kB)\n",
            "Collecting joblib==1.4.2 (from -r /workspace/data-driven-design/requirements.txt (line 22))\n",
            "  Downloading joblib-1.4.2-py3-none-any.whl.metadata (5.4 kB)\n",
            "Collecting jupyterlab_widgets==3.0.13 (from -r /workspace/data-driven-design/requirements.txt (line 23))\n",
            "  Downloading jupyterlab_widgets-3.0.13-py3-none-any.whl.metadata (4.1 kB)\n",
            "Collecting kiwisolver==1.4.7 (from -r /workspace/data-driven-design/requirements.txt (line 24))\n",
            "  Downloading kiwisolver-1.4.7-cp38-cp38-manylinux_2_5_x86_64.manylinux1_x86_64.whl.metadata (6.3 kB)\n",
            "Collecting MarkupSafe==2.0.1 (from -r /workspace/data-driven-design/requirements.txt (line 25))\n",
            "  Downloading MarkupSafe-2.0.1-cp38-cp38-manylinux_2_5_x86_64.manylinux1_x86_64.manylinux_2_12_x86_64.manylinux2010_x86_64.whl.metadata (3.2 kB)\n",
            "Collecting multimethod==1.10 (from -r /workspace/data-driven-design/requirements.txt (line 27))\n",
            "  Downloading multimethod-1.10-py3-none-any.whl.metadata (8.2 kB)\n",
            "Collecting networkx==3.1 (from -r /workspace/data-driven-design/requirements.txt (line 28))\n",
            "  Downloading networkx-3.1-py3-none-any.whl.metadata (5.3 kB)\n",
            "Collecting pandas==1.5.3 (from -r /workspace/data-driven-design/requirements.txt (line 30))\n",
            "  Downloading pandas-1.5.3-cp38-cp38-manylinux_2_17_x86_64.manylinux2014_x86_64.whl.metadata (11 kB)\n",
            "Collecting patsy>=0.5.4 (from -r /workspace/data-driven-design/requirements.txt (line 31))\n",
            "  Downloading patsy-1.0.1-py2.py3-none-any.whl.metadata (3.3 kB)\n",
            "Collecting phik==0.12.4 (from -r /workspace/data-driven-design/requirements.txt (line 32))\n",
            "  Downloading phik-0.12.4-cp38-cp38-manylinux_2_17_x86_64.manylinux2014_x86_64.whl.metadata (5.6 kB)\n",
            "Collecting pillow==10.4.0 (from -r /workspace/data-driven-design/requirements.txt (line 33))\n",
            "  Downloading pillow-10.4.0-cp38-cp38-manylinux_2_28_x86_64.whl.metadata (9.2 kB)\n",
            "Collecting plotly==4.12.0 (from -r /workspace/data-driven-design/requirements.txt (line 34))\n",
            "  Downloading plotly-4.12.0-py2.py3-none-any.whl.metadata (7.6 kB)\n",
            "Collecting ppscore==1.2.0 (from -r /workspace/data-driven-design/requirements.txt (line 35))\n",
            "  Downloading ppscore-1.2.0.tar.gz (47 kB)\n",
            "  Preparing metadata (setup.py) ... \u001b[?25ldone\n",
            "\u001b[?25hCollecting protobuf==3.20.0 (from -r /workspace/data-driven-design/requirements.txt (line 36))\n",
            "  Downloading protobuf-3.20.0-cp38-cp38-manylinux_2_5_x86_64.manylinux1_x86_64.whl.metadata (698 bytes)\n",
            "Collecting pyarrow==17.0.0 (from -r /workspace/data-driven-design/requirements.txt (line 37))\n",
            "  Downloading pyarrow-17.0.0-cp38-cp38-manylinux_2_28_x86_64.whl.metadata (3.3 kB)\n",
            "Collecting pydantic==1.10.18 (from -r /workspace/data-driven-design/requirements.txt (line 38))\n",
            "  Downloading pydantic-1.10.18-cp38-cp38-manylinux_2_17_x86_64.manylinux2014_x86_64.whl.metadata (152 kB)\n",
            "Collecting pydeck==0.9.1 (from -r /workspace/data-driven-design/requirements.txt (line 39))\n",
            "  Downloading pydeck-0.9.1-py2.py3-none-any.whl.metadata (4.1 kB)\n",
            "Collecting pyparsing==3.1.4 (from -r /workspace/data-driven-design/requirements.txt (line 40))\n",
            "  Downloading pyparsing-3.1.4-py3-none-any.whl.metadata (5.1 kB)\n",
            "Collecting PyWavelets==1.4.1 (from -r /workspace/data-driven-design/requirements.txt (line 41))\n",
            "  Downloading PyWavelets-1.4.1-cp38-cp38-manylinux_2_17_x86_64.manylinux2014_x86_64.whl.metadata (1.9 kB)\n",
            "Collecting retrying==1.3.4 (from -r /workspace/data-driven-design/requirements.txt (line 42))\n",
            "  Downloading retrying-1.3.4-py3-none-any.whl.metadata (6.9 kB)\n",
            "Collecting scipy==1.9.3 (from -r /workspace/data-driven-design/requirements.txt (line 44))\n",
            "  Downloading scipy-1.9.3-cp38-cp38-manylinux_2_17_x86_64.manylinux2014_x86_64.whl.metadata (58 kB)\n",
            "Collecting seaborn==0.11.2 (from -r /workspace/data-driven-design/requirements.txt (line 45))\n",
            "  Downloading seaborn-0.11.2-py3-none-any.whl.metadata (2.3 kB)\n",
            "Collecting smmap==5.0.1 (from -r /workspace/data-driven-design/requirements.txt (line 46))\n",
            "  Downloading smmap-5.0.1-py3-none-any.whl.metadata (4.3 kB)\n",
            "Collecting statsmodels==0.14.1 (from -r /workspace/data-driven-design/requirements.txt (line 47))\n",
            "  Downloading statsmodels-0.14.1-cp38-cp38-manylinux_2_17_x86_64.manylinux2014_x86_64.whl.metadata (9.5 kB)\n",
            "Collecting streamlit==0.88.0 (from -r /workspace/data-driven-design/requirements.txt (line 48))\n",
            "  Downloading streamlit-0.88.0-py2.py3-none-any.whl.metadata (1.1 kB)\n",
            "Collecting tangled-up-in-unicode==0.2.0 (from -r /workspace/data-driven-design/requirements.txt (line 49))\n",
            "  Downloading tangled_up_in_unicode-0.2.0-py3-none-any.whl.metadata (4.8 kB)\n",
            "Collecting threadpoolctl==3.5.0 (from -r /workspace/data-driven-design/requirements.txt (line 50))\n",
            "  Downloading threadpoolctl-3.5.0-py3-none-any.whl.metadata (13 kB)\n",
            "Collecting toml==0.10.2 (from -r /workspace/data-driven-design/requirements.txt (line 51))\n",
            "  Downloading toml-0.10.2-py2.py3-none-any.whl.metadata (7.1 kB)\n",
            "Collecting toolz==1.0.0 (from -r /workspace/data-driven-design/requirements.txt (line 52))\n",
            "  Downloading toolz-1.0.0-py3-none-any.whl.metadata (5.1 kB)\n",
            "Collecting tqdm==4.66.5 (from -r /workspace/data-driven-design/requirements.txt (line 53))\n",
            "  Downloading tqdm-4.66.5-py3-none-any.whl.metadata (57 kB)\n",
            "Collecting typeguard==2.13.3 (from -r /workspace/data-driven-design/requirements.txt (line 54))\n",
            "  Downloading typeguard-2.13.3-py3-none-any.whl.metadata (3.6 kB)\n",
            "Collecting tzlocal==5.2 (from -r /workspace/data-driven-design/requirements.txt (line 55))\n",
            "  Downloading tzlocal-5.2-py3-none-any.whl.metadata (7.8 kB)\n",
            "Collecting validators==0.34.0 (from -r /workspace/data-driven-design/requirements.txt (line 56))\n",
            "  Downloading validators-0.34.0-py3-none-any.whl.metadata (3.8 kB)\n",
            "Collecting visions==0.7.5 (from -r /workspace/data-driven-design/requirements.txt (line 57))\n",
            "  Downloading visions-0.7.5-py3-none-any.whl.metadata (6.3 kB)\n",
            "Collecting watchdog==4.0.2 (from -r /workspace/data-driven-design/requirements.txt (line 58))\n",
            "  Downloading watchdog-4.0.2-py3-none-manylinux2014_x86_64.whl.metadata (38 kB)\n",
            "Collecting widgetsnbextension==4.0.13 (from -r /workspace/data-driven-design/requirements.txt (line 59))\n",
            "  Downloading widgetsnbextension-4.0.13-py3-none-any.whl.metadata (1.6 kB)\n",
            "Collecting wordcloud==1.9.3 (from -r /workspace/data-driven-design/requirements.txt (line 60))\n",
            "  Downloading wordcloud-1.9.3-cp38-cp38-manylinux_2_17_x86_64.manylinux2014_x86_64.whl.metadata (3.4 kB)\n",
            "Collecting xgboost==1.2.1 (from -r /workspace/data-driven-design/requirements.txt (line 61))\n",
            "  Downloading xgboost-1.2.1-py3-none-manylinux2010_x86_64.whl.metadata (1.7 kB)\n",
            "Requirement already satisfied: ipykernel>=4.5.1 in /home/gitpod/.pyenv/versions/3.8.18/lib/python3.8/site-packages (from ipywidgets==8.0.2->-r /workspace/data-driven-design/requirements.txt (line 20)) (6.29.5)\n",
            "Requirement already satisfied: ipython>=6.1.0 in /home/gitpod/.pyenv/versions/3.8.18/lib/python3.8/site-packages (from ipywidgets==8.0.2->-r /workspace/data-driven-design/requirements.txt (line 20)) (8.12.3)\n",
            "Requirement already satisfied: traitlets>=4.3.1 in /home/gitpod/.pyenv/versions/3.8.18/lib/python3.8/site-packages (from ipywidgets==8.0.2->-r /workspace/data-driven-design/requirements.txt (line 20)) (5.14.3)\n",
            "Requirement already satisfied: python-dateutil>=2.8.1 in /home/gitpod/.pyenv/versions/3.8.18/lib/python3.8/site-packages (from pandas==1.5.3->-r /workspace/data-driven-design/requirements.txt (line 30)) (2.9.0.post0)\n",
            "Requirement already satisfied: pytz>=2020.1 in /home/gitpod/.pyenv/versions/3.8.18/lib/python3.8/site-packages (from pandas==1.5.3->-r /workspace/data-driven-design/requirements.txt (line 30)) (2024.2)\n",
            "Collecting numpy>=1.20.3 (from pandas==1.5.3->-r /workspace/data-driven-design/requirements.txt (line 30))\n",
            "  Downloading numpy-1.24.4-cp38-cp38-manylinux_2_17_x86_64.manylinux2014_x86_64.whl.metadata (5.6 kB)\n",
            "Collecting matplotlib>=2.2.3 (from phik==0.12.4->-r /workspace/data-driven-design/requirements.txt (line 32))\n",
            "  Downloading matplotlib-3.7.5-cp38-cp38-manylinux_2_12_x86_64.manylinux2010_x86_64.whl.metadata (5.7 kB)\n",
            "Requirement already satisfied: six in /home/gitpod/.pyenv/versions/3.8.18/lib/python3.8/site-packages (from plotly==4.12.0->-r /workspace/data-driven-design/requirements.txt (line 34)) (1.17.0)\n",
            "Collecting scikit-learn<1.0.0,>=0.20.2 (from ppscore==1.2.0->-r /workspace/data-driven-design/requirements.txt (line 35))\n",
            "  Downloading scikit_learn-0.24.2-cp38-cp38-manylinux2010_x86_64.whl.metadata (9.8 kB)\n",
            "Requirement already satisfied: typing-extensions>=4.2.0 in /home/gitpod/.pyenv/versions/3.8.18/lib/python3.8/site-packages (from pydantic==1.10.18->-r /workspace/data-driven-design/requirements.txt (line 38)) (4.12.2)\n",
            "Requirement already satisfied: packaging>=21.3 in /home/gitpod/.pyenv/versions/3.8.18/lib/python3.8/site-packages (from statsmodels==0.14.1->-r /workspace/data-driven-design/requirements.txt (line 47)) (24.2)\n",
            "Collecting altair>=3.2.0 (from streamlit==0.88.0->-r /workspace/data-driven-design/requirements.txt (line 48))\n",
            "  Downloading altair-5.4.1-py3-none-any.whl.metadata (9.4 kB)\n",
            "Requirement already satisfied: attrs in /home/gitpod/.pyenv/versions/3.8.18/lib/python3.8/site-packages (from streamlit==0.88.0->-r /workspace/data-driven-design/requirements.txt (line 48)) (24.3.0)\n",
            "Requirement already satisfied: requests in /home/gitpod/.pyenv/versions/3.8.18/lib/python3.8/site-packages (from streamlit==0.88.0->-r /workspace/data-driven-design/requirements.txt (line 48)) (2.32.3)\n",
            "Requirement already satisfied: tornado>=5.0 in /home/gitpod/.pyenv/versions/3.8.18/lib/python3.8/site-packages (from streamlit==0.88.0->-r /workspace/data-driven-design/requirements.txt (line 48)) (6.4.2)\n",
            "Requirement already satisfied: jsonschema>=3.0 in /home/gitpod/.pyenv/versions/3.8.18/lib/python3.8/site-packages (from altair>=3.2.0->streamlit==0.88.0->-r /workspace/data-driven-design/requirements.txt (line 48)) (4.23.0)\n",
            "Collecting narwhals>=1.5.2 (from altair>=3.2.0->streamlit==0.88.0->-r /workspace/data-driven-design/requirements.txt (line 48))\n",
            "  Downloading narwhals-1.26.0-py3-none-any.whl.metadata (10 kB)\n",
            "Requirement already satisfied: comm>=0.1.1 in /home/gitpod/.pyenv/versions/3.8.18/lib/python3.8/site-packages (from ipykernel>=4.5.1->ipywidgets==8.0.2->-r /workspace/data-driven-design/requirements.txt (line 20)) (0.2.2)\n",
            "Requirement already satisfied: debugpy>=1.6.5 in /home/gitpod/.pyenv/versions/3.8.18/lib/python3.8/site-packages (from ipykernel>=4.5.1->ipywidgets==8.0.2->-r /workspace/data-driven-design/requirements.txt (line 20)) (1.8.11)\n",
            "Requirement already satisfied: jupyter-client>=6.1.12 in /home/gitpod/.pyenv/versions/3.8.18/lib/python3.8/site-packages (from ipykernel>=4.5.1->ipywidgets==8.0.2->-r /workspace/data-driven-design/requirements.txt (line 20)) (8.6.3)\n",
            "Requirement already satisfied: jupyter-core!=5.0.*,>=4.12 in /home/gitpod/.pyenv/versions/3.8.18/lib/python3.8/site-packages (from ipykernel>=4.5.1->ipywidgets==8.0.2->-r /workspace/data-driven-design/requirements.txt (line 20)) (5.7.2)\n",
            "Requirement already satisfied: matplotlib-inline>=0.1 in /home/gitpod/.pyenv/versions/3.8.18/lib/python3.8/site-packages (from ipykernel>=4.5.1->ipywidgets==8.0.2->-r /workspace/data-driven-design/requirements.txt (line 20)) (0.1.7)\n",
            "Requirement already satisfied: nest-asyncio in /home/gitpod/.pyenv/versions/3.8.18/lib/python3.8/site-packages (from ipykernel>=4.5.1->ipywidgets==8.0.2->-r /workspace/data-driven-design/requirements.txt (line 20)) (1.6.0)\n",
            "Requirement already satisfied: psutil in /home/gitpod/.pyenv/versions/3.8.18/lib/python3.8/site-packages (from ipykernel>=4.5.1->ipywidgets==8.0.2->-r /workspace/data-driven-design/requirements.txt (line 20)) (6.1.1)\n",
            "Requirement already satisfied: pyzmq>=24 in /home/gitpod/.pyenv/versions/3.8.18/lib/python3.8/site-packages (from ipykernel>=4.5.1->ipywidgets==8.0.2->-r /workspace/data-driven-design/requirements.txt (line 20)) (26.2.0)\n",
            "Requirement already satisfied: backcall in /home/gitpod/.pyenv/versions/3.8.18/lib/python3.8/site-packages (from ipython>=6.1.0->ipywidgets==8.0.2->-r /workspace/data-driven-design/requirements.txt (line 20)) (0.2.0)\n",
            "Requirement already satisfied: decorator in /home/gitpod/.pyenv/versions/3.8.18/lib/python3.8/site-packages (from ipython>=6.1.0->ipywidgets==8.0.2->-r /workspace/data-driven-design/requirements.txt (line 20)) (5.1.1)\n",
            "Requirement already satisfied: jedi>=0.16 in /home/gitpod/.pyenv/versions/3.8.18/lib/python3.8/site-packages (from ipython>=6.1.0->ipywidgets==8.0.2->-r /workspace/data-driven-design/requirements.txt (line 20)) (0.19.2)\n",
            "Requirement already satisfied: pickleshare in /home/gitpod/.pyenv/versions/3.8.18/lib/python3.8/site-packages (from ipython>=6.1.0->ipywidgets==8.0.2->-r /workspace/data-driven-design/requirements.txt (line 20)) (0.7.5)\n",
            "Requirement already satisfied: prompt-toolkit!=3.0.37,<3.1.0,>=3.0.30 in /home/gitpod/.pyenv/versions/3.8.18/lib/python3.8/site-packages (from ipython>=6.1.0->ipywidgets==8.0.2->-r /workspace/data-driven-design/requirements.txt (line 20)) (3.0.48)\n",
            "Requirement already satisfied: pygments>=2.4.0 in /home/gitpod/.pyenv/versions/3.8.18/lib/python3.8/site-packages (from ipython>=6.1.0->ipywidgets==8.0.2->-r /workspace/data-driven-design/requirements.txt (line 20)) (2.18.0)\n",
            "Requirement already satisfied: stack-data in /home/gitpod/.pyenv/versions/3.8.18/lib/python3.8/site-packages (from ipython>=6.1.0->ipywidgets==8.0.2->-r /workspace/data-driven-design/requirements.txt (line 20)) (0.6.3)\n",
            "Requirement already satisfied: pexpect>4.3 in /home/gitpod/.pyenv/versions/3.8.18/lib/python3.8/site-packages (from ipython>=6.1.0->ipywidgets==8.0.2->-r /workspace/data-driven-design/requirements.txt (line 20)) (4.9.0)\n",
            "Collecting contourpy>=1.0.1 (from matplotlib>=2.2.3->phik==0.12.4->-r /workspace/data-driven-design/requirements.txt (line 32))\n",
            "  Downloading contourpy-1.1.1-cp38-cp38-manylinux_2_17_x86_64.manylinux2014_x86_64.whl.metadata (5.9 kB)\n",
            "Collecting fonttools>=4.22.0 (from matplotlib>=2.2.3->phik==0.12.4->-r /workspace/data-driven-design/requirements.txt (line 32))\n",
            "  Downloading fonttools-4.56.0-cp38-cp38-manylinux_2_17_x86_64.manylinux2014_x86_64.whl.metadata (101 kB)\n",
            "Requirement already satisfied: importlib-resources>=3.2.0 in /home/gitpod/.pyenv/versions/3.8.18/lib/python3.8/site-packages (from matplotlib>=2.2.3->phik==0.12.4->-r /workspace/data-driven-design/requirements.txt (line 32)) (6.4.5)\n",
            "Requirement already satisfied: charset-normalizer<4,>=2 in /home/gitpod/.pyenv/versions/3.8.18/lib/python3.8/site-packages (from requests->streamlit==0.88.0->-r /workspace/data-driven-design/requirements.txt (line 48)) (3.4.1)\n",
            "Requirement already satisfied: idna<4,>=2.5 in /home/gitpod/.pyenv/versions/3.8.18/lib/python3.8/site-packages (from requests->streamlit==0.88.0->-r /workspace/data-driven-design/requirements.txt (line 48)) (3.10)\n",
            "Requirement already satisfied: urllib3<3,>=1.21.1 in /home/gitpod/.pyenv/versions/3.8.18/lib/python3.8/site-packages (from requests->streamlit==0.88.0->-r /workspace/data-driven-design/requirements.txt (line 48)) (2.2.3)\n",
            "Requirement already satisfied: certifi>=2017.4.17 in /home/gitpod/.pyenv/versions/3.8.18/lib/python3.8/site-packages (from requests->streamlit==0.88.0->-r /workspace/data-driven-design/requirements.txt (line 48)) (2024.12.14)\n",
            "Requirement already satisfied: zipp>=3.1.0 in /home/gitpod/.pyenv/versions/3.8.18/lib/python3.8/site-packages (from importlib-resources>=3.2.0->matplotlib>=2.2.3->phik==0.12.4->-r /workspace/data-driven-design/requirements.txt (line 32)) (3.20.2)\n",
            "Requirement already satisfied: parso<0.9.0,>=0.8.4 in /home/gitpod/.pyenv/versions/3.8.18/lib/python3.8/site-packages (from jedi>=0.16->ipython>=6.1.0->ipywidgets==8.0.2->-r /workspace/data-driven-design/requirements.txt (line 20)) (0.8.4)\n",
            "Requirement already satisfied: jsonschema-specifications>=2023.03.6 in /home/gitpod/.pyenv/versions/3.8.18/lib/python3.8/site-packages (from jsonschema>=3.0->altair>=3.2.0->streamlit==0.88.0->-r /workspace/data-driven-design/requirements.txt (line 48)) (2023.12.1)\n",
            "Requirement already satisfied: pkgutil-resolve-name>=1.3.10 in /home/gitpod/.pyenv/versions/3.8.18/lib/python3.8/site-packages (from jsonschema>=3.0->altair>=3.2.0->streamlit==0.88.0->-r /workspace/data-driven-design/requirements.txt (line 48)) (1.3.10)\n",
            "Requirement already satisfied: referencing>=0.28.4 in /home/gitpod/.pyenv/versions/3.8.18/lib/python3.8/site-packages (from jsonschema>=3.0->altair>=3.2.0->streamlit==0.88.0->-r /workspace/data-driven-design/requirements.txt (line 48)) (0.35.1)\n",
            "Requirement already satisfied: rpds-py>=0.7.1 in /home/gitpod/.pyenv/versions/3.8.18/lib/python3.8/site-packages (from jsonschema>=3.0->altair>=3.2.0->streamlit==0.88.0->-r /workspace/data-driven-design/requirements.txt (line 48)) (0.20.1)\n",
            "Requirement already satisfied: importlib-metadata>=4.8.3 in /home/gitpod/.pyenv/versions/3.8.18/lib/python3.8/site-packages (from jupyter-client>=6.1.12->ipykernel>=4.5.1->ipywidgets==8.0.2->-r /workspace/data-driven-design/requirements.txt (line 20)) (8.5.0)\n",
            "Requirement already satisfied: platformdirs>=2.5 in /home/gitpod/.pyenv/versions/3.8.18/lib/python3.8/site-packages (from jupyter-core!=5.0.*,>=4.12->ipykernel>=4.5.1->ipywidgets==8.0.2->-r /workspace/data-driven-design/requirements.txt (line 20)) (4.3.6)\n",
            "Requirement already satisfied: ptyprocess>=0.5 in /home/gitpod/.pyenv/versions/3.8.18/lib/python3.8/site-packages (from pexpect>4.3->ipython>=6.1.0->ipywidgets==8.0.2->-r /workspace/data-driven-design/requirements.txt (line 20)) (0.7.0)\n",
            "Requirement already satisfied: wcwidth in /home/gitpod/.pyenv/versions/3.8.18/lib/python3.8/site-packages (from prompt-toolkit!=3.0.37,<3.1.0,>=3.0.30->ipython>=6.1.0->ipywidgets==8.0.2->-r /workspace/data-driven-design/requirements.txt (line 20)) (0.2.13)\n",
            "Requirement already satisfied: executing>=1.2.0 in /home/gitpod/.pyenv/versions/3.8.18/lib/python3.8/site-packages (from stack-data->ipython>=6.1.0->ipywidgets==8.0.2->-r /workspace/data-driven-design/requirements.txt (line 20)) (2.1.0)\n",
            "Requirement already satisfied: asttokens>=2.1.0 in /home/gitpod/.pyenv/versions/3.8.18/lib/python3.8/site-packages (from stack-data->ipython>=6.1.0->ipywidgets==8.0.2->-r /workspace/data-driven-design/requirements.txt (line 20)) (3.0.0)\n",
            "Requirement already satisfied: pure-eval in /home/gitpod/.pyenv/versions/3.8.18/lib/python3.8/site-packages (from stack-data->ipython>=6.1.0->ipywidgets==8.0.2->-r /workspace/data-driven-design/requirements.txt (line 20)) (0.2.3)\n",
            "Downloading astor-0.8.1-py2.py3-none-any.whl (27 kB)\n",
            "Downloading backports.zoneinfo-0.2.1-cp38-cp38-manylinux1_x86_64.whl (74 kB)\n",
            "Downloading base58-2.1.1-py3-none-any.whl (5.6 kB)\n",
            "Downloading blinker-1.8.2-py3-none-any.whl (9.5 kB)\n",
            "Downloading cachetools-5.5.0-py3-none-any.whl (9.5 kB)\n",
            "Downloading click-7.1.2-py2.py3-none-any.whl (82 kB)\n",
            "Downloading cycler-0.12.1-py3-none-any.whl (8.3 kB)\n",
            "Downloading dacite-1.8.1-py3-none-any.whl (14 kB)\n",
            "Downloading entrypoints-0.4-py3-none-any.whl (5.3 kB)\n",
            "Downloading gitdb-4.0.11-py3-none-any.whl (62 kB)\n",
            "Downloading GitPython-3.1.43-py3-none-any.whl (207 kB)\n",
            "Downloading html_minifier-0.0.4-py2.py3-none-any.whl (3.6 kB)\n",
            "Downloading ipywidgets-8.0.2-py3-none-any.whl (134 kB)\n",
            "Downloading Jinja2-3.1.1-py3-none-any.whl (132 kB)\n",
            "Downloading joblib-1.4.2-py3-none-any.whl (301 kB)\n",
            "Downloading jupyterlab_widgets-3.0.13-py3-none-any.whl (214 kB)\n",
            "Downloading kiwisolver-1.4.7-cp38-cp38-manylinux_2_5_x86_64.manylinux1_x86_64.whl (1.2 MB)\n",
            "\u001b[2K   \u001b[90m━━━━━━━━━━━━━━━━━━━━━━━━━━━━━━━━━━━━━━━━\u001b[0m \u001b[32m1.2/1.2 MB\u001b[0m \u001b[31m399.6 MB/s\u001b[0m eta \u001b[36m0:00:00\u001b[0m\n",
            "\u001b[?25hDownloading MarkupSafe-2.0.1-cp38-cp38-manylinux_2_5_x86_64.manylinux1_x86_64.manylinux_2_12_x86_64.manylinux2010_x86_64.whl (30 kB)\n",
            "Downloading multimethod-1.10-py3-none-any.whl (9.9 kB)\n",
            "Downloading networkx-3.1-py3-none-any.whl (2.1 MB)\n",
            "\u001b[2K   \u001b[90m━━━━━━━━━━━━━━━━━━━━━━━━━━━━━━━━━━━━━━━━\u001b[0m \u001b[32m2.1/2.1 MB\u001b[0m \u001b[31m665.9 MB/s\u001b[0m eta \u001b[36m0:00:00\u001b[0m\n",
            "\u001b[?25hDownloading pandas-1.5.3-cp38-cp38-manylinux_2_17_x86_64.manylinux2014_x86_64.whl (12.2 MB)\n",
            "\u001b[2K   \u001b[90m━━━━━━━━━━━━━━━━━━━━━━━━━━━━━━━━━━━━━━━━\u001b[0m \u001b[32m12.2/12.2 MB\u001b[0m \u001b[31m447.8 MB/s\u001b[0m eta \u001b[36m0:00:00\u001b[0m\n",
            "\u001b[?25hDownloading phik-0.12.4-cp38-cp38-manylinux_2_17_x86_64.manylinux2014_x86_64.whl (686 kB)\n",
            "\u001b[2K   \u001b[90m━━━━━━━━━━━━━━━━━━━━━━━━━━━━━━━━━━━━━━━\u001b[0m \u001b[32m686.1/686.1 kB\u001b[0m \u001b[31m544.6 MB/s\u001b[0m eta \u001b[36m0:00:00\u001b[0m\n",
            "\u001b[?25hDownloading pillow-10.4.0-cp38-cp38-manylinux_2_28_x86_64.whl (4.5 MB)\n",
            "\u001b[2K   \u001b[90m━━━━━━━━━━━━━━━━━━━━━━━━━━━━━━━━━━━━━━━━\u001b[0m \u001b[32m4.5/4.5 MB\u001b[0m \u001b[31m505.2 MB/s\u001b[0m eta \u001b[36m0:00:00\u001b[0m\n",
            "\u001b[?25hDownloading plotly-4.12.0-py2.py3-none-any.whl (13.1 MB)\n",
            "\u001b[2K   \u001b[90m━━━━━━━━━━━━━━━━━━━━━━━━━━━━━━━━━━━━━━━━\u001b[0m \u001b[32m13.1/13.1 MB\u001b[0m \u001b[31m117.9 MB/s\u001b[0m eta \u001b[36m0:00:00\u001b[0m\n",
            "\u001b[?25hDownloading protobuf-3.20.0-cp38-cp38-manylinux_2_5_x86_64.manylinux1_x86_64.whl (1.0 MB)\n",
            "\u001b[2K   \u001b[90m━━━━━━━━━━━━━━━━━━━━━━━━━━━━━━━━━━━━━━━━\u001b[0m \u001b[32m1.0/1.0 MB\u001b[0m \u001b[31m651.5 MB/s\u001b[0m eta \u001b[36m0:00:00\u001b[0m\n",
            "\u001b[?25hDownloading pyarrow-17.0.0-cp38-cp38-manylinux_2_28_x86_64.whl (40.0 MB)\n",
            "\u001b[2K   \u001b[90m━━━━━━━━━━━━━━━━━━━━━━━━━━━━━━━━━━━━━━━━\u001b[0m \u001b[32m40.0/40.0 MB\u001b[0m \u001b[31m293.4 MB/s\u001b[0m eta \u001b[36m0:00:00\u001b[0m\n",
            "\u001b[?25hDownloading pydantic-1.10.18-cp38-cp38-manylinux_2_17_x86_64.manylinux2014_x86_64.whl (3.2 MB)\n",
            "\u001b[2K   \u001b[90m━━━━━━━━━━━━━━━━━━━━━━━━━━━━━━━━━━━━━━━━\u001b[0m \u001b[32m3.2/3.2 MB\u001b[0m \u001b[31m634.2 MB/s\u001b[0m eta \u001b[36m0:00:00\u001b[0m\n",
            "\u001b[?25hDownloading pydeck-0.9.1-py2.py3-none-any.whl (6.9 MB)\n",
            "\u001b[2K   \u001b[90m━━━━━━━━━━━━━━━━━━━━━━━━━━━━━━━━━━━━━━━━\u001b[0m \u001b[32m6.9/6.9 MB\u001b[0m \u001b[31m552.3 MB/s\u001b[0m eta \u001b[36m0:00:00\u001b[0m\n",
            "\u001b[?25hDownloading pyparsing-3.1.4-py3-none-any.whl (104 kB)\n",
            "Downloading PyWavelets-1.4.1-cp38-cp38-manylinux_2_17_x86_64.manylinux2014_x86_64.whl (6.9 MB)\n",
            "\u001b[2K   \u001b[90m━━━━━━━━━━━━━━━━━━━━━━━━━━━━━━━━━━━━━━━━\u001b[0m \u001b[32m6.9/6.9 MB\u001b[0m \u001b[31m361.4 MB/s\u001b[0m eta \u001b[36m0:00:00\u001b[0m\n",
            "\u001b[?25hDownloading retrying-1.3.4-py3-none-any.whl (11 kB)\n",
            "Downloading scipy-1.9.3-cp38-cp38-manylinux_2_17_x86_64.manylinux2014_x86_64.whl (33.8 MB)\n",
            "\u001b[2K   \u001b[90m━━━━━━━━━━━━━━━━━━━━━━━━━━━━━━━━━━━━━━━━\u001b[0m \u001b[32m33.8/33.8 MB\u001b[0m \u001b[31m340.4 MB/s\u001b[0m eta \u001b[36m0:00:00\u001b[0m\n",
            "\u001b[?25hDownloading seaborn-0.11.2-py3-none-any.whl (292 kB)\n",
            "Downloading smmap-5.0.1-py3-none-any.whl (24 kB)\n",
            "Downloading statsmodels-0.14.1-cp38-cp38-manylinux_2_17_x86_64.manylinux2014_x86_64.whl (10.9 MB)\n",
            "\u001b[2K   \u001b[90m━━━━━━━━━━━━━━━━━━━━━━━━━━━━━━━━━━━━━━━━\u001b[0m \u001b[32m10.9/10.9 MB\u001b[0m \u001b[31m492.4 MB/s\u001b[0m eta \u001b[36m0:00:00\u001b[0m\n",
            "\u001b[?25hDownloading streamlit-0.88.0-py2.py3-none-any.whl (8.0 MB)\n",
            "\u001b[2K   \u001b[90m━━━━━━━━━━━━━━━━━━━━━━━━━━━━━━━━━━━━━━━━\u001b[0m \u001b[32m8.0/8.0 MB\u001b[0m \u001b[31m301.6 MB/s\u001b[0m eta \u001b[36m0:00:00\u001b[0m\n",
            "\u001b[?25hDownloading tangled_up_in_unicode-0.2.0-py3-none-any.whl (4.7 MB)\n",
            "\u001b[2K   \u001b[90m━━━━━━━━━━━━━━━━━━━━━━━━━━━━━━━━━━━━━━━━\u001b[0m \u001b[32m4.7/4.7 MB\u001b[0m \u001b[31m539.0 MB/s\u001b[0m eta \u001b[36m0:00:00\u001b[0m\n",
            "\u001b[?25hDownloading threadpoolctl-3.5.0-py3-none-any.whl (18 kB)\n",
            "Downloading toml-0.10.2-py2.py3-none-any.whl (16 kB)\n",
            "Downloading toolz-1.0.0-py3-none-any.whl (56 kB)\n",
            "Downloading tqdm-4.66.5-py3-none-any.whl (78 kB)\n",
            "Downloading typeguard-2.13.3-py3-none-any.whl (17 kB)\n",
            "Downloading tzlocal-5.2-py3-none-any.whl (17 kB)\n",
            "Downloading validators-0.34.0-py3-none-any.whl (43 kB)\n",
            "Downloading visions-0.7.5-py3-none-any.whl (102 kB)\n",
            "Downloading watchdog-4.0.2-py3-none-manylinux2014_x86_64.whl (82 kB)\n",
            "Downloading widgetsnbextension-4.0.13-py3-none-any.whl (2.3 MB)\n",
            "\u001b[2K   \u001b[90m━━━━━━━━━━━━━━━━━━━━━━━━━━━━━━━━━━━━━━━━\u001b[0m \u001b[32m2.3/2.3 MB\u001b[0m \u001b[31m521.1 MB/s\u001b[0m eta \u001b[36m0:00:00\u001b[0m\n",
            "\u001b[?25hDownloading wordcloud-1.9.3-cp38-cp38-manylinux_2_17_x86_64.manylinux2014_x86_64.whl (520 kB)\n",
            "Downloading xgboost-1.2.1-py3-none-manylinux2010_x86_64.whl (148.9 MB)\n",
            "\u001b[2K   \u001b[90m━━━━━━━━━━━━━━━━━━━━━━━━━━━━━━━━━━━━━━━\u001b[0m \u001b[32m148.9/148.9 MB\u001b[0m \u001b[31m225.4 MB/s\u001b[0m eta \u001b[36m0:00:00\u001b[0ma \u001b[36m0:00:01\u001b[0m\n",
            "\u001b[?25hDownloading patsy-1.0.1-py2.py3-none-any.whl (232 kB)\n",
            "Downloading altair-5.4.1-py3-none-any.whl (658 kB)\n",
            "\u001b[2K   \u001b[90m━━━━━━━━━━━━━━━━━━━━━━━━━━━━━━━━━━━━━━━\u001b[0m \u001b[32m658.1/658.1 kB\u001b[0m \u001b[31m647.1 MB/s\u001b[0m eta \u001b[36m0:00:00\u001b[0m\n",
            "\u001b[?25hDownloading matplotlib-3.7.5-cp38-cp38-manylinux_2_12_x86_64.manylinux2010_x86_64.whl (9.2 MB)\n",
            "\u001b[2K   \u001b[90m━━━━━━━━━━━━━━━━━━━━━━━━━━━━━━━━━━━━━━━━\u001b[0m \u001b[32m9.2/9.2 MB\u001b[0m \u001b[31m507.8 MB/s\u001b[0m eta \u001b[36m0:00:00\u001b[0m\n",
            "\u001b[?25hDownloading numpy-1.24.4-cp38-cp38-manylinux_2_17_x86_64.manylinux2014_x86_64.whl (17.3 MB)\n",
            "\u001b[2K   \u001b[90m━━━━━━━━━━━━━━━━━━━━━━━━━━━━━━━━━━━━━━━━\u001b[0m \u001b[32m17.3/17.3 MB\u001b[0m \u001b[31m392.0 MB/s\u001b[0m eta \u001b[36m0:00:00\u001b[0m\n",
            "\u001b[?25hDownloading scikit_learn-0.24.2-cp38-cp38-manylinux2010_x86_64.whl (24.9 MB)\n",
            "\u001b[2K   \u001b[90m━━━━━━━━━━━━━━━━━━━━━━━━━━━━━━━━━━━━━━━━\u001b[0m \u001b[32m24.9/24.9 MB\u001b[0m \u001b[31m397.2 MB/s\u001b[0m eta \u001b[36m0:00:00\u001b[0m\n",
            "\u001b[?25hDownloading contourpy-1.1.1-cp38-cp38-manylinux_2_17_x86_64.manylinux2014_x86_64.whl (301 kB)\n",
            "Downloading fonttools-4.56.0-cp38-cp38-manylinux_2_17_x86_64.manylinux2014_x86_64.whl (4.7 MB)\n",
            "\u001b[2K   \u001b[90m━━━━━━━━━━━━━━━━━━━━━━━━━━━━━━━━━━━━━━━━\u001b[0m \u001b[32m4.7/4.7 MB\u001b[0m \u001b[31m561.8 MB/s\u001b[0m eta \u001b[36m0:00:00\u001b[0m\n",
            "\u001b[?25hDownloading narwhals-1.26.0-py3-none-any.whl (306 kB)\n",
            "Building wheels for collected packages: ppscore\n",
            "  Building wheel for ppscore (setup.py) ... \u001b[?25ldone\n",
            "\u001b[?25h  Created wheel for ppscore: filename=ppscore-1.2.0-py2.py3-none-any.whl size=13064 sha256=15bb4ffdcde9f4765e9f66b197987f41668a25f071af69cfe0cb5e469082a302\n",
            "  Stored in directory: /tmp/pip-ephem-wheel-cache-1tt6iqx4/wheels/fb/0e/65/da65ce669381fc01b6ef990d301d3586991f89bff1175877a4\n",
            "Successfully built ppscore\n",
            "Installing collected packages: html-minifier, widgetsnbextension, watchdog, validators, typeguard, tqdm, toolz, toml, threadpoolctl, tangled-up-in-unicode, smmap, retrying, pyparsing, pydantic, protobuf, pillow, numpy, networkx, narwhals, multimethod, MarkupSafe, kiwisolver, jupyterlab_widgets, joblib, fonttools, entrypoints, dacite, cycler, click, cachetools, blinker, base58, backports.zoneinfo, astor, tzlocal, scipy, PyWavelets, pyarrow, plotly, patsy, pandas, Jinja2, gitdb, contourpy, xgboost, visions, statsmodels, scikit-learn, pydeck, matplotlib, GitPython, wordcloud, seaborn, ppscore, phik, ipywidgets, altair, streamlit\n",
            "Successfully installed GitPython-3.1.43 Jinja2-3.1.1 MarkupSafe-2.0.1 PyWavelets-1.4.1 altair-5.4.1 astor-0.8.1 backports.zoneinfo-0.2.1 base58-2.1.1 blinker-1.8.2 cachetools-5.5.0 click-7.1.2 contourpy-1.1.1 cycler-0.12.1 dacite-1.8.1 entrypoints-0.4 fonttools-4.56.0 gitdb-4.0.11 html-minifier-0.0.4 ipywidgets-8.0.2 joblib-1.4.2 jupyterlab_widgets-3.0.13 kiwisolver-1.4.7 matplotlib-3.7.5 multimethod-1.10 narwhals-1.26.0 networkx-3.1 numpy-1.24.4 pandas-1.5.3 patsy-1.0.1 phik-0.12.4 pillow-10.4.0 plotly-4.12.0 ppscore-1.2.0 protobuf-3.20.0 pyarrow-17.0.0 pydantic-1.10.18 pydeck-0.9.1 pyparsing-3.1.4 retrying-1.3.4 scikit-learn-0.24.2 scipy-1.9.3 seaborn-0.11.2 smmap-5.0.1 statsmodels-0.14.1 streamlit-0.88.0 tangled-up-in-unicode-0.2.0 threadpoolctl-3.5.0 toml-0.10.2 toolz-1.0.0 tqdm-4.66.5 typeguard-2.13.3 tzlocal-5.2 validators-0.34.0 visions-0.7.5 watchdog-4.0.2 widgetsnbextension-4.0.13 wordcloud-1.9.3 xgboost-1.2.1\n",
            "Note: you may need to restart the kernel to use updated packages.\n"
          ]
        }
      ],
      "source": [
        "%pip install --no-cache-dir -r /workspace/data-driven-design/requirements.txt"
      ]
    },
    {
      "cell_type": "code",
      "execution_count": 5,
      "metadata": {},
      "outputs": [
        {
          "name": "stdout",
          "output_type": "stream",
          "text": [
            "Note: you may need to restart the kernel to use updated packages.\n"
          ]
        }
      ],
      "source": [
        "pip freeze > requirements.txt"
      ]
    },
    {
      "cell_type": "markdown",
      "metadata": {
        "id": "-mavJ8DibrcQ"
      },
      "source": [
        "# Fetch data from Kaggle"
      ]
    },
    {
      "cell_type": "markdown",
      "metadata": {
        "id": "XQrZFfd_J4Ix"
      },
      "source": [
        "Download data file directly from Kaggle and upload to Explorer in Git Pod workspace via local computer:\n",
        "\n",
        "Step 1: Go to [Aircraft Performance (Aircraft Bluebook) ](https://www.kaggle.com/datasets/heitornunes/aircraft-performance-dataset-aircraft-bluebook?select=Airplane_Complete_Imputation.csv)\n",
        "\n",
        "Step 2: Scroll down and choose the \"Airplane Complete Imputation.csv\"-file \n",
        "\n",
        "<img src=\"/workspace/data-driven-design/images_notebook/choose_file_from_kaggle.jpg\" alt=\"Screenshot showing which file on Kaggle to download\" width=\"700\" />\n",
        "\n",
        "Step 3: Download data file from Kaggle to local computer [Aircraft Performance (Aircraft Bluebook) ](https://www.kaggle.com/datasets/heitornunes/aircraft-performance-dataset-aircraft-bluebook?select=Airplane_Complete_Imputation.csv)\n",
        "\n",
        "<img src=\"/workspace/data-driven-design/images_notebook/download_from_kaggle.jpg\" alt=\"Screenshot showing where to download the data on Kaggle\" width=\"700\" />"
      ]
    },
    {
      "cell_type": "markdown",
      "metadata": {},
      "source": [
        "---"
      ]
    },
    {
      "cell_type": "markdown",
      "metadata": {
        "id": "uFQo3ycuO-v6"
      },
      "source": [
        "# Load, Rearrange and Inspect Kaggle data"
      ]
    },
    {
      "cell_type": "markdown",
      "metadata": {},
      "source": [
        "Set pandas to display all columns without truncating (and enabling horizontal slider)"
      ]
    },
    {
      "cell_type": "code",
      "execution_count": 6,
      "metadata": {},
      "outputs": [],
      "source": [
        "import pandas as pd\n",
        "pd.set_option('display.max_columns', None)  # Show all columns"
      ]
    },
    {
      "cell_type": "code",
      "execution_count": null,
      "metadata": {
        "id": "CjEM52Z1YLRP"
      },
      "outputs": [],
      "source": [
        "df = pd.read_csv(f\"inputs/datasets/raw/Airplane_Complete_Imputation.csv\")\n",
        "df.head()"
      ]
    },
    {
      "cell_type": "markdown",
      "metadata": {},
      "source": [
        "Rearrange columns in data to group features that belong together side by side in order to make heatmaps etc. more easily interpreted"
      ]
    },
    {
      "cell_type": "code",
      "execution_count": null,
      "metadata": {},
      "outputs": [],
      "source": [
        "new_order = ['Model', 'Company', 'Wing Span', 'Length', 'Height', 'Multi Engine', 'TP mods', 'Engine Type', 'THR', 'SHP', 'AUW', 'MEW', 'FW', 'Vmax', 'Vcruise', 'Vstall', 'Range', 'Hmax', 'Hmax (One)', 'ROC', 'ROC (One)', 'Vlo', 'Slo', 'Vl', 'Sl']  # Specify new order\n",
        "df = df[new_order]\n",
        "df.to_csv('rearranged_file.csv', index=False)  # We overwrite the df with this rearranged file\n",
        "df.head()"
      ]
    },
    {
      "cell_type": "markdown",
      "metadata": {
        "id": "cKG2pKb3hmY4"
      },
      "source": [
        "DataFrame Summary. Click 'View as a scrollable element' at the bottom of the output in case the 'display.max_columns'-command does not work (probably overruled by jupyter notebook)"
      ]
    },
    {
      "cell_type": "code",
      "execution_count": null,
      "metadata": {
        "id": "YtKKWuPhg7r8"
      },
      "outputs": [],
      "source": [
        "df.info()"
      ]
    },
    {
      "cell_type": "markdown",
      "metadata": {
        "id": "hcB2YJiOH4pm"
      },
      "source": [
        "We want to check if there are duplicated airplanes by checking `Model`: There are three duplicates."
      ]
    },
    {
      "cell_type": "markdown",
      "metadata": {},
      "source": [
        "The 'keep=False' ensures that both lines of duplicate values are being displayed"
      ]
    },
    {
      "cell_type": "code",
      "execution_count": null,
      "metadata": {
        "id": "3om7yFYAH1vl"
      },
      "outputs": [],
      "source": [
        "df[df.duplicated(subset=['Model'], keep=False)]"
      ]
    },
    {
      "cell_type": "markdown",
      "metadata": {},
      "source": [
        "The double entries having the same and almost the same values for their features probably refer to confusion in the \"Company\" or similar versions of the same model.  We will drop one of each double entries."
      ]
    },
    {
      "cell_type": "code",
      "execution_count": null,
      "metadata": {},
      "outputs": [],
      "source": [
        "# Drop the row at index 1\n",
        "df_dropped = df.drop(index=[65, 445, 514], inplace=True)\n",
        "print(df_dropped)"
      ]
    },
    {
      "cell_type": "markdown",
      "metadata": {},
      "source": [
        "We check for duplicates again: There are no duplicates."
      ]
    },
    {
      "cell_type": "code",
      "execution_count": null,
      "metadata": {},
      "outputs": [],
      "source": [
        "df[df.duplicated(subset=['Model'], keep=False)]"
      ]
    },
    {
      "cell_type": "markdown",
      "metadata": {
        "id": "HaObnZm0x8od"
      },
      "source": [
        "We noticed `Engine Type` is a categorical variable with three alternatives: 'Piston', 'Propjet'and 'Jet'. We will replace/convert the categories to integers as the ML model requires numeric variables. "
      ]
    },
    {
      "cell_type": "code",
      "execution_count": null,
      "metadata": {
        "id": "9ivG1m2Ntryw"
      },
      "outputs": [],
      "source": [
        "df['Engine Type'].unique()"
      ]
    },
    {
      "cell_type": "code",
      "execution_count": 14,
      "metadata": {
        "id": "AX5SeWxpxg8z"
      },
      "outputs": [],
      "source": [
        "df['Engine Type'] = df['Engine Type'].replace({\"Piston\":0, \"Propjet\":1, \"Jet\":2})"
      ]
    },
    {
      "cell_type": "markdown",
      "metadata": {
        "id": "vbo03aCPyKu-"
      },
      "source": [
        "Check the `Engine Type` data type."
      ]
    },
    {
      "cell_type": "code",
      "execution_count": null,
      "metadata": {
        "id": "W6vlA0ZxyHeO"
      },
      "outputs": [],
      "source": [
        "df['Engine Type'].dtype"
      ]
    },
    {
      "cell_type": "markdown",
      "metadata": {},
      "source": [
        "Finally before we push the df to the repo we replace the pesky spaces with underscores."
      ]
    },
    {
      "cell_type": "code",
      "execution_count": 16,
      "metadata": {},
      "outputs": [],
      "source": [
        "# Renaming columns\n",
        "df.rename(columns={\n",
        "    'Multi Engine': 'Multi_Engine',\n",
        "    'Wing Span': 'Wing_Span',\n",
        "    'TP mods': 'TP_mods',  # Fixed this entry to match naming convention\n",
        "    'Engine Type': 'Engine_Type',  # Adjusted to use underscores\n",
        "    'Hmax (One)': 'Hmax_(One)',\n",
        "    'ROC (One)': 'ROC_(One)'\n",
        "}, inplace=True)"
      ]
    },
    {
      "cell_type": "markdown",
      "metadata": {
        "id": "ltNetd085qHf"
      },
      "source": [
        "# Push files to Repo"
      ]
    },
    {
      "cell_type": "code",
      "execution_count": null,
      "metadata": {
        "id": "aKlnIozA4eQO"
      },
      "outputs": [],
      "source": [
        "import os\n",
        "try:\n",
        "  os.makedirs(name='outputs/datasets/collection') # create outputs/datasets/collection folder\n",
        "except Exception as e:\n",
        "  print(e)\n",
        "\n",
        "df.to_csv(f\"outputs/datasets/collection/airplane_performance_study.csv\",index=False)"
      ]
    },
    {
      "cell_type": "markdown",
      "metadata": {},
      "source": [
        "Double check that we really have the correct update csv-file in the repo and yes it is correct."
      ]
    },
    {
      "cell_type": "code",
      "execution_count": null,
      "metadata": {},
      "outputs": [],
      "source": [
        "df = pd.read_csv(f\"outputs/datasets/collection/airplane_performance_study.csv\")\n",
        "df.head()"
      ]
    }
  ],
  "metadata": {
    "accelerator": "GPU",
    "colab": {
      "name": "Data Practitioner Jupyter Notebook.ipynb",
      "provenance": [],
      "toc_visible": true
    },
    "kernelspec": {
      "display_name": "Python 3",
      "language": "python",
      "name": "python3"
    },
    "language_info": {
      "codemirror_mode": {
        "name": "ipython",
        "version": 3
      },
      "file_extension": ".py",
      "mimetype": "text/x-python",
      "name": "python",
      "nbconvert_exporter": "python",
      "pygments_lexer": "ipython3",
      "version": "3.8.18"
    },
    "orig_nbformat": 2
  },
  "nbformat": 4,
  "nbformat_minor": 0
}
