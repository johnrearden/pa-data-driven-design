{
  "cells": [
    {
      "cell_type": "markdown",
      "metadata": {
        "id": "0aStgWSO0E0E"
      },
      "source": [
        "# **Modeling and Evaluation Classification Predict Multi Engine Notebook**"
      ]
    },
    {
      "cell_type": "markdown",
      "metadata": {},
      "source": [
        "<span style=\"color:red\"># **IMPORTANT!**</span>  \n",
        "This notebook has only been \"built\" up to the stage of the second grid search. Because of time constraints **I have, together with my mentor, decided to leave this notebook in the repo yet to not present this classification study in the dashboard.** Please see Business case for this study in the appendix to the readme.\n",
        "\n",
        "All the code cells runns however there has been following issues:\n",
        "* We had to too drop the SmartCorrelatedSelection due to unresolved issue (described in code)\n",
        "* Disappointingly, that grid search appears to have failed (grid_search_summary gave only NaN on min_score, mean_score, max_score and std_score for all estimators)."
      ]
    },
    {
      "cell_type": "markdown",
      "metadata": {
        "id": "1eLEkw5O0ECa"
      },
      "source": [
        "## Objectives\n",
        "\n",
        "*   Fit and evaluate a classification model to predict if an airplane have a multi or single engine.\n",
        "\n",
        "\n",
        "## Inputs\n",
        "\n",
        "* outputs/datasets/collection/airplane_performance_study.csv\n",
        "* Instructions on which variables to use for data cleaning and feature engineering. They are found in each respective notebook.\n",
        "\n",
        "## Outputs\n",
        " **-**\n"
      ]
    },
    {
      "cell_type": "markdown",
      "metadata": {
        "id": "9uWZXH9LwoQg"
      },
      "source": [
        "---"
      ]
    },
    {
      "cell_type": "markdown",
      "metadata": {},
      "source": [
        "# Change working directory"
      ]
    },
    {
      "cell_type": "markdown",
      "metadata": {},
      "source": [
        "We need to change the working directory from its current folder to its parent folder\n",
        "* Access the current directory with os.getcwd()"
      ]
    },
    {
      "cell_type": "code",
      "execution_count": 1,
      "metadata": {},
      "outputs": [
        {
          "data": {
            "text/plain": [
              "'/workspace/data-driven-design/jupyter_notebooks'"
            ]
          },
          "execution_count": 1,
          "metadata": {},
          "output_type": "execute_result"
        }
      ],
      "source": [
        "import os\n",
        "current_dir = os.getcwd()\n",
        "current_dir"
      ]
    },
    {
      "cell_type": "markdown",
      "metadata": {},
      "source": [
        "Make the parent of the current directory the new current directory.\n",
        "* os.path.dirname() gets the parent directory\n",
        "* os.chir() defines the new current directory"
      ]
    },
    {
      "cell_type": "code",
      "execution_count": 2,
      "metadata": {},
      "outputs": [
        {
          "name": "stdout",
          "output_type": "stream",
          "text": [
            "You set a new current directory\n"
          ]
        }
      ],
      "source": [
        "os.chdir(os.path.dirname(current_dir))\n",
        "print(\"You set a new current directory\")"
      ]
    },
    {
      "cell_type": "markdown",
      "metadata": {},
      "source": [
        "Confirm the new current directory"
      ]
    },
    {
      "cell_type": "code",
      "execution_count": 3,
      "metadata": {},
      "outputs": [
        {
          "data": {
            "text/plain": [
              "'/workspace/data-driven-design'"
            ]
          },
          "execution_count": 3,
          "metadata": {},
          "output_type": "execute_result"
        }
      ],
      "source": [
        "current_dir = os.getcwd()\n",
        "current_dir"
      ]
    },
    {
      "cell_type": "markdown",
      "metadata": {
        "id": "OSpFreVRiuM3"
      },
      "source": [
        "---"
      ]
    },
    {
      "cell_type": "markdown",
      "metadata": {},
      "source": [
        "# Imports"
      ]
    },
    {
      "cell_type": "code",
      "execution_count": 4,
      "metadata": {},
      "outputs": [],
      "source": [
        "import numpy as np\n",
        "import pandas as pd\n",
        "from feature_engine.selection import SmartCorrelatedSelection\n",
        "from feature_engine.encoding import OrdinalEncoder\n",
        "import matplotlib.pyplot as plt\n",
        "import seaborn as sns\n",
        "from imblearn.over_sampling import SMOTE\n",
        "from sklearn.pipeline import Pipeline\n",
        "from sklearn.preprocessing import PowerTransformer\n",
        "from sklearn.model_selection import GridSearchCV\n",
        "from sklearn.model_selection import train_test_split\n",
        "from sklearn.metrics import make_scorer, recall_score\n",
        "from sklearn.metrics import classification_report, confusion_matrix"
      ]
    },
    {
      "cell_type": "markdown",
      "metadata": {
        "id": "-mavJ8DibrcQ"
      },
      "source": [
        "# Step 1: Load Data"
      ]
    },
    {
      "cell_type": "code",
      "execution_count": 5,
      "metadata": {
        "id": "Xk7DU_ekbtX8"
      },
      "outputs": [
        {
          "name": "stdout",
          "output_type": "stream",
          "text": [
            "(857, 21)\n"
          ]
        },
        {
          "data": {
            "text/html": [
              "<div>\n",
              "<style scoped>\n",
              "    .dataframe tbody tr th:only-of-type {\n",
              "        vertical-align: middle;\n",
              "    }\n",
              "\n",
              "    .dataframe tbody tr th {\n",
              "        vertical-align: top;\n",
              "    }\n",
              "\n",
              "    .dataframe thead th {\n",
              "        text-align: right;\n",
              "    }\n",
              "</style>\n",
              "<table border=\"1\" class=\"dataframe\">\n",
              "  <thead>\n",
              "    <tr style=\"text-align: right;\">\n",
              "      <th></th>\n",
              "      <th>Wing_Span</th>\n",
              "      <th>Length</th>\n",
              "      <th>Height</th>\n",
              "      <th>Multi_Engine</th>\n",
              "      <th>TP_mods</th>\n",
              "      <th>Engine_Type</th>\n",
              "      <th>AUW</th>\n",
              "      <th>MEW</th>\n",
              "      <th>FW</th>\n",
              "      <th>Vmax</th>\n",
              "      <th>...</th>\n",
              "      <th>Vstall</th>\n",
              "      <th>Range</th>\n",
              "      <th>Hmax</th>\n",
              "      <th>Hmax_(One)</th>\n",
              "      <th>ROC</th>\n",
              "      <th>ROC_(One)</th>\n",
              "      <th>Vlo</th>\n",
              "      <th>Slo</th>\n",
              "      <th>Vl</th>\n",
              "      <th>Sl</th>\n",
              "    </tr>\n",
              "  </thead>\n",
              "  <tbody>\n",
              "    <tr>\n",
              "      <th>0</th>\n",
              "      <td>37.416667</td>\n",
              "      <td>25.250000</td>\n",
              "      <td>10.250000</td>\n",
              "      <td>False</td>\n",
              "      <td>False</td>\n",
              "      <td>0</td>\n",
              "      <td>2050.0</td>\n",
              "      <td>1180.0</td>\n",
              "      <td>241.2</td>\n",
              "      <td>104.0</td>\n",
              "      <td>...</td>\n",
              "      <td>46.0</td>\n",
              "      <td>370.0</td>\n",
              "      <td>13000.0</td>\n",
              "      <td>13000.0</td>\n",
              "      <td>450.0</td>\n",
              "      <td>450.0</td>\n",
              "      <td>900.0</td>\n",
              "      <td>391.970247</td>\n",
              "      <td>1300.0</td>\n",
              "      <td>257.745075</td>\n",
              "    </tr>\n",
              "    <tr>\n",
              "      <th>1</th>\n",
              "      <td>36.083333</td>\n",
              "      <td>20.583333</td>\n",
              "      <td>8.750000</td>\n",
              "      <td>False</td>\n",
              "      <td>False</td>\n",
              "      <td>0</td>\n",
              "      <td>1350.0</td>\n",
              "      <td>820.0</td>\n",
              "      <td>100.5</td>\n",
              "      <td>89.0</td>\n",
              "      <td>...</td>\n",
              "      <td>44.0</td>\n",
              "      <td>190.0</td>\n",
              "      <td>12300.0</td>\n",
              "      <td>12300.0</td>\n",
              "      <td>600.0</td>\n",
              "      <td>600.0</td>\n",
              "      <td>720.0</td>\n",
              "      <td>26.247647</td>\n",
              "      <td>800.0</td>\n",
              "      <td>225.324824</td>\n",
              "    </tr>\n",
              "    <tr>\n",
              "      <th>2</th>\n",
              "      <td>35.000000</td>\n",
              "      <td>21.416667</td>\n",
              "      <td>8.583333</td>\n",
              "      <td>False</td>\n",
              "      <td>False</td>\n",
              "      <td>0</td>\n",
              "      <td>1300.0</td>\n",
              "      <td>810.0</td>\n",
              "      <td>127.3</td>\n",
              "      <td>90.0</td>\n",
              "      <td>...</td>\n",
              "      <td>37.0</td>\n",
              "      <td>210.0</td>\n",
              "      <td>16000.0</td>\n",
              "      <td>16000.0</td>\n",
              "      <td>650.0</td>\n",
              "      <td>650.0</td>\n",
              "      <td>475.0</td>\n",
              "      <td>363.139711</td>\n",
              "      <td>850.0</td>\n",
              "      <td>585.751317</td>\n",
              "    </tr>\n",
              "  </tbody>\n",
              "</table>\n",
              "<p>3 rows × 21 columns</p>\n",
              "</div>"
            ],
            "text/plain": [
              "   Wing_Span     Length     Height  Multi_Engine  TP_mods  Engine_Type  \\\n",
              "0  37.416667  25.250000  10.250000         False    False            0   \n",
              "1  36.083333  20.583333   8.750000         False    False            0   \n",
              "2  35.000000  21.416667   8.583333         False    False            0   \n",
              "\n",
              "      AUW     MEW     FW   Vmax  ...  Vstall  Range     Hmax  Hmax_(One)  \\\n",
              "0  2050.0  1180.0  241.2  104.0  ...    46.0  370.0  13000.0     13000.0   \n",
              "1  1350.0   820.0  100.5   89.0  ...    44.0  190.0  12300.0     12300.0   \n",
              "2  1300.0   810.0  127.3   90.0  ...    37.0  210.0  16000.0     16000.0   \n",
              "\n",
              "     ROC  ROC_(One)    Vlo         Slo      Vl          Sl  \n",
              "0  450.0      450.0  900.0  391.970247  1300.0  257.745075  \n",
              "1  600.0      600.0  720.0   26.247647   800.0  225.324824  \n",
              "2  650.0      650.0  475.0  363.139711   850.0  585.751317  \n",
              "\n",
              "[3 rows x 21 columns]"
            ]
          },
          "execution_count": 5,
          "metadata": {},
          "output_type": "execute_result"
        }
      ],
      "source": [
        "df = (pd.read_csv(\"outputs/datasets/collection/airplane_performance_study.csv\")\n",
        "      .drop(labels=['Model', 'Company', 'THR', 'SHP'], axis=1)\n",
        "                    # target variable for regressor, remove from classifier  \n",
        "                    # drop other variables we will not need for this project\n",
        "  )\n",
        "\n",
        "print(df.shape)\n",
        "df.head(3)"
      ]
    },
    {
      "cell_type": "markdown",
      "metadata": {
        "id": "Ofil7xTpm6l9"
      },
      "source": [
        "---"
      ]
    },
    {
      "cell_type": "markdown",
      "metadata": {
        "id": "krjAk78Tbyhv"
      },
      "source": [
        "# Step 2: ML Pipeline with all data"
      ]
    },
    {
      "cell_type": "markdown",
      "metadata": {
        "id": "FfCsXhBYVBJw"
      },
      "source": [
        "## ML pipeline for Data Cleaning and Feature Engineering"
      ]
    },
    {
      "cell_type": "markdown",
      "metadata": {},
      "source": [
        "Set variables=None to avoid error in first code cell under Handle Target Imbalance!"
      ]
    },
    {
      "cell_type": "markdown",
      "metadata": {},
      "source": [
        "Below you should include the categorical features to the ordinal_variables and the numerical continous to the yeo_johnson_variables (do not include the target variable, Engine_Type, you deal with that separately!)"
      ]
    },
    {
      "cell_type": "markdown",
      "metadata": {},
      "source": [
        "\"NameError: name 'X' is not defined\" will be thrown in the call to below function in a cell under the \"Handle Target Imbalance\"-headline, further down in this notebook. is most likely due to that the \"YeoJohnsonTransformer\" transforms X to a Numpy array and that the OrdinalCategoricalEncoder therefore receives a numpy array as input when it requires a pandas dataframe as instead.\n",
        "\n",
        "Since no solution to this issue was found the workaround here i simply to drop the \"SmartCorrelatedSelection\" (supposed to come after the \"YeoJohnsonTransformer\") from the pipeline.\n"
      ]
    },
    {
      "cell_type": "code",
      "execution_count": 6,
      "metadata": {},
      "outputs": [],
      "source": [
        "def PipelineDataCleaningAndFeatureEngineering():\n",
        "    \"\"\"\n",
        "    Creates a data cleaning and feature engineering pipeline using sklearn and feature-engine.\n",
        "\n",
        "    This function constructs a machine learning pipeline that performs the following steps:\n",
        "    1. Applies an Ordinal Encoder to specified categorical variables to convert them into\n",
        "       ordinal format.\n",
        "    2. Applies a Yeo-Johnson transformation to specified numerical variables to stabilize\n",
        "       variance and make the data more Gaussian-like.\n",
        "    3. Utilizes Smart Correlated Selection to select features based on correlation,\n",
        "       removing highly correlated variables to reduce multicollinearity.\n",
        "\n",
        "    Returns:\n",
        "        Pipeline: A scikit-learn Pipeline object that can be used for fitting and transforming\n",
        "        data in preparation for modeling.\n",
        "\n",
        "    Categorical variables:\n",
        "        - Multi_Engine\n",
        "        - TP_mods\n",
        "\n",
        "    Numerical variables for Yeo-Johnson transformation:\n",
        "        Wing_Span, Length, Height, AUW, MEW, FW, Vmax, Vcruise, Vstall, Range, Hmax, Hmax (One)\n",
        "        ROC, ROC (One), lo, Slo, Vl, Sl\n",
        "    \"\"\"\n",
        "    # Specify variables for Ordinal Encoder and Power Transformer\n",
        "    ordinal_variables = ['Multi_Engine', 'TP_mods']\n",
        "\n",
        "    # Specify the numerical variables for Yeo-Johnson transformation\n",
        "    yeo_johnson_variables = ['Wing_Span', 'Length', 'Height', 'AUW', 'MEW',\n",
        "                             'FW', 'Vmax', 'Vcruise', 'Vstall', 'Range',\n",
        "                             'Hmax', 'Hmax (One)', 'ROC', 'ROC (One)',\n",
        "                             'Vlo', 'Slo', 'Vl', 'Sl']\n",
        "\n",
        "    pipeline_base = Pipeline([\n",
        "        (\"OrdinalCategoricalEncoder\", OrdinalEncoder(variables=ordinal_variables)),\n",
        "\n",
        "        (\"YeoJohnsonTransformer\", PowerTransformer(method='yeo-johnson')),\n",
        "    ])\n",
        "\n",
        "    return pipeline_base\n",
        "\n",
        "\n",
        "pipeline = PipelineDataCleaningAndFeatureEngineering()"
      ]
    },
    {
      "cell_type": "markdown",
      "metadata": {
        "id": "H_7BXNYMULrf"
      },
      "source": [
        "## ML Pipeline for Modelling and Hyperparameter Optimisation"
      ]
    },
    {
      "cell_type": "code",
      "execution_count": 7,
      "metadata": {
        "id": "PYR4hz6-Ldvo"
      },
      "outputs": [
        {
          "name": "stderr",
          "output_type": "stream",
          "text": [
            "/workspace/.pip-modules/lib/python3.8/site-packages/xgboost/compat.py:93: FutureWarning: pandas.Int64Index is deprecated and will be removed from pandas in a future version. Use pandas.Index with the appropriate dtype instead.\n",
            "  from pandas import MultiIndex, Int64Index\n"
          ]
        }
      ],
      "source": [
        "# Feat Scaling\n",
        "from sklearn.preprocessing import StandardScaler\n",
        "\n",
        "# Feat Selection\n",
        "from sklearn.feature_selection import SelectFromModel\n",
        "\n",
        "# ML algorithms\n",
        "from sklearn.linear_model import LogisticRegression\n",
        "from sklearn.tree import DecisionTreeClassifier\n",
        "from sklearn.ensemble import RandomForestClassifier\n",
        "from sklearn.ensemble import GradientBoostingClassifier\n",
        "from sklearn.ensemble import ExtraTreesClassifier\n",
        "from sklearn.ensemble import AdaBoostClassifier\n",
        "from xgboost import XGBClassifier\n",
        "\n",
        "\n",
        "def PipelineClf(model):\n",
        "    \"\"\"\n",
        "    Creates a classification pipeline that includes feature scaling and feature selection.\n",
        "\n",
        "    This function constructs a machine learning pipeline that performs the following steps:\n",
        "    1. Scales the features using `StandardScaler` to standardize the dataset, ensuring that \n",
        "       each feature contributes equally to the model training.\n",
        "    2. Applies feature selection using `SelectFromModel` with the provided model to select \n",
        "       important features based on their importance weights.\n",
        "    3. Includes a specified machine learning model for classification.\n",
        "\n",
        "    Parameters:\n",
        "        model (estimator): A scikit-learn compatible classifier or ensemble model, such as \n",
        "                           LogisticRegression, DecisionTreeClassifier, RandomForestClassifier, \n",
        "                           GradientBoostingClassifier, ExtraTreesClassifier, AdaBoostClassifier, \n",
        "                           or XGBClassifier.\n",
        "\n",
        "    Returns:\n",
        "        Pipeline: A scikit-learn Pipeline object that can be used for fitting and predicting \n",
        "                  with the classification model after preprocessing the data.\n",
        "\n",
        "    Notes:\n",
        "        - Ensure that the provided model supports the feature importances method, as \n",
        "          `SelectFromModel` will rely on this to determine which features to keep.\n",
        "    \"\"\"\n",
        "    pipeline_base = Pipeline([\n",
        "        (\"scaler\", StandardScaler()),\n",
        "        (\"feat_selection\", SelectFromModel(model)),\n",
        "        (\"model\", model),\n",
        "    ])\n",
        "\n",
        "\n",
        "    return pipeline_base\n"
      ]
    },
    {
      "cell_type": "markdown",
      "metadata": {
        "id": "KM_hrtfjLj85"
      },
      "source": [
        "Custom Class for Hyperparameter Optimisation"
      ]
    },
    {
      "cell_type": "code",
      "execution_count": 8,
      "metadata": {
        "id": "NpTcVDtQ5RMc"
      },
      "outputs": [],
      "source": [
        "class HyperparameterOptimizationSearch:\n",
        "\n",
        "    def __init__(self, models, params):\n",
        "        self.models = models\n",
        "        self.params = params\n",
        "        self.keys = models.keys()\n",
        "        self.grid_searches = {}\n",
        "\n",
        "    def fit(self, X, y, cv, n_jobs, verbose=1, scoring=None, refit=False):\n",
        "        for key in self.keys:\n",
        "            print(f\"\\nRunning GridSearchCV for {key} \\n\")\n",
        "\n",
        "            model = PipelineClf(self.models[key])\n",
        "            params = self.params[key]\n",
        "            gs = GridSearchCV(model, params, cv=cv, n_jobs=n_jobs,\n",
        "                              verbose=verbose, scoring=scoring, )\n",
        "            gs.fit(X, y)\n",
        "            self.grid_searches[key] = gs\n",
        "\n",
        "    def score_summary(self, sort_by='mean_score'):\n",
        "        def row(key, scores, params):\n",
        "            d = {\n",
        "                'estimator': key,\n",
        "                'min_score': min(scores),\n",
        "                'max_score': max(scores),\n",
        "                'mean_score': np.mean(scores),\n",
        "                'std_score': np.std(scores),\n",
        "            }\n",
        "            return pd.Series({**params, **d})\n",
        "\n",
        "        rows = []\n",
        "        for k in self.grid_searches:\n",
        "            params = self.grid_searches[k].cv_results_['params']\n",
        "            scores = []\n",
        "            for i in range(self.grid_searches[k].cv):\n",
        "                key = \"split{}_test_score\".format(i)\n",
        "                r = self.grid_searches[k].cv_results_[key]\n",
        "                scores.append(r.reshape(len(params), 1))\n",
        "\n",
        "            all_scores = np.hstack(scores)\n",
        "            for p, s in zip(params, all_scores):\n",
        "                rows.append((row(k, s, p)))\n",
        "\n",
        "        df = pd.concat(rows, axis=1).T.sort_values([sort_by], ascending=False)\n",
        "        columns = ['estimator', 'min_score',\n",
        "                   'mean_score', 'max_score', 'std_score']\n",
        "        columns = columns + [c for c in df.columns if c not in columns]\n",
        "        return df[columns], self.grid_searches\n"
      ]
    },
    {
      "cell_type": "markdown",
      "metadata": {
        "id": "eUcOp83jy0QG"
      },
      "source": [
        "## Split Train and Test Set"
      ]
    },
    {
      "cell_type": "markdown",
      "metadata": {},
      "source": [
        "Looking at the shapes shows that 80% is taken for a train and the rest (20%) is for test. "
      ]
    },
    {
      "cell_type": "code",
      "execution_count": 9,
      "metadata": {},
      "outputs": [],
      "source": [
        "df['Multi_Engine'] = df['Multi_Engine'].astype(object)\n",
        "df['TP_mods'] = df['TP_mods'].astype(object)\n",
        "df['Engine_Type'] = df['Engine_Type'].astype(object)"
      ]
    },
    {
      "cell_type": "code",
      "execution_count": 10,
      "metadata": {},
      "outputs": [
        {
          "data": {
            "text/html": [
              "<div>\n",
              "<style scoped>\n",
              "    .dataframe tbody tr th:only-of-type {\n",
              "        vertical-align: middle;\n",
              "    }\n",
              "\n",
              "    .dataframe tbody tr th {\n",
              "        vertical-align: top;\n",
              "    }\n",
              "\n",
              "    .dataframe thead th {\n",
              "        text-align: right;\n",
              "    }\n",
              "</style>\n",
              "<table border=\"1\" class=\"dataframe\">\n",
              "  <thead>\n",
              "    <tr style=\"text-align: right;\">\n",
              "      <th></th>\n",
              "      <th>Wing_Span</th>\n",
              "      <th>Length</th>\n",
              "      <th>Height</th>\n",
              "      <th>Multi_Engine</th>\n",
              "      <th>TP_mods</th>\n",
              "      <th>Engine_Type</th>\n",
              "      <th>AUW</th>\n",
              "      <th>MEW</th>\n",
              "      <th>FW</th>\n",
              "      <th>Vmax</th>\n",
              "      <th>...</th>\n",
              "      <th>Vstall</th>\n",
              "      <th>Range</th>\n",
              "      <th>Hmax</th>\n",
              "      <th>Hmax_(One)</th>\n",
              "      <th>ROC</th>\n",
              "      <th>ROC_(One)</th>\n",
              "      <th>Vlo</th>\n",
              "      <th>Slo</th>\n",
              "      <th>Vl</th>\n",
              "      <th>Sl</th>\n",
              "    </tr>\n",
              "  </thead>\n",
              "  <tbody>\n",
              "    <tr>\n",
              "      <th>0</th>\n",
              "      <td>37.416667</td>\n",
              "      <td>25.250000</td>\n",
              "      <td>10.250000</td>\n",
              "      <td>False</td>\n",
              "      <td>False</td>\n",
              "      <td>0</td>\n",
              "      <td>2050.0</td>\n",
              "      <td>1180.0</td>\n",
              "      <td>241.2</td>\n",
              "      <td>104.0</td>\n",
              "      <td>...</td>\n",
              "      <td>46.0</td>\n",
              "      <td>370.0</td>\n",
              "      <td>13000.0</td>\n",
              "      <td>13000.0</td>\n",
              "      <td>450.0</td>\n",
              "      <td>450.0</td>\n",
              "      <td>900.0</td>\n",
              "      <td>391.970247</td>\n",
              "      <td>1300.0</td>\n",
              "      <td>257.745075</td>\n",
              "    </tr>\n",
              "    <tr>\n",
              "      <th>1</th>\n",
              "      <td>36.083333</td>\n",
              "      <td>20.583333</td>\n",
              "      <td>8.750000</td>\n",
              "      <td>False</td>\n",
              "      <td>False</td>\n",
              "      <td>0</td>\n",
              "      <td>1350.0</td>\n",
              "      <td>820.0</td>\n",
              "      <td>100.5</td>\n",
              "      <td>89.0</td>\n",
              "      <td>...</td>\n",
              "      <td>44.0</td>\n",
              "      <td>190.0</td>\n",
              "      <td>12300.0</td>\n",
              "      <td>12300.0</td>\n",
              "      <td>600.0</td>\n",
              "      <td>600.0</td>\n",
              "      <td>720.0</td>\n",
              "      <td>26.247647</td>\n",
              "      <td>800.0</td>\n",
              "      <td>225.324824</td>\n",
              "    </tr>\n",
              "    <tr>\n",
              "      <th>2</th>\n",
              "      <td>35.000000</td>\n",
              "      <td>21.416667</td>\n",
              "      <td>8.583333</td>\n",
              "      <td>False</td>\n",
              "      <td>False</td>\n",
              "      <td>0</td>\n",
              "      <td>1300.0</td>\n",
              "      <td>810.0</td>\n",
              "      <td>127.3</td>\n",
              "      <td>90.0</td>\n",
              "      <td>...</td>\n",
              "      <td>37.0</td>\n",
              "      <td>210.0</td>\n",
              "      <td>16000.0</td>\n",
              "      <td>16000.0</td>\n",
              "      <td>650.0</td>\n",
              "      <td>650.0</td>\n",
              "      <td>475.0</td>\n",
              "      <td>363.139711</td>\n",
              "      <td>850.0</td>\n",
              "      <td>585.751317</td>\n",
              "    </tr>\n",
              "    <tr>\n",
              "      <th>3</th>\n",
              "      <td>35.000000</td>\n",
              "      <td>21.416667</td>\n",
              "      <td>8.583333</td>\n",
              "      <td>False</td>\n",
              "      <td>False</td>\n",
              "      <td>0</td>\n",
              "      <td>1300.0</td>\n",
              "      <td>800.0</td>\n",
              "      <td>127.3</td>\n",
              "      <td>88.0</td>\n",
              "      <td>...</td>\n",
              "      <td>37.0</td>\n",
              "      <td>210.0</td>\n",
              "      <td>13000.0</td>\n",
              "      <td>13000.0</td>\n",
              "      <td>620.0</td>\n",
              "      <td>620.0</td>\n",
              "      <td>500.0</td>\n",
              "      <td>407.797297</td>\n",
              "      <td>850.0</td>\n",
              "      <td>642.046166</td>\n",
              "    </tr>\n",
              "    <tr>\n",
              "      <th>4</th>\n",
              "      <td>35.000000</td>\n",
              "      <td>21.416667</td>\n",
              "      <td>8.750000</td>\n",
              "      <td>False</td>\n",
              "      <td>False</td>\n",
              "      <td>0</td>\n",
              "      <td>1220.0</td>\n",
              "      <td>740.0</td>\n",
              "      <td>93.8</td>\n",
              "      <td>83.0</td>\n",
              "      <td>...</td>\n",
              "      <td>33.0</td>\n",
              "      <td>175.0</td>\n",
              "      <td>12500.0</td>\n",
              "      <td>12500.0</td>\n",
              "      <td>370.0</td>\n",
              "      <td>370.0</td>\n",
              "      <td>632.0</td>\n",
              "      <td>297.056192</td>\n",
              "      <td>885.0</td>\n",
              "      <td>329.571813</td>\n",
              "    </tr>\n",
              "  </tbody>\n",
              "</table>\n",
              "<p>5 rows × 21 columns</p>\n",
              "</div>"
            ],
            "text/plain": [
              "   Wing_Span     Length     Height Multi_Engine TP_mods Engine_Type     AUW  \\\n",
              "0  37.416667  25.250000  10.250000        False   False           0  2050.0   \n",
              "1  36.083333  20.583333   8.750000        False   False           0  1350.0   \n",
              "2  35.000000  21.416667   8.583333        False   False           0  1300.0   \n",
              "3  35.000000  21.416667   8.583333        False   False           0  1300.0   \n",
              "4  35.000000  21.416667   8.750000        False   False           0  1220.0   \n",
              "\n",
              "      MEW     FW   Vmax  ...  Vstall  Range     Hmax  Hmax_(One)    ROC  \\\n",
              "0  1180.0  241.2  104.0  ...    46.0  370.0  13000.0     13000.0  450.0   \n",
              "1   820.0  100.5   89.0  ...    44.0  190.0  12300.0     12300.0  600.0   \n",
              "2   810.0  127.3   90.0  ...    37.0  210.0  16000.0     16000.0  650.0   \n",
              "3   800.0  127.3   88.0  ...    37.0  210.0  13000.0     13000.0  620.0   \n",
              "4   740.0   93.8   83.0  ...    33.0  175.0  12500.0     12500.0  370.0   \n",
              "\n",
              "   ROC_(One)    Vlo         Slo      Vl          Sl  \n",
              "0      450.0  900.0  391.970247  1300.0  257.745075  \n",
              "1      600.0  720.0   26.247647   800.0  225.324824  \n",
              "2      650.0  475.0  363.139711   850.0  585.751317  \n",
              "3      620.0  500.0  407.797297   850.0  642.046166  \n",
              "4      370.0  632.0  297.056192   885.0  329.571813  \n",
              "\n",
              "[5 rows x 21 columns]"
            ]
          },
          "execution_count": 10,
          "metadata": {},
          "output_type": "execute_result"
        }
      ],
      "source": [
        "df.head()"
      ]
    },
    {
      "cell_type": "code",
      "execution_count": 11,
      "metadata": {
        "id": "0vqzNI2zF1sZ"
      },
      "outputs": [
        {
          "name": "stdout",
          "output_type": "stream",
          "text": [
            "(857, 21)\n",
            "(685, 20) (685,) (172, 20) (172,)\n"
          ]
        }
      ],
      "source": [
        "X_train, X_test, y_train, y_test = train_test_split(\n",
        "    df.drop(['Engine_Type'], axis=1),\n",
        "    df['Engine_Type'],\n",
        "    test_size=0.2,\n",
        "    random_state=0,\n",
        ")\n",
        "print(df.shape)\n",
        "print(X_train.shape, y_train.shape, X_test.shape, y_test.shape)\n",
        "\n",
        "# df = pd.DataFrame(y_train.shape)\n",
        "# print(df.dtypes)\n"
      ]
    },
    {
      "cell_type": "markdown",
      "metadata": {},
      "source": [
        "685 + 172 = 857 perfect result from the split of the data set (75% train and 25% test)!\n"
      ]
    },
    {
      "cell_type": "code",
      "execution_count": 12,
      "metadata": {},
      "outputs": [
        {
          "data": {
            "text/html": [
              "<div>\n",
              "<style scoped>\n",
              "    .dataframe tbody tr th:only-of-type {\n",
              "        vertical-align: middle;\n",
              "    }\n",
              "\n",
              "    .dataframe tbody tr th {\n",
              "        vertical-align: top;\n",
              "    }\n",
              "\n",
              "    .dataframe thead th {\n",
              "        text-align: right;\n",
              "    }\n",
              "</style>\n",
              "<table border=\"1\" class=\"dataframe\">\n",
              "  <thead>\n",
              "    <tr style=\"text-align: right;\">\n",
              "      <th></th>\n",
              "      <th>Wing_Span</th>\n",
              "      <th>Length</th>\n",
              "      <th>Height</th>\n",
              "      <th>Multi_Engine</th>\n",
              "      <th>TP_mods</th>\n",
              "      <th>AUW</th>\n",
              "      <th>MEW</th>\n",
              "      <th>FW</th>\n",
              "      <th>Vmax</th>\n",
              "      <th>Vcruise</th>\n",
              "      <th>Vstall</th>\n",
              "      <th>Range</th>\n",
              "      <th>Hmax</th>\n",
              "      <th>Hmax_(One)</th>\n",
              "      <th>ROC</th>\n",
              "      <th>ROC_(One)</th>\n",
              "      <th>Vlo</th>\n",
              "      <th>Slo</th>\n",
              "      <th>Vl</th>\n",
              "      <th>Sl</th>\n",
              "    </tr>\n",
              "  </thead>\n",
              "  <tbody>\n",
              "    <tr>\n",
              "      <th>196</th>\n",
              "      <td>64.333333</td>\n",
              "      <td>68.416667</td>\n",
              "      <td>20.666667</td>\n",
              "      <td>True</td>\n",
              "      <td>False</td>\n",
              "      <td>48300.0</td>\n",
              "      <td>26985.0</td>\n",
              "      <td>20000.0</td>\n",
              "      <td>546.94</td>\n",
              "      <td>533.6</td>\n",
              "      <td>99.659388</td>\n",
              "      <td>4045.0</td>\n",
              "      <td>41000.0</td>\n",
              "      <td>20000.0</td>\n",
              "      <td>2512.569226</td>\n",
              "      <td>680.0</td>\n",
              "      <td>6969.145819</td>\n",
              "      <td>5684.0</td>\n",
              "      <td>3693.285251</td>\n",
              "      <td>2777.0</td>\n",
              "    </tr>\n",
              "    <tr>\n",
              "      <th>645</th>\n",
              "      <td>37.166667</td>\n",
              "      <td>31.166667</td>\n",
              "      <td>10.250000</td>\n",
              "      <td>True</td>\n",
              "      <td>False</td>\n",
              "      <td>5200.0</td>\n",
              "      <td>3229.0</td>\n",
              "      <td>964.8</td>\n",
              "      <td>220.00</td>\n",
              "      <td>197.0</td>\n",
              "      <td>59.000000</td>\n",
              "      <td>620.0</td>\n",
              "      <td>30000.0</td>\n",
              "      <td>18700.0</td>\n",
              "      <td>1530.000000</td>\n",
              "      <td>265.0</td>\n",
              "      <td>1250.000000</td>\n",
              "      <td>820.0</td>\n",
              "      <td>1250.000000</td>\n",
              "      <td>850.0</td>\n",
              "    </tr>\n",
              "    <tr>\n",
              "      <th>122</th>\n",
              "      <td>37.666667</td>\n",
              "      <td>25.583333</td>\n",
              "      <td>9.500000</td>\n",
              "      <td>True</td>\n",
              "      <td>False</td>\n",
              "      <td>4880.0</td>\n",
              "      <td>2960.0</td>\n",
              "      <td>750.4</td>\n",
              "      <td>200.00</td>\n",
              "      <td>191.0</td>\n",
              "      <td>66.000000</td>\n",
              "      <td>745.0</td>\n",
              "      <td>19200.0</td>\n",
              "      <td>7600.0</td>\n",
              "      <td>1630.000000</td>\n",
              "      <td>350.0</td>\n",
              "      <td>1700.000000</td>\n",
              "      <td>1255.0</td>\n",
              "      <td>1470.000000</td>\n",
              "      <td>1250.0</td>\n",
              "    </tr>\n",
              "    <tr>\n",
              "      <th>851</th>\n",
              "      <td>49.416667</td>\n",
              "      <td>35.083333</td>\n",
              "      <td>14.750000</td>\n",
              "      <td>True</td>\n",
              "      <td>False</td>\n",
              "      <td>6750.0</td>\n",
              "      <td>4350.0</td>\n",
              "      <td>1045.2</td>\n",
              "      <td>198.00</td>\n",
              "      <td>190.0</td>\n",
              "      <td>59.000000</td>\n",
              "      <td>957.0</td>\n",
              "      <td>24000.0</td>\n",
              "      <td>8500.0</td>\n",
              "      <td>1700.000000</td>\n",
              "      <td>340.0</td>\n",
              "      <td>1375.000000</td>\n",
              "      <td>1100.0</td>\n",
              "      <td>1235.000000</td>\n",
              "      <td>865.0</td>\n",
              "    </tr>\n",
              "    <tr>\n",
              "      <th>167</th>\n",
              "      <td>34.166667</td>\n",
              "      <td>26.333333</td>\n",
              "      <td>7.333333</td>\n",
              "      <td>False</td>\n",
              "      <td>False</td>\n",
              "      <td>3325.0</td>\n",
              "      <td>2247.0</td>\n",
              "      <td>455.6</td>\n",
              "      <td>174.00</td>\n",
              "      <td>165.0</td>\n",
              "      <td>61.000000</td>\n",
              "      <td>483.0</td>\n",
              "      <td>18200.0</td>\n",
              "      <td>18200.0</td>\n",
              "      <td>1170.000000</td>\n",
              "      <td>1170.0</td>\n",
              "      <td>1420.000000</td>\n",
              "      <td>980.0</td>\n",
              "      <td>1340.000000</td>\n",
              "      <td>835.0</td>\n",
              "    </tr>\n",
              "  </tbody>\n",
              "</table>\n",
              "</div>"
            ],
            "text/plain": [
              "     Wing_Span     Length     Height Multi_Engine TP_mods      AUW      MEW  \\\n",
              "196  64.333333  68.416667  20.666667         True   False  48300.0  26985.0   \n",
              "645  37.166667  31.166667  10.250000         True   False   5200.0   3229.0   \n",
              "122  37.666667  25.583333   9.500000         True   False   4880.0   2960.0   \n",
              "851  49.416667  35.083333  14.750000         True   False   6750.0   4350.0   \n",
              "167  34.166667  26.333333   7.333333        False   False   3325.0   2247.0   \n",
              "\n",
              "          FW    Vmax  Vcruise     Vstall   Range     Hmax  Hmax_(One)  \\\n",
              "196  20000.0  546.94    533.6  99.659388  4045.0  41000.0     20000.0   \n",
              "645    964.8  220.00    197.0  59.000000   620.0  30000.0     18700.0   \n",
              "122    750.4  200.00    191.0  66.000000   745.0  19200.0      7600.0   \n",
              "851   1045.2  198.00    190.0  59.000000   957.0  24000.0      8500.0   \n",
              "167    455.6  174.00    165.0  61.000000   483.0  18200.0     18200.0   \n",
              "\n",
              "             ROC  ROC_(One)          Vlo     Slo           Vl      Sl  \n",
              "196  2512.569226      680.0  6969.145819  5684.0  3693.285251  2777.0  \n",
              "645  1530.000000      265.0  1250.000000   820.0  1250.000000   850.0  \n",
              "122  1630.000000      350.0  1700.000000  1255.0  1470.000000  1250.0  \n",
              "851  1700.000000      340.0  1375.000000  1100.0  1235.000000   865.0  \n",
              "167  1170.000000     1170.0  1420.000000   980.0  1340.000000   835.0  "
            ]
          },
          "execution_count": 12,
          "metadata": {},
          "output_type": "execute_result"
        }
      ],
      "source": [
        "X_train.head()"
      ]
    },
    {
      "cell_type": "code",
      "execution_count": 13,
      "metadata": {},
      "outputs": [
        {
          "name": "stdout",
          "output_type": "stream",
          "text": [
            "     Wing_Span     Length     Height Multi_Engine TP_mods Engine_Type     AUW  \\\n",
            "0    37.416667  25.250000  10.250000        False   False           0  2050.0   \n",
            "1    36.083333  20.583333   8.750000        False   False           0  1350.0   \n",
            "2    35.000000  21.416667   8.583333        False   False           0  1300.0   \n",
            "3    35.000000  21.416667   8.583333        False   False           0  1300.0   \n",
            "4    35.000000  21.416667   8.750000        False   False           0  1220.0   \n",
            "..         ...        ...        ...          ...     ...         ...     ...   \n",
            "852  49.416667  35.083333  14.416667         True   False           0  6250.0   \n",
            "853  49.000000  35.083333  14.416667         True   False           0  6000.0   \n",
            "854  44.083333  35.416667  14.416667         True   False           0  5500.0   \n",
            "855  30.000000  21.166667   7.000000        False   False           0  1817.0   \n",
            "856  30.000000  21.166667   7.000000        False   False           0  1817.0   \n",
            "\n",
            "        MEW      FW   Vmax  ...  Vstall   Range     Hmax  Hmax_(One)     ROC  \\\n",
            "0    1180.0   241.2  104.0  ...    46.0   370.0  13000.0     13000.0   450.0   \n",
            "1     820.0   100.5   89.0  ...    44.0   190.0  12300.0     12300.0   600.0   \n",
            "2     810.0   127.3   90.0  ...    37.0   210.0  16000.0     16000.0   650.0   \n",
            "3     800.0   127.3   88.0  ...    37.0   210.0  13000.0     13000.0   620.0   \n",
            "4     740.0    93.8   83.0  ...    33.0   175.0  12500.0     12500.0   370.0   \n",
            "..      ...     ...    ...  ...     ...     ...      ...         ...     ...   \n",
            "852  4255.0  1045.2  198.0  ...    54.0   957.0  22500.0      7850.0  1400.0   \n",
            "853  3850.0  1045.2  190.0  ...    55.0   957.0  22500.0      7150.0  1400.0   \n",
            "854  3800.0  1005.0  183.0  ...    52.0  1000.0  24000.0      8500.0  1700.0   \n",
            "855  1175.0   221.1  130.0  ...    45.0   365.0  22000.0     22000.0  1310.0   \n",
            "856  1125.0   221.1  117.0  ...    45.0   380.0  22000.0     22000.0   910.0   \n",
            "\n",
            "     ROC_(One)     Vlo          Slo      Vl          Sl  \n",
            "0        450.0   900.0   391.970247  1300.0  257.745075  \n",
            "1        600.0   720.0    26.247647   800.0  225.324824  \n",
            "2        650.0   475.0   363.139711   850.0  585.751317  \n",
            "3        620.0   500.0   407.797297   850.0  642.046166  \n",
            "4        370.0   632.0   297.056192   885.0  329.571813  \n",
            "..         ...     ...          ...     ...         ...  \n",
            "852      320.0  1210.0   970.000000  1150.0  865.000000  \n",
            "853      290.0  1250.0  1000.000000  1350.0  950.000000  \n",
            "854      400.0  1100.0   950.000000  1050.0  900.000000  \n",
            "855     1310.0  1730.0  1120.000000  1585.0  785.000000  \n",
            "856      910.0  1730.0  1120.000000  1585.0  785.000000  \n",
            "\n",
            "[857 rows x 21 columns]\n"
          ]
        }
      ],
      "source": [
        "print(df)"
      ]
    },
    {
      "cell_type": "code",
      "execution_count": 14,
      "metadata": {},
      "outputs": [
        {
          "name": "stdout",
          "output_type": "stream",
          "text": [
            "     Wing_Span     Length     Height Multi_Engine TP_mods      AUW      MEW  \\\n",
            "196  64.333333  68.416667  20.666667         True   False  48300.0  26985.0   \n",
            "645  37.166667  31.166667  10.250000         True   False   5200.0   3229.0   \n",
            "122  37.666667  25.583333   9.500000         True   False   4880.0   2960.0   \n",
            "851  49.416667  35.083333  14.750000         True   False   6750.0   4350.0   \n",
            "167  34.166667  26.333333   7.333333        False   False   3325.0   2247.0   \n",
            "..         ...        ...        ...          ...     ...      ...      ...   \n",
            "835  44.083333  43.000000  14.500000         True   False   9400.0   5515.0   \n",
            "192  61.833333  68.416667  20.666667         True   False  41400.0  18660.0   \n",
            "629  53.250000  47.250000  14.000000        False   False   9920.0   5732.0   \n",
            "559  28.750000  20.333333   7.416667        False   False   1750.0   1160.0   \n",
            "684  36.166667  27.833333   9.500000        False   False   3600.0   2222.0   \n",
            "\n",
            "          FW    Vmax  Vcruise     Vstall   Range          Hmax    Hmax_(One)  \\\n",
            "196  20000.0  546.94    533.6  99.659388  4045.0  41000.000000  20000.000000   \n",
            "645    964.8  220.00    197.0  59.000000   620.0  30000.000000  18700.000000   \n",
            "122    750.4  200.00    191.0  66.000000   745.0  19200.000000   7600.000000   \n",
            "851   1045.2  198.00    190.0  59.000000   957.0  24000.000000   8500.000000   \n",
            "167    455.6  174.00    165.0  61.000000   483.0  18200.000000  18200.000000   \n",
            "..       ...     ...      ...        ...     ...           ...           ...   \n",
            "835   1916.2  252.00    236.0  89.000000  1296.0  25600.000000  10500.000000   \n",
            "192  14890.0  480.00    442.0  93.912157  2991.0  41000.000000  24000.000000   \n",
            "629   2693.4  270.00    265.0  64.000000  2261.0  30000.000000  30000.000000   \n",
            "559    201.0  162.00    125.0  49.000000   505.0  17747.603162  17747.603162   \n",
            "684    683.4  155.00    148.0  59.000000   804.0  17200.000000  17200.000000   \n",
            "\n",
            "             ROC    ROC_(One)          Vlo          Slo           Vl  \\\n",
            "196  2512.569226   680.000000  6969.145819  5684.000000  3693.285251   \n",
            "645  1530.000000   265.000000  1250.000000   820.000000  1250.000000   \n",
            "122  1630.000000   350.000000  1700.000000  1255.000000  1470.000000   \n",
            "851  1700.000000   340.000000  1375.000000  1100.000000  1235.000000   \n",
            "167  1170.000000  1170.000000  1420.000000   980.000000  1340.000000   \n",
            "..           ...          ...          ...          ...          ...   \n",
            "835  2007.000000   484.000000  2016.000000  1706.000000  2504.000000   \n",
            "192  3400.000000   743.000000  5700.000000  4703.980789  3300.000000   \n",
            "629  1680.000000  1680.000000  2300.000000  1475.000000  1830.000000   \n",
            "559   682.000000   682.000000  1496.000000   822.000000  1519.000000   \n",
            "684  1007.400328  1007.400328  2028.000000  1284.000000  1822.000000   \n",
            "\n",
            "              Sl  \n",
            "196  2777.000000  \n",
            "645   850.000000  \n",
            "122  1250.000000  \n",
            "851   865.000000  \n",
            "167   835.000000  \n",
            "..           ...  \n",
            "835  1200.000000  \n",
            "192  2999.403043  \n",
            "629   945.000000  \n",
            "559   841.000000  \n",
            "684   911.000000  \n",
            "\n",
            "[685 rows x 20 columns]\n"
          ]
        }
      ],
      "source": [
        "print(X_train)"
      ]
    },
    {
      "cell_type": "code",
      "execution_count": 15,
      "metadata": {},
      "outputs": [
        {
          "name": "stdout",
          "output_type": "stream",
          "text": [
            "Wing_Span       float64\n",
            "Length          float64\n",
            "Height          float64\n",
            "Multi_Engine     object\n",
            "TP_mods          object\n",
            "AUW             float64\n",
            "MEW             float64\n",
            "FW              float64\n",
            "Vmax            float64\n",
            "Vcruise         float64\n",
            "Vstall          float64\n",
            "Range           float64\n",
            "Hmax            float64\n",
            "Hmax_(One)      float64\n",
            "ROC             float64\n",
            "ROC_(One)       float64\n",
            "Vlo             float64\n",
            "Slo             float64\n",
            "Vl              float64\n",
            "Sl              float64\n",
            "dtype: object\n"
          ]
        }
      ],
      "source": [
        "print(X_train.dtypes)"
      ]
    },
    {
      "cell_type": "code",
      "execution_count": 16,
      "metadata": {},
      "outputs": [
        {
          "name": "stdout",
          "output_type": "stream",
          "text": [
            "196    2\n",
            "645    0\n",
            "122    0\n",
            "851    0\n",
            "167    0\n",
            "      ..\n",
            "835    1\n",
            "192    2\n",
            "629    1\n",
            "559    0\n",
            "684    0\n",
            "Name: Engine_Type, Length: 685, dtype: object\n"
          ]
        }
      ],
      "source": [
        "print(y_train)"
      ]
    },
    {
      "cell_type": "code",
      "execution_count": 17,
      "metadata": {},
      "outputs": [
        {
          "name": "stdout",
          "output_type": "stream",
          "text": [
            "     Wing_Span     Length     Height Multi_Engine TP_mods      AUW      MEW  \\\n",
            "144  32.750000  25.083333   6.500000        False   False   2650.0   1575.0   \n",
            "774  43.000000  30.083333  11.250000        False   False   4318.0   2900.0   \n",
            "263  44.083333  36.333333  11.416667         True   False   6850.0   4238.0   \n",
            "788  44.333333  43.750000  16.000000         True   False  19612.0  10500.0   \n",
            "846  49.000000  35.083333  14.416667         True   False   6000.0   4250.0   \n",
            "..         ...        ...        ...          ...     ...      ...      ...   \n",
            "156  32.750000  25.666667   8.250000        False   False   2750.0   1711.0   \n",
            "597  36.416667  26.750000   8.333333        False   False   3374.0   2370.0   \n",
            "624  34.750000  27.416667   8.500000        False   False   3315.0   2000.0   \n",
            "50   36.750000  29.583333  10.333333         True   False   3800.0   2588.0   \n",
            "822  36.000000  22.250000   6.500000        False   False   1500.0    990.0   \n",
            "\n",
            "         FW   Vmax  Vcruise  Vstall   Range     Hmax  Hmax_(One)     ROC  \\\n",
            "144   261.3  160.0    148.0    49.0   470.0  17100.0     17100.0   890.0   \n",
            "774  1011.7  265.0    262.0    60.0  1000.0  27000.0     27000.0  3000.0   \n",
            "263  1427.1  230.0    213.0    68.0   875.0  26900.0     14800.0  1450.0   \n",
            "788  7122.0  490.0    430.0    83.0  1640.0  45000.0     20500.0  4700.0   \n",
            "846  1045.2  193.0    184.0    58.0   826.0  22000.0      9750.0  1510.0   \n",
            "..      ...    ...      ...     ...     ...      ...         ...     ...   \n",
            "156   348.4  140.0    131.0    55.0   591.0  14342.0     14342.0   891.0   \n",
            "597   670.0  242.0    237.0    59.0  1852.0  25000.0     25000.0  1380.0   \n",
            "624   268.0  177.0    166.0    48.0   335.0  21500.0     21500.0  1375.0   \n",
            "50    536.0  168.0    160.0    63.0   680.0  17400.0      4250.0  1160.0   \n",
            "822   160.8  109.0    103.0    37.0   296.0  18000.0     18000.0   875.0   \n",
            "\n",
            "     ROC_(One)          Vlo          Slo           Vl           Sl  \n",
            "144      890.0  1515.000000  1275.000000   950.000000   625.000000  \n",
            "774     3000.0  1200.000000   800.000000  1000.000000   800.000000  \n",
            "263      301.0  2195.000000  1763.000000  2485.000000  1055.000000  \n",
            "788     1200.0  4900.000000  2974.251395  2350.000000  2306.123234  \n",
            "846      380.0  1250.000000  1050.000000  1370.000000   960.000000  \n",
            "..         ...          ...          ...          ...          ...  \n",
            "156      891.0  1804.000000  1169.000000  1519.000000   803.000000  \n",
            "597     1380.0  1961.261049  1378.000000  1847.483968  2198.000000  \n",
            "624     1375.0   980.000000   737.000000   980.000000   763.000000  \n",
            "50       200.0  1805.000000  1000.000000  1330.000000   710.000000  \n",
            "822      875.0   350.000000   275.000000   350.000000   753.944239  \n",
            "\n",
            "[172 rows x 20 columns]\n"
          ]
        }
      ],
      "source": [
        "print(X_test)"
      ]
    },
    {
      "cell_type": "code",
      "execution_count": 18,
      "metadata": {},
      "outputs": [
        {
          "name": "stdout",
          "output_type": "stream",
          "text": [
            "144    0\n",
            "774    1\n",
            "263    0\n",
            "788    2\n",
            "846    0\n",
            "      ..\n",
            "156    0\n",
            "597    0\n",
            "624    0\n",
            "50     0\n",
            "822    0\n",
            "Name: Engine_Type, Length: 172, dtype: object\n"
          ]
        }
      ],
      "source": [
        "print(y_test)"
      ]
    },
    {
      "cell_type": "code",
      "execution_count": 19,
      "metadata": {},
      "outputs": [
        {
          "data": {
            "text/html": [
              "<div>\n",
              "<style scoped>\n",
              "    .dataframe tbody tr th:only-of-type {\n",
              "        vertical-align: middle;\n",
              "    }\n",
              "\n",
              "    .dataframe tbody tr th {\n",
              "        vertical-align: top;\n",
              "    }\n",
              "\n",
              "    .dataframe thead th {\n",
              "        text-align: right;\n",
              "    }\n",
              "</style>\n",
              "<table border=\"1\" class=\"dataframe\">\n",
              "  <thead>\n",
              "    <tr style=\"text-align: right;\">\n",
              "      <th></th>\n",
              "      <th>Wing_Span</th>\n",
              "      <th>Length</th>\n",
              "      <th>Height</th>\n",
              "      <th>Multi_Engine</th>\n",
              "      <th>TP_mods</th>\n",
              "      <th>Engine_Type</th>\n",
              "      <th>AUW</th>\n",
              "      <th>MEW</th>\n",
              "      <th>FW</th>\n",
              "      <th>Vmax</th>\n",
              "      <th>...</th>\n",
              "      <th>Vstall</th>\n",
              "      <th>Range</th>\n",
              "      <th>Hmax</th>\n",
              "      <th>Hmax_(One)</th>\n",
              "      <th>ROC</th>\n",
              "      <th>ROC_(One)</th>\n",
              "      <th>Vlo</th>\n",
              "      <th>Slo</th>\n",
              "      <th>Vl</th>\n",
              "      <th>Sl</th>\n",
              "    </tr>\n",
              "  </thead>\n",
              "  <tbody>\n",
              "    <tr>\n",
              "      <th>0</th>\n",
              "      <td>37.416667</td>\n",
              "      <td>25.250000</td>\n",
              "      <td>10.250000</td>\n",
              "      <td>False</td>\n",
              "      <td>False</td>\n",
              "      <td>0</td>\n",
              "      <td>2050.0</td>\n",
              "      <td>1180.0</td>\n",
              "      <td>241.2</td>\n",
              "      <td>104.0</td>\n",
              "      <td>...</td>\n",
              "      <td>46.0</td>\n",
              "      <td>370.0</td>\n",
              "      <td>13000.0</td>\n",
              "      <td>13000.0</td>\n",
              "      <td>450.0</td>\n",
              "      <td>450.0</td>\n",
              "      <td>900.0</td>\n",
              "      <td>391.970247</td>\n",
              "      <td>1300.0</td>\n",
              "      <td>257.745075</td>\n",
              "    </tr>\n",
              "    <tr>\n",
              "      <th>1</th>\n",
              "      <td>36.083333</td>\n",
              "      <td>20.583333</td>\n",
              "      <td>8.750000</td>\n",
              "      <td>False</td>\n",
              "      <td>False</td>\n",
              "      <td>0</td>\n",
              "      <td>1350.0</td>\n",
              "      <td>820.0</td>\n",
              "      <td>100.5</td>\n",
              "      <td>89.0</td>\n",
              "      <td>...</td>\n",
              "      <td>44.0</td>\n",
              "      <td>190.0</td>\n",
              "      <td>12300.0</td>\n",
              "      <td>12300.0</td>\n",
              "      <td>600.0</td>\n",
              "      <td>600.0</td>\n",
              "      <td>720.0</td>\n",
              "      <td>26.247647</td>\n",
              "      <td>800.0</td>\n",
              "      <td>225.324824</td>\n",
              "    </tr>\n",
              "    <tr>\n",
              "      <th>2</th>\n",
              "      <td>35.000000</td>\n",
              "      <td>21.416667</td>\n",
              "      <td>8.583333</td>\n",
              "      <td>False</td>\n",
              "      <td>False</td>\n",
              "      <td>0</td>\n",
              "      <td>1300.0</td>\n",
              "      <td>810.0</td>\n",
              "      <td>127.3</td>\n",
              "      <td>90.0</td>\n",
              "      <td>...</td>\n",
              "      <td>37.0</td>\n",
              "      <td>210.0</td>\n",
              "      <td>16000.0</td>\n",
              "      <td>16000.0</td>\n",
              "      <td>650.0</td>\n",
              "      <td>650.0</td>\n",
              "      <td>475.0</td>\n",
              "      <td>363.139711</td>\n",
              "      <td>850.0</td>\n",
              "      <td>585.751317</td>\n",
              "    </tr>\n",
              "    <tr>\n",
              "      <th>3</th>\n",
              "      <td>35.000000</td>\n",
              "      <td>21.416667</td>\n",
              "      <td>8.583333</td>\n",
              "      <td>False</td>\n",
              "      <td>False</td>\n",
              "      <td>0</td>\n",
              "      <td>1300.0</td>\n",
              "      <td>800.0</td>\n",
              "      <td>127.3</td>\n",
              "      <td>88.0</td>\n",
              "      <td>...</td>\n",
              "      <td>37.0</td>\n",
              "      <td>210.0</td>\n",
              "      <td>13000.0</td>\n",
              "      <td>13000.0</td>\n",
              "      <td>620.0</td>\n",
              "      <td>620.0</td>\n",
              "      <td>500.0</td>\n",
              "      <td>407.797297</td>\n",
              "      <td>850.0</td>\n",
              "      <td>642.046166</td>\n",
              "    </tr>\n",
              "    <tr>\n",
              "      <th>4</th>\n",
              "      <td>35.000000</td>\n",
              "      <td>21.416667</td>\n",
              "      <td>8.750000</td>\n",
              "      <td>False</td>\n",
              "      <td>False</td>\n",
              "      <td>0</td>\n",
              "      <td>1220.0</td>\n",
              "      <td>740.0</td>\n",
              "      <td>93.8</td>\n",
              "      <td>83.0</td>\n",
              "      <td>...</td>\n",
              "      <td>33.0</td>\n",
              "      <td>175.0</td>\n",
              "      <td>12500.0</td>\n",
              "      <td>12500.0</td>\n",
              "      <td>370.0</td>\n",
              "      <td>370.0</td>\n",
              "      <td>632.0</td>\n",
              "      <td>297.056192</td>\n",
              "      <td>885.0</td>\n",
              "      <td>329.571813</td>\n",
              "    </tr>\n",
              "  </tbody>\n",
              "</table>\n",
              "<p>5 rows × 21 columns</p>\n",
              "</div>"
            ],
            "text/plain": [
              "   Wing_Span     Length     Height Multi_Engine TP_mods Engine_Type     AUW  \\\n",
              "0  37.416667  25.250000  10.250000        False   False           0  2050.0   \n",
              "1  36.083333  20.583333   8.750000        False   False           0  1350.0   \n",
              "2  35.000000  21.416667   8.583333        False   False           0  1300.0   \n",
              "3  35.000000  21.416667   8.583333        False   False           0  1300.0   \n",
              "4  35.000000  21.416667   8.750000        False   False           0  1220.0   \n",
              "\n",
              "      MEW     FW   Vmax  ...  Vstall  Range     Hmax  Hmax_(One)    ROC  \\\n",
              "0  1180.0  241.2  104.0  ...    46.0  370.0  13000.0     13000.0  450.0   \n",
              "1   820.0  100.5   89.0  ...    44.0  190.0  12300.0     12300.0  600.0   \n",
              "2   810.0  127.3   90.0  ...    37.0  210.0  16000.0     16000.0  650.0   \n",
              "3   800.0  127.3   88.0  ...    37.0  210.0  13000.0     13000.0  620.0   \n",
              "4   740.0   93.8   83.0  ...    33.0  175.0  12500.0     12500.0  370.0   \n",
              "\n",
              "   ROC_(One)    Vlo         Slo      Vl          Sl  \n",
              "0      450.0  900.0  391.970247  1300.0  257.745075  \n",
              "1      600.0  720.0   26.247647   800.0  225.324824  \n",
              "2      650.0  475.0  363.139711   850.0  585.751317  \n",
              "3      620.0  500.0  407.797297   850.0  642.046166  \n",
              "4      370.0  632.0  297.056192   885.0  329.571813  \n",
              "\n",
              "[5 rows x 21 columns]"
            ]
          },
          "execution_count": 19,
          "metadata": {},
          "output_type": "execute_result"
        }
      ],
      "source": [
        "df.head()"
      ]
    },
    {
      "cell_type": "markdown",
      "metadata": {
        "id": "4zBysp0tyqR2"
      },
      "source": [
        "## Handle Target Imbalance"
      ]
    },
    {
      "cell_type": "markdown",
      "metadata": {},
      "source": [
        "We already see upfront on the Kaggle site for this data that the 'Multi Engine' categorical data is in need of rebalancing\n",
        "\n",
        "\n",
        "<img src=\"/workspace/data-driven-design/images_notebook/cat_data_distr_kaggle.png\" alt=\"Information on three categorical features showing the degree of target imbalance\" height=\"200\" />\n"
      ]
    },
    {
      "cell_type": "code",
      "execution_count": 20,
      "metadata": {},
      "outputs": [
        {
          "data": {
            "text/html": [
              "<div>\n",
              "<style scoped>\n",
              "    .dataframe tbody tr th:only-of-type {\n",
              "        vertical-align: middle;\n",
              "    }\n",
              "\n",
              "    .dataframe tbody tr th {\n",
              "        vertical-align: top;\n",
              "    }\n",
              "\n",
              "    .dataframe thead th {\n",
              "        text-align: right;\n",
              "    }\n",
              "</style>\n",
              "<table border=\"1\" class=\"dataframe\">\n",
              "  <thead>\n",
              "    <tr style=\"text-align: right;\">\n",
              "      <th></th>\n",
              "      <th>Wing_Span</th>\n",
              "      <th>Length</th>\n",
              "      <th>Height</th>\n",
              "      <th>Multi_Engine</th>\n",
              "      <th>TP_mods</th>\n",
              "      <th>AUW</th>\n",
              "      <th>MEW</th>\n",
              "      <th>FW</th>\n",
              "      <th>Vmax</th>\n",
              "      <th>Vcruise</th>\n",
              "      <th>Vstall</th>\n",
              "      <th>Range</th>\n",
              "      <th>Hmax</th>\n",
              "      <th>Hmax_(One)</th>\n",
              "      <th>ROC</th>\n",
              "      <th>ROC_(One)</th>\n",
              "      <th>Vlo</th>\n",
              "      <th>Slo</th>\n",
              "      <th>Vl</th>\n",
              "      <th>Sl</th>\n",
              "    </tr>\n",
              "  </thead>\n",
              "  <tbody>\n",
              "    <tr>\n",
              "      <th>196</th>\n",
              "      <td>64.333333</td>\n",
              "      <td>68.416667</td>\n",
              "      <td>20.666667</td>\n",
              "      <td>True</td>\n",
              "      <td>False</td>\n",
              "      <td>48300.0</td>\n",
              "      <td>26985.0</td>\n",
              "      <td>20000.0</td>\n",
              "      <td>546.94</td>\n",
              "      <td>533.6</td>\n",
              "      <td>99.659388</td>\n",
              "      <td>4045.0</td>\n",
              "      <td>41000.0</td>\n",
              "      <td>20000.0</td>\n",
              "      <td>2512.569226</td>\n",
              "      <td>680.0</td>\n",
              "      <td>6969.145819</td>\n",
              "      <td>5684.0</td>\n",
              "      <td>3693.285251</td>\n",
              "      <td>2777.0</td>\n",
              "    </tr>\n",
              "    <tr>\n",
              "      <th>645</th>\n",
              "      <td>37.166667</td>\n",
              "      <td>31.166667</td>\n",
              "      <td>10.250000</td>\n",
              "      <td>True</td>\n",
              "      <td>False</td>\n",
              "      <td>5200.0</td>\n",
              "      <td>3229.0</td>\n",
              "      <td>964.8</td>\n",
              "      <td>220.00</td>\n",
              "      <td>197.0</td>\n",
              "      <td>59.000000</td>\n",
              "      <td>620.0</td>\n",
              "      <td>30000.0</td>\n",
              "      <td>18700.0</td>\n",
              "      <td>1530.000000</td>\n",
              "      <td>265.0</td>\n",
              "      <td>1250.000000</td>\n",
              "      <td>820.0</td>\n",
              "      <td>1250.000000</td>\n",
              "      <td>850.0</td>\n",
              "    </tr>\n",
              "    <tr>\n",
              "      <th>122</th>\n",
              "      <td>37.666667</td>\n",
              "      <td>25.583333</td>\n",
              "      <td>9.500000</td>\n",
              "      <td>True</td>\n",
              "      <td>False</td>\n",
              "      <td>4880.0</td>\n",
              "      <td>2960.0</td>\n",
              "      <td>750.4</td>\n",
              "      <td>200.00</td>\n",
              "      <td>191.0</td>\n",
              "      <td>66.000000</td>\n",
              "      <td>745.0</td>\n",
              "      <td>19200.0</td>\n",
              "      <td>7600.0</td>\n",
              "      <td>1630.000000</td>\n",
              "      <td>350.0</td>\n",
              "      <td>1700.000000</td>\n",
              "      <td>1255.0</td>\n",
              "      <td>1470.000000</td>\n",
              "      <td>1250.0</td>\n",
              "    </tr>\n",
              "  </tbody>\n",
              "</table>\n",
              "</div>"
            ],
            "text/plain": [
              "     Wing_Span     Length     Height Multi_Engine TP_mods      AUW      MEW  \\\n",
              "196  64.333333  68.416667  20.666667         True   False  48300.0  26985.0   \n",
              "645  37.166667  31.166667  10.250000         True   False   5200.0   3229.0   \n",
              "122  37.666667  25.583333   9.500000         True   False   4880.0   2960.0   \n",
              "\n",
              "          FW    Vmax  Vcruise     Vstall   Range     Hmax  Hmax_(One)  \\\n",
              "196  20000.0  546.94    533.6  99.659388  4045.0  41000.0     20000.0   \n",
              "645    964.8  220.00    197.0  59.000000   620.0  30000.0     18700.0   \n",
              "122    750.4  200.00    191.0  66.000000   745.0  19200.0      7600.0   \n",
              "\n",
              "             ROC  ROC_(One)          Vlo     Slo           Vl      Sl  \n",
              "196  2512.569226      680.0  6969.145819  5684.0  3693.285251  2777.0  \n",
              "645  1530.000000      265.0  1250.000000   820.0  1250.000000   850.0  \n",
              "122  1630.000000      350.0  1700.000000  1255.0  1470.000000  1250.0  "
            ]
          },
          "execution_count": 20,
          "metadata": {},
          "output_type": "execute_result"
        }
      ],
      "source": [
        "X_train.head(3)"
      ]
    },
    {
      "cell_type": "code",
      "execution_count": 21,
      "metadata": {},
      "outputs": [
        {
          "name": "stdout",
          "output_type": "stream",
          "text": [
            "<class 'pandas.core.frame.DataFrame'> <class 'pandas.core.frame.DataFrame'>\n"
          ]
        }
      ],
      "source": [
        "print(type(X_train), type(X_test))"
      ]
    },
    {
      "cell_type": "code",
      "execution_count": 22,
      "metadata": {},
      "outputs": [
        {
          "name": "stdout",
          "output_type": "stream",
          "text": [
            "Wing_Span       0\n",
            "Length          0\n",
            "Height          0\n",
            "Multi_Engine    0\n",
            "TP_mods         0\n",
            "AUW             0\n",
            "MEW             0\n",
            "FW              0\n",
            "Vmax            0\n",
            "Vcruise         0\n",
            "Vstall          0\n",
            "Range           0\n",
            "Hmax            0\n",
            "Hmax_(One)      0\n",
            "ROC             0\n",
            "ROC_(One)       0\n",
            "Vlo             0\n",
            "Slo             0\n",
            "Vl              0\n",
            "Sl              0\n",
            "dtype: int64\n"
          ]
        }
      ],
      "source": [
        "print(X_train.isnull().sum())"
      ]
    },
    {
      "cell_type": "code",
      "execution_count": 23,
      "metadata": {},
      "outputs": [
        {
          "name": "stdout",
          "output_type": "stream",
          "text": [
            "<class 'pandas.core.frame.DataFrame'>\n",
            "<class 'pandas.core.frame.DataFrame'>\n"
          ]
        }
      ],
      "source": [
        "print(type(X_train))\n",
        "print(type(X_test))"
      ]
    },
    {
      "cell_type": "markdown",
      "metadata": {},
      "source": [
        "The call, in below cell, to the \"PipelineDataCleaningAndFeatureEngineering()\" function upstream in this notebook gives an error (NameError: name 'X' is not defined) **if** the SmartCorrelatedSelection in that function is included. Please see comment above that code cell for more explanation."
      ]
    },
    {
      "cell_type": "code",
      "execution_count": 24,
      "metadata": {
        "id": "MsQRvnn1GI_d"
      },
      "outputs": [
        {
          "name": "stdout",
          "output_type": "stream",
          "text": [
            "(685, 20) (685,) (172, 20) (172,)\n"
          ]
        }
      ],
      "source": [
        "pipeline_data_cleaning_feat_eng = PipelineDataCleaningAndFeatureEngineering()\n",
        "X_train = pipeline_data_cleaning_feat_eng.fit_transform(X_train, y_train)\n",
        "X_test = pipeline_data_cleaning_feat_eng.transform(X_test)\n",
        "print(X_train.shape, y_train.shape, X_test.shape, y_test.shape)"
      ]
    },
    {
      "cell_type": "markdown",
      "metadata": {
        "id": "wuq3902arZAz"
      },
      "source": [
        "Check Train Set Target distribution"
      ]
    },
    {
      "cell_type": "code",
      "execution_count": 25,
      "metadata": {
        "id": "I28ACrp-rPgF"
      },
      "outputs": [
        {
          "data": {
            "image/png": "[encoded data removed]",
            "text/plain": [
              "<Figure size 640x480 with 1 Axes>"
            ]
          },
          "metadata": {},
          "output_type": "display_data"
        }
      ],
      "source": [
        "sns.set_style(\"whitegrid\")\n",
        "y_train.value_counts().plot(kind='bar', title='Train Set Target Distribution')\n",
        "plt.show()"
      ]
    },
    {
      "cell_type": "markdown",
      "metadata": {
        "id": "-OgoR6lTrKqY"
      },
      "source": [
        "Use SMOTE (Synthetic Minority Oversampling TEchnique) to balance Train Set target"
      ]
    },
    {
      "cell_type": "markdown",
      "metadata": {},
      "source": [
        "Following five codecells takes care of error message with smote. The t_train (target) is an object but with Yes and No however making it to a int64 with 1 and 0 solves it!"
      ]
    },
    {
      "cell_type": "code",
      "execution_count": 26,
      "metadata": {},
      "outputs": [
        {
          "name": "stdout",
          "output_type": "stream",
          "text": [
            "196    2\n",
            "645    0\n",
            "122    0\n",
            "851    0\n",
            "167    0\n",
            "      ..\n",
            "835    1\n",
            "192    2\n",
            "629    1\n",
            "559    0\n",
            "684    0\n",
            "Name: Engine_Type, Length: 685, dtype: object\n"
          ]
        }
      ],
      "source": [
        "print(y_train)"
      ]
    },
    {
      "cell_type": "code",
      "execution_count": 27,
      "metadata": {},
      "outputs": [
        {
          "name": "stdout",
          "output_type": "stream",
          "text": [
            "Unique labels in y_train: [0 1 2]\n",
            "Data type of y_train: object\n"
          ]
        }
      ],
      "source": [
        "print(\"Unique labels in y_train:\", np.unique(y_train))\n",
        "print(\"Data type of y_train:\", y_train.dtype)"
      ]
    },
    {
      "cell_type": "code",
      "execution_count": 28,
      "metadata": {},
      "outputs": [],
      "source": [
        "y_train = y_train.astype(int)"
      ]
    },
    {
      "cell_type": "code",
      "execution_count": 29,
      "metadata": {},
      "outputs": [
        {
          "name": "stdout",
          "output_type": "stream",
          "text": [
            "Unique labels in y_train after conversion: [0 1 2]\n",
            "Data type of y_train after conversion: int64\n"
          ]
        }
      ],
      "source": [
        "print(\"Unique labels in y_train after conversion:\", np.unique(y_train))\n",
        "print(\"Data type of y_train after conversion:\", y_train.dtype)"
      ]
    },
    {
      "cell_type": "code",
      "execution_count": 30,
      "metadata": {},
      "outputs": [
        {
          "name": "stdout",
          "output_type": "stream",
          "text": [
            "196    2\n",
            "645    0\n",
            "122    0\n",
            "851    0\n",
            "167    0\n",
            "      ..\n",
            "835    1\n",
            "192    2\n",
            "629    1\n",
            "559    0\n",
            "684    0\n",
            "Name: Engine_Type, Length: 685, dtype: int64\n"
          ]
        }
      ],
      "source": [
        "print(y_train)"
      ]
    },
    {
      "cell_type": "code",
      "execution_count": 31,
      "metadata": {
        "id": "tP1JIwXNEsXO"
      },
      "outputs": [
        {
          "name": "stdout",
          "output_type": "stream",
          "text": [
            "(1098, 20) (1098,) (172, 20) (172,)\n"
          ]
        }
      ],
      "source": [
        "oversample = SMOTE(sampling_strategy='minority', random_state=0)\n",
        "X_train, y_train = oversample.fit_resample(X_train, y_train)\n",
        "print(X_train.shape, y_train.shape, X_test.shape, y_test.shape)"
      ]
    },
    {
      "cell_type": "markdown",
      "metadata": {
        "id": "vTJO6V5zrdnw"
      },
      "source": [
        "Check Train Set Target distribution after resampling"
      ]
    },
    {
      "cell_type": "code",
      "execution_count": 32,
      "metadata": {
        "id": "iQdvEvNRG80Y"
      },
      "outputs": [
        {
          "data": {
            "image/png": "[encoded data removed]",
            "text/plain": [
              "<Figure size 640x480 with 1 Axes>"
            ]
          },
          "metadata": {},
          "output_type": "display_data"
        }
      ],
      "source": [
        "y_train.value_counts().plot(kind='bar', title='Train Set Target Distribution')\n",
        "plt.show()"
      ]
    },
    {
      "cell_type": "markdown",
      "metadata": {
        "id": "j2xTTXMayvo6"
      },
      "source": [
        "## Grid Search CV - Sklearn"
      ]
    },
    {
      "cell_type": "markdown",
      "metadata": {
        "id": "fizLJ_YQ6elb"
      },
      "source": [
        "### Use standard hyperparameters to find most suitable algorithm "
      ]
    },
    {
      "cell_type": "code",
      "execution_count": 33,
      "metadata": {
        "id": "kMgswohfKBda"
      },
      "outputs": [],
      "source": [
        "models_quick_search = {\n",
        "    \"LogisticRegression\": LogisticRegression(random_state=0),\n",
        "    \"XGBClassifier\": XGBClassifier(random_state=0),\n",
        "    \"DecisionTreeClassifier\": DecisionTreeClassifier(random_state=0),\n",
        "    \"RandomForestClassifier\": RandomForestClassifier(random_state=0),\n",
        "    \"GradientBoostingClassifier\": GradientBoostingClassifier(random_state=0),\n",
        "    \"ExtraTreesClassifier\": ExtraTreesClassifier(random_state=0),\n",
        "    \"AdaBoostClassifier\": AdaBoostClassifier(random_state=0),\n",
        "}\n",
        "\n",
        "params_quick_search = {\n",
        "    \"LogisticRegression\": {},\n",
        "    \"XGBClassifier\": {},\n",
        "    \"DecisionTreeClassifier\": {},\n",
        "    \"RandomForestClassifier\": {},\n",
        "    \"GradientBoostingClassifier\": {},\n",
        "    \"ExtraTreesClassifier\": {},\n",
        "    \"AdaBoostClassifier\": {},\n",
        "}"
      ]
    },
    {
      "cell_type": "markdown",
      "metadata": {
        "id": "GXu0Ryeown7N"
      },
      "source": [
        "Quick GridSearch CV - Binary Classifier"
      ]
    },
    {
      "cell_type": "markdown",
      "metadata": {},
      "source": [
        "Below cell have long (10 min in my case) execution time (since it is testing a large number of hyperparameters across multiple models and using a computational expensive grid search) however it is not infinite! Alternatively if you want to reduce computational time for the HyperparameterOptimizationSearch function you can:\n",
        "* Reduce the number of hyperparameters or switch to RandomizedSearchCV.\n",
        "* Random Forest: Try fewer trees (n_estimators=10 instead of 100), and smaller tree depth (max_depth=5 instead of None)."
      ]
    },
    {
      "cell_type": "code",
      "execution_count": 34,
      "metadata": {
        "id": "O7eLJcKEKBlQ"
      },
      "outputs": [
        {
          "name": "stdout",
          "output_type": "stream",
          "text": [
            "\n",
            "Running GridSearchCV for LogisticRegression \n",
            "\n",
            "Fitting 5 folds for each of 1 candidates, totalling 5 fits\n"
          ]
        },
        {
          "name": "stderr",
          "output_type": "stream",
          "text": [
            "/workspace/.pip-modules/lib/python3.8/site-packages/sklearn/model_selection/_validation.py:696: UserWarning: Scoring failed. The score on this train-test partition for these parameters will be set to nan. Details: \n",
            "Traceback (most recent call last):\n",
            "  File \"/workspace/.pip-modules/lib/python3.8/site-packages/sklearn/model_selection/_validation.py\", line 687, in _score\n",
            "    scores = scorer(estimator, X_test, y_test)\n",
            "  File \"/workspace/.pip-modules/lib/python3.8/site-packages/sklearn/metrics/_scorer.py\", line 199, in __call__\n",
            "    return self._score(partial(_cached_call, None), estimator, X, y_true,\n",
            "  File \"/workspace/.pip-modules/lib/python3.8/site-packages/sklearn/metrics/_scorer.py\", line 242, in _score\n",
            "    return self._sign * self._score_func(y_true, y_pred,\n",
            "  File \"/workspace/.pip-modules/lib/python3.8/site-packages/sklearn/utils/validation.py\", line 63, in inner_f\n",
            "    return f(*args, **kwargs)\n",
            "  File \"/workspace/.pip-modules/lib/python3.8/site-packages/sklearn/metrics/_classification.py\", line 1774, in recall_score\n",
            "    _, r, _, _ = precision_recall_fscore_support(y_true, y_pred,\n",
            "  File \"/workspace/.pip-modules/lib/python3.8/site-packages/sklearn/utils/validation.py\", line 63, in inner_f\n",
            "    return f(*args, **kwargs)\n",
            "  File \"/workspace/.pip-modules/lib/python3.8/site-packages/sklearn/metrics/_classification.py\", line 1464, in precision_recall_fscore_support\n",
            "    labels = _check_set_wise_labels(y_true, y_pred, average, labels,\n",
            "  File \"/workspace/.pip-modules/lib/python3.8/site-packages/sklearn/metrics/_classification.py\", line 1294, in _check_set_wise_labels\n",
            "    raise ValueError(\"Target is %s but average='binary'. Please \"\n",
            "ValueError: Target is multiclass but average='binary'. Please choose another average setting, one of [None, 'micro', 'macro', 'weighted'].\n",
            "\n",
            "  warnings.warn(\n",
            "/workspace/.pip-modules/lib/python3.8/site-packages/sklearn/model_selection/_validation.py:696: UserWarning: Scoring failed. The score on this train-test partition for these parameters will be set to nan. Details: \n",
            "Traceback (most recent call last):\n",
            "  File \"/workspace/.pip-modules/lib/python3.8/site-packages/sklearn/model_selection/_validation.py\", line 687, in _score\n",
            "    scores = scorer(estimator, X_test, y_test)\n",
            "  File \"/workspace/.pip-modules/lib/python3.8/site-packages/sklearn/metrics/_scorer.py\", line 199, in __call__\n",
            "    return self._score(partial(_cached_call, None), estimator, X, y_true,\n",
            "  File \"/workspace/.pip-modules/lib/python3.8/site-packages/sklearn/metrics/_scorer.py\", line 242, in _score\n",
            "    return self._sign * self._score_func(y_true, y_pred,\n",
            "  File \"/workspace/.pip-modules/lib/python3.8/site-packages/sklearn/utils/validation.py\", line 63, in inner_f\n",
            "    return f(*args, **kwargs)\n",
            "  File \"/workspace/.pip-modules/lib/python3.8/site-packages/sklearn/metrics/_classification.py\", line 1774, in recall_score\n",
            "    _, r, _, _ = precision_recall_fscore_support(y_true, y_pred,\n",
            "  File \"/workspace/.pip-modules/lib/python3.8/site-packages/sklearn/utils/validation.py\", line 63, in inner_f\n",
            "    return f(*args, **kwargs)\n",
            "  File \"/workspace/.pip-modules/lib/python3.8/site-packages/sklearn/metrics/_classification.py\", line 1464, in precision_recall_fscore_support\n",
            "    labels = _check_set_wise_labels(y_true, y_pred, average, labels,\n",
            "  File \"/workspace/.pip-modules/lib/python3.8/site-packages/sklearn/metrics/_classification.py\", line 1294, in _check_set_wise_labels\n",
            "    raise ValueError(\"Target is %s but average='binary'. Please \"\n",
            "ValueError: Target is multiclass but average='binary'. Please choose another average setting, one of [None, 'micro', 'macro', 'weighted'].\n",
            "\n",
            "  warnings.warn(\n",
            "/workspace/.pip-modules/lib/python3.8/site-packages/sklearn/model_selection/_validation.py:696: UserWarning: Scoring failed. The score on this train-test partition for these parameters will be set to nan. Details: \n",
            "Traceback (most recent call last):\n",
            "  File \"/workspace/.pip-modules/lib/python3.8/site-packages/sklearn/model_selection/_validation.py\", line 687, in _score\n",
            "    scores = scorer(estimator, X_test, y_test)\n",
            "  File \"/workspace/.pip-modules/lib/python3.8/site-packages/sklearn/metrics/_scorer.py\", line 199, in __call__\n",
            "    return self._score(partial(_cached_call, None), estimator, X, y_true,\n",
            "  File \"/workspace/.pip-modules/lib/python3.8/site-packages/sklearn/metrics/_scorer.py\", line 242, in _score\n",
            "    return self._sign * self._score_func(y_true, y_pred,\n",
            "  File \"/workspace/.pip-modules/lib/python3.8/site-packages/sklearn/utils/validation.py\", line 63, in inner_f\n",
            "    return f(*args, **kwargs)\n",
            "  File \"/workspace/.pip-modules/lib/python3.8/site-packages/sklearn/metrics/_classification.py\", line 1774, in recall_score\n",
            "    _, r, _, _ = precision_recall_fscore_support(y_true, y_pred,\n",
            "  File \"/workspace/.pip-modules/lib/python3.8/site-packages/sklearn/utils/validation.py\", line 63, in inner_f\n",
            "    return f(*args, **kwargs)\n",
            "  File \"/workspace/.pip-modules/lib/python3.8/site-packages/sklearn/metrics/_classification.py\", line 1464, in precision_recall_fscore_support\n",
            "    labels = _check_set_wise_labels(y_true, y_pred, average, labels,\n",
            "  File \"/workspace/.pip-modules/lib/python3.8/site-packages/sklearn/metrics/_classification.py\", line 1294, in _check_set_wise_labels\n",
            "    raise ValueError(\"Target is %s but average='binary'. Please \"\n",
            "ValueError: Target is multiclass but average='binary'. Please choose another average setting, one of [None, 'micro', 'macro', 'weighted'].\n",
            "\n",
            "  warnings.warn(\n",
            "/workspace/.pip-modules/lib/python3.8/site-packages/sklearn/model_selection/_validation.py:696: UserWarning: Scoring failed. The score on this train-test partition for these parameters will be set to nan. Details: \n",
            "Traceback (most recent call last):\n",
            "  File \"/workspace/.pip-modules/lib/python3.8/site-packages/sklearn/model_selection/_validation.py\", line 687, in _score\n",
            "    scores = scorer(estimator, X_test, y_test)\n",
            "  File \"/workspace/.pip-modules/lib/python3.8/site-packages/sklearn/metrics/_scorer.py\", line 199, in __call__\n",
            "    return self._score(partial(_cached_call, None), estimator, X, y_true,\n",
            "  File \"/workspace/.pip-modules/lib/python3.8/site-packages/sklearn/metrics/_scorer.py\", line 242, in _score\n",
            "    return self._sign * self._score_func(y_true, y_pred,\n",
            "  File \"/workspace/.pip-modules/lib/python3.8/site-packages/sklearn/utils/validation.py\", line 63, in inner_f\n",
            "    return f(*args, **kwargs)\n",
            "  File \"/workspace/.pip-modules/lib/python3.8/site-packages/sklearn/metrics/_classification.py\", line 1774, in recall_score\n",
            "    _, r, _, _ = precision_recall_fscore_support(y_true, y_pred,\n",
            "  File \"/workspace/.pip-modules/lib/python3.8/site-packages/sklearn/utils/validation.py\", line 63, in inner_f\n",
            "    return f(*args, **kwargs)\n",
            "  File \"/workspace/.pip-modules/lib/python3.8/site-packages/sklearn/metrics/_classification.py\", line 1464, in precision_recall_fscore_support\n",
            "    labels = _check_set_wise_labels(y_true, y_pred, average, labels,\n",
            "  File \"/workspace/.pip-modules/lib/python3.8/site-packages/sklearn/metrics/_classification.py\", line 1294, in _check_set_wise_labels\n",
            "    raise ValueError(\"Target is %s but average='binary'. Please \"\n",
            "ValueError: Target is multiclass but average='binary'. Please choose another average setting, one of [None, 'micro', 'macro', 'weighted'].\n",
            "\n",
            "  warnings.warn(\n",
            "/workspace/.pip-modules/lib/python3.8/site-packages/sklearn/model_selection/_validation.py:696: UserWarning: Scoring failed. The score on this train-test partition for these parameters will be set to nan. Details: \n",
            "Traceback (most recent call last):\n",
            "  File \"/workspace/.pip-modules/lib/python3.8/site-packages/sklearn/model_selection/_validation.py\", line 687, in _score\n",
            "    scores = scorer(estimator, X_test, y_test)\n",
            "  File \"/workspace/.pip-modules/lib/python3.8/site-packages/sklearn/metrics/_scorer.py\", line 199, in __call__\n",
            "    return self._score(partial(_cached_call, None), estimator, X, y_true,\n",
            "  File \"/workspace/.pip-modules/lib/python3.8/site-packages/sklearn/metrics/_scorer.py\", line 242, in _score\n",
            "    return self._sign * self._score_func(y_true, y_pred,\n",
            "  File \"/workspace/.pip-modules/lib/python3.8/site-packages/sklearn/utils/validation.py\", line 63, in inner_f\n",
            "    return f(*args, **kwargs)\n",
            "  File \"/workspace/.pip-modules/lib/python3.8/site-packages/sklearn/metrics/_classification.py\", line 1774, in recall_score\n",
            "    _, r, _, _ = precision_recall_fscore_support(y_true, y_pred,\n",
            "  File \"/workspace/.pip-modules/lib/python3.8/site-packages/sklearn/utils/validation.py\", line 63, in inner_f\n",
            "    return f(*args, **kwargs)\n",
            "  File \"/workspace/.pip-modules/lib/python3.8/site-packages/sklearn/metrics/_classification.py\", line 1464, in precision_recall_fscore_support\n",
            "    labels = _check_set_wise_labels(y_true, y_pred, average, labels,\n",
            "  File \"/workspace/.pip-modules/lib/python3.8/site-packages/sklearn/metrics/_classification.py\", line 1294, in _check_set_wise_labels\n",
            "    raise ValueError(\"Target is %s but average='binary'. Please \"\n",
            "ValueError: Target is multiclass but average='binary'. Please choose another average setting, one of [None, 'micro', 'macro', 'weighted'].\n",
            "\n",
            "  warnings.warn(\n",
            "/workspace/.pip-modules/lib/python3.8/site-packages/sklearn/model_selection/_search.py:922: UserWarning: One or more of the test scores are non-finite: [nan]\n",
            "  warnings.warn(\n"
          ]
        },
        {
          "name": "stdout",
          "output_type": "stream",
          "text": [
            "\n",
            "Running GridSearchCV for XGBClassifier \n",
            "\n",
            "Fitting 5 folds for each of 1 candidates, totalling 5 fits\n"
          ]
        },
        {
          "name": "stderr",
          "output_type": "stream",
          "text": [
            "/workspace/.pip-modules/lib/python3.8/site-packages/xgboost/compat.py:93: FutureWarning: pandas.Int64Index is deprecated and will be removed from pandas in a future version. Use pandas.Index with the appropriate dtype instead.\n",
            "  from pandas import MultiIndex, Int64Index\n",
            "/workspace/.pip-modules/lib/python3.8/site-packages/xgboost/compat.py:93: FutureWarning: pandas.Int64Index is deprecated and will be removed from pandas in a future version. Use pandas.Index with the appropriate dtype instead.\n",
            "  from pandas import MultiIndex, Int64Index\n",
            "/workspace/.pip-modules/lib/python3.8/site-packages/xgboost/compat.py:93: FutureWarning: pandas.Int64Index is deprecated and will be removed from pandas in a future version. Use pandas.Index with the appropriate dtype instead.\n",
            "  from pandas import MultiIndex, Int64Index\n",
            "/workspace/.pip-modules/lib/python3.8/site-packages/xgboost/compat.py:93: FutureWarning: pandas.Int64Index is deprecated and will be removed from pandas in a future version. Use pandas.Index with the appropriate dtype instead.\n",
            "  from pandas import MultiIndex, Int64Index\n",
            "/workspace/.pip-modules/lib/python3.8/site-packages/xgboost/compat.py:93: FutureWarning: pandas.Int64Index is deprecated and will be removed from pandas in a future version. Use pandas.Index with the appropriate dtype instead.\n",
            "  from pandas import MultiIndex, Int64Index\n",
            "/workspace/.pip-modules/lib/python3.8/site-packages/sklearn/model_selection/_validation.py:696: UserWarning: Scoring failed. The score on this train-test partition for these parameters will be set to nan. Details: \n",
            "Traceback (most recent call last):\n",
            "  File \"/workspace/.pip-modules/lib/python3.8/site-packages/sklearn/model_selection/_validation.py\", line 687, in _score\n",
            "    scores = scorer(estimator, X_test, y_test)\n",
            "  File \"/workspace/.pip-modules/lib/python3.8/site-packages/sklearn/metrics/_scorer.py\", line 199, in __call__\n",
            "    return self._score(partial(_cached_call, None), estimator, X, y_true,\n",
            "  File \"/workspace/.pip-modules/lib/python3.8/site-packages/sklearn/metrics/_scorer.py\", line 242, in _score\n",
            "    return self._sign * self._score_func(y_true, y_pred,\n",
            "  File \"/workspace/.pip-modules/lib/python3.8/site-packages/sklearn/utils/validation.py\", line 63, in inner_f\n",
            "    return f(*args, **kwargs)\n",
            "  File \"/workspace/.pip-modules/lib/python3.8/site-packages/sklearn/metrics/_classification.py\", line 1774, in recall_score\n",
            "    _, r, _, _ = precision_recall_fscore_support(y_true, y_pred,\n",
            "  File \"/workspace/.pip-modules/lib/python3.8/site-packages/sklearn/utils/validation.py\", line 63, in inner_f\n",
            "    return f(*args, **kwargs)\n",
            "  File \"/workspace/.pip-modules/lib/python3.8/site-packages/sklearn/metrics/_classification.py\", line 1464, in precision_recall_fscore_support\n",
            "    labels = _check_set_wise_labels(y_true, y_pred, average, labels,\n",
            "  File \"/workspace/.pip-modules/lib/python3.8/site-packages/sklearn/metrics/_classification.py\", line 1294, in _check_set_wise_labels\n",
            "    raise ValueError(\"Target is %s but average='binary'. Please \"\n",
            "ValueError: Target is multiclass but average='binary'. Please choose another average setting, one of [None, 'micro', 'macro', 'weighted'].\n",
            "\n",
            "  warnings.warn(\n",
            "/workspace/.pip-modules/lib/python3.8/site-packages/sklearn/model_selection/_validation.py:696: UserWarning: Scoring failed. The score on this train-test partition for these parameters will be set to nan. Details: \n",
            "Traceback (most recent call last):\n",
            "  File \"/workspace/.pip-modules/lib/python3.8/site-packages/sklearn/model_selection/_validation.py\", line 687, in _score\n",
            "    scores = scorer(estimator, X_test, y_test)\n",
            "  File \"/workspace/.pip-modules/lib/python3.8/site-packages/sklearn/metrics/_scorer.py\", line 199, in __call__\n",
            "    return self._score(partial(_cached_call, None), estimator, X, y_true,\n",
            "  File \"/workspace/.pip-modules/lib/python3.8/site-packages/sklearn/metrics/_scorer.py\", line 242, in _score\n",
            "    return self._sign * self._score_func(y_true, y_pred,\n",
            "  File \"/workspace/.pip-modules/lib/python3.8/site-packages/sklearn/utils/validation.py\", line 63, in inner_f\n",
            "    return f(*args, **kwargs)\n",
            "  File \"/workspace/.pip-modules/lib/python3.8/site-packages/sklearn/metrics/_classification.py\", line 1774, in recall_score\n",
            "    _, r, _, _ = precision_recall_fscore_support(y_true, y_pred,\n",
            "  File \"/workspace/.pip-modules/lib/python3.8/site-packages/sklearn/utils/validation.py\", line 63, in inner_f\n",
            "    return f(*args, **kwargs)\n",
            "  File \"/workspace/.pip-modules/lib/python3.8/site-packages/sklearn/metrics/_classification.py\", line 1464, in precision_recall_fscore_support\n",
            "    labels = _check_set_wise_labels(y_true, y_pred, average, labels,\n",
            "  File \"/workspace/.pip-modules/lib/python3.8/site-packages/sklearn/metrics/_classification.py\", line 1294, in _check_set_wise_labels\n",
            "    raise ValueError(\"Target is %s but average='binary'. Please \"\n",
            "ValueError: Target is multiclass but average='binary'. Please choose another average setting, one of [None, 'micro', 'macro', 'weighted'].\n",
            "\n",
            "  warnings.warn(\n",
            "/workspace/.pip-modules/lib/python3.8/site-packages/sklearn/model_selection/_validation.py:696: UserWarning: Scoring failed. The score on this train-test partition for these parameters will be set to nan. Details: \n",
            "Traceback (most recent call last):\n",
            "  File \"/workspace/.pip-modules/lib/python3.8/site-packages/sklearn/model_selection/_validation.py\", line 687, in _score\n",
            "    scores = scorer(estimator, X_test, y_test)\n",
            "  File \"/workspace/.pip-modules/lib/python3.8/site-packages/sklearn/metrics/_scorer.py\", line 199, in __call__\n",
            "    return self._score(partial(_cached_call, None), estimator, X, y_true,\n",
            "  File \"/workspace/.pip-modules/lib/python3.8/site-packages/sklearn/metrics/_scorer.py\", line 242, in _score\n",
            "    return self._sign * self._score_func(y_true, y_pred,\n",
            "  File \"/workspace/.pip-modules/lib/python3.8/site-packages/sklearn/utils/validation.py\", line 63, in inner_f\n",
            "    return f(*args, **kwargs)\n",
            "  File \"/workspace/.pip-modules/lib/python3.8/site-packages/sklearn/metrics/_classification.py\", line 1774, in recall_score\n",
            "    _, r, _, _ = precision_recall_fscore_support(y_true, y_pred,\n",
            "  File \"/workspace/.pip-modules/lib/python3.8/site-packages/sklearn/utils/validation.py\", line 63, in inner_f\n",
            "    return f(*args, **kwargs)\n",
            "  File \"/workspace/.pip-modules/lib/python3.8/site-packages/sklearn/metrics/_classification.py\", line 1464, in precision_recall_fscore_support\n",
            "    labels = _check_set_wise_labels(y_true, y_pred, average, labels,\n",
            "  File \"/workspace/.pip-modules/lib/python3.8/site-packages/sklearn/metrics/_classification.py\", line 1294, in _check_set_wise_labels\n",
            "    raise ValueError(\"Target is %s but average='binary'. Please \"\n",
            "ValueError: Target is multiclass but average='binary'. Please choose another average setting, one of [None, 'micro', 'macro', 'weighted'].\n",
            "\n",
            "  warnings.warn(\n",
            "/workspace/.pip-modules/lib/python3.8/site-packages/sklearn/model_selection/_validation.py:696: UserWarning: Scoring failed. The score on this train-test partition for these parameters will be set to nan. Details: \n",
            "Traceback (most recent call last):\n",
            "  File \"/workspace/.pip-modules/lib/python3.8/site-packages/sklearn/model_selection/_validation.py\", line 687, in _score\n",
            "    scores = scorer(estimator, X_test, y_test)\n",
            "  File \"/workspace/.pip-modules/lib/python3.8/site-packages/sklearn/metrics/_scorer.py\", line 199, in __call__\n",
            "    return self._score(partial(_cached_call, None), estimator, X, y_true,\n",
            "  File \"/workspace/.pip-modules/lib/python3.8/site-packages/sklearn/metrics/_scorer.py\", line 242, in _score\n",
            "    return self._sign * self._score_func(y_true, y_pred,\n",
            "  File \"/workspace/.pip-modules/lib/python3.8/site-packages/sklearn/utils/validation.py\", line 63, in inner_f\n",
            "    return f(*args, **kwargs)\n",
            "  File \"/workspace/.pip-modules/lib/python3.8/site-packages/sklearn/metrics/_classification.py\", line 1774, in recall_score\n",
            "    _, r, _, _ = precision_recall_fscore_support(y_true, y_pred,\n",
            "  File \"/workspace/.pip-modules/lib/python3.8/site-packages/sklearn/utils/validation.py\", line 63, in inner_f\n",
            "    return f(*args, **kwargs)\n",
            "  File \"/workspace/.pip-modules/lib/python3.8/site-packages/sklearn/metrics/_classification.py\", line 1464, in precision_recall_fscore_support\n",
            "    labels = _check_set_wise_labels(y_true, y_pred, average, labels,\n",
            "  File \"/workspace/.pip-modules/lib/python3.8/site-packages/sklearn/metrics/_classification.py\", line 1294, in _check_set_wise_labels\n",
            "    raise ValueError(\"Target is %s but average='binary'. Please \"\n",
            "ValueError: Target is multiclass but average='binary'. Please choose another average setting, one of [None, 'micro', 'macro', 'weighted'].\n",
            "\n",
            "  warnings.warn(\n",
            "/workspace/.pip-modules/lib/python3.8/site-packages/sklearn/model_selection/_validation.py:696: UserWarning: Scoring failed. The score on this train-test partition for these parameters will be set to nan. Details: \n",
            "Traceback (most recent call last):\n",
            "  File \"/workspace/.pip-modules/lib/python3.8/site-packages/sklearn/model_selection/_validation.py\", line 687, in _score\n",
            "    scores = scorer(estimator, X_test, y_test)\n",
            "  File \"/workspace/.pip-modules/lib/python3.8/site-packages/sklearn/metrics/_scorer.py\", line 199, in __call__\n",
            "    return self._score(partial(_cached_call, None), estimator, X, y_true,\n",
            "  File \"/workspace/.pip-modules/lib/python3.8/site-packages/sklearn/metrics/_scorer.py\", line 242, in _score\n",
            "    return self._sign * self._score_func(y_true, y_pred,\n",
            "  File \"/workspace/.pip-modules/lib/python3.8/site-packages/sklearn/utils/validation.py\", line 63, in inner_f\n",
            "    return f(*args, **kwargs)\n",
            "  File \"/workspace/.pip-modules/lib/python3.8/site-packages/sklearn/metrics/_classification.py\", line 1774, in recall_score\n",
            "    _, r, _, _ = precision_recall_fscore_support(y_true, y_pred,\n",
            "  File \"/workspace/.pip-modules/lib/python3.8/site-packages/sklearn/utils/validation.py\", line 63, in inner_f\n",
            "    return f(*args, **kwargs)\n",
            "  File \"/workspace/.pip-modules/lib/python3.8/site-packages/sklearn/metrics/_classification.py\", line 1464, in precision_recall_fscore_support\n",
            "    labels = _check_set_wise_labels(y_true, y_pred, average, labels,\n",
            "  File \"/workspace/.pip-modules/lib/python3.8/site-packages/sklearn/metrics/_classification.py\", line 1294, in _check_set_wise_labels\n",
            "    raise ValueError(\"Target is %s but average='binary'. Please \"\n",
            "ValueError: Target is multiclass but average='binary'. Please choose another average setting, one of [None, 'micro', 'macro', 'weighted'].\n",
            "\n",
            "  warnings.warn(\n",
            "/workspace/.pip-modules/lib/python3.8/site-packages/sklearn/model_selection/_search.py:922: UserWarning: One or more of the test scores are non-finite: [nan]\n",
            "  warnings.warn(\n"
          ]
        },
        {
          "name": "stdout",
          "output_type": "stream",
          "text": [
            "\n",
            "Running GridSearchCV for DecisionTreeClassifier \n",
            "\n",
            "Fitting 5 folds for each of 1 candidates, totalling 5 fits\n"
          ]
        },
        {
          "name": "stderr",
          "output_type": "stream",
          "text": [
            "/workspace/.pip-modules/lib/python3.8/site-packages/sklearn/model_selection/_validation.py:696: UserWarning: Scoring failed. The score on this train-test partition for these parameters will be set to nan. Details: \n",
            "Traceback (most recent call last):\n",
            "  File \"/workspace/.pip-modules/lib/python3.8/site-packages/sklearn/model_selection/_validation.py\", line 687, in _score\n",
            "    scores = scorer(estimator, X_test, y_test)\n",
            "  File \"/workspace/.pip-modules/lib/python3.8/site-packages/sklearn/metrics/_scorer.py\", line 199, in __call__\n",
            "    return self._score(partial(_cached_call, None), estimator, X, y_true,\n",
            "  File \"/workspace/.pip-modules/lib/python3.8/site-packages/sklearn/metrics/_scorer.py\", line 242, in _score\n",
            "    return self._sign * self._score_func(y_true, y_pred,\n",
            "  File \"/workspace/.pip-modules/lib/python3.8/site-packages/sklearn/utils/validation.py\", line 63, in inner_f\n",
            "    return f(*args, **kwargs)\n",
            "  File \"/workspace/.pip-modules/lib/python3.8/site-packages/sklearn/metrics/_classification.py\", line 1774, in recall_score\n",
            "    _, r, _, _ = precision_recall_fscore_support(y_true, y_pred,\n",
            "  File \"/workspace/.pip-modules/lib/python3.8/site-packages/sklearn/utils/validation.py\", line 63, in inner_f\n",
            "    return f(*args, **kwargs)\n",
            "  File \"/workspace/.pip-modules/lib/python3.8/site-packages/sklearn/metrics/_classification.py\", line 1464, in precision_recall_fscore_support\n",
            "    labels = _check_set_wise_labels(y_true, y_pred, average, labels,\n",
            "  File \"/workspace/.pip-modules/lib/python3.8/site-packages/sklearn/metrics/_classification.py\", line 1294, in _check_set_wise_labels\n",
            "    raise ValueError(\"Target is %s but average='binary'. Please \"\n",
            "ValueError: Target is multiclass but average='binary'. Please choose another average setting, one of [None, 'micro', 'macro', 'weighted'].\n",
            "\n",
            "  warnings.warn(\n",
            "/workspace/.pip-modules/lib/python3.8/site-packages/sklearn/model_selection/_validation.py:696: UserWarning: Scoring failed. The score on this train-test partition for these parameters will be set to nan. Details: \n",
            "Traceback (most recent call last):\n",
            "  File \"/workspace/.pip-modules/lib/python3.8/site-packages/sklearn/model_selection/_validation.py\", line 687, in _score\n",
            "    scores = scorer(estimator, X_test, y_test)\n",
            "  File \"/workspace/.pip-modules/lib/python3.8/site-packages/sklearn/metrics/_scorer.py\", line 199, in __call__\n",
            "    return self._score(partial(_cached_call, None), estimator, X, y_true,\n",
            "  File \"/workspace/.pip-modules/lib/python3.8/site-packages/sklearn/metrics/_scorer.py\", line 242, in _score\n",
            "    return self._sign * self._score_func(y_true, y_pred,\n",
            "  File \"/workspace/.pip-modules/lib/python3.8/site-packages/sklearn/utils/validation.py\", line 63, in inner_f\n",
            "    return f(*args, **kwargs)\n",
            "  File \"/workspace/.pip-modules/lib/python3.8/site-packages/sklearn/metrics/_classification.py\", line 1774, in recall_score\n",
            "    _, r, _, _ = precision_recall_fscore_support(y_true, y_pred,\n",
            "  File \"/workspace/.pip-modules/lib/python3.8/site-packages/sklearn/utils/validation.py\", line 63, in inner_f\n",
            "    return f(*args, **kwargs)\n",
            "  File \"/workspace/.pip-modules/lib/python3.8/site-packages/sklearn/metrics/_classification.py\", line 1464, in precision_recall_fscore_support\n",
            "    labels = _check_set_wise_labels(y_true, y_pred, average, labels,\n",
            "  File \"/workspace/.pip-modules/lib/python3.8/site-packages/sklearn/metrics/_classification.py\", line 1294, in _check_set_wise_labels\n",
            "    raise ValueError(\"Target is %s but average='binary'. Please \"\n",
            "ValueError: Target is multiclass but average='binary'. Please choose another average setting, one of [None, 'micro', 'macro', 'weighted'].\n",
            "\n",
            "  warnings.warn(\n",
            "/workspace/.pip-modules/lib/python3.8/site-packages/sklearn/model_selection/_validation.py:696: UserWarning: Scoring failed. The score on this train-test partition for these parameters will be set to nan. Details: \n",
            "Traceback (most recent call last):\n",
            "  File \"/workspace/.pip-modules/lib/python3.8/site-packages/sklearn/model_selection/_validation.py\", line 687, in _score\n",
            "    scores = scorer(estimator, X_test, y_test)\n",
            "  File \"/workspace/.pip-modules/lib/python3.8/site-packages/sklearn/metrics/_scorer.py\", line 199, in __call__\n",
            "    return self._score(partial(_cached_call, None), estimator, X, y_true,\n",
            "  File \"/workspace/.pip-modules/lib/python3.8/site-packages/sklearn/metrics/_scorer.py\", line 242, in _score\n",
            "    return self._sign * self._score_func(y_true, y_pred,\n",
            "  File \"/workspace/.pip-modules/lib/python3.8/site-packages/sklearn/utils/validation.py\", line 63, in inner_f\n",
            "    return f(*args, **kwargs)\n",
            "  File \"/workspace/.pip-modules/lib/python3.8/site-packages/sklearn/metrics/_classification.py\", line 1774, in recall_score\n",
            "    _, r, _, _ = precision_recall_fscore_support(y_true, y_pred,\n",
            "  File \"/workspace/.pip-modules/lib/python3.8/site-packages/sklearn/utils/validation.py\", line 63, in inner_f\n",
            "    return f(*args, **kwargs)\n",
            "  File \"/workspace/.pip-modules/lib/python3.8/site-packages/sklearn/metrics/_classification.py\", line 1464, in precision_recall_fscore_support\n",
            "    labels = _check_set_wise_labels(y_true, y_pred, average, labels,\n",
            "  File \"/workspace/.pip-modules/lib/python3.8/site-packages/sklearn/metrics/_classification.py\", line 1294, in _check_set_wise_labels\n",
            "    raise ValueError(\"Target is %s but average='binary'. Please \"\n",
            "ValueError: Target is multiclass but average='binary'. Please choose another average setting, one of [None, 'micro', 'macro', 'weighted'].\n",
            "\n",
            "  warnings.warn(\n",
            "/workspace/.pip-modules/lib/python3.8/site-packages/sklearn/model_selection/_validation.py:696: UserWarning: Scoring failed. The score on this train-test partition for these parameters will be set to nan. Details: \n",
            "Traceback (most recent call last):\n",
            "  File \"/workspace/.pip-modules/lib/python3.8/site-packages/sklearn/model_selection/_validation.py\", line 687, in _score\n",
            "    scores = scorer(estimator, X_test, y_test)\n",
            "  File \"/workspace/.pip-modules/lib/python3.8/site-packages/sklearn/metrics/_scorer.py\", line 199, in __call__\n",
            "    return self._score(partial(_cached_call, None), estimator, X, y_true,\n",
            "  File \"/workspace/.pip-modules/lib/python3.8/site-packages/sklearn/metrics/_scorer.py\", line 242, in _score\n",
            "    return self._sign * self._score_func(y_true, y_pred,\n",
            "  File \"/workspace/.pip-modules/lib/python3.8/site-packages/sklearn/utils/validation.py\", line 63, in inner_f\n",
            "    return f(*args, **kwargs)\n",
            "  File \"/workspace/.pip-modules/lib/python3.8/site-packages/sklearn/metrics/_classification.py\", line 1774, in recall_score\n",
            "    _, r, _, _ = precision_recall_fscore_support(y_true, y_pred,\n",
            "  File \"/workspace/.pip-modules/lib/python3.8/site-packages/sklearn/utils/validation.py\", line 63, in inner_f\n",
            "    return f(*args, **kwargs)\n",
            "  File \"/workspace/.pip-modules/lib/python3.8/site-packages/sklearn/metrics/_classification.py\", line 1464, in precision_recall_fscore_support\n",
            "    labels = _check_set_wise_labels(y_true, y_pred, average, labels,\n",
            "  File \"/workspace/.pip-modules/lib/python3.8/site-packages/sklearn/metrics/_classification.py\", line 1294, in _check_set_wise_labels\n",
            "    raise ValueError(\"Target is %s but average='binary'. Please \"\n",
            "ValueError: Target is multiclass but average='binary'. Please choose another average setting, one of [None, 'micro', 'macro', 'weighted'].\n",
            "\n",
            "  warnings.warn(\n",
            "/workspace/.pip-modules/lib/python3.8/site-packages/sklearn/model_selection/_validation.py:696: UserWarning: Scoring failed. The score on this train-test partition for these parameters will be set to nan. Details: \n",
            "Traceback (most recent call last):\n",
            "  File \"/workspace/.pip-modules/lib/python3.8/site-packages/sklearn/model_selection/_validation.py\", line 687, in _score\n",
            "    scores = scorer(estimator, X_test, y_test)\n",
            "  File \"/workspace/.pip-modules/lib/python3.8/site-packages/sklearn/metrics/_scorer.py\", line 199, in __call__\n",
            "    return self._score(partial(_cached_call, None), estimator, X, y_true,\n",
            "  File \"/workspace/.pip-modules/lib/python3.8/site-packages/sklearn/metrics/_scorer.py\", line 242, in _score\n",
            "    return self._sign * self._score_func(y_true, y_pred,\n",
            "  File \"/workspace/.pip-modules/lib/python3.8/site-packages/sklearn/utils/validation.py\", line 63, in inner_f\n",
            "    return f(*args, **kwargs)\n",
            "  File \"/workspace/.pip-modules/lib/python3.8/site-packages/sklearn/metrics/_classification.py\", line 1774, in recall_score\n",
            "    _, r, _, _ = precision_recall_fscore_support(y_true, y_pred,\n",
            "  File \"/workspace/.pip-modules/lib/python3.8/site-packages/sklearn/utils/validation.py\", line 63, in inner_f\n",
            "    return f(*args, **kwargs)\n",
            "  File \"/workspace/.pip-modules/lib/python3.8/site-packages/sklearn/metrics/_classification.py\", line 1464, in precision_recall_fscore_support\n",
            "    labels = _check_set_wise_labels(y_true, y_pred, average, labels,\n",
            "  File \"/workspace/.pip-modules/lib/python3.8/site-packages/sklearn/metrics/_classification.py\", line 1294, in _check_set_wise_labels\n",
            "    raise ValueError(\"Target is %s but average='binary'. Please \"\n",
            "ValueError: Target is multiclass but average='binary'. Please choose another average setting, one of [None, 'micro', 'macro', 'weighted'].\n",
            "\n",
            "  warnings.warn(\n",
            "/workspace/.pip-modules/lib/python3.8/site-packages/sklearn/model_selection/_search.py:922: UserWarning: One or more of the test scores are non-finite: [nan]\n",
            "  warnings.warn(\n"
          ]
        },
        {
          "name": "stdout",
          "output_type": "stream",
          "text": [
            "\n",
            "Running GridSearchCV for RandomForestClassifier \n",
            "\n",
            "Fitting 5 folds for each of 1 candidates, totalling 5 fits\n"
          ]
        },
        {
          "name": "stderr",
          "output_type": "stream",
          "text": [
            "/workspace/.pip-modules/lib/python3.8/site-packages/sklearn/model_selection/_validation.py:696: UserWarning: Scoring failed. The score on this train-test partition for these parameters will be set to nan. Details: \n",
            "Traceback (most recent call last):\n",
            "  File \"/workspace/.pip-modules/lib/python3.8/site-packages/sklearn/model_selection/_validation.py\", line 687, in _score\n",
            "    scores = scorer(estimator, X_test, y_test)\n",
            "  File \"/workspace/.pip-modules/lib/python3.8/site-packages/sklearn/metrics/_scorer.py\", line 199, in __call__\n",
            "    return self._score(partial(_cached_call, None), estimator, X, y_true,\n",
            "  File \"/workspace/.pip-modules/lib/python3.8/site-packages/sklearn/metrics/_scorer.py\", line 242, in _score\n",
            "    return self._sign * self._score_func(y_true, y_pred,\n",
            "  File \"/workspace/.pip-modules/lib/python3.8/site-packages/sklearn/utils/validation.py\", line 63, in inner_f\n",
            "    return f(*args, **kwargs)\n",
            "  File \"/workspace/.pip-modules/lib/python3.8/site-packages/sklearn/metrics/_classification.py\", line 1774, in recall_score\n",
            "    _, r, _, _ = precision_recall_fscore_support(y_true, y_pred,\n",
            "  File \"/workspace/.pip-modules/lib/python3.8/site-packages/sklearn/utils/validation.py\", line 63, in inner_f\n",
            "    return f(*args, **kwargs)\n",
            "  File \"/workspace/.pip-modules/lib/python3.8/site-packages/sklearn/metrics/_classification.py\", line 1464, in precision_recall_fscore_support\n",
            "    labels = _check_set_wise_labels(y_true, y_pred, average, labels,\n",
            "  File \"/workspace/.pip-modules/lib/python3.8/site-packages/sklearn/metrics/_classification.py\", line 1294, in _check_set_wise_labels\n",
            "    raise ValueError(\"Target is %s but average='binary'. Please \"\n",
            "ValueError: Target is multiclass but average='binary'. Please choose another average setting, one of [None, 'micro', 'macro', 'weighted'].\n",
            "\n",
            "  warnings.warn(\n",
            "/workspace/.pip-modules/lib/python3.8/site-packages/sklearn/model_selection/_validation.py:696: UserWarning: Scoring failed. The score on this train-test partition for these parameters will be set to nan. Details: \n",
            "Traceback (most recent call last):\n",
            "  File \"/workspace/.pip-modules/lib/python3.8/site-packages/sklearn/model_selection/_validation.py\", line 687, in _score\n",
            "    scores = scorer(estimator, X_test, y_test)\n",
            "  File \"/workspace/.pip-modules/lib/python3.8/site-packages/sklearn/metrics/_scorer.py\", line 199, in __call__\n",
            "    return self._score(partial(_cached_call, None), estimator, X, y_true,\n",
            "  File \"/workspace/.pip-modules/lib/python3.8/site-packages/sklearn/metrics/_scorer.py\", line 242, in _score\n",
            "    return self._sign * self._score_func(y_true, y_pred,\n",
            "  File \"/workspace/.pip-modules/lib/python3.8/site-packages/sklearn/utils/validation.py\", line 63, in inner_f\n",
            "    return f(*args, **kwargs)\n",
            "  File \"/workspace/.pip-modules/lib/python3.8/site-packages/sklearn/metrics/_classification.py\", line 1774, in recall_score\n",
            "    _, r, _, _ = precision_recall_fscore_support(y_true, y_pred,\n",
            "  File \"/workspace/.pip-modules/lib/python3.8/site-packages/sklearn/utils/validation.py\", line 63, in inner_f\n",
            "    return f(*args, **kwargs)\n",
            "  File \"/workspace/.pip-modules/lib/python3.8/site-packages/sklearn/metrics/_classification.py\", line 1464, in precision_recall_fscore_support\n",
            "    labels = _check_set_wise_labels(y_true, y_pred, average, labels,\n",
            "  File \"/workspace/.pip-modules/lib/python3.8/site-packages/sklearn/metrics/_classification.py\", line 1294, in _check_set_wise_labels\n",
            "    raise ValueError(\"Target is %s but average='binary'. Please \"\n",
            "ValueError: Target is multiclass but average='binary'. Please choose another average setting, one of [None, 'micro', 'macro', 'weighted'].\n",
            "\n",
            "  warnings.warn(\n",
            "/workspace/.pip-modules/lib/python3.8/site-packages/sklearn/model_selection/_validation.py:696: UserWarning: Scoring failed. The score on this train-test partition for these parameters will be set to nan. Details: \n",
            "Traceback (most recent call last):\n",
            "  File \"/workspace/.pip-modules/lib/python3.8/site-packages/sklearn/model_selection/_validation.py\", line 687, in _score\n",
            "    scores = scorer(estimator, X_test, y_test)\n",
            "  File \"/workspace/.pip-modules/lib/python3.8/site-packages/sklearn/metrics/_scorer.py\", line 199, in __call__\n",
            "    return self._score(partial(_cached_call, None), estimator, X, y_true,\n",
            "  File \"/workspace/.pip-modules/lib/python3.8/site-packages/sklearn/metrics/_scorer.py\", line 242, in _score\n",
            "    return self._sign * self._score_func(y_true, y_pred,\n",
            "  File \"/workspace/.pip-modules/lib/python3.8/site-packages/sklearn/utils/validation.py\", line 63, in inner_f\n",
            "    return f(*args, **kwargs)\n",
            "  File \"/workspace/.pip-modules/lib/python3.8/site-packages/sklearn/metrics/_classification.py\", line 1774, in recall_score\n",
            "    _, r, _, _ = precision_recall_fscore_support(y_true, y_pred,\n",
            "  File \"/workspace/.pip-modules/lib/python3.8/site-packages/sklearn/utils/validation.py\", line 63, in inner_f\n",
            "    return f(*args, **kwargs)\n",
            "  File \"/workspace/.pip-modules/lib/python3.8/site-packages/sklearn/metrics/_classification.py\", line 1464, in precision_recall_fscore_support\n",
            "    labels = _check_set_wise_labels(y_true, y_pred, average, labels,\n",
            "  File \"/workspace/.pip-modules/lib/python3.8/site-packages/sklearn/metrics/_classification.py\", line 1294, in _check_set_wise_labels\n",
            "    raise ValueError(\"Target is %s but average='binary'. Please \"\n",
            "ValueError: Target is multiclass but average='binary'. Please choose another average setting, one of [None, 'micro', 'macro', 'weighted'].\n",
            "\n",
            "  warnings.warn(\n",
            "/workspace/.pip-modules/lib/python3.8/site-packages/sklearn/model_selection/_validation.py:696: UserWarning: Scoring failed. The score on this train-test partition for these parameters will be set to nan. Details: \n",
            "Traceback (most recent call last):\n",
            "  File \"/workspace/.pip-modules/lib/python3.8/site-packages/sklearn/model_selection/_validation.py\", line 687, in _score\n",
            "    scores = scorer(estimator, X_test, y_test)\n",
            "  File \"/workspace/.pip-modules/lib/python3.8/site-packages/sklearn/metrics/_scorer.py\", line 199, in __call__\n",
            "    return self._score(partial(_cached_call, None), estimator, X, y_true,\n",
            "  File \"/workspace/.pip-modules/lib/python3.8/site-packages/sklearn/metrics/_scorer.py\", line 242, in _score\n",
            "    return self._sign * self._score_func(y_true, y_pred,\n",
            "  File \"/workspace/.pip-modules/lib/python3.8/site-packages/sklearn/utils/validation.py\", line 63, in inner_f\n",
            "    return f(*args, **kwargs)\n",
            "  File \"/workspace/.pip-modules/lib/python3.8/site-packages/sklearn/metrics/_classification.py\", line 1774, in recall_score\n",
            "    _, r, _, _ = precision_recall_fscore_support(y_true, y_pred,\n",
            "  File \"/workspace/.pip-modules/lib/python3.8/site-packages/sklearn/utils/validation.py\", line 63, in inner_f\n",
            "    return f(*args, **kwargs)\n",
            "  File \"/workspace/.pip-modules/lib/python3.8/site-packages/sklearn/metrics/_classification.py\", line 1464, in precision_recall_fscore_support\n",
            "    labels = _check_set_wise_labels(y_true, y_pred, average, labels,\n",
            "  File \"/workspace/.pip-modules/lib/python3.8/site-packages/sklearn/metrics/_classification.py\", line 1294, in _check_set_wise_labels\n",
            "    raise ValueError(\"Target is %s but average='binary'. Please \"\n",
            "ValueError: Target is multiclass but average='binary'. Please choose another average setting, one of [None, 'micro', 'macro', 'weighted'].\n",
            "\n",
            "  warnings.warn(\n",
            "/workspace/.pip-modules/lib/python3.8/site-packages/sklearn/model_selection/_validation.py:696: UserWarning: Scoring failed. The score on this train-test partition for these parameters will be set to nan. Details: \n",
            "Traceback (most recent call last):\n",
            "  File \"/workspace/.pip-modules/lib/python3.8/site-packages/sklearn/model_selection/_validation.py\", line 687, in _score\n",
            "    scores = scorer(estimator, X_test, y_test)\n",
            "  File \"/workspace/.pip-modules/lib/python3.8/site-packages/sklearn/metrics/_scorer.py\", line 199, in __call__\n",
            "    return self._score(partial(_cached_call, None), estimator, X, y_true,\n",
            "  File \"/workspace/.pip-modules/lib/python3.8/site-packages/sklearn/metrics/_scorer.py\", line 242, in _score\n",
            "    return self._sign * self._score_func(y_true, y_pred,\n",
            "  File \"/workspace/.pip-modules/lib/python3.8/site-packages/sklearn/utils/validation.py\", line 63, in inner_f\n",
            "    return f(*args, **kwargs)\n",
            "  File \"/workspace/.pip-modules/lib/python3.8/site-packages/sklearn/metrics/_classification.py\", line 1774, in recall_score\n",
            "    _, r, _, _ = precision_recall_fscore_support(y_true, y_pred,\n",
            "  File \"/workspace/.pip-modules/lib/python3.8/site-packages/sklearn/utils/validation.py\", line 63, in inner_f\n",
            "    return f(*args, **kwargs)\n",
            "  File \"/workspace/.pip-modules/lib/python3.8/site-packages/sklearn/metrics/_classification.py\", line 1464, in precision_recall_fscore_support\n",
            "    labels = _check_set_wise_labels(y_true, y_pred, average, labels,\n",
            "  File \"/workspace/.pip-modules/lib/python3.8/site-packages/sklearn/metrics/_classification.py\", line 1294, in _check_set_wise_labels\n",
            "    raise ValueError(\"Target is %s but average='binary'. Please \"\n",
            "ValueError: Target is multiclass but average='binary'. Please choose another average setting, one of [None, 'micro', 'macro', 'weighted'].\n",
            "\n",
            "  warnings.warn(\n",
            "/workspace/.pip-modules/lib/python3.8/site-packages/sklearn/model_selection/_search.py:922: UserWarning: One or more of the test scores are non-finite: [nan]\n",
            "  warnings.warn(\n"
          ]
        },
        {
          "name": "stdout",
          "output_type": "stream",
          "text": [
            "\n",
            "Running GridSearchCV for GradientBoostingClassifier \n",
            "\n",
            "Fitting 5 folds for each of 1 candidates, totalling 5 fits\n"
          ]
        },
        {
          "name": "stderr",
          "output_type": "stream",
          "text": [
            "/workspace/.pip-modules/lib/python3.8/site-packages/sklearn/model_selection/_validation.py:696: UserWarning: Scoring failed. The score on this train-test partition for these parameters will be set to nan. Details: \n",
            "Traceback (most recent call last):\n",
            "  File \"/workspace/.pip-modules/lib/python3.8/site-packages/sklearn/model_selection/_validation.py\", line 687, in _score\n",
            "    scores = scorer(estimator, X_test, y_test)\n",
            "  File \"/workspace/.pip-modules/lib/python3.8/site-packages/sklearn/metrics/_scorer.py\", line 199, in __call__\n",
            "    return self._score(partial(_cached_call, None), estimator, X, y_true,\n",
            "  File \"/workspace/.pip-modules/lib/python3.8/site-packages/sklearn/metrics/_scorer.py\", line 242, in _score\n",
            "    return self._sign * self._score_func(y_true, y_pred,\n",
            "  File \"/workspace/.pip-modules/lib/python3.8/site-packages/sklearn/utils/validation.py\", line 63, in inner_f\n",
            "    return f(*args, **kwargs)\n",
            "  File \"/workspace/.pip-modules/lib/python3.8/site-packages/sklearn/metrics/_classification.py\", line 1774, in recall_score\n",
            "    _, r, _, _ = precision_recall_fscore_support(y_true, y_pred,\n",
            "  File \"/workspace/.pip-modules/lib/python3.8/site-packages/sklearn/utils/validation.py\", line 63, in inner_f\n",
            "    return f(*args, **kwargs)\n",
            "  File \"/workspace/.pip-modules/lib/python3.8/site-packages/sklearn/metrics/_classification.py\", line 1464, in precision_recall_fscore_support\n",
            "    labels = _check_set_wise_labels(y_true, y_pred, average, labels,\n",
            "  File \"/workspace/.pip-modules/lib/python3.8/site-packages/sklearn/metrics/_classification.py\", line 1294, in _check_set_wise_labels\n",
            "    raise ValueError(\"Target is %s but average='binary'. Please \"\n",
            "ValueError: Target is multiclass but average='binary'. Please choose another average setting, one of [None, 'micro', 'macro', 'weighted'].\n",
            "\n",
            "  warnings.warn(\n",
            "/workspace/.pip-modules/lib/python3.8/site-packages/sklearn/model_selection/_validation.py:696: UserWarning: Scoring failed. The score on this train-test partition for these parameters will be set to nan. Details: \n",
            "Traceback (most recent call last):\n",
            "  File \"/workspace/.pip-modules/lib/python3.8/site-packages/sklearn/model_selection/_validation.py\", line 687, in _score\n",
            "    scores = scorer(estimator, X_test, y_test)\n",
            "  File \"/workspace/.pip-modules/lib/python3.8/site-packages/sklearn/metrics/_scorer.py\", line 199, in __call__\n",
            "    return self._score(partial(_cached_call, None), estimator, X, y_true,\n",
            "  File \"/workspace/.pip-modules/lib/python3.8/site-packages/sklearn/metrics/_scorer.py\", line 242, in _score\n",
            "    return self._sign * self._score_func(y_true, y_pred,\n",
            "  File \"/workspace/.pip-modules/lib/python3.8/site-packages/sklearn/utils/validation.py\", line 63, in inner_f\n",
            "    return f(*args, **kwargs)\n",
            "  File \"/workspace/.pip-modules/lib/python3.8/site-packages/sklearn/metrics/_classification.py\", line 1774, in recall_score\n",
            "    _, r, _, _ = precision_recall_fscore_support(y_true, y_pred,\n",
            "  File \"/workspace/.pip-modules/lib/python3.8/site-packages/sklearn/utils/validation.py\", line 63, in inner_f\n",
            "    return f(*args, **kwargs)\n",
            "  File \"/workspace/.pip-modules/lib/python3.8/site-packages/sklearn/metrics/_classification.py\", line 1464, in precision_recall_fscore_support\n",
            "    labels = _check_set_wise_labels(y_true, y_pred, average, labels,\n",
            "  File \"/workspace/.pip-modules/lib/python3.8/site-packages/sklearn/metrics/_classification.py\", line 1294, in _check_set_wise_labels\n",
            "    raise ValueError(\"Target is %s but average='binary'. Please \"\n",
            "ValueError: Target is multiclass but average='binary'. Please choose another average setting, one of [None, 'micro', 'macro', 'weighted'].\n",
            "\n",
            "  warnings.warn(\n",
            "/workspace/.pip-modules/lib/python3.8/site-packages/sklearn/model_selection/_validation.py:696: UserWarning: Scoring failed. The score on this train-test partition for these parameters will be set to nan. Details: \n",
            "Traceback (most recent call last):\n",
            "  File \"/workspace/.pip-modules/lib/python3.8/site-packages/sklearn/model_selection/_validation.py\", line 687, in _score\n",
            "    scores = scorer(estimator, X_test, y_test)\n",
            "  File \"/workspace/.pip-modules/lib/python3.8/site-packages/sklearn/metrics/_scorer.py\", line 199, in __call__\n",
            "    return self._score(partial(_cached_call, None), estimator, X, y_true,\n",
            "  File \"/workspace/.pip-modules/lib/python3.8/site-packages/sklearn/metrics/_scorer.py\", line 242, in _score\n",
            "    return self._sign * self._score_func(y_true, y_pred,\n",
            "  File \"/workspace/.pip-modules/lib/python3.8/site-packages/sklearn/utils/validation.py\", line 63, in inner_f\n",
            "    return f(*args, **kwargs)\n",
            "  File \"/workspace/.pip-modules/lib/python3.8/site-packages/sklearn/metrics/_classification.py\", line 1774, in recall_score\n",
            "    _, r, _, _ = precision_recall_fscore_support(y_true, y_pred,\n",
            "  File \"/workspace/.pip-modules/lib/python3.8/site-packages/sklearn/utils/validation.py\", line 63, in inner_f\n",
            "    return f(*args, **kwargs)\n",
            "  File \"/workspace/.pip-modules/lib/python3.8/site-packages/sklearn/metrics/_classification.py\", line 1464, in precision_recall_fscore_support\n",
            "    labels = _check_set_wise_labels(y_true, y_pred, average, labels,\n",
            "  File \"/workspace/.pip-modules/lib/python3.8/site-packages/sklearn/metrics/_classification.py\", line 1294, in _check_set_wise_labels\n",
            "    raise ValueError(\"Target is %s but average='binary'. Please \"\n",
            "ValueError: Target is multiclass but average='binary'. Please choose another average setting, one of [None, 'micro', 'macro', 'weighted'].\n",
            "\n",
            "  warnings.warn(\n",
            "/workspace/.pip-modules/lib/python3.8/site-packages/sklearn/model_selection/_validation.py:696: UserWarning: Scoring failed. The score on this train-test partition for these parameters will be set to nan. Details: \n",
            "Traceback (most recent call last):\n",
            "  File \"/workspace/.pip-modules/lib/python3.8/site-packages/sklearn/model_selection/_validation.py\", line 687, in _score\n",
            "    scores = scorer(estimator, X_test, y_test)\n",
            "  File \"/workspace/.pip-modules/lib/python3.8/site-packages/sklearn/metrics/_scorer.py\", line 199, in __call__\n",
            "    return self._score(partial(_cached_call, None), estimator, X, y_true,\n",
            "  File \"/workspace/.pip-modules/lib/python3.8/site-packages/sklearn/metrics/_scorer.py\", line 242, in _score\n",
            "    return self._sign * self._score_func(y_true, y_pred,\n",
            "  File \"/workspace/.pip-modules/lib/python3.8/site-packages/sklearn/utils/validation.py\", line 63, in inner_f\n",
            "    return f(*args, **kwargs)\n",
            "  File \"/workspace/.pip-modules/lib/python3.8/site-packages/sklearn/metrics/_classification.py\", line 1774, in recall_score\n",
            "    _, r, _, _ = precision_recall_fscore_support(y_true, y_pred,\n",
            "  File \"/workspace/.pip-modules/lib/python3.8/site-packages/sklearn/utils/validation.py\", line 63, in inner_f\n",
            "    return f(*args, **kwargs)\n",
            "  File \"/workspace/.pip-modules/lib/python3.8/site-packages/sklearn/metrics/_classification.py\", line 1464, in precision_recall_fscore_support\n",
            "    labels = _check_set_wise_labels(y_true, y_pred, average, labels,\n",
            "  File \"/workspace/.pip-modules/lib/python3.8/site-packages/sklearn/metrics/_classification.py\", line 1294, in _check_set_wise_labels\n",
            "    raise ValueError(\"Target is %s but average='binary'. Please \"\n",
            "ValueError: Target is multiclass but average='binary'. Please choose another average setting, one of [None, 'micro', 'macro', 'weighted'].\n",
            "\n",
            "  warnings.warn(\n",
            "/workspace/.pip-modules/lib/python3.8/site-packages/sklearn/model_selection/_validation.py:696: UserWarning: Scoring failed. The score on this train-test partition for these parameters will be set to nan. Details: \n",
            "Traceback (most recent call last):\n",
            "  File \"/workspace/.pip-modules/lib/python3.8/site-packages/sklearn/model_selection/_validation.py\", line 687, in _score\n",
            "    scores = scorer(estimator, X_test, y_test)\n",
            "  File \"/workspace/.pip-modules/lib/python3.8/site-packages/sklearn/metrics/_scorer.py\", line 199, in __call__\n",
            "    return self._score(partial(_cached_call, None), estimator, X, y_true,\n",
            "  File \"/workspace/.pip-modules/lib/python3.8/site-packages/sklearn/metrics/_scorer.py\", line 242, in _score\n",
            "    return self._sign * self._score_func(y_true, y_pred,\n",
            "  File \"/workspace/.pip-modules/lib/python3.8/site-packages/sklearn/utils/validation.py\", line 63, in inner_f\n",
            "    return f(*args, **kwargs)\n",
            "  File \"/workspace/.pip-modules/lib/python3.8/site-packages/sklearn/metrics/_classification.py\", line 1774, in recall_score\n",
            "    _, r, _, _ = precision_recall_fscore_support(y_true, y_pred,\n",
            "  File \"/workspace/.pip-modules/lib/python3.8/site-packages/sklearn/utils/validation.py\", line 63, in inner_f\n",
            "    return f(*args, **kwargs)\n",
            "  File \"/workspace/.pip-modules/lib/python3.8/site-packages/sklearn/metrics/_classification.py\", line 1464, in precision_recall_fscore_support\n",
            "    labels = _check_set_wise_labels(y_true, y_pred, average, labels,\n",
            "  File \"/workspace/.pip-modules/lib/python3.8/site-packages/sklearn/metrics/_classification.py\", line 1294, in _check_set_wise_labels\n",
            "    raise ValueError(\"Target is %s but average='binary'. Please \"\n",
            "ValueError: Target is multiclass but average='binary'. Please choose another average setting, one of [None, 'micro', 'macro', 'weighted'].\n",
            "\n",
            "  warnings.warn(\n",
            "/workspace/.pip-modules/lib/python3.8/site-packages/sklearn/model_selection/_search.py:922: UserWarning: One or more of the test scores are non-finite: [nan]\n",
            "  warnings.warn(\n"
          ]
        },
        {
          "name": "stdout",
          "output_type": "stream",
          "text": [
            "\n",
            "Running GridSearchCV for ExtraTreesClassifier \n",
            "\n",
            "Fitting 5 folds for each of 1 candidates, totalling 5 fits\n"
          ]
        },
        {
          "name": "stderr",
          "output_type": "stream",
          "text": [
            "/workspace/.pip-modules/lib/python3.8/site-packages/sklearn/model_selection/_validation.py:696: UserWarning: Scoring failed. The score on this train-test partition for these parameters will be set to nan. Details: \n",
            "Traceback (most recent call last):\n",
            "  File \"/workspace/.pip-modules/lib/python3.8/site-packages/sklearn/model_selection/_validation.py\", line 687, in _score\n",
            "    scores = scorer(estimator, X_test, y_test)\n",
            "  File \"/workspace/.pip-modules/lib/python3.8/site-packages/sklearn/metrics/_scorer.py\", line 199, in __call__\n",
            "    return self._score(partial(_cached_call, None), estimator, X, y_true,\n",
            "  File \"/workspace/.pip-modules/lib/python3.8/site-packages/sklearn/metrics/_scorer.py\", line 242, in _score\n",
            "    return self._sign * self._score_func(y_true, y_pred,\n",
            "  File \"/workspace/.pip-modules/lib/python3.8/site-packages/sklearn/utils/validation.py\", line 63, in inner_f\n",
            "    return f(*args, **kwargs)\n",
            "  File \"/workspace/.pip-modules/lib/python3.8/site-packages/sklearn/metrics/_classification.py\", line 1774, in recall_score\n",
            "    _, r, _, _ = precision_recall_fscore_support(y_true, y_pred,\n",
            "  File \"/workspace/.pip-modules/lib/python3.8/site-packages/sklearn/utils/validation.py\", line 63, in inner_f\n",
            "    return f(*args, **kwargs)\n",
            "  File \"/workspace/.pip-modules/lib/python3.8/site-packages/sklearn/metrics/_classification.py\", line 1464, in precision_recall_fscore_support\n",
            "    labels = _check_set_wise_labels(y_true, y_pred, average, labels,\n",
            "  File \"/workspace/.pip-modules/lib/python3.8/site-packages/sklearn/metrics/_classification.py\", line 1294, in _check_set_wise_labels\n",
            "    raise ValueError(\"Target is %s but average='binary'. Please \"\n",
            "ValueError: Target is multiclass but average='binary'. Please choose another average setting, one of [None, 'micro', 'macro', 'weighted'].\n",
            "\n",
            "  warnings.warn(\n",
            "/workspace/.pip-modules/lib/python3.8/site-packages/sklearn/model_selection/_validation.py:696: UserWarning: Scoring failed. The score on this train-test partition for these parameters will be set to nan. Details: \n",
            "Traceback (most recent call last):\n",
            "  File \"/workspace/.pip-modules/lib/python3.8/site-packages/sklearn/model_selection/_validation.py\", line 687, in _score\n",
            "    scores = scorer(estimator, X_test, y_test)\n",
            "  File \"/workspace/.pip-modules/lib/python3.8/site-packages/sklearn/metrics/_scorer.py\", line 199, in __call__\n",
            "    return self._score(partial(_cached_call, None), estimator, X, y_true,\n",
            "  File \"/workspace/.pip-modules/lib/python3.8/site-packages/sklearn/metrics/_scorer.py\", line 242, in _score\n",
            "    return self._sign * self._score_func(y_true, y_pred,\n",
            "  File \"/workspace/.pip-modules/lib/python3.8/site-packages/sklearn/utils/validation.py\", line 63, in inner_f\n",
            "    return f(*args, **kwargs)\n",
            "  File \"/workspace/.pip-modules/lib/python3.8/site-packages/sklearn/metrics/_classification.py\", line 1774, in recall_score\n",
            "    _, r, _, _ = precision_recall_fscore_support(y_true, y_pred,\n",
            "  File \"/workspace/.pip-modules/lib/python3.8/site-packages/sklearn/utils/validation.py\", line 63, in inner_f\n",
            "    return f(*args, **kwargs)\n",
            "  File \"/workspace/.pip-modules/lib/python3.8/site-packages/sklearn/metrics/_classification.py\", line 1464, in precision_recall_fscore_support\n",
            "    labels = _check_set_wise_labels(y_true, y_pred, average, labels,\n",
            "  File \"/workspace/.pip-modules/lib/python3.8/site-packages/sklearn/metrics/_classification.py\", line 1294, in _check_set_wise_labels\n",
            "    raise ValueError(\"Target is %s but average='binary'. Please \"\n",
            "ValueError: Target is multiclass but average='binary'. Please choose another average setting, one of [None, 'micro', 'macro', 'weighted'].\n",
            "\n",
            "  warnings.warn(\n",
            "/workspace/.pip-modules/lib/python3.8/site-packages/sklearn/model_selection/_validation.py:696: UserWarning: Scoring failed. The score on this train-test partition for these parameters will be set to nan. Details: \n",
            "Traceback (most recent call last):\n",
            "  File \"/workspace/.pip-modules/lib/python3.8/site-packages/sklearn/model_selection/_validation.py\", line 687, in _score\n",
            "    scores = scorer(estimator, X_test, y_test)\n",
            "  File \"/workspace/.pip-modules/lib/python3.8/site-packages/sklearn/metrics/_scorer.py\", line 199, in __call__\n",
            "    return self._score(partial(_cached_call, None), estimator, X, y_true,\n",
            "  File \"/workspace/.pip-modules/lib/python3.8/site-packages/sklearn/metrics/_scorer.py\", line 242, in _score\n",
            "    return self._sign * self._score_func(y_true, y_pred,\n",
            "  File \"/workspace/.pip-modules/lib/python3.8/site-packages/sklearn/utils/validation.py\", line 63, in inner_f\n",
            "    return f(*args, **kwargs)\n",
            "  File \"/workspace/.pip-modules/lib/python3.8/site-packages/sklearn/metrics/_classification.py\", line 1774, in recall_score\n",
            "    _, r, _, _ = precision_recall_fscore_support(y_true, y_pred,\n",
            "  File \"/workspace/.pip-modules/lib/python3.8/site-packages/sklearn/utils/validation.py\", line 63, in inner_f\n",
            "    return f(*args, **kwargs)\n",
            "  File \"/workspace/.pip-modules/lib/python3.8/site-packages/sklearn/metrics/_classification.py\", line 1464, in precision_recall_fscore_support\n",
            "    labels = _check_set_wise_labels(y_true, y_pred, average, labels,\n",
            "  File \"/workspace/.pip-modules/lib/python3.8/site-packages/sklearn/metrics/_classification.py\", line 1294, in _check_set_wise_labels\n",
            "    raise ValueError(\"Target is %s but average='binary'. Please \"\n",
            "ValueError: Target is multiclass but average='binary'. Please choose another average setting, one of [None, 'micro', 'macro', 'weighted'].\n",
            "\n",
            "  warnings.warn(\n",
            "/workspace/.pip-modules/lib/python3.8/site-packages/sklearn/model_selection/_validation.py:696: UserWarning: Scoring failed. The score on this train-test partition for these parameters will be set to nan. Details: \n",
            "Traceback (most recent call last):\n",
            "  File \"/workspace/.pip-modules/lib/python3.8/site-packages/sklearn/model_selection/_validation.py\", line 687, in _score\n",
            "    scores = scorer(estimator, X_test, y_test)\n",
            "  File \"/workspace/.pip-modules/lib/python3.8/site-packages/sklearn/metrics/_scorer.py\", line 199, in __call__\n",
            "    return self._score(partial(_cached_call, None), estimator, X, y_true,\n",
            "  File \"/workspace/.pip-modules/lib/python3.8/site-packages/sklearn/metrics/_scorer.py\", line 242, in _score\n",
            "    return self._sign * self._score_func(y_true, y_pred,\n",
            "  File \"/workspace/.pip-modules/lib/python3.8/site-packages/sklearn/utils/validation.py\", line 63, in inner_f\n",
            "    return f(*args, **kwargs)\n",
            "  File \"/workspace/.pip-modules/lib/python3.8/site-packages/sklearn/metrics/_classification.py\", line 1774, in recall_score\n",
            "    _, r, _, _ = precision_recall_fscore_support(y_true, y_pred,\n",
            "  File \"/workspace/.pip-modules/lib/python3.8/site-packages/sklearn/utils/validation.py\", line 63, in inner_f\n",
            "    return f(*args, **kwargs)\n",
            "  File \"/workspace/.pip-modules/lib/python3.8/site-packages/sklearn/metrics/_classification.py\", line 1464, in precision_recall_fscore_support\n",
            "    labels = _check_set_wise_labels(y_true, y_pred, average, labels,\n",
            "  File \"/workspace/.pip-modules/lib/python3.8/site-packages/sklearn/metrics/_classification.py\", line 1294, in _check_set_wise_labels\n",
            "    raise ValueError(\"Target is %s but average='binary'. Please \"\n",
            "ValueError: Target is multiclass but average='binary'. Please choose another average setting, one of [None, 'micro', 'macro', 'weighted'].\n",
            "\n",
            "  warnings.warn(\n",
            "/workspace/.pip-modules/lib/python3.8/site-packages/sklearn/model_selection/_validation.py:696: UserWarning: Scoring failed. The score on this train-test partition for these parameters will be set to nan. Details: \n",
            "Traceback (most recent call last):\n",
            "  File \"/workspace/.pip-modules/lib/python3.8/site-packages/sklearn/model_selection/_validation.py\", line 687, in _score\n",
            "    scores = scorer(estimator, X_test, y_test)\n",
            "  File \"/workspace/.pip-modules/lib/python3.8/site-packages/sklearn/metrics/_scorer.py\", line 199, in __call__\n",
            "    return self._score(partial(_cached_call, None), estimator, X, y_true,\n",
            "  File \"/workspace/.pip-modules/lib/python3.8/site-packages/sklearn/metrics/_scorer.py\", line 242, in _score\n",
            "    return self._sign * self._score_func(y_true, y_pred,\n",
            "  File \"/workspace/.pip-modules/lib/python3.8/site-packages/sklearn/utils/validation.py\", line 63, in inner_f\n",
            "    return f(*args, **kwargs)\n",
            "  File \"/workspace/.pip-modules/lib/python3.8/site-packages/sklearn/metrics/_classification.py\", line 1774, in recall_score\n",
            "    _, r, _, _ = precision_recall_fscore_support(y_true, y_pred,\n",
            "  File \"/workspace/.pip-modules/lib/python3.8/site-packages/sklearn/utils/validation.py\", line 63, in inner_f\n",
            "    return f(*args, **kwargs)\n",
            "  File \"/workspace/.pip-modules/lib/python3.8/site-packages/sklearn/metrics/_classification.py\", line 1464, in precision_recall_fscore_support\n",
            "    labels = _check_set_wise_labels(y_true, y_pred, average, labels,\n",
            "  File \"/workspace/.pip-modules/lib/python3.8/site-packages/sklearn/metrics/_classification.py\", line 1294, in _check_set_wise_labels\n",
            "    raise ValueError(\"Target is %s but average='binary'. Please \"\n",
            "ValueError: Target is multiclass but average='binary'. Please choose another average setting, one of [None, 'micro', 'macro', 'weighted'].\n",
            "\n",
            "  warnings.warn(\n",
            "/workspace/.pip-modules/lib/python3.8/site-packages/sklearn/model_selection/_search.py:922: UserWarning: One or more of the test scores are non-finite: [nan]\n",
            "  warnings.warn(\n"
          ]
        },
        {
          "name": "stdout",
          "output_type": "stream",
          "text": [
            "\n",
            "Running GridSearchCV for AdaBoostClassifier \n",
            "\n",
            "Fitting 5 folds for each of 1 candidates, totalling 5 fits\n"
          ]
        },
        {
          "name": "stderr",
          "output_type": "stream",
          "text": [
            "/workspace/.pip-modules/lib/python3.8/site-packages/sklearn/model_selection/_validation.py:696: UserWarning: Scoring failed. The score on this train-test partition for these parameters will be set to nan. Details: \n",
            "Traceback (most recent call last):\n",
            "  File \"/workspace/.pip-modules/lib/python3.8/site-packages/sklearn/model_selection/_validation.py\", line 687, in _score\n",
            "    scores = scorer(estimator, X_test, y_test)\n",
            "  File \"/workspace/.pip-modules/lib/python3.8/site-packages/sklearn/metrics/_scorer.py\", line 199, in __call__\n",
            "    return self._score(partial(_cached_call, None), estimator, X, y_true,\n",
            "  File \"/workspace/.pip-modules/lib/python3.8/site-packages/sklearn/metrics/_scorer.py\", line 242, in _score\n",
            "    return self._sign * self._score_func(y_true, y_pred,\n",
            "  File \"/workspace/.pip-modules/lib/python3.8/site-packages/sklearn/utils/validation.py\", line 63, in inner_f\n",
            "    return f(*args, **kwargs)\n",
            "  File \"/workspace/.pip-modules/lib/python3.8/site-packages/sklearn/metrics/_classification.py\", line 1774, in recall_score\n",
            "    _, r, _, _ = precision_recall_fscore_support(y_true, y_pred,\n",
            "  File \"/workspace/.pip-modules/lib/python3.8/site-packages/sklearn/utils/validation.py\", line 63, in inner_f\n",
            "    return f(*args, **kwargs)\n",
            "  File \"/workspace/.pip-modules/lib/python3.8/site-packages/sklearn/metrics/_classification.py\", line 1464, in precision_recall_fscore_support\n",
            "    labels = _check_set_wise_labels(y_true, y_pred, average, labels,\n",
            "  File \"/workspace/.pip-modules/lib/python3.8/site-packages/sklearn/metrics/_classification.py\", line 1294, in _check_set_wise_labels\n",
            "    raise ValueError(\"Target is %s but average='binary'. Please \"\n",
            "ValueError: Target is multiclass but average='binary'. Please choose another average setting, one of [None, 'micro', 'macro', 'weighted'].\n",
            "\n",
            "  warnings.warn(\n",
            "/workspace/.pip-modules/lib/python3.8/site-packages/sklearn/model_selection/_validation.py:696: UserWarning: Scoring failed. The score on this train-test partition for these parameters will be set to nan. Details: \n",
            "Traceback (most recent call last):\n",
            "  File \"/workspace/.pip-modules/lib/python3.8/site-packages/sklearn/model_selection/_validation.py\", line 687, in _score\n",
            "    scores = scorer(estimator, X_test, y_test)\n",
            "  File \"/workspace/.pip-modules/lib/python3.8/site-packages/sklearn/metrics/_scorer.py\", line 199, in __call__\n",
            "    return self._score(partial(_cached_call, None), estimator, X, y_true,\n",
            "  File \"/workspace/.pip-modules/lib/python3.8/site-packages/sklearn/metrics/_scorer.py\", line 242, in _score\n",
            "    return self._sign * self._score_func(y_true, y_pred,\n",
            "  File \"/workspace/.pip-modules/lib/python3.8/site-packages/sklearn/utils/validation.py\", line 63, in inner_f\n",
            "    return f(*args, **kwargs)\n",
            "  File \"/workspace/.pip-modules/lib/python3.8/site-packages/sklearn/metrics/_classification.py\", line 1774, in recall_score\n",
            "    _, r, _, _ = precision_recall_fscore_support(y_true, y_pred,\n",
            "  File \"/workspace/.pip-modules/lib/python3.8/site-packages/sklearn/utils/validation.py\", line 63, in inner_f\n",
            "    return f(*args, **kwargs)\n",
            "  File \"/workspace/.pip-modules/lib/python3.8/site-packages/sklearn/metrics/_classification.py\", line 1464, in precision_recall_fscore_support\n",
            "    labels = _check_set_wise_labels(y_true, y_pred, average, labels,\n",
            "  File \"/workspace/.pip-modules/lib/python3.8/site-packages/sklearn/metrics/_classification.py\", line 1294, in _check_set_wise_labels\n",
            "    raise ValueError(\"Target is %s but average='binary'. Please \"\n",
            "ValueError: Target is multiclass but average='binary'. Please choose another average setting, one of [None, 'micro', 'macro', 'weighted'].\n",
            "\n",
            "  warnings.warn(\n",
            "/workspace/.pip-modules/lib/python3.8/site-packages/sklearn/model_selection/_validation.py:696: UserWarning: Scoring failed. The score on this train-test partition for these parameters will be set to nan. Details: \n",
            "Traceback (most recent call last):\n",
            "  File \"/workspace/.pip-modules/lib/python3.8/site-packages/sklearn/model_selection/_validation.py\", line 687, in _score\n",
            "    scores = scorer(estimator, X_test, y_test)\n",
            "  File \"/workspace/.pip-modules/lib/python3.8/site-packages/sklearn/metrics/_scorer.py\", line 199, in __call__\n",
            "    return self._score(partial(_cached_call, None), estimator, X, y_true,\n",
            "  File \"/workspace/.pip-modules/lib/python3.8/site-packages/sklearn/metrics/_scorer.py\", line 242, in _score\n",
            "    return self._sign * self._score_func(y_true, y_pred,\n",
            "  File \"/workspace/.pip-modules/lib/python3.8/site-packages/sklearn/utils/validation.py\", line 63, in inner_f\n",
            "    return f(*args, **kwargs)\n",
            "  File \"/workspace/.pip-modules/lib/python3.8/site-packages/sklearn/metrics/_classification.py\", line 1774, in recall_score\n",
            "    _, r, _, _ = precision_recall_fscore_support(y_true, y_pred,\n",
            "  File \"/workspace/.pip-modules/lib/python3.8/site-packages/sklearn/utils/validation.py\", line 63, in inner_f\n",
            "    return f(*args, **kwargs)\n",
            "  File \"/workspace/.pip-modules/lib/python3.8/site-packages/sklearn/metrics/_classification.py\", line 1464, in precision_recall_fscore_support\n",
            "    labels = _check_set_wise_labels(y_true, y_pred, average, labels,\n",
            "  File \"/workspace/.pip-modules/lib/python3.8/site-packages/sklearn/metrics/_classification.py\", line 1294, in _check_set_wise_labels\n",
            "    raise ValueError(\"Target is %s but average='binary'. Please \"\n",
            "ValueError: Target is multiclass but average='binary'. Please choose another average setting, one of [None, 'micro', 'macro', 'weighted'].\n",
            "\n",
            "  warnings.warn(\n",
            "/workspace/.pip-modules/lib/python3.8/site-packages/sklearn/model_selection/_validation.py:696: UserWarning: Scoring failed. The score on this train-test partition for these parameters will be set to nan. Details: \n",
            "Traceback (most recent call last):\n",
            "  File \"/workspace/.pip-modules/lib/python3.8/site-packages/sklearn/model_selection/_validation.py\", line 687, in _score\n",
            "    scores = scorer(estimator, X_test, y_test)\n",
            "  File \"/workspace/.pip-modules/lib/python3.8/site-packages/sklearn/metrics/_scorer.py\", line 199, in __call__\n",
            "    return self._score(partial(_cached_call, None), estimator, X, y_true,\n",
            "  File \"/workspace/.pip-modules/lib/python3.8/site-packages/sklearn/metrics/_scorer.py\", line 242, in _score\n",
            "    return self._sign * self._score_func(y_true, y_pred,\n",
            "  File \"/workspace/.pip-modules/lib/python3.8/site-packages/sklearn/utils/validation.py\", line 63, in inner_f\n",
            "    return f(*args, **kwargs)\n",
            "  File \"/workspace/.pip-modules/lib/python3.8/site-packages/sklearn/metrics/_classification.py\", line 1774, in recall_score\n",
            "    _, r, _, _ = precision_recall_fscore_support(y_true, y_pred,\n",
            "  File \"/workspace/.pip-modules/lib/python3.8/site-packages/sklearn/utils/validation.py\", line 63, in inner_f\n",
            "    return f(*args, **kwargs)\n",
            "  File \"/workspace/.pip-modules/lib/python3.8/site-packages/sklearn/metrics/_classification.py\", line 1464, in precision_recall_fscore_support\n",
            "    labels = _check_set_wise_labels(y_true, y_pred, average, labels,\n",
            "  File \"/workspace/.pip-modules/lib/python3.8/site-packages/sklearn/metrics/_classification.py\", line 1294, in _check_set_wise_labels\n",
            "    raise ValueError(\"Target is %s but average='binary'. Please \"\n",
            "ValueError: Target is multiclass but average='binary'. Please choose another average setting, one of [None, 'micro', 'macro', 'weighted'].\n",
            "\n",
            "  warnings.warn(\n",
            "/workspace/.pip-modules/lib/python3.8/site-packages/sklearn/model_selection/_validation.py:696: UserWarning: Scoring failed. The score on this train-test partition for these parameters will be set to nan. Details: \n",
            "Traceback (most recent call last):\n",
            "  File \"/workspace/.pip-modules/lib/python3.8/site-packages/sklearn/model_selection/_validation.py\", line 687, in _score\n",
            "    scores = scorer(estimator, X_test, y_test)\n",
            "  File \"/workspace/.pip-modules/lib/python3.8/site-packages/sklearn/metrics/_scorer.py\", line 199, in __call__\n",
            "    return self._score(partial(_cached_call, None), estimator, X, y_true,\n",
            "  File \"/workspace/.pip-modules/lib/python3.8/site-packages/sklearn/metrics/_scorer.py\", line 242, in _score\n",
            "    return self._sign * self._score_func(y_true, y_pred,\n",
            "  File \"/workspace/.pip-modules/lib/python3.8/site-packages/sklearn/utils/validation.py\", line 63, in inner_f\n",
            "    return f(*args, **kwargs)\n",
            "  File \"/workspace/.pip-modules/lib/python3.8/site-packages/sklearn/metrics/_classification.py\", line 1774, in recall_score\n",
            "    _, r, _, _ = precision_recall_fscore_support(y_true, y_pred,\n",
            "  File \"/workspace/.pip-modules/lib/python3.8/site-packages/sklearn/utils/validation.py\", line 63, in inner_f\n",
            "    return f(*args, **kwargs)\n",
            "  File \"/workspace/.pip-modules/lib/python3.8/site-packages/sklearn/metrics/_classification.py\", line 1464, in precision_recall_fscore_support\n",
            "    labels = _check_set_wise_labels(y_true, y_pred, average, labels,\n",
            "  File \"/workspace/.pip-modules/lib/python3.8/site-packages/sklearn/metrics/_classification.py\", line 1294, in _check_set_wise_labels\n",
            "    raise ValueError(\"Target is %s but average='binary'. Please \"\n",
            "ValueError: Target is multiclass but average='binary'. Please choose another average setting, one of [None, 'micro', 'macro', 'weighted'].\n",
            "\n",
            "  warnings.warn(\n",
            "/workspace/.pip-modules/lib/python3.8/site-packages/sklearn/model_selection/_search.py:922: UserWarning: One or more of the test scores are non-finite: [nan]\n",
            "  warnings.warn(\n"
          ]
        }
      ],
      "source": [
        "search = HyperparameterOptimizationSearch(models=models_quick_search, params=params_quick_search)\n",
        "search.fit(X_train, y_train,\n",
        "           scoring =  make_scorer(recall_score, pos_label=1),\n",
        "           n_jobs=-1, cv=5)"
      ]
    },
    {
      "cell_type": "markdown",
      "metadata": {
        "id": "g0bkL-IxwnJx"
      },
      "source": [
        "Check results: We note, disappointingly, that gridsearch appears to have failed."
      ]
    },
    {
      "cell_type": "code",
      "execution_count": 35,
      "metadata": {
        "id": "YpFOc7OAKMuz"
      },
      "outputs": [
        {
          "data": {
            "text/html": [
              "<div>\n",
              "<style scoped>\n",
              "    .dataframe tbody tr th:only-of-type {\n",
              "        vertical-align: middle;\n",
              "    }\n",
              "\n",
              "    .dataframe tbody tr th {\n",
              "        vertical-align: top;\n",
              "    }\n",
              "\n",
              "    .dataframe thead th {\n",
              "        text-align: right;\n",
              "    }\n",
              "</style>\n",
              "<table border=\"1\" class=\"dataframe\">\n",
              "  <thead>\n",
              "    <tr style=\"text-align: right;\">\n",
              "      <th></th>\n",
              "      <th>estimator</th>\n",
              "      <th>min_score</th>\n",
              "      <th>mean_score</th>\n",
              "      <th>max_score</th>\n",
              "      <th>std_score</th>\n",
              "    </tr>\n",
              "  </thead>\n",
              "  <tbody>\n",
              "    <tr>\n",
              "      <th>0</th>\n",
              "      <td>LogisticRegression</td>\n",
              "      <td>NaN</td>\n",
              "      <td>NaN</td>\n",
              "      <td>NaN</td>\n",
              "      <td>NaN</td>\n",
              "    </tr>\n",
              "    <tr>\n",
              "      <th>1</th>\n",
              "      <td>XGBClassifier</td>\n",
              "      <td>NaN</td>\n",
              "      <td>NaN</td>\n",
              "      <td>NaN</td>\n",
              "      <td>NaN</td>\n",
              "    </tr>\n",
              "    <tr>\n",
              "      <th>2</th>\n",
              "      <td>DecisionTreeClassifier</td>\n",
              "      <td>NaN</td>\n",
              "      <td>NaN</td>\n",
              "      <td>NaN</td>\n",
              "      <td>NaN</td>\n",
              "    </tr>\n",
              "    <tr>\n",
              "      <th>3</th>\n",
              "      <td>RandomForestClassifier</td>\n",
              "      <td>NaN</td>\n",
              "      <td>NaN</td>\n",
              "      <td>NaN</td>\n",
              "      <td>NaN</td>\n",
              "    </tr>\n",
              "    <tr>\n",
              "      <th>4</th>\n",
              "      <td>GradientBoostingClassifier</td>\n",
              "      <td>NaN</td>\n",
              "      <td>NaN</td>\n",
              "      <td>NaN</td>\n",
              "      <td>NaN</td>\n",
              "    </tr>\n",
              "    <tr>\n",
              "      <th>5</th>\n",
              "      <td>ExtraTreesClassifier</td>\n",
              "      <td>NaN</td>\n",
              "      <td>NaN</td>\n",
              "      <td>NaN</td>\n",
              "      <td>NaN</td>\n",
              "    </tr>\n",
              "    <tr>\n",
              "      <th>6</th>\n",
              "      <td>AdaBoostClassifier</td>\n",
              "      <td>NaN</td>\n",
              "      <td>NaN</td>\n",
              "      <td>NaN</td>\n",
              "      <td>NaN</td>\n",
              "    </tr>\n",
              "  </tbody>\n",
              "</table>\n",
              "</div>"
            ],
            "text/plain": [
              "                    estimator min_score mean_score max_score std_score\n",
              "0          LogisticRegression       NaN        NaN       NaN       NaN\n",
              "1               XGBClassifier       NaN        NaN       NaN       NaN\n",
              "2      DecisionTreeClassifier       NaN        NaN       NaN       NaN\n",
              "3      RandomForestClassifier       NaN        NaN       NaN       NaN\n",
              "4  GradientBoostingClassifier       NaN        NaN       NaN       NaN\n",
              "5        ExtraTreesClassifier       NaN        NaN       NaN       NaN\n",
              "6          AdaBoostClassifier       NaN        NaN       NaN       NaN"
            ]
          },
          "execution_count": 35,
          "metadata": {},
          "output_type": "execute_result"
        }
      ],
      "source": [
        "grid_search_summary, grid_search_pipelines = search.score_summary(sort_by='mean_score')\n",
        "grid_search_summary"
      ]
    },
    {
      "cell_type": "markdown",
      "metadata": {
        "id": "ewezVDt46jTJ"
      },
      "source": [
        "### Do an extensive search on the most suitable algorithm to find the best hyperparameter configuration."
      ]
    },
    {
      "cell_type": "markdown",
      "metadata": {
        "id": "Z1WozH5frBQ9"
      },
      "source": [
        "Define model and parameters, for Extensive Search"
      ]
    },
    {
      "cell_type": "code",
      "execution_count": 36,
      "metadata": {
        "id": "sDT_WMUErBRB"
      },
      "outputs": [],
      "source": [
        "models_search = {\n",
        "    \"XGBClassifier\":XGBClassifier(random_state=0),\n",
        "}\n",
        "\n",
        "# documentation to help on hyperparameter list:\n",
        "# https://xgboost.readthedocs.io/en/latest/python/python_api.html#module-xgboost.sklearn\n",
        "\n",
        "# We will not conduct an extensive search, since the focus\n",
        "# is on how to combine all knowledge in an applied project.\n",
        "# In a workplace project, you may spend more time in this step\n",
        "params_search = {\n",
        "    \"XGBClassifier\":{\n",
        "        'model__learning_rate': [1e-1,1e-2,1e-3],\n",
        "        'model__max_depth': [3,10,None],\n",
        "    }\n",
        "}"
      ]
    },
    {
      "cell_type": "markdown",
      "metadata": {
        "id": "BP2Ua0FGrBRC"
      },
      "source": [
        "Extensive GridSearch CV - Binary Classifier"
      ]
    },
    {
      "cell_type": "code",
      "execution_count": 37,
      "metadata": {
        "id": "WK1s893orBRD"
      },
      "outputs": [
        {
          "name": "stdout",
          "output_type": "stream",
          "text": [
            "\n",
            "Running GridSearchCV for XGBClassifier \n",
            "\n",
            "Fitting 5 folds for each of 9 candidates, totalling 45 fits\n"
          ]
        },
        {
          "name": "stderr",
          "output_type": "stream",
          "text": [
            "/workspace/.pip-modules/lib/python3.8/site-packages/xgboost/compat.py:93: FutureWarning: pandas.Int64Index is deprecated and will be removed from pandas in a future version. Use pandas.Index with the appropriate dtype instead.\n",
            "  from pandas import MultiIndex, Int64Index\n",
            "/workspace/.pip-modules/lib/python3.8/site-packages/xgboost/compat.py:93: FutureWarning: pandas.Int64Index is deprecated and will be removed from pandas in a future version. Use pandas.Index with the appropriate dtype instead.\n",
            "  from pandas import MultiIndex, Int64Index\n",
            "/workspace/.pip-modules/lib/python3.8/site-packages/xgboost/compat.py:93: FutureWarning: pandas.Int64Index is deprecated and will be removed from pandas in a future version. Use pandas.Index with the appropriate dtype instead.\n",
            "  from pandas import MultiIndex, Int64Index\n",
            "/workspace/.pip-modules/lib/python3.8/site-packages/xgboost/compat.py:93: FutureWarning: pandas.Int64Index is deprecated and will be removed from pandas in a future version. Use pandas.Index with the appropriate dtype instead.\n",
            "  from pandas import MultiIndex, Int64Index\n",
            "/workspace/.pip-modules/lib/python3.8/site-packages/xgboost/compat.py:93: FutureWarning: pandas.Int64Index is deprecated and will be removed from pandas in a future version. Use pandas.Index with the appropriate dtype instead.\n",
            "  from pandas import MultiIndex, Int64Index\n",
            "/workspace/.pip-modules/lib/python3.8/site-packages/xgboost/compat.py:93: FutureWarning: pandas.Int64Index is deprecated and will be removed from pandas in a future version. Use pandas.Index with the appropriate dtype instead.\n",
            "  from pandas import MultiIndex, Int64Index\n",
            "/workspace/.pip-modules/lib/python3.8/site-packages/xgboost/compat.py:93: FutureWarning: pandas.Int64Index is deprecated and will be removed from pandas in a future version. Use pandas.Index with the appropriate dtype instead.\n",
            "  from pandas import MultiIndex, Int64Index\n",
            "/workspace/.pip-modules/lib/python3.8/site-packages/xgboost/compat.py:93: FutureWarning: pandas.Int64Index is deprecated and will be removed from pandas in a future version. Use pandas.Index with the appropriate dtype instead.\n",
            "  from pandas import MultiIndex, Int64Index\n",
            "/workspace/.pip-modules/lib/python3.8/site-packages/xgboost/compat.py:93: FutureWarning: pandas.Int64Index is deprecated and will be removed from pandas in a future version. Use pandas.Index with the appropriate dtype instead.\n",
            "  from pandas import MultiIndex, Int64Index\n",
            "/workspace/.pip-modules/lib/python3.8/site-packages/xgboost/compat.py:93: FutureWarning: pandas.Int64Index is deprecated and will be removed from pandas in a future version. Use pandas.Index with the appropriate dtype instead.\n",
            "  from pandas import MultiIndex, Int64Index\n",
            "/workspace/.pip-modules/lib/python3.8/site-packages/xgboost/compat.py:93: FutureWarning: pandas.Int64Index is deprecated and will be removed from pandas in a future version. Use pandas.Index with the appropriate dtype instead.\n",
            "  from pandas import MultiIndex, Int64Index\n",
            "/workspace/.pip-modules/lib/python3.8/site-packages/sklearn/model_selection/_validation.py:696: UserWarning: Scoring failed. The score on this train-test partition for these parameters will be set to nan. Details: \n",
            "Traceback (most recent call last):\n",
            "  File \"/workspace/.pip-modules/lib/python3.8/site-packages/sklearn/model_selection/_validation.py\", line 687, in _score\n",
            "    scores = scorer(estimator, X_test, y_test)\n",
            "  File \"/workspace/.pip-modules/lib/python3.8/site-packages/sklearn/metrics/_scorer.py\", line 199, in __call__\n",
            "    return self._score(partial(_cached_call, None), estimator, X, y_true,\n",
            "  File \"/workspace/.pip-modules/lib/python3.8/site-packages/sklearn/metrics/_scorer.py\", line 242, in _score\n",
            "    return self._sign * self._score_func(y_true, y_pred,\n",
            "  File \"/workspace/.pip-modules/lib/python3.8/site-packages/sklearn/utils/validation.py\", line 63, in inner_f\n",
            "    return f(*args, **kwargs)\n",
            "  File \"/workspace/.pip-modules/lib/python3.8/site-packages/sklearn/metrics/_classification.py\", line 1774, in recall_score\n",
            "    _, r, _, _ = precision_recall_fscore_support(y_true, y_pred,\n",
            "  File \"/workspace/.pip-modules/lib/python3.8/site-packages/sklearn/utils/validation.py\", line 63, in inner_f\n",
            "    return f(*args, **kwargs)\n",
            "  File \"/workspace/.pip-modules/lib/python3.8/site-packages/sklearn/metrics/_classification.py\", line 1464, in precision_recall_fscore_support\n",
            "    labels = _check_set_wise_labels(y_true, y_pred, average, labels,\n",
            "  File \"/workspace/.pip-modules/lib/python3.8/site-packages/sklearn/metrics/_classification.py\", line 1294, in _check_set_wise_labels\n",
            "    raise ValueError(\"Target is %s but average='binary'. Please \"\n",
            "ValueError: Target is multiclass but average='binary'. Please choose another average setting, one of [None, 'micro', 'macro', 'weighted'].\n",
            "\n",
            "  warnings.warn(\n",
            "/workspace/.pip-modules/lib/python3.8/site-packages/sklearn/model_selection/_validation.py:696: UserWarning: Scoring failed. The score on this train-test partition for these parameters will be set to nan. Details: \n",
            "Traceback (most recent call last):\n",
            "  File \"/workspace/.pip-modules/lib/python3.8/site-packages/sklearn/model_selection/_validation.py\", line 687, in _score\n",
            "    scores = scorer(estimator, X_test, y_test)\n",
            "  File \"/workspace/.pip-modules/lib/python3.8/site-packages/sklearn/metrics/_scorer.py\", line 199, in __call__\n",
            "    return self._score(partial(_cached_call, None), estimator, X, y_true,\n",
            "  File \"/workspace/.pip-modules/lib/python3.8/site-packages/sklearn/metrics/_scorer.py\", line 242, in _score\n",
            "    return self._sign * self._score_func(y_true, y_pred,\n",
            "  File \"/workspace/.pip-modules/lib/python3.8/site-packages/sklearn/utils/validation.py\", line 63, in inner_f\n",
            "    return f(*args, **kwargs)\n",
            "  File \"/workspace/.pip-modules/lib/python3.8/site-packages/sklearn/metrics/_classification.py\", line 1774, in recall_score\n",
            "    _, r, _, _ = precision_recall_fscore_support(y_true, y_pred,\n",
            "  File \"/workspace/.pip-modules/lib/python3.8/site-packages/sklearn/utils/validation.py\", line 63, in inner_f\n",
            "    return f(*args, **kwargs)\n",
            "  File \"/workspace/.pip-modules/lib/python3.8/site-packages/sklearn/metrics/_classification.py\", line 1464, in precision_recall_fscore_support\n",
            "    labels = _check_set_wise_labels(y_true, y_pred, average, labels,\n",
            "  File \"/workspace/.pip-modules/lib/python3.8/site-packages/sklearn/metrics/_classification.py\", line 1294, in _check_set_wise_labels\n",
            "    raise ValueError(\"Target is %s but average='binary'. Please \"\n",
            "ValueError: Target is multiclass but average='binary'. Please choose another average setting, one of [None, 'micro', 'macro', 'weighted'].\n",
            "\n",
            "  warnings.warn(\n",
            "/workspace/.pip-modules/lib/python3.8/site-packages/sklearn/model_selection/_validation.py:696: UserWarning: Scoring failed. The score on this train-test partition for these parameters will be set to nan. Details: \n",
            "Traceback (most recent call last):\n",
            "  File \"/workspace/.pip-modules/lib/python3.8/site-packages/sklearn/model_selection/_validation.py\", line 687, in _score\n",
            "    scores = scorer(estimator, X_test, y_test)\n",
            "  File \"/workspace/.pip-modules/lib/python3.8/site-packages/sklearn/metrics/_scorer.py\", line 199, in __call__\n",
            "    return self._score(partial(_cached_call, None), estimator, X, y_true,\n",
            "  File \"/workspace/.pip-modules/lib/python3.8/site-packages/sklearn/metrics/_scorer.py\", line 242, in _score\n",
            "    return self._sign * self._score_func(y_true, y_pred,\n",
            "  File \"/workspace/.pip-modules/lib/python3.8/site-packages/sklearn/utils/validation.py\", line 63, in inner_f\n",
            "    return f(*args, **kwargs)\n",
            "  File \"/workspace/.pip-modules/lib/python3.8/site-packages/sklearn/metrics/_classification.py\", line 1774, in recall_score\n",
            "    _, r, _, _ = precision_recall_fscore_support(y_true, y_pred,\n",
            "  File \"/workspace/.pip-modules/lib/python3.8/site-packages/sklearn/utils/validation.py\", line 63, in inner_f\n",
            "    return f(*args, **kwargs)\n",
            "  File \"/workspace/.pip-modules/lib/python3.8/site-packages/sklearn/metrics/_classification.py\", line 1464, in precision_recall_fscore_support\n",
            "    labels = _check_set_wise_labels(y_true, y_pred, average, labels,\n",
            "  File \"/workspace/.pip-modules/lib/python3.8/site-packages/sklearn/metrics/_classification.py\", line 1294, in _check_set_wise_labels\n",
            "    raise ValueError(\"Target is %s but average='binary'. Please \"\n",
            "ValueError: Target is multiclass but average='binary'. Please choose another average setting, one of [None, 'micro', 'macro', 'weighted'].\n",
            "\n",
            "  warnings.warn(\n",
            "/workspace/.pip-modules/lib/python3.8/site-packages/sklearn/model_selection/_validation.py:696: UserWarning: Scoring failed. The score on this train-test partition for these parameters will be set to nan. Details: \n",
            "Traceback (most recent call last):\n",
            "  File \"/workspace/.pip-modules/lib/python3.8/site-packages/sklearn/model_selection/_validation.py\", line 687, in _score\n",
            "    scores = scorer(estimator, X_test, y_test)\n",
            "  File \"/workspace/.pip-modules/lib/python3.8/site-packages/sklearn/metrics/_scorer.py\", line 199, in __call__\n",
            "    return self._score(partial(_cached_call, None), estimator, X, y_true,\n",
            "  File \"/workspace/.pip-modules/lib/python3.8/site-packages/sklearn/metrics/_scorer.py\", line 242, in _score\n",
            "    return self._sign * self._score_func(y_true, y_pred,\n",
            "  File \"/workspace/.pip-modules/lib/python3.8/site-packages/sklearn/utils/validation.py\", line 63, in inner_f\n",
            "    return f(*args, **kwargs)\n",
            "  File \"/workspace/.pip-modules/lib/python3.8/site-packages/sklearn/metrics/_classification.py\", line 1774, in recall_score\n",
            "    _, r, _, _ = precision_recall_fscore_support(y_true, y_pred,\n",
            "  File \"/workspace/.pip-modules/lib/python3.8/site-packages/sklearn/utils/validation.py\", line 63, in inner_f\n",
            "    return f(*args, **kwargs)\n",
            "  File \"/workspace/.pip-modules/lib/python3.8/site-packages/sklearn/metrics/_classification.py\", line 1464, in precision_recall_fscore_support\n",
            "    labels = _check_set_wise_labels(y_true, y_pred, average, labels,\n",
            "  File \"/workspace/.pip-modules/lib/python3.8/site-packages/sklearn/metrics/_classification.py\", line 1294, in _check_set_wise_labels\n",
            "    raise ValueError(\"Target is %s but average='binary'. Please \"\n",
            "ValueError: Target is multiclass but average='binary'. Please choose another average setting, one of [None, 'micro', 'macro', 'weighted'].\n",
            "\n",
            "  warnings.warn(\n",
            "/workspace/.pip-modules/lib/python3.8/site-packages/sklearn/model_selection/_validation.py:696: UserWarning: Scoring failed. The score on this train-test partition for these parameters will be set to nan. Details: \n",
            "Traceback (most recent call last):\n",
            "  File \"/workspace/.pip-modules/lib/python3.8/site-packages/sklearn/model_selection/_validation.py\", line 687, in _score\n",
            "    scores = scorer(estimator, X_test, y_test)\n",
            "  File \"/workspace/.pip-modules/lib/python3.8/site-packages/sklearn/metrics/_scorer.py\", line 199, in __call__\n",
            "    return self._score(partial(_cached_call, None), estimator, X, y_true,\n",
            "  File \"/workspace/.pip-modules/lib/python3.8/site-packages/sklearn/metrics/_scorer.py\", line 242, in _score\n",
            "    return self._sign * self._score_func(y_true, y_pred,\n",
            "  File \"/workspace/.pip-modules/lib/python3.8/site-packages/sklearn/utils/validation.py\", line 63, in inner_f\n",
            "    return f(*args, **kwargs)\n",
            "  File \"/workspace/.pip-modules/lib/python3.8/site-packages/sklearn/metrics/_classification.py\", line 1774, in recall_score\n",
            "    _, r, _, _ = precision_recall_fscore_support(y_true, y_pred,\n",
            "  File \"/workspace/.pip-modules/lib/python3.8/site-packages/sklearn/utils/validation.py\", line 63, in inner_f\n",
            "    return f(*args, **kwargs)\n",
            "  File \"/workspace/.pip-modules/lib/python3.8/site-packages/sklearn/metrics/_classification.py\", line 1464, in precision_recall_fscore_support\n",
            "    labels = _check_set_wise_labels(y_true, y_pred, average, labels,\n",
            "  File \"/workspace/.pip-modules/lib/python3.8/site-packages/sklearn/metrics/_classification.py\", line 1294, in _check_set_wise_labels\n",
            "    raise ValueError(\"Target is %s but average='binary'. Please \"\n",
            "ValueError: Target is multiclass but average='binary'. Please choose another average setting, one of [None, 'micro', 'macro', 'weighted'].\n",
            "\n",
            "  warnings.warn(\n",
            "/workspace/.pip-modules/lib/python3.8/site-packages/sklearn/model_selection/_validation.py:696: UserWarning: Scoring failed. The score on this train-test partition for these parameters will be set to nan. Details: \n",
            "Traceback (most recent call last):\n",
            "  File \"/workspace/.pip-modules/lib/python3.8/site-packages/sklearn/model_selection/_validation.py\", line 687, in _score\n",
            "    scores = scorer(estimator, X_test, y_test)\n",
            "  File \"/workspace/.pip-modules/lib/python3.8/site-packages/sklearn/metrics/_scorer.py\", line 199, in __call__\n",
            "    return self._score(partial(_cached_call, None), estimator, X, y_true,\n",
            "  File \"/workspace/.pip-modules/lib/python3.8/site-packages/sklearn/metrics/_scorer.py\", line 242, in _score\n",
            "    return self._sign * self._score_func(y_true, y_pred,\n",
            "  File \"/workspace/.pip-modules/lib/python3.8/site-packages/sklearn/utils/validation.py\", line 63, in inner_f\n",
            "    return f(*args, **kwargs)\n",
            "  File \"/workspace/.pip-modules/lib/python3.8/site-packages/sklearn/metrics/_classification.py\", line 1774, in recall_score\n",
            "    _, r, _, _ = precision_recall_fscore_support(y_true, y_pred,\n",
            "  File \"/workspace/.pip-modules/lib/python3.8/site-packages/sklearn/utils/validation.py\", line 63, in inner_f\n",
            "    return f(*args, **kwargs)\n",
            "  File \"/workspace/.pip-modules/lib/python3.8/site-packages/sklearn/metrics/_classification.py\", line 1464, in precision_recall_fscore_support\n",
            "    labels = _check_set_wise_labels(y_true, y_pred, average, labels,\n",
            "  File \"/workspace/.pip-modules/lib/python3.8/site-packages/sklearn/metrics/_classification.py\", line 1294, in _check_set_wise_labels\n",
            "    raise ValueError(\"Target is %s but average='binary'. Please \"\n",
            "ValueError: Target is multiclass but average='binary'. Please choose another average setting, one of [None, 'micro', 'macro', 'weighted'].\n",
            "\n",
            "  warnings.warn(\n",
            "/workspace/.pip-modules/lib/python3.8/site-packages/sklearn/model_selection/_validation.py:696: UserWarning: Scoring failed. The score on this train-test partition for these parameters will be set to nan. Details: \n",
            "Traceback (most recent call last):\n",
            "  File \"/workspace/.pip-modules/lib/python3.8/site-packages/sklearn/model_selection/_validation.py\", line 687, in _score\n",
            "    scores = scorer(estimator, X_test, y_test)\n",
            "  File \"/workspace/.pip-modules/lib/python3.8/site-packages/sklearn/metrics/_scorer.py\", line 199, in __call__\n",
            "    return self._score(partial(_cached_call, None), estimator, X, y_true,\n",
            "  File \"/workspace/.pip-modules/lib/python3.8/site-packages/sklearn/metrics/_scorer.py\", line 242, in _score\n",
            "    return self._sign * self._score_func(y_true, y_pred,\n",
            "  File \"/workspace/.pip-modules/lib/python3.8/site-packages/sklearn/utils/validation.py\", line 63, in inner_f\n",
            "    return f(*args, **kwargs)\n",
            "  File \"/workspace/.pip-modules/lib/python3.8/site-packages/sklearn/metrics/_classification.py\", line 1774, in recall_score\n",
            "    _, r, _, _ = precision_recall_fscore_support(y_true, y_pred,\n",
            "  File \"/workspace/.pip-modules/lib/python3.8/site-packages/sklearn/utils/validation.py\", line 63, in inner_f\n",
            "    return f(*args, **kwargs)\n",
            "  File \"/workspace/.pip-modules/lib/python3.8/site-packages/sklearn/metrics/_classification.py\", line 1464, in precision_recall_fscore_support\n",
            "    labels = _check_set_wise_labels(y_true, y_pred, average, labels,\n",
            "  File \"/workspace/.pip-modules/lib/python3.8/site-packages/sklearn/metrics/_classification.py\", line 1294, in _check_set_wise_labels\n",
            "    raise ValueError(\"Target is %s but average='binary'. Please \"\n",
            "ValueError: Target is multiclass but average='binary'. Please choose another average setting, one of [None, 'micro', 'macro', 'weighted'].\n",
            "\n",
            "  warnings.warn(\n",
            "/workspace/.pip-modules/lib/python3.8/site-packages/sklearn/model_selection/_validation.py:696: UserWarning: Scoring failed. The score on this train-test partition for these parameters will be set to nan. Details: \n",
            "Traceback (most recent call last):\n",
            "  File \"/workspace/.pip-modules/lib/python3.8/site-packages/sklearn/model_selection/_validation.py\", line 687, in _score\n",
            "    scores = scorer(estimator, X_test, y_test)\n",
            "  File \"/workspace/.pip-modules/lib/python3.8/site-packages/sklearn/metrics/_scorer.py\", line 199, in __call__\n",
            "    return self._score(partial(_cached_call, None), estimator, X, y_true,\n",
            "  File \"/workspace/.pip-modules/lib/python3.8/site-packages/sklearn/metrics/_scorer.py\", line 242, in _score\n",
            "    return self._sign * self._score_func(y_true, y_pred,\n",
            "  File \"/workspace/.pip-modules/lib/python3.8/site-packages/sklearn/utils/validation.py\", line 63, in inner_f\n",
            "    return f(*args, **kwargs)\n",
            "  File \"/workspace/.pip-modules/lib/python3.8/site-packages/sklearn/metrics/_classification.py\", line 1774, in recall_score\n",
            "    _, r, _, _ = precision_recall_fscore_support(y_true, y_pred,\n",
            "  File \"/workspace/.pip-modules/lib/python3.8/site-packages/sklearn/utils/validation.py\", line 63, in inner_f\n",
            "    return f(*args, **kwargs)\n",
            "  File \"/workspace/.pip-modules/lib/python3.8/site-packages/sklearn/metrics/_classification.py\", line 1464, in precision_recall_fscore_support\n",
            "    labels = _check_set_wise_labels(y_true, y_pred, average, labels,\n",
            "  File \"/workspace/.pip-modules/lib/python3.8/site-packages/sklearn/metrics/_classification.py\", line 1294, in _check_set_wise_labels\n",
            "    raise ValueError(\"Target is %s but average='binary'. Please \"\n",
            "ValueError: Target is multiclass but average='binary'. Please choose another average setting, one of [None, 'micro', 'macro', 'weighted'].\n",
            "\n",
            "  warnings.warn(\n",
            "/workspace/.pip-modules/lib/python3.8/site-packages/sklearn/model_selection/_validation.py:696: UserWarning: Scoring failed. The score on this train-test partition for these parameters will be set to nan. Details: \n",
            "Traceback (most recent call last):\n",
            "  File \"/workspace/.pip-modules/lib/python3.8/site-packages/sklearn/model_selection/_validation.py\", line 687, in _score\n",
            "    scores = scorer(estimator, X_test, y_test)\n",
            "  File \"/workspace/.pip-modules/lib/python3.8/site-packages/sklearn/metrics/_scorer.py\", line 199, in __call__\n",
            "    return self._score(partial(_cached_call, None), estimator, X, y_true,\n",
            "  File \"/workspace/.pip-modules/lib/python3.8/site-packages/sklearn/metrics/_scorer.py\", line 242, in _score\n",
            "    return self._sign * self._score_func(y_true, y_pred,\n",
            "  File \"/workspace/.pip-modules/lib/python3.8/site-packages/sklearn/utils/validation.py\", line 63, in inner_f\n",
            "    return f(*args, **kwargs)\n",
            "  File \"/workspace/.pip-modules/lib/python3.8/site-packages/sklearn/metrics/_classification.py\", line 1774, in recall_score\n",
            "    _, r, _, _ = precision_recall_fscore_support(y_true, y_pred,\n",
            "  File \"/workspace/.pip-modules/lib/python3.8/site-packages/sklearn/utils/validation.py\", line 63, in inner_f\n",
            "    return f(*args, **kwargs)\n",
            "  File \"/workspace/.pip-modules/lib/python3.8/site-packages/sklearn/metrics/_classification.py\", line 1464, in precision_recall_fscore_support\n",
            "    labels = _check_set_wise_labels(y_true, y_pred, average, labels,\n",
            "  File \"/workspace/.pip-modules/lib/python3.8/site-packages/sklearn/metrics/_classification.py\", line 1294, in _check_set_wise_labels\n",
            "    raise ValueError(\"Target is %s but average='binary'. Please \"\n",
            "ValueError: Target is multiclass but average='binary'. Please choose another average setting, one of [None, 'micro', 'macro', 'weighted'].\n",
            "\n",
            "  warnings.warn(\n",
            "/workspace/.pip-modules/lib/python3.8/site-packages/sklearn/model_selection/_validation.py:696: UserWarning: Scoring failed. The score on this train-test partition for these parameters will be set to nan. Details: \n",
            "Traceback (most recent call last):\n",
            "  File \"/workspace/.pip-modules/lib/python3.8/site-packages/sklearn/model_selection/_validation.py\", line 687, in _score\n",
            "    scores = scorer(estimator, X_test, y_test)\n",
            "  File \"/workspace/.pip-modules/lib/python3.8/site-packages/sklearn/metrics/_scorer.py\", line 199, in __call__\n",
            "    return self._score(partial(_cached_call, None), estimator, X, y_true,\n",
            "  File \"/workspace/.pip-modules/lib/python3.8/site-packages/sklearn/metrics/_scorer.py\", line 242, in _score\n",
            "    return self._sign * self._score_func(y_true, y_pred,\n",
            "  File \"/workspace/.pip-modules/lib/python3.8/site-packages/sklearn/utils/validation.py\", line 63, in inner_f\n",
            "    return f(*args, **kwargs)\n",
            "  File \"/workspace/.pip-modules/lib/python3.8/site-packages/sklearn/metrics/_classification.py\", line 1774, in recall_score\n",
            "    _, r, _, _ = precision_recall_fscore_support(y_true, y_pred,\n",
            "  File \"/workspace/.pip-modules/lib/python3.8/site-packages/sklearn/utils/validation.py\", line 63, in inner_f\n",
            "    return f(*args, **kwargs)\n",
            "  File \"/workspace/.pip-modules/lib/python3.8/site-packages/sklearn/metrics/_classification.py\", line 1464, in precision_recall_fscore_support\n",
            "    labels = _check_set_wise_labels(y_true, y_pred, average, labels,\n",
            "  File \"/workspace/.pip-modules/lib/python3.8/site-packages/sklearn/metrics/_classification.py\", line 1294, in _check_set_wise_labels\n",
            "    raise ValueError(\"Target is %s but average='binary'. Please \"\n",
            "ValueError: Target is multiclass but average='binary'. Please choose another average setting, one of [None, 'micro', 'macro', 'weighted'].\n",
            "\n",
            "  warnings.warn(\n",
            "/workspace/.pip-modules/lib/python3.8/site-packages/sklearn/model_selection/_validation.py:696: UserWarning: Scoring failed. The score on this train-test partition for these parameters will be set to nan. Details: \n",
            "Traceback (most recent call last):\n",
            "  File \"/workspace/.pip-modules/lib/python3.8/site-packages/sklearn/model_selection/_validation.py\", line 687, in _score\n",
            "    scores = scorer(estimator, X_test, y_test)\n",
            "  File \"/workspace/.pip-modules/lib/python3.8/site-packages/sklearn/metrics/_scorer.py\", line 199, in __call__\n",
            "    return self._score(partial(_cached_call, None), estimator, X, y_true,\n",
            "  File \"/workspace/.pip-modules/lib/python3.8/site-packages/sklearn/metrics/_scorer.py\", line 242, in _score\n",
            "    return self._sign * self._score_func(y_true, y_pred,\n",
            "  File \"/workspace/.pip-modules/lib/python3.8/site-packages/sklearn/utils/validation.py\", line 63, in inner_f\n",
            "    return f(*args, **kwargs)\n",
            "  File \"/workspace/.pip-modules/lib/python3.8/site-packages/sklearn/metrics/_classification.py\", line 1774, in recall_score\n",
            "    _, r, _, _ = precision_recall_fscore_support(y_true, y_pred,\n",
            "  File \"/workspace/.pip-modules/lib/python3.8/site-packages/sklearn/utils/validation.py\", line 63, in inner_f\n",
            "    return f(*args, **kwargs)\n",
            "  File \"/workspace/.pip-modules/lib/python3.8/site-packages/sklearn/metrics/_classification.py\", line 1464, in precision_recall_fscore_support\n",
            "    labels = _check_set_wise_labels(y_true, y_pred, average, labels,\n",
            "  File \"/workspace/.pip-modules/lib/python3.8/site-packages/sklearn/metrics/_classification.py\", line 1294, in _check_set_wise_labels\n",
            "    raise ValueError(\"Target is %s but average='binary'. Please \"\n",
            "ValueError: Target is multiclass but average='binary'. Please choose another average setting, one of [None, 'micro', 'macro', 'weighted'].\n",
            "\n",
            "  warnings.warn(\n",
            "/workspace/.pip-modules/lib/python3.8/site-packages/sklearn/model_selection/_validation.py:696: UserWarning: Scoring failed. The score on this train-test partition for these parameters will be set to nan. Details: \n",
            "Traceback (most recent call last):\n",
            "  File \"/workspace/.pip-modules/lib/python3.8/site-packages/sklearn/model_selection/_validation.py\", line 687, in _score\n",
            "    scores = scorer(estimator, X_test, y_test)\n",
            "  File \"/workspace/.pip-modules/lib/python3.8/site-packages/sklearn/metrics/_scorer.py\", line 199, in __call__\n",
            "    return self._score(partial(_cached_call, None), estimator, X, y_true,\n",
            "  File \"/workspace/.pip-modules/lib/python3.8/site-packages/sklearn/metrics/_scorer.py\", line 242, in _score\n",
            "    return self._sign * self._score_func(y_true, y_pred,\n",
            "  File \"/workspace/.pip-modules/lib/python3.8/site-packages/sklearn/utils/validation.py\", line 63, in inner_f\n",
            "    return f(*args, **kwargs)\n",
            "  File \"/workspace/.pip-modules/lib/python3.8/site-packages/sklearn/metrics/_classification.py\", line 1774, in recall_score\n",
            "    _, r, _, _ = precision_recall_fscore_support(y_true, y_pred,\n",
            "  File \"/workspace/.pip-modules/lib/python3.8/site-packages/sklearn/utils/validation.py\", line 63, in inner_f\n",
            "    return f(*args, **kwargs)\n",
            "  File \"/workspace/.pip-modules/lib/python3.8/site-packages/sklearn/metrics/_classification.py\", line 1464, in precision_recall_fscore_support\n",
            "    labels = _check_set_wise_labels(y_true, y_pred, average, labels,\n",
            "  File \"/workspace/.pip-modules/lib/python3.8/site-packages/sklearn/metrics/_classification.py\", line 1294, in _check_set_wise_labels\n",
            "    raise ValueError(\"Target is %s but average='binary'. Please \"\n",
            "ValueError: Target is multiclass but average='binary'. Please choose another average setting, one of [None, 'micro', 'macro', 'weighted'].\n",
            "\n",
            "  warnings.warn(\n",
            "/workspace/.pip-modules/lib/python3.8/site-packages/sklearn/model_selection/_validation.py:696: UserWarning: Scoring failed. The score on this train-test partition for these parameters will be set to nan. Details: \n",
            "Traceback (most recent call last):\n",
            "  File \"/workspace/.pip-modules/lib/python3.8/site-packages/sklearn/model_selection/_validation.py\", line 687, in _score\n",
            "    scores = scorer(estimator, X_test, y_test)\n",
            "  File \"/workspace/.pip-modules/lib/python3.8/site-packages/sklearn/metrics/_scorer.py\", line 199, in __call__\n",
            "    return self._score(partial(_cached_call, None), estimator, X, y_true,\n",
            "  File \"/workspace/.pip-modules/lib/python3.8/site-packages/sklearn/metrics/_scorer.py\", line 242, in _score\n",
            "    return self._sign * self._score_func(y_true, y_pred,\n",
            "  File \"/workspace/.pip-modules/lib/python3.8/site-packages/sklearn/utils/validation.py\", line 63, in inner_f\n",
            "    return f(*args, **kwargs)\n",
            "  File \"/workspace/.pip-modules/lib/python3.8/site-packages/sklearn/metrics/_classification.py\", line 1774, in recall_score\n",
            "    _, r, _, _ = precision_recall_fscore_support(y_true, y_pred,\n",
            "  File \"/workspace/.pip-modules/lib/python3.8/site-packages/sklearn/utils/validation.py\", line 63, in inner_f\n",
            "    return f(*args, **kwargs)\n",
            "  File \"/workspace/.pip-modules/lib/python3.8/site-packages/sklearn/metrics/_classification.py\", line 1464, in precision_recall_fscore_support\n",
            "    labels = _check_set_wise_labels(y_true, y_pred, average, labels,\n",
            "  File \"/workspace/.pip-modules/lib/python3.8/site-packages/sklearn/metrics/_classification.py\", line 1294, in _check_set_wise_labels\n",
            "    raise ValueError(\"Target is %s but average='binary'. Please \"\n",
            "ValueError: Target is multiclass but average='binary'. Please choose another average setting, one of [None, 'micro', 'macro', 'weighted'].\n",
            "\n",
            "  warnings.warn(\n",
            "/workspace/.pip-modules/lib/python3.8/site-packages/sklearn/model_selection/_validation.py:696: UserWarning: Scoring failed. The score on this train-test partition for these parameters will be set to nan. Details: \n",
            "Traceback (most recent call last):\n",
            "  File \"/workspace/.pip-modules/lib/python3.8/site-packages/sklearn/model_selection/_validation.py\", line 687, in _score\n",
            "    scores = scorer(estimator, X_test, y_test)\n",
            "  File \"/workspace/.pip-modules/lib/python3.8/site-packages/sklearn/metrics/_scorer.py\", line 199, in __call__\n",
            "    return self._score(partial(_cached_call, None), estimator, X, y_true,\n",
            "  File \"/workspace/.pip-modules/lib/python3.8/site-packages/sklearn/metrics/_scorer.py\", line 242, in _score\n",
            "    return self._sign * self._score_func(y_true, y_pred,\n",
            "  File \"/workspace/.pip-modules/lib/python3.8/site-packages/sklearn/utils/validation.py\", line 63, in inner_f\n",
            "    return f(*args, **kwargs)\n",
            "  File \"/workspace/.pip-modules/lib/python3.8/site-packages/sklearn/metrics/_classification.py\", line 1774, in recall_score\n",
            "    _, r, _, _ = precision_recall_fscore_support(y_true, y_pred,\n",
            "  File \"/workspace/.pip-modules/lib/python3.8/site-packages/sklearn/utils/validation.py\", line 63, in inner_f\n",
            "    return f(*args, **kwargs)\n",
            "  File \"/workspace/.pip-modules/lib/python3.8/site-packages/sklearn/metrics/_classification.py\", line 1464, in precision_recall_fscore_support\n",
            "    labels = _check_set_wise_labels(y_true, y_pred, average, labels,\n",
            "  File \"/workspace/.pip-modules/lib/python3.8/site-packages/sklearn/metrics/_classification.py\", line 1294, in _check_set_wise_labels\n",
            "    raise ValueError(\"Target is %s but average='binary'. Please \"\n",
            "ValueError: Target is multiclass but average='binary'. Please choose another average setting, one of [None, 'micro', 'macro', 'weighted'].\n",
            "\n",
            "  warnings.warn(\n",
            "/workspace/.pip-modules/lib/python3.8/site-packages/sklearn/model_selection/_validation.py:696: UserWarning: Scoring failed. The score on this train-test partition for these parameters will be set to nan. Details: \n",
            "Traceback (most recent call last):\n",
            "  File \"/workspace/.pip-modules/lib/python3.8/site-packages/sklearn/model_selection/_validation.py\", line 687, in _score\n",
            "    scores = scorer(estimator, X_test, y_test)\n",
            "  File \"/workspace/.pip-modules/lib/python3.8/site-packages/sklearn/metrics/_scorer.py\", line 199, in __call__\n",
            "    return self._score(partial(_cached_call, None), estimator, X, y_true,\n",
            "  File \"/workspace/.pip-modules/lib/python3.8/site-packages/sklearn/metrics/_scorer.py\", line 242, in _score\n",
            "    return self._sign * self._score_func(y_true, y_pred,\n",
            "  File \"/workspace/.pip-modules/lib/python3.8/site-packages/sklearn/utils/validation.py\", line 63, in inner_f\n",
            "    return f(*args, **kwargs)\n",
            "  File \"/workspace/.pip-modules/lib/python3.8/site-packages/sklearn/metrics/_classification.py\", line 1774, in recall_score\n",
            "    _, r, _, _ = precision_recall_fscore_support(y_true, y_pred,\n",
            "  File \"/workspace/.pip-modules/lib/python3.8/site-packages/sklearn/utils/validation.py\", line 63, in inner_f\n",
            "    return f(*args, **kwargs)\n",
            "  File \"/workspace/.pip-modules/lib/python3.8/site-packages/sklearn/metrics/_classification.py\", line 1464, in precision_recall_fscore_support\n",
            "    labels = _check_set_wise_labels(y_true, y_pred, average, labels,\n",
            "  File \"/workspace/.pip-modules/lib/python3.8/site-packages/sklearn/metrics/_classification.py\", line 1294, in _check_set_wise_labels\n",
            "    raise ValueError(\"Target is %s but average='binary'. Please \"\n",
            "ValueError: Target is multiclass but average='binary'. Please choose another average setting, one of [None, 'micro', 'macro', 'weighted'].\n",
            "\n",
            "  warnings.warn(\n",
            "/workspace/.pip-modules/lib/python3.8/site-packages/sklearn/model_selection/_validation.py:696: UserWarning: Scoring failed. The score on this train-test partition for these parameters will be set to nan. Details: \n",
            "Traceback (most recent call last):\n",
            "  File \"/workspace/.pip-modules/lib/python3.8/site-packages/sklearn/model_selection/_validation.py\", line 687, in _score\n",
            "    scores = scorer(estimator, X_test, y_test)\n",
            "  File \"/workspace/.pip-modules/lib/python3.8/site-packages/sklearn/metrics/_scorer.py\", line 199, in __call__\n",
            "    return self._score(partial(_cached_call, None), estimator, X, y_true,\n",
            "  File \"/workspace/.pip-modules/lib/python3.8/site-packages/sklearn/metrics/_scorer.py\", line 242, in _score\n",
            "    return self._sign * self._score_func(y_true, y_pred,\n",
            "  File \"/workspace/.pip-modules/lib/python3.8/site-packages/sklearn/utils/validation.py\", line 63, in inner_f\n",
            "    return f(*args, **kwargs)\n",
            "  File \"/workspace/.pip-modules/lib/python3.8/site-packages/sklearn/metrics/_classification.py\", line 1774, in recall_score\n",
            "    _, r, _, _ = precision_recall_fscore_support(y_true, y_pred,\n",
            "  File \"/workspace/.pip-modules/lib/python3.8/site-packages/sklearn/utils/validation.py\", line 63, in inner_f\n",
            "    return f(*args, **kwargs)\n",
            "  File \"/workspace/.pip-modules/lib/python3.8/site-packages/sklearn/metrics/_classification.py\", line 1464, in precision_recall_fscore_support\n",
            "    labels = _check_set_wise_labels(y_true, y_pred, average, labels,\n",
            "  File \"/workspace/.pip-modules/lib/python3.8/site-packages/sklearn/metrics/_classification.py\", line 1294, in _check_set_wise_labels\n",
            "    raise ValueError(\"Target is %s but average='binary'. Please \"\n",
            "ValueError: Target is multiclass but average='binary'. Please choose another average setting, one of [None, 'micro', 'macro', 'weighted'].\n",
            "\n",
            "  warnings.warn(\n",
            "/workspace/.pip-modules/lib/python3.8/site-packages/sklearn/model_selection/_validation.py:696: UserWarning: Scoring failed. The score on this train-test partition for these parameters will be set to nan. Details: \n",
            "Traceback (most recent call last):\n",
            "  File \"/workspace/.pip-modules/lib/python3.8/site-packages/sklearn/model_selection/_validation.py\", line 687, in _score\n",
            "    scores = scorer(estimator, X_test, y_test)\n",
            "  File \"/workspace/.pip-modules/lib/python3.8/site-packages/sklearn/metrics/_scorer.py\", line 199, in __call__\n",
            "    return self._score(partial(_cached_call, None), estimator, X, y_true,\n",
            "  File \"/workspace/.pip-modules/lib/python3.8/site-packages/sklearn/metrics/_scorer.py\", line 242, in _score\n",
            "    return self._sign * self._score_func(y_true, y_pred,\n",
            "  File \"/workspace/.pip-modules/lib/python3.8/site-packages/sklearn/utils/validation.py\", line 63, in inner_f\n",
            "    return f(*args, **kwargs)\n",
            "  File \"/workspace/.pip-modules/lib/python3.8/site-packages/sklearn/metrics/_classification.py\", line 1774, in recall_score\n",
            "    _, r, _, _ = precision_recall_fscore_support(y_true, y_pred,\n",
            "  File \"/workspace/.pip-modules/lib/python3.8/site-packages/sklearn/utils/validation.py\", line 63, in inner_f\n",
            "    return f(*args, **kwargs)\n",
            "  File \"/workspace/.pip-modules/lib/python3.8/site-packages/sklearn/metrics/_classification.py\", line 1464, in precision_recall_fscore_support\n",
            "    labels = _check_set_wise_labels(y_true, y_pred, average, labels,\n",
            "  File \"/workspace/.pip-modules/lib/python3.8/site-packages/sklearn/metrics/_classification.py\", line 1294, in _check_set_wise_labels\n",
            "    raise ValueError(\"Target is %s but average='binary'. Please \"\n",
            "ValueError: Target is multiclass but average='binary'. Please choose another average setting, one of [None, 'micro', 'macro', 'weighted'].\n",
            "\n",
            "  warnings.warn(\n",
            "/workspace/.pip-modules/lib/python3.8/site-packages/sklearn/model_selection/_validation.py:696: UserWarning: Scoring failed. The score on this train-test partition for these parameters will be set to nan. Details: \n",
            "Traceback (most recent call last):\n",
            "  File \"/workspace/.pip-modules/lib/python3.8/site-packages/sklearn/model_selection/_validation.py\", line 687, in _score\n",
            "    scores = scorer(estimator, X_test, y_test)\n",
            "  File \"/workspace/.pip-modules/lib/python3.8/site-packages/sklearn/metrics/_scorer.py\", line 199, in __call__\n",
            "    return self._score(partial(_cached_call, None), estimator, X, y_true,\n",
            "  File \"/workspace/.pip-modules/lib/python3.8/site-packages/sklearn/metrics/_scorer.py\", line 242, in _score\n",
            "    return self._sign * self._score_func(y_true, y_pred,\n",
            "  File \"/workspace/.pip-modules/lib/python3.8/site-packages/sklearn/utils/validation.py\", line 63, in inner_f\n",
            "    return f(*args, **kwargs)\n",
            "  File \"/workspace/.pip-modules/lib/python3.8/site-packages/sklearn/metrics/_classification.py\", line 1774, in recall_score\n",
            "    _, r, _, _ = precision_recall_fscore_support(y_true, y_pred,\n",
            "  File \"/workspace/.pip-modules/lib/python3.8/site-packages/sklearn/utils/validation.py\", line 63, in inner_f\n",
            "    return f(*args, **kwargs)\n",
            "  File \"/workspace/.pip-modules/lib/python3.8/site-packages/sklearn/metrics/_classification.py\", line 1464, in precision_recall_fscore_support\n",
            "    labels = _check_set_wise_labels(y_true, y_pred, average, labels,\n",
            "  File \"/workspace/.pip-modules/lib/python3.8/site-packages/sklearn/metrics/_classification.py\", line 1294, in _check_set_wise_labels\n",
            "    raise ValueError(\"Target is %s but average='binary'. Please \"\n",
            "ValueError: Target is multiclass but average='binary'. Please choose another average setting, one of [None, 'micro', 'macro', 'weighted'].\n",
            "\n",
            "  warnings.warn(\n",
            "/workspace/.pip-modules/lib/python3.8/site-packages/sklearn/model_selection/_validation.py:696: UserWarning: Scoring failed. The score on this train-test partition for these parameters will be set to nan. Details: \n",
            "Traceback (most recent call last):\n",
            "  File \"/workspace/.pip-modules/lib/python3.8/site-packages/sklearn/model_selection/_validation.py\", line 687, in _score\n",
            "    scores = scorer(estimator, X_test, y_test)\n",
            "  File \"/workspace/.pip-modules/lib/python3.8/site-packages/sklearn/metrics/_scorer.py\", line 199, in __call__\n",
            "    return self._score(partial(_cached_call, None), estimator, X, y_true,\n",
            "  File \"/workspace/.pip-modules/lib/python3.8/site-packages/sklearn/metrics/_scorer.py\", line 242, in _score\n",
            "    return self._sign * self._score_func(y_true, y_pred,\n",
            "  File \"/workspace/.pip-modules/lib/python3.8/site-packages/sklearn/utils/validation.py\", line 63, in inner_f\n",
            "    return f(*args, **kwargs)\n",
            "  File \"/workspace/.pip-modules/lib/python3.8/site-packages/sklearn/metrics/_classification.py\", line 1774, in recall_score\n",
            "    _, r, _, _ = precision_recall_fscore_support(y_true, y_pred,\n",
            "  File \"/workspace/.pip-modules/lib/python3.8/site-packages/sklearn/utils/validation.py\", line 63, in inner_f\n",
            "    return f(*args, **kwargs)\n",
            "  File \"/workspace/.pip-modules/lib/python3.8/site-packages/sklearn/metrics/_classification.py\", line 1464, in precision_recall_fscore_support\n",
            "    labels = _check_set_wise_labels(y_true, y_pred, average, labels,\n",
            "  File \"/workspace/.pip-modules/lib/python3.8/site-packages/sklearn/metrics/_classification.py\", line 1294, in _check_set_wise_labels\n",
            "    raise ValueError(\"Target is %s but average='binary'. Please \"\n",
            "ValueError: Target is multiclass but average='binary'. Please choose another average setting, one of [None, 'micro', 'macro', 'weighted'].\n",
            "\n",
            "  warnings.warn(\n",
            "/workspace/.pip-modules/lib/python3.8/site-packages/sklearn/model_selection/_validation.py:696: UserWarning: Scoring failed. The score on this train-test partition for these parameters will be set to nan. Details: \n",
            "Traceback (most recent call last):\n",
            "  File \"/workspace/.pip-modules/lib/python3.8/site-packages/sklearn/model_selection/_validation.py\", line 687, in _score\n",
            "    scores = scorer(estimator, X_test, y_test)\n",
            "  File \"/workspace/.pip-modules/lib/python3.8/site-packages/sklearn/metrics/_scorer.py\", line 199, in __call__\n",
            "    return self._score(partial(_cached_call, None), estimator, X, y_true,\n",
            "  File \"/workspace/.pip-modules/lib/python3.8/site-packages/sklearn/metrics/_scorer.py\", line 242, in _score\n",
            "    return self._sign * self._score_func(y_true, y_pred,\n",
            "  File \"/workspace/.pip-modules/lib/python3.8/site-packages/sklearn/utils/validation.py\", line 63, in inner_f\n",
            "    return f(*args, **kwargs)\n",
            "  File \"/workspace/.pip-modules/lib/python3.8/site-packages/sklearn/metrics/_classification.py\", line 1774, in recall_score\n",
            "    _, r, _, _ = precision_recall_fscore_support(y_true, y_pred,\n",
            "  File \"/workspace/.pip-modules/lib/python3.8/site-packages/sklearn/utils/validation.py\", line 63, in inner_f\n",
            "    return f(*args, **kwargs)\n",
            "  File \"/workspace/.pip-modules/lib/python3.8/site-packages/sklearn/metrics/_classification.py\", line 1464, in precision_recall_fscore_support\n",
            "    labels = _check_set_wise_labels(y_true, y_pred, average, labels,\n",
            "  File \"/workspace/.pip-modules/lib/python3.8/site-packages/sklearn/metrics/_classification.py\", line 1294, in _check_set_wise_labels\n",
            "    raise ValueError(\"Target is %s but average='binary'. Please \"\n",
            "ValueError: Target is multiclass but average='binary'. Please choose another average setting, one of [None, 'micro', 'macro', 'weighted'].\n",
            "\n",
            "  warnings.warn(\n",
            "/workspace/.pip-modules/lib/python3.8/site-packages/sklearn/model_selection/_validation.py:696: UserWarning: Scoring failed. The score on this train-test partition for these parameters will be set to nan. Details: \n",
            "Traceback (most recent call last):\n",
            "  File \"/workspace/.pip-modules/lib/python3.8/site-packages/sklearn/model_selection/_validation.py\", line 687, in _score\n",
            "    scores = scorer(estimator, X_test, y_test)\n",
            "  File \"/workspace/.pip-modules/lib/python3.8/site-packages/sklearn/metrics/_scorer.py\", line 199, in __call__\n",
            "    return self._score(partial(_cached_call, None), estimator, X, y_true,\n",
            "  File \"/workspace/.pip-modules/lib/python3.8/site-packages/sklearn/metrics/_scorer.py\", line 242, in _score\n",
            "    return self._sign * self._score_func(y_true, y_pred,\n",
            "  File \"/workspace/.pip-modules/lib/python3.8/site-packages/sklearn/utils/validation.py\", line 63, in inner_f\n",
            "    return f(*args, **kwargs)\n",
            "  File \"/workspace/.pip-modules/lib/python3.8/site-packages/sklearn/metrics/_classification.py\", line 1774, in recall_score\n",
            "    _, r, _, _ = precision_recall_fscore_support(y_true, y_pred,\n",
            "  File \"/workspace/.pip-modules/lib/python3.8/site-packages/sklearn/utils/validation.py\", line 63, in inner_f\n",
            "    return f(*args, **kwargs)\n",
            "  File \"/workspace/.pip-modules/lib/python3.8/site-packages/sklearn/metrics/_classification.py\", line 1464, in precision_recall_fscore_support\n",
            "    labels = _check_set_wise_labels(y_true, y_pred, average, labels,\n",
            "  File \"/workspace/.pip-modules/lib/python3.8/site-packages/sklearn/metrics/_classification.py\", line 1294, in _check_set_wise_labels\n",
            "    raise ValueError(\"Target is %s but average='binary'. Please \"\n",
            "ValueError: Target is multiclass but average='binary'. Please choose another average setting, one of [None, 'micro', 'macro', 'weighted'].\n",
            "\n",
            "  warnings.warn(\n",
            "/workspace/.pip-modules/lib/python3.8/site-packages/sklearn/model_selection/_validation.py:696: UserWarning: Scoring failed. The score on this train-test partition for these parameters will be set to nan. Details: \n",
            "Traceback (most recent call last):\n",
            "  File \"/workspace/.pip-modules/lib/python3.8/site-packages/sklearn/model_selection/_validation.py\", line 687, in _score\n",
            "    scores = scorer(estimator, X_test, y_test)\n",
            "  File \"/workspace/.pip-modules/lib/python3.8/site-packages/sklearn/metrics/_scorer.py\", line 199, in __call__\n",
            "    return self._score(partial(_cached_call, None), estimator, X, y_true,\n",
            "  File \"/workspace/.pip-modules/lib/python3.8/site-packages/sklearn/metrics/_scorer.py\", line 242, in _score\n",
            "    return self._sign * self._score_func(y_true, y_pred,\n",
            "  File \"/workspace/.pip-modules/lib/python3.8/site-packages/sklearn/utils/validation.py\", line 63, in inner_f\n",
            "    return f(*args, **kwargs)\n",
            "  File \"/workspace/.pip-modules/lib/python3.8/site-packages/sklearn/metrics/_classification.py\", line 1774, in recall_score\n",
            "    _, r, _, _ = precision_recall_fscore_support(y_true, y_pred,\n",
            "  File \"/workspace/.pip-modules/lib/python3.8/site-packages/sklearn/utils/validation.py\", line 63, in inner_f\n",
            "    return f(*args, **kwargs)\n",
            "  File \"/workspace/.pip-modules/lib/python3.8/site-packages/sklearn/metrics/_classification.py\", line 1464, in precision_recall_fscore_support\n",
            "    labels = _check_set_wise_labels(y_true, y_pred, average, labels,\n",
            "  File \"/workspace/.pip-modules/lib/python3.8/site-packages/sklearn/metrics/_classification.py\", line 1294, in _check_set_wise_labels\n",
            "    raise ValueError(\"Target is %s but average='binary'. Please \"\n",
            "ValueError: Target is multiclass but average='binary'. Please choose another average setting, one of [None, 'micro', 'macro', 'weighted'].\n",
            "\n",
            "  warnings.warn(\n",
            "/workspace/.pip-modules/lib/python3.8/site-packages/sklearn/model_selection/_validation.py:696: UserWarning: Scoring failed. The score on this train-test partition for these parameters will be set to nan. Details: \n",
            "Traceback (most recent call last):\n",
            "  File \"/workspace/.pip-modules/lib/python3.8/site-packages/sklearn/model_selection/_validation.py\", line 687, in _score\n",
            "    scores = scorer(estimator, X_test, y_test)\n",
            "  File \"/workspace/.pip-modules/lib/python3.8/site-packages/sklearn/metrics/_scorer.py\", line 199, in __call__\n",
            "    return self._score(partial(_cached_call, None), estimator, X, y_true,\n",
            "  File \"/workspace/.pip-modules/lib/python3.8/site-packages/sklearn/metrics/_scorer.py\", line 242, in _score\n",
            "    return self._sign * self._score_func(y_true, y_pred,\n",
            "  File \"/workspace/.pip-modules/lib/python3.8/site-packages/sklearn/utils/validation.py\", line 63, in inner_f\n",
            "    return f(*args, **kwargs)\n",
            "  File \"/workspace/.pip-modules/lib/python3.8/site-packages/sklearn/metrics/_classification.py\", line 1774, in recall_score\n",
            "    _, r, _, _ = precision_recall_fscore_support(y_true, y_pred,\n",
            "  File \"/workspace/.pip-modules/lib/python3.8/site-packages/sklearn/utils/validation.py\", line 63, in inner_f\n",
            "    return f(*args, **kwargs)\n",
            "  File \"/workspace/.pip-modules/lib/python3.8/site-packages/sklearn/metrics/_classification.py\", line 1464, in precision_recall_fscore_support\n",
            "    labels = _check_set_wise_labels(y_true, y_pred, average, labels,\n",
            "  File \"/workspace/.pip-modules/lib/python3.8/site-packages/sklearn/metrics/_classification.py\", line 1294, in _check_set_wise_labels\n",
            "    raise ValueError(\"Target is %s but average='binary'. Please \"\n",
            "ValueError: Target is multiclass but average='binary'. Please choose another average setting, one of [None, 'micro', 'macro', 'weighted'].\n",
            "\n",
            "  warnings.warn(\n",
            "/workspace/.pip-modules/lib/python3.8/site-packages/sklearn/model_selection/_validation.py:696: UserWarning: Scoring failed. The score on this train-test partition for these parameters will be set to nan. Details: \n",
            "Traceback (most recent call last):\n",
            "  File \"/workspace/.pip-modules/lib/python3.8/site-packages/sklearn/model_selection/_validation.py\", line 687, in _score\n",
            "    scores = scorer(estimator, X_test, y_test)\n",
            "  File \"/workspace/.pip-modules/lib/python3.8/site-packages/sklearn/metrics/_scorer.py\", line 199, in __call__\n",
            "    return self._score(partial(_cached_call, None), estimator, X, y_true,\n",
            "  File \"/workspace/.pip-modules/lib/python3.8/site-packages/sklearn/metrics/_scorer.py\", line 242, in _score\n",
            "    return self._sign * self._score_func(y_true, y_pred,\n",
            "  File \"/workspace/.pip-modules/lib/python3.8/site-packages/sklearn/utils/validation.py\", line 63, in inner_f\n",
            "    return f(*args, **kwargs)\n",
            "  File \"/workspace/.pip-modules/lib/python3.8/site-packages/sklearn/metrics/_classification.py\", line 1774, in recall_score\n",
            "    _, r, _, _ = precision_recall_fscore_support(y_true, y_pred,\n",
            "  File \"/workspace/.pip-modules/lib/python3.8/site-packages/sklearn/utils/validation.py\", line 63, in inner_f\n",
            "    return f(*args, **kwargs)\n",
            "  File \"/workspace/.pip-modules/lib/python3.8/site-packages/sklearn/metrics/_classification.py\", line 1464, in precision_recall_fscore_support\n",
            "    labels = _check_set_wise_labels(y_true, y_pred, average, labels,\n",
            "  File \"/workspace/.pip-modules/lib/python3.8/site-packages/sklearn/metrics/_classification.py\", line 1294, in _check_set_wise_labels\n",
            "    raise ValueError(\"Target is %s but average='binary'. Please \"\n",
            "ValueError: Target is multiclass but average='binary'. Please choose another average setting, one of [None, 'micro', 'macro', 'weighted'].\n",
            "\n",
            "  warnings.warn(\n",
            "/workspace/.pip-modules/lib/python3.8/site-packages/sklearn/model_selection/_validation.py:696: UserWarning: Scoring failed. The score on this train-test partition for these parameters will be set to nan. Details: \n",
            "Traceback (most recent call last):\n",
            "  File \"/workspace/.pip-modules/lib/python3.8/site-packages/sklearn/model_selection/_validation.py\", line 687, in _score\n",
            "    scores = scorer(estimator, X_test, y_test)\n",
            "  File \"/workspace/.pip-modules/lib/python3.8/site-packages/sklearn/metrics/_scorer.py\", line 199, in __call__\n",
            "    return self._score(partial(_cached_call, None), estimator, X, y_true,\n",
            "  File \"/workspace/.pip-modules/lib/python3.8/site-packages/sklearn/metrics/_scorer.py\", line 242, in _score\n",
            "    return self._sign * self._score_func(y_true, y_pred,\n",
            "  File \"/workspace/.pip-modules/lib/python3.8/site-packages/sklearn/utils/validation.py\", line 63, in inner_f\n",
            "    return f(*args, **kwargs)\n",
            "  File \"/workspace/.pip-modules/lib/python3.8/site-packages/sklearn/metrics/_classification.py\", line 1774, in recall_score\n",
            "    _, r, _, _ = precision_recall_fscore_support(y_true, y_pred,\n",
            "  File \"/workspace/.pip-modules/lib/python3.8/site-packages/sklearn/utils/validation.py\", line 63, in inner_f\n",
            "    return f(*args, **kwargs)\n",
            "  File \"/workspace/.pip-modules/lib/python3.8/site-packages/sklearn/metrics/_classification.py\", line 1464, in precision_recall_fscore_support\n",
            "    labels = _check_set_wise_labels(y_true, y_pred, average, labels,\n",
            "  File \"/workspace/.pip-modules/lib/python3.8/site-packages/sklearn/metrics/_classification.py\", line 1294, in _check_set_wise_labels\n",
            "    raise ValueError(\"Target is %s but average='binary'. Please \"\n",
            "ValueError: Target is multiclass but average='binary'. Please choose another average setting, one of [None, 'micro', 'macro', 'weighted'].\n",
            "\n",
            "  warnings.warn(\n",
            "/workspace/.pip-modules/lib/python3.8/site-packages/sklearn/model_selection/_validation.py:696: UserWarning: Scoring failed. The score on this train-test partition for these parameters will be set to nan. Details: \n",
            "Traceback (most recent call last):\n",
            "  File \"/workspace/.pip-modules/lib/python3.8/site-packages/sklearn/model_selection/_validation.py\", line 687, in _score\n",
            "    scores = scorer(estimator, X_test, y_test)\n",
            "  File \"/workspace/.pip-modules/lib/python3.8/site-packages/sklearn/metrics/_scorer.py\", line 199, in __call__\n",
            "    return self._score(partial(_cached_call, None), estimator, X, y_true,\n",
            "  File \"/workspace/.pip-modules/lib/python3.8/site-packages/sklearn/metrics/_scorer.py\", line 242, in _score\n",
            "    return self._sign * self._score_func(y_true, y_pred,\n",
            "  File \"/workspace/.pip-modules/lib/python3.8/site-packages/sklearn/utils/validation.py\", line 63, in inner_f\n",
            "    return f(*args, **kwargs)\n",
            "  File \"/workspace/.pip-modules/lib/python3.8/site-packages/sklearn/metrics/_classification.py\", line 1774, in recall_score\n",
            "    _, r, _, _ = precision_recall_fscore_support(y_true, y_pred,\n",
            "  File \"/workspace/.pip-modules/lib/python3.8/site-packages/sklearn/utils/validation.py\", line 63, in inner_f\n",
            "    return f(*args, **kwargs)\n",
            "  File \"/workspace/.pip-modules/lib/python3.8/site-packages/sklearn/metrics/_classification.py\", line 1464, in precision_recall_fscore_support\n",
            "    labels = _check_set_wise_labels(y_true, y_pred, average, labels,\n",
            "  File \"/workspace/.pip-modules/lib/python3.8/site-packages/sklearn/metrics/_classification.py\", line 1294, in _check_set_wise_labels\n",
            "    raise ValueError(\"Target is %s but average='binary'. Please \"\n",
            "ValueError: Target is multiclass but average='binary'. Please choose another average setting, one of [None, 'micro', 'macro', 'weighted'].\n",
            "\n",
            "  warnings.warn(\n",
            "/workspace/.pip-modules/lib/python3.8/site-packages/sklearn/model_selection/_validation.py:696: UserWarning: Scoring failed. The score on this train-test partition for these parameters will be set to nan. Details: \n",
            "Traceback (most recent call last):\n",
            "  File \"/workspace/.pip-modules/lib/python3.8/site-packages/sklearn/model_selection/_validation.py\", line 687, in _score\n",
            "    scores = scorer(estimator, X_test, y_test)\n",
            "  File \"/workspace/.pip-modules/lib/python3.8/site-packages/sklearn/metrics/_scorer.py\", line 199, in __call__\n",
            "    return self._score(partial(_cached_call, None), estimator, X, y_true,\n",
            "  File \"/workspace/.pip-modules/lib/python3.8/site-packages/sklearn/metrics/_scorer.py\", line 242, in _score\n",
            "    return self._sign * self._score_func(y_true, y_pred,\n",
            "  File \"/workspace/.pip-modules/lib/python3.8/site-packages/sklearn/utils/validation.py\", line 63, in inner_f\n",
            "    return f(*args, **kwargs)\n",
            "  File \"/workspace/.pip-modules/lib/python3.8/site-packages/sklearn/metrics/_classification.py\", line 1774, in recall_score\n",
            "    _, r, _, _ = precision_recall_fscore_support(y_true, y_pred,\n",
            "  File \"/workspace/.pip-modules/lib/python3.8/site-packages/sklearn/utils/validation.py\", line 63, in inner_f\n",
            "    return f(*args, **kwargs)\n",
            "  File \"/workspace/.pip-modules/lib/python3.8/site-packages/sklearn/metrics/_classification.py\", line 1464, in precision_recall_fscore_support\n",
            "    labels = _check_set_wise_labels(y_true, y_pred, average, labels,\n",
            "  File \"/workspace/.pip-modules/lib/python3.8/site-packages/sklearn/metrics/_classification.py\", line 1294, in _check_set_wise_labels\n",
            "    raise ValueError(\"Target is %s but average='binary'. Please \"\n",
            "ValueError: Target is multiclass but average='binary'. Please choose another average setting, one of [None, 'micro', 'macro', 'weighted'].\n",
            "\n",
            "  warnings.warn(\n",
            "/workspace/.pip-modules/lib/python3.8/site-packages/sklearn/model_selection/_validation.py:696: UserWarning: Scoring failed. The score on this train-test partition for these parameters will be set to nan. Details: \n",
            "Traceback (most recent call last):\n",
            "  File \"/workspace/.pip-modules/lib/python3.8/site-packages/sklearn/model_selection/_validation.py\", line 687, in _score\n",
            "    scores = scorer(estimator, X_test, y_test)\n",
            "  File \"/workspace/.pip-modules/lib/python3.8/site-packages/sklearn/metrics/_scorer.py\", line 199, in __call__\n",
            "    return self._score(partial(_cached_call, None), estimator, X, y_true,\n",
            "  File \"/workspace/.pip-modules/lib/python3.8/site-packages/sklearn/metrics/_scorer.py\", line 242, in _score\n",
            "    return self._sign * self._score_func(y_true, y_pred,\n",
            "  File \"/workspace/.pip-modules/lib/python3.8/site-packages/sklearn/utils/validation.py\", line 63, in inner_f\n",
            "    return f(*args, **kwargs)\n",
            "  File \"/workspace/.pip-modules/lib/python3.8/site-packages/sklearn/metrics/_classification.py\", line 1774, in recall_score\n",
            "    _, r, _, _ = precision_recall_fscore_support(y_true, y_pred,\n",
            "  File \"/workspace/.pip-modules/lib/python3.8/site-packages/sklearn/utils/validation.py\", line 63, in inner_f\n",
            "    return f(*args, **kwargs)\n",
            "  File \"/workspace/.pip-modules/lib/python3.8/site-packages/sklearn/metrics/_classification.py\", line 1464, in precision_recall_fscore_support\n",
            "    labels = _check_set_wise_labels(y_true, y_pred, average, labels,\n",
            "  File \"/workspace/.pip-modules/lib/python3.8/site-packages/sklearn/metrics/_classification.py\", line 1294, in _check_set_wise_labels\n",
            "    raise ValueError(\"Target is %s but average='binary'. Please \"\n",
            "ValueError: Target is multiclass but average='binary'. Please choose another average setting, one of [None, 'micro', 'macro', 'weighted'].\n",
            "\n",
            "  warnings.warn(\n",
            "/workspace/.pip-modules/lib/python3.8/site-packages/sklearn/model_selection/_validation.py:696: UserWarning: Scoring failed. The score on this train-test partition for these parameters will be set to nan. Details: \n",
            "Traceback (most recent call last):\n",
            "  File \"/workspace/.pip-modules/lib/python3.8/site-packages/sklearn/model_selection/_validation.py\", line 687, in _score\n",
            "    scores = scorer(estimator, X_test, y_test)\n",
            "  File \"/workspace/.pip-modules/lib/python3.8/site-packages/sklearn/metrics/_scorer.py\", line 199, in __call__\n",
            "    return self._score(partial(_cached_call, None), estimator, X, y_true,\n",
            "  File \"/workspace/.pip-modules/lib/python3.8/site-packages/sklearn/metrics/_scorer.py\", line 242, in _score\n",
            "    return self._sign * self._score_func(y_true, y_pred,\n",
            "  File \"/workspace/.pip-modules/lib/python3.8/site-packages/sklearn/utils/validation.py\", line 63, in inner_f\n",
            "    return f(*args, **kwargs)\n",
            "  File \"/workspace/.pip-modules/lib/python3.8/site-packages/sklearn/metrics/_classification.py\", line 1774, in recall_score\n",
            "    _, r, _, _ = precision_recall_fscore_support(y_true, y_pred,\n",
            "  File \"/workspace/.pip-modules/lib/python3.8/site-packages/sklearn/utils/validation.py\", line 63, in inner_f\n",
            "    return f(*args, **kwargs)\n",
            "  File \"/workspace/.pip-modules/lib/python3.8/site-packages/sklearn/metrics/_classification.py\", line 1464, in precision_recall_fscore_support\n",
            "    labels = _check_set_wise_labels(y_true, y_pred, average, labels,\n",
            "  File \"/workspace/.pip-modules/lib/python3.8/site-packages/sklearn/metrics/_classification.py\", line 1294, in _check_set_wise_labels\n",
            "    raise ValueError(\"Target is %s but average='binary'. Please \"\n",
            "ValueError: Target is multiclass but average='binary'. Please choose another average setting, one of [None, 'micro', 'macro', 'weighted'].\n",
            "\n",
            "  warnings.warn(\n",
            "/workspace/.pip-modules/lib/python3.8/site-packages/sklearn/model_selection/_validation.py:696: UserWarning: Scoring failed. The score on this train-test partition for these parameters will be set to nan. Details: \n",
            "Traceback (most recent call last):\n",
            "  File \"/workspace/.pip-modules/lib/python3.8/site-packages/sklearn/model_selection/_validation.py\", line 687, in _score\n",
            "    scores = scorer(estimator, X_test, y_test)\n",
            "  File \"/workspace/.pip-modules/lib/python3.8/site-packages/sklearn/metrics/_scorer.py\", line 199, in __call__\n",
            "    return self._score(partial(_cached_call, None), estimator, X, y_true,\n",
            "  File \"/workspace/.pip-modules/lib/python3.8/site-packages/sklearn/metrics/_scorer.py\", line 242, in _score\n",
            "    return self._sign * self._score_func(y_true, y_pred,\n",
            "  File \"/workspace/.pip-modules/lib/python3.8/site-packages/sklearn/utils/validation.py\", line 63, in inner_f\n",
            "    return f(*args, **kwargs)\n",
            "  File \"/workspace/.pip-modules/lib/python3.8/site-packages/sklearn/metrics/_classification.py\", line 1774, in recall_score\n",
            "    _, r, _, _ = precision_recall_fscore_support(y_true, y_pred,\n",
            "  File \"/workspace/.pip-modules/lib/python3.8/site-packages/sklearn/utils/validation.py\", line 63, in inner_f\n",
            "    return f(*args, **kwargs)\n",
            "  File \"/workspace/.pip-modules/lib/python3.8/site-packages/sklearn/metrics/_classification.py\", line 1464, in precision_recall_fscore_support\n",
            "    labels = _check_set_wise_labels(y_true, y_pred, average, labels,\n",
            "  File \"/workspace/.pip-modules/lib/python3.8/site-packages/sklearn/metrics/_classification.py\", line 1294, in _check_set_wise_labels\n",
            "    raise ValueError(\"Target is %s but average='binary'. Please \"\n",
            "ValueError: Target is multiclass but average='binary'. Please choose another average setting, one of [None, 'micro', 'macro', 'weighted'].\n",
            "\n",
            "  warnings.warn(\n",
            "/workspace/.pip-modules/lib/python3.8/site-packages/sklearn/model_selection/_validation.py:696: UserWarning: Scoring failed. The score on this train-test partition for these parameters will be set to nan. Details: \n",
            "Traceback (most recent call last):\n",
            "  File \"/workspace/.pip-modules/lib/python3.8/site-packages/sklearn/model_selection/_validation.py\", line 687, in _score\n",
            "    scores = scorer(estimator, X_test, y_test)\n",
            "  File \"/workspace/.pip-modules/lib/python3.8/site-packages/sklearn/metrics/_scorer.py\", line 199, in __call__\n",
            "    return self._score(partial(_cached_call, None), estimator, X, y_true,\n",
            "  File \"/workspace/.pip-modules/lib/python3.8/site-packages/sklearn/metrics/_scorer.py\", line 242, in _score\n",
            "    return self._sign * self._score_func(y_true, y_pred,\n",
            "  File \"/workspace/.pip-modules/lib/python3.8/site-packages/sklearn/utils/validation.py\", line 63, in inner_f\n",
            "    return f(*args, **kwargs)\n",
            "  File \"/workspace/.pip-modules/lib/python3.8/site-packages/sklearn/metrics/_classification.py\", line 1774, in recall_score\n",
            "    _, r, _, _ = precision_recall_fscore_support(y_true, y_pred,\n",
            "  File \"/workspace/.pip-modules/lib/python3.8/site-packages/sklearn/utils/validation.py\", line 63, in inner_f\n",
            "    return f(*args, **kwargs)\n",
            "  File \"/workspace/.pip-modules/lib/python3.8/site-packages/sklearn/metrics/_classification.py\", line 1464, in precision_recall_fscore_support\n",
            "    labels = _check_set_wise_labels(y_true, y_pred, average, labels,\n",
            "  File \"/workspace/.pip-modules/lib/python3.8/site-packages/sklearn/metrics/_classification.py\", line 1294, in _check_set_wise_labels\n",
            "    raise ValueError(\"Target is %s but average='binary'. Please \"\n",
            "ValueError: Target is multiclass but average='binary'. Please choose another average setting, one of [None, 'micro', 'macro', 'weighted'].\n",
            "\n",
            "  warnings.warn(\n",
            "/workspace/.pip-modules/lib/python3.8/site-packages/sklearn/model_selection/_validation.py:696: UserWarning: Scoring failed. The score on this train-test partition for these parameters will be set to nan. Details: \n",
            "Traceback (most recent call last):\n",
            "  File \"/workspace/.pip-modules/lib/python3.8/site-packages/sklearn/model_selection/_validation.py\", line 687, in _score\n",
            "    scores = scorer(estimator, X_test, y_test)\n",
            "  File \"/workspace/.pip-modules/lib/python3.8/site-packages/sklearn/metrics/_scorer.py\", line 199, in __call__\n",
            "    return self._score(partial(_cached_call, None), estimator, X, y_true,\n",
            "  File \"/workspace/.pip-modules/lib/python3.8/site-packages/sklearn/metrics/_scorer.py\", line 242, in _score\n",
            "    return self._sign * self._score_func(y_true, y_pred,\n",
            "  File \"/workspace/.pip-modules/lib/python3.8/site-packages/sklearn/utils/validation.py\", line 63, in inner_f\n",
            "    return f(*args, **kwargs)\n",
            "  File \"/workspace/.pip-modules/lib/python3.8/site-packages/sklearn/metrics/_classification.py\", line 1774, in recall_score\n",
            "    _, r, _, _ = precision_recall_fscore_support(y_true, y_pred,\n",
            "  File \"/workspace/.pip-modules/lib/python3.8/site-packages/sklearn/utils/validation.py\", line 63, in inner_f\n",
            "    return f(*args, **kwargs)\n",
            "  File \"/workspace/.pip-modules/lib/python3.8/site-packages/sklearn/metrics/_classification.py\", line 1464, in precision_recall_fscore_support\n",
            "    labels = _check_set_wise_labels(y_true, y_pred, average, labels,\n",
            "  File \"/workspace/.pip-modules/lib/python3.8/site-packages/sklearn/metrics/_classification.py\", line 1294, in _check_set_wise_labels\n",
            "    raise ValueError(\"Target is %s but average='binary'. Please \"\n",
            "ValueError: Target is multiclass but average='binary'. Please choose another average setting, one of [None, 'micro', 'macro', 'weighted'].\n",
            "\n",
            "  warnings.warn(\n",
            "/workspace/.pip-modules/lib/python3.8/site-packages/sklearn/model_selection/_validation.py:696: UserWarning: Scoring failed. The score on this train-test partition for these parameters will be set to nan. Details: \n",
            "Traceback (most recent call last):\n",
            "  File \"/workspace/.pip-modules/lib/python3.8/site-packages/sklearn/model_selection/_validation.py\", line 687, in _score\n",
            "    scores = scorer(estimator, X_test, y_test)\n",
            "  File \"/workspace/.pip-modules/lib/python3.8/site-packages/sklearn/metrics/_scorer.py\", line 199, in __call__\n",
            "    return self._score(partial(_cached_call, None), estimator, X, y_true,\n",
            "  File \"/workspace/.pip-modules/lib/python3.8/site-packages/sklearn/metrics/_scorer.py\", line 242, in _score\n",
            "    return self._sign * self._score_func(y_true, y_pred,\n",
            "  File \"/workspace/.pip-modules/lib/python3.8/site-packages/sklearn/utils/validation.py\", line 63, in inner_f\n",
            "    return f(*args, **kwargs)\n",
            "  File \"/workspace/.pip-modules/lib/python3.8/site-packages/sklearn/metrics/_classification.py\", line 1774, in recall_score\n",
            "    _, r, _, _ = precision_recall_fscore_support(y_true, y_pred,\n",
            "  File \"/workspace/.pip-modules/lib/python3.8/site-packages/sklearn/utils/validation.py\", line 63, in inner_f\n",
            "    return f(*args, **kwargs)\n",
            "  File \"/workspace/.pip-modules/lib/python3.8/site-packages/sklearn/metrics/_classification.py\", line 1464, in precision_recall_fscore_support\n",
            "    labels = _check_set_wise_labels(y_true, y_pred, average, labels,\n",
            "  File \"/workspace/.pip-modules/lib/python3.8/site-packages/sklearn/metrics/_classification.py\", line 1294, in _check_set_wise_labels\n",
            "    raise ValueError(\"Target is %s but average='binary'. Please \"\n",
            "ValueError: Target is multiclass but average='binary'. Please choose another average setting, one of [None, 'micro', 'macro', 'weighted'].\n",
            "\n",
            "  warnings.warn(\n",
            "/workspace/.pip-modules/lib/python3.8/site-packages/sklearn/model_selection/_validation.py:696: UserWarning: Scoring failed. The score on this train-test partition for these parameters will be set to nan. Details: \n",
            "Traceback (most recent call last):\n",
            "  File \"/workspace/.pip-modules/lib/python3.8/site-packages/sklearn/model_selection/_validation.py\", line 687, in _score\n",
            "    scores = scorer(estimator, X_test, y_test)\n",
            "  File \"/workspace/.pip-modules/lib/python3.8/site-packages/sklearn/metrics/_scorer.py\", line 199, in __call__\n",
            "    return self._score(partial(_cached_call, None), estimator, X, y_true,\n",
            "  File \"/workspace/.pip-modules/lib/python3.8/site-packages/sklearn/metrics/_scorer.py\", line 242, in _score\n",
            "    return self._sign * self._score_func(y_true, y_pred,\n",
            "  File \"/workspace/.pip-modules/lib/python3.8/site-packages/sklearn/utils/validation.py\", line 63, in inner_f\n",
            "    return f(*args, **kwargs)\n",
            "  File \"/workspace/.pip-modules/lib/python3.8/site-packages/sklearn/metrics/_classification.py\", line 1774, in recall_score\n",
            "    _, r, _, _ = precision_recall_fscore_support(y_true, y_pred,\n",
            "  File \"/workspace/.pip-modules/lib/python3.8/site-packages/sklearn/utils/validation.py\", line 63, in inner_f\n",
            "    return f(*args, **kwargs)\n",
            "  File \"/workspace/.pip-modules/lib/python3.8/site-packages/sklearn/metrics/_classification.py\", line 1464, in precision_recall_fscore_support\n",
            "    labels = _check_set_wise_labels(y_true, y_pred, average, labels,\n",
            "  File \"/workspace/.pip-modules/lib/python3.8/site-packages/sklearn/metrics/_classification.py\", line 1294, in _check_set_wise_labels\n",
            "    raise ValueError(\"Target is %s but average='binary'. Please \"\n",
            "ValueError: Target is multiclass but average='binary'. Please choose another average setting, one of [None, 'micro', 'macro', 'weighted'].\n",
            "\n",
            "  warnings.warn(\n",
            "/workspace/.pip-modules/lib/python3.8/site-packages/sklearn/model_selection/_validation.py:696: UserWarning: Scoring failed. The score on this train-test partition for these parameters will be set to nan. Details: \n",
            "Traceback (most recent call last):\n",
            "  File \"/workspace/.pip-modules/lib/python3.8/site-packages/sklearn/model_selection/_validation.py\", line 687, in _score\n",
            "    scores = scorer(estimator, X_test, y_test)\n",
            "  File \"/workspace/.pip-modules/lib/python3.8/site-packages/sklearn/metrics/_scorer.py\", line 199, in __call__\n",
            "    return self._score(partial(_cached_call, None), estimator, X, y_true,\n",
            "  File \"/workspace/.pip-modules/lib/python3.8/site-packages/sklearn/metrics/_scorer.py\", line 242, in _score\n",
            "    return self._sign * self._score_func(y_true, y_pred,\n",
            "  File \"/workspace/.pip-modules/lib/python3.8/site-packages/sklearn/utils/validation.py\", line 63, in inner_f\n",
            "    return f(*args, **kwargs)\n",
            "  File \"/workspace/.pip-modules/lib/python3.8/site-packages/sklearn/metrics/_classification.py\", line 1774, in recall_score\n",
            "    _, r, _, _ = precision_recall_fscore_support(y_true, y_pred,\n",
            "  File \"/workspace/.pip-modules/lib/python3.8/site-packages/sklearn/utils/validation.py\", line 63, in inner_f\n",
            "    return f(*args, **kwargs)\n",
            "  File \"/workspace/.pip-modules/lib/python3.8/site-packages/sklearn/metrics/_classification.py\", line 1464, in precision_recall_fscore_support\n",
            "    labels = _check_set_wise_labels(y_true, y_pred, average, labels,\n",
            "  File \"/workspace/.pip-modules/lib/python3.8/site-packages/sklearn/metrics/_classification.py\", line 1294, in _check_set_wise_labels\n",
            "    raise ValueError(\"Target is %s but average='binary'. Please \"\n",
            "ValueError: Target is multiclass but average='binary'. Please choose another average setting, one of [None, 'micro', 'macro', 'weighted'].\n",
            "\n",
            "  warnings.warn(\n",
            "/workspace/.pip-modules/lib/python3.8/site-packages/sklearn/model_selection/_validation.py:696: UserWarning: Scoring failed. The score on this train-test partition for these parameters will be set to nan. Details: \n",
            "Traceback (most recent call last):\n",
            "  File \"/workspace/.pip-modules/lib/python3.8/site-packages/sklearn/model_selection/_validation.py\", line 687, in _score\n",
            "    scores = scorer(estimator, X_test, y_test)\n",
            "  File \"/workspace/.pip-modules/lib/python3.8/site-packages/sklearn/metrics/_scorer.py\", line 199, in __call__\n",
            "    return self._score(partial(_cached_call, None), estimator, X, y_true,\n",
            "  File \"/workspace/.pip-modules/lib/python3.8/site-packages/sklearn/metrics/_scorer.py\", line 242, in _score\n",
            "    return self._sign * self._score_func(y_true, y_pred,\n",
            "  File \"/workspace/.pip-modules/lib/python3.8/site-packages/sklearn/utils/validation.py\", line 63, in inner_f\n",
            "    return f(*args, **kwargs)\n",
            "  File \"/workspace/.pip-modules/lib/python3.8/site-packages/sklearn/metrics/_classification.py\", line 1774, in recall_score\n",
            "    _, r, _, _ = precision_recall_fscore_support(y_true, y_pred,\n",
            "  File \"/workspace/.pip-modules/lib/python3.8/site-packages/sklearn/utils/validation.py\", line 63, in inner_f\n",
            "    return f(*args, **kwargs)\n",
            "  File \"/workspace/.pip-modules/lib/python3.8/site-packages/sklearn/metrics/_classification.py\", line 1464, in precision_recall_fscore_support\n",
            "    labels = _check_set_wise_labels(y_true, y_pred, average, labels,\n",
            "  File \"/workspace/.pip-modules/lib/python3.8/site-packages/sklearn/metrics/_classification.py\", line 1294, in _check_set_wise_labels\n",
            "    raise ValueError(\"Target is %s but average='binary'. Please \"\n",
            "ValueError: Target is multiclass but average='binary'. Please choose another average setting, one of [None, 'micro', 'macro', 'weighted'].\n",
            "\n",
            "  warnings.warn(\n",
            "/workspace/.pip-modules/lib/python3.8/site-packages/sklearn/model_selection/_validation.py:696: UserWarning: Scoring failed. The score on this train-test partition for these parameters will be set to nan. Details: \n",
            "Traceback (most recent call last):\n",
            "  File \"/workspace/.pip-modules/lib/python3.8/site-packages/sklearn/model_selection/_validation.py\", line 687, in _score\n",
            "    scores = scorer(estimator, X_test, y_test)\n",
            "  File \"/workspace/.pip-modules/lib/python3.8/site-packages/sklearn/metrics/_scorer.py\", line 199, in __call__\n",
            "    return self._score(partial(_cached_call, None), estimator, X, y_true,\n",
            "  File \"/workspace/.pip-modules/lib/python3.8/site-packages/sklearn/metrics/_scorer.py\", line 242, in _score\n",
            "    return self._sign * self._score_func(y_true, y_pred,\n",
            "  File \"/workspace/.pip-modules/lib/python3.8/site-packages/sklearn/utils/validation.py\", line 63, in inner_f\n",
            "    return f(*args, **kwargs)\n",
            "  File \"/workspace/.pip-modules/lib/python3.8/site-packages/sklearn/metrics/_classification.py\", line 1774, in recall_score\n",
            "    _, r, _, _ = precision_recall_fscore_support(y_true, y_pred,\n",
            "  File \"/workspace/.pip-modules/lib/python3.8/site-packages/sklearn/utils/validation.py\", line 63, in inner_f\n",
            "    return f(*args, **kwargs)\n",
            "  File \"/workspace/.pip-modules/lib/python3.8/site-packages/sklearn/metrics/_classification.py\", line 1464, in precision_recall_fscore_support\n",
            "    labels = _check_set_wise_labels(y_true, y_pred, average, labels,\n",
            "  File \"/workspace/.pip-modules/lib/python3.8/site-packages/sklearn/metrics/_classification.py\", line 1294, in _check_set_wise_labels\n",
            "    raise ValueError(\"Target is %s but average='binary'. Please \"\n",
            "ValueError: Target is multiclass but average='binary'. Please choose another average setting, one of [None, 'micro', 'macro', 'weighted'].\n",
            "\n",
            "  warnings.warn(\n",
            "/workspace/.pip-modules/lib/python3.8/site-packages/sklearn/model_selection/_validation.py:696: UserWarning: Scoring failed. The score on this train-test partition for these parameters will be set to nan. Details: \n",
            "Traceback (most recent call last):\n",
            "  File \"/workspace/.pip-modules/lib/python3.8/site-packages/sklearn/model_selection/_validation.py\", line 687, in _score\n",
            "    scores = scorer(estimator, X_test, y_test)\n",
            "  File \"/workspace/.pip-modules/lib/python3.8/site-packages/sklearn/metrics/_scorer.py\", line 199, in __call__\n",
            "    return self._score(partial(_cached_call, None), estimator, X, y_true,\n",
            "  File \"/workspace/.pip-modules/lib/python3.8/site-packages/sklearn/metrics/_scorer.py\", line 242, in _score\n",
            "    return self._sign * self._score_func(y_true, y_pred,\n",
            "  File \"/workspace/.pip-modules/lib/python3.8/site-packages/sklearn/utils/validation.py\", line 63, in inner_f\n",
            "    return f(*args, **kwargs)\n",
            "  File \"/workspace/.pip-modules/lib/python3.8/site-packages/sklearn/metrics/_classification.py\", line 1774, in recall_score\n",
            "    _, r, _, _ = precision_recall_fscore_support(y_true, y_pred,\n",
            "  File \"/workspace/.pip-modules/lib/python3.8/site-packages/sklearn/utils/validation.py\", line 63, in inner_f\n",
            "    return f(*args, **kwargs)\n",
            "  File \"/workspace/.pip-modules/lib/python3.8/site-packages/sklearn/metrics/_classification.py\", line 1464, in precision_recall_fscore_support\n",
            "    labels = _check_set_wise_labels(y_true, y_pred, average, labels,\n",
            "  File \"/workspace/.pip-modules/lib/python3.8/site-packages/sklearn/metrics/_classification.py\", line 1294, in _check_set_wise_labels\n",
            "    raise ValueError(\"Target is %s but average='binary'. Please \"\n",
            "ValueError: Target is multiclass but average='binary'. Please choose another average setting, one of [None, 'micro', 'macro', 'weighted'].\n",
            "\n",
            "  warnings.warn(\n",
            "/workspace/.pip-modules/lib/python3.8/site-packages/sklearn/model_selection/_validation.py:696: UserWarning: Scoring failed. The score on this train-test partition for these parameters will be set to nan. Details: \n",
            "Traceback (most recent call last):\n",
            "  File \"/workspace/.pip-modules/lib/python3.8/site-packages/sklearn/model_selection/_validation.py\", line 687, in _score\n",
            "    scores = scorer(estimator, X_test, y_test)\n",
            "  File \"/workspace/.pip-modules/lib/python3.8/site-packages/sklearn/metrics/_scorer.py\", line 199, in __call__\n",
            "    return self._score(partial(_cached_call, None), estimator, X, y_true,\n",
            "  File \"/workspace/.pip-modules/lib/python3.8/site-packages/sklearn/metrics/_scorer.py\", line 242, in _score\n",
            "    return self._sign * self._score_func(y_true, y_pred,\n",
            "  File \"/workspace/.pip-modules/lib/python3.8/site-packages/sklearn/utils/validation.py\", line 63, in inner_f\n",
            "    return f(*args, **kwargs)\n",
            "  File \"/workspace/.pip-modules/lib/python3.8/site-packages/sklearn/metrics/_classification.py\", line 1774, in recall_score\n",
            "    _, r, _, _ = precision_recall_fscore_support(y_true, y_pred,\n",
            "  File \"/workspace/.pip-modules/lib/python3.8/site-packages/sklearn/utils/validation.py\", line 63, in inner_f\n",
            "    return f(*args, **kwargs)\n",
            "  File \"/workspace/.pip-modules/lib/python3.8/site-packages/sklearn/metrics/_classification.py\", line 1464, in precision_recall_fscore_support\n",
            "    labels = _check_set_wise_labels(y_true, y_pred, average, labels,\n",
            "  File \"/workspace/.pip-modules/lib/python3.8/site-packages/sklearn/metrics/_classification.py\", line 1294, in _check_set_wise_labels\n",
            "    raise ValueError(\"Target is %s but average='binary'. Please \"\n",
            "ValueError: Target is multiclass but average='binary'. Please choose another average setting, one of [None, 'micro', 'macro', 'weighted'].\n",
            "\n",
            "  warnings.warn(\n",
            "/workspace/.pip-modules/lib/python3.8/site-packages/sklearn/model_selection/_validation.py:696: UserWarning: Scoring failed. The score on this train-test partition for these parameters will be set to nan. Details: \n",
            "Traceback (most recent call last):\n",
            "  File \"/workspace/.pip-modules/lib/python3.8/site-packages/sklearn/model_selection/_validation.py\", line 687, in _score\n",
            "    scores = scorer(estimator, X_test, y_test)\n",
            "  File \"/workspace/.pip-modules/lib/python3.8/site-packages/sklearn/metrics/_scorer.py\", line 199, in __call__\n",
            "    return self._score(partial(_cached_call, None), estimator, X, y_true,\n",
            "  File \"/workspace/.pip-modules/lib/python3.8/site-packages/sklearn/metrics/_scorer.py\", line 242, in _score\n",
            "    return self._sign * self._score_func(y_true, y_pred,\n",
            "  File \"/workspace/.pip-modules/lib/python3.8/site-packages/sklearn/utils/validation.py\", line 63, in inner_f\n",
            "    return f(*args, **kwargs)\n",
            "  File \"/workspace/.pip-modules/lib/python3.8/site-packages/sklearn/metrics/_classification.py\", line 1774, in recall_score\n",
            "    _, r, _, _ = precision_recall_fscore_support(y_true, y_pred,\n",
            "  File \"/workspace/.pip-modules/lib/python3.8/site-packages/sklearn/utils/validation.py\", line 63, in inner_f\n",
            "    return f(*args, **kwargs)\n",
            "  File \"/workspace/.pip-modules/lib/python3.8/site-packages/sklearn/metrics/_classification.py\", line 1464, in precision_recall_fscore_support\n",
            "    labels = _check_set_wise_labels(y_true, y_pred, average, labels,\n",
            "  File \"/workspace/.pip-modules/lib/python3.8/site-packages/sklearn/metrics/_classification.py\", line 1294, in _check_set_wise_labels\n",
            "    raise ValueError(\"Target is %s but average='binary'. Please \"\n",
            "ValueError: Target is multiclass but average='binary'. Please choose another average setting, one of [None, 'micro', 'macro', 'weighted'].\n",
            "\n",
            "  warnings.warn(\n",
            "/workspace/.pip-modules/lib/python3.8/site-packages/sklearn/model_selection/_validation.py:696: UserWarning: Scoring failed. The score on this train-test partition for these parameters will be set to nan. Details: \n",
            "Traceback (most recent call last):\n",
            "  File \"/workspace/.pip-modules/lib/python3.8/site-packages/sklearn/model_selection/_validation.py\", line 687, in _score\n",
            "    scores = scorer(estimator, X_test, y_test)\n",
            "  File \"/workspace/.pip-modules/lib/python3.8/site-packages/sklearn/metrics/_scorer.py\", line 199, in __call__\n",
            "    return self._score(partial(_cached_call, None), estimator, X, y_true,\n",
            "  File \"/workspace/.pip-modules/lib/python3.8/site-packages/sklearn/metrics/_scorer.py\", line 242, in _score\n",
            "    return self._sign * self._score_func(y_true, y_pred,\n",
            "  File \"/workspace/.pip-modules/lib/python3.8/site-packages/sklearn/utils/validation.py\", line 63, in inner_f\n",
            "    return f(*args, **kwargs)\n",
            "  File \"/workspace/.pip-modules/lib/python3.8/site-packages/sklearn/metrics/_classification.py\", line 1774, in recall_score\n",
            "    _, r, _, _ = precision_recall_fscore_support(y_true, y_pred,\n",
            "  File \"/workspace/.pip-modules/lib/python3.8/site-packages/sklearn/utils/validation.py\", line 63, in inner_f\n",
            "    return f(*args, **kwargs)\n",
            "  File \"/workspace/.pip-modules/lib/python3.8/site-packages/sklearn/metrics/_classification.py\", line 1464, in precision_recall_fscore_support\n",
            "    labels = _check_set_wise_labels(y_true, y_pred, average, labels,\n",
            "  File \"/workspace/.pip-modules/lib/python3.8/site-packages/sklearn/metrics/_classification.py\", line 1294, in _check_set_wise_labels\n",
            "    raise ValueError(\"Target is %s but average='binary'. Please \"\n",
            "ValueError: Target is multiclass but average='binary'. Please choose another average setting, one of [None, 'micro', 'macro', 'weighted'].\n",
            "\n",
            "  warnings.warn(\n",
            "/workspace/.pip-modules/lib/python3.8/site-packages/sklearn/model_selection/_validation.py:696: UserWarning: Scoring failed. The score on this train-test partition for these parameters will be set to nan. Details: \n",
            "Traceback (most recent call last):\n",
            "  File \"/workspace/.pip-modules/lib/python3.8/site-packages/sklearn/model_selection/_validation.py\", line 687, in _score\n",
            "    scores = scorer(estimator, X_test, y_test)\n",
            "  File \"/workspace/.pip-modules/lib/python3.8/site-packages/sklearn/metrics/_scorer.py\", line 199, in __call__\n",
            "    return self._score(partial(_cached_call, None), estimator, X, y_true,\n",
            "  File \"/workspace/.pip-modules/lib/python3.8/site-packages/sklearn/metrics/_scorer.py\", line 242, in _score\n",
            "    return self._sign * self._score_func(y_true, y_pred,\n",
            "  File \"/workspace/.pip-modules/lib/python3.8/site-packages/sklearn/utils/validation.py\", line 63, in inner_f\n",
            "    return f(*args, **kwargs)\n",
            "  File \"/workspace/.pip-modules/lib/python3.8/site-packages/sklearn/metrics/_classification.py\", line 1774, in recall_score\n",
            "    _, r, _, _ = precision_recall_fscore_support(y_true, y_pred,\n",
            "  File \"/workspace/.pip-modules/lib/python3.8/site-packages/sklearn/utils/validation.py\", line 63, in inner_f\n",
            "    return f(*args, **kwargs)\n",
            "  File \"/workspace/.pip-modules/lib/python3.8/site-packages/sklearn/metrics/_classification.py\", line 1464, in precision_recall_fscore_support\n",
            "    labels = _check_set_wise_labels(y_true, y_pred, average, labels,\n",
            "  File \"/workspace/.pip-modules/lib/python3.8/site-packages/sklearn/metrics/_classification.py\", line 1294, in _check_set_wise_labels\n",
            "    raise ValueError(\"Target is %s but average='binary'. Please \"\n",
            "ValueError: Target is multiclass but average='binary'. Please choose another average setting, one of [None, 'micro', 'macro', 'weighted'].\n",
            "\n",
            "  warnings.warn(\n",
            "/workspace/.pip-modules/lib/python3.8/site-packages/sklearn/model_selection/_validation.py:696: UserWarning: Scoring failed. The score on this train-test partition for these parameters will be set to nan. Details: \n",
            "Traceback (most recent call last):\n",
            "  File \"/workspace/.pip-modules/lib/python3.8/site-packages/sklearn/model_selection/_validation.py\", line 687, in _score\n",
            "    scores = scorer(estimator, X_test, y_test)\n",
            "  File \"/workspace/.pip-modules/lib/python3.8/site-packages/sklearn/metrics/_scorer.py\", line 199, in __call__\n",
            "    return self._score(partial(_cached_call, None), estimator, X, y_true,\n",
            "  File \"/workspace/.pip-modules/lib/python3.8/site-packages/sklearn/metrics/_scorer.py\", line 242, in _score\n",
            "    return self._sign * self._score_func(y_true, y_pred,\n",
            "  File \"/workspace/.pip-modules/lib/python3.8/site-packages/sklearn/utils/validation.py\", line 63, in inner_f\n",
            "    return f(*args, **kwargs)\n",
            "  File \"/workspace/.pip-modules/lib/python3.8/site-packages/sklearn/metrics/_classification.py\", line 1774, in recall_score\n",
            "    _, r, _, _ = precision_recall_fscore_support(y_true, y_pred,\n",
            "  File \"/workspace/.pip-modules/lib/python3.8/site-packages/sklearn/utils/validation.py\", line 63, in inner_f\n",
            "    return f(*args, **kwargs)\n",
            "  File \"/workspace/.pip-modules/lib/python3.8/site-packages/sklearn/metrics/_classification.py\", line 1464, in precision_recall_fscore_support\n",
            "    labels = _check_set_wise_labels(y_true, y_pred, average, labels,\n",
            "  File \"/workspace/.pip-modules/lib/python3.8/site-packages/sklearn/metrics/_classification.py\", line 1294, in _check_set_wise_labels\n",
            "    raise ValueError(\"Target is %s but average='binary'. Please \"\n",
            "ValueError: Target is multiclass but average='binary'. Please choose another average setting, one of [None, 'micro', 'macro', 'weighted'].\n",
            "\n",
            "  warnings.warn(\n",
            "/workspace/.pip-modules/lib/python3.8/site-packages/sklearn/model_selection/_validation.py:696: UserWarning: Scoring failed. The score on this train-test partition for these parameters will be set to nan. Details: \n",
            "Traceback (most recent call last):\n",
            "  File \"/workspace/.pip-modules/lib/python3.8/site-packages/sklearn/model_selection/_validation.py\", line 687, in _score\n",
            "    scores = scorer(estimator, X_test, y_test)\n",
            "  File \"/workspace/.pip-modules/lib/python3.8/site-packages/sklearn/metrics/_scorer.py\", line 199, in __call__\n",
            "    return self._score(partial(_cached_call, None), estimator, X, y_true,\n",
            "  File \"/workspace/.pip-modules/lib/python3.8/site-packages/sklearn/metrics/_scorer.py\", line 242, in _score\n",
            "    return self._sign * self._score_func(y_true, y_pred,\n",
            "  File \"/workspace/.pip-modules/lib/python3.8/site-packages/sklearn/utils/validation.py\", line 63, in inner_f\n",
            "    return f(*args, **kwargs)\n",
            "  File \"/workspace/.pip-modules/lib/python3.8/site-packages/sklearn/metrics/_classification.py\", line 1774, in recall_score\n",
            "    _, r, _, _ = precision_recall_fscore_support(y_true, y_pred,\n",
            "  File \"/workspace/.pip-modules/lib/python3.8/site-packages/sklearn/utils/validation.py\", line 63, in inner_f\n",
            "    return f(*args, **kwargs)\n",
            "  File \"/workspace/.pip-modules/lib/python3.8/site-packages/sklearn/metrics/_classification.py\", line 1464, in precision_recall_fscore_support\n",
            "    labels = _check_set_wise_labels(y_true, y_pred, average, labels,\n",
            "  File \"/workspace/.pip-modules/lib/python3.8/site-packages/sklearn/metrics/_classification.py\", line 1294, in _check_set_wise_labels\n",
            "    raise ValueError(\"Target is %s but average='binary'. Please \"\n",
            "ValueError: Target is multiclass but average='binary'. Please choose another average setting, one of [None, 'micro', 'macro', 'weighted'].\n",
            "\n",
            "  warnings.warn(\n",
            "/workspace/.pip-modules/lib/python3.8/site-packages/sklearn/model_selection/_validation.py:696: UserWarning: Scoring failed. The score on this train-test partition for these parameters will be set to nan. Details: \n",
            "Traceback (most recent call last):\n",
            "  File \"/workspace/.pip-modules/lib/python3.8/site-packages/sklearn/model_selection/_validation.py\", line 687, in _score\n",
            "    scores = scorer(estimator, X_test, y_test)\n",
            "  File \"/workspace/.pip-modules/lib/python3.8/site-packages/sklearn/metrics/_scorer.py\", line 199, in __call__\n",
            "    return self._score(partial(_cached_call, None), estimator, X, y_true,\n",
            "  File \"/workspace/.pip-modules/lib/python3.8/site-packages/sklearn/metrics/_scorer.py\", line 242, in _score\n",
            "    return self._sign * self._score_func(y_true, y_pred,\n",
            "  File \"/workspace/.pip-modules/lib/python3.8/site-packages/sklearn/utils/validation.py\", line 63, in inner_f\n",
            "    return f(*args, **kwargs)\n",
            "  File \"/workspace/.pip-modules/lib/python3.8/site-packages/sklearn/metrics/_classification.py\", line 1774, in recall_score\n",
            "    _, r, _, _ = precision_recall_fscore_support(y_true, y_pred,\n",
            "  File \"/workspace/.pip-modules/lib/python3.8/site-packages/sklearn/utils/validation.py\", line 63, in inner_f\n",
            "    return f(*args, **kwargs)\n",
            "  File \"/workspace/.pip-modules/lib/python3.8/site-packages/sklearn/metrics/_classification.py\", line 1464, in precision_recall_fscore_support\n",
            "    labels = _check_set_wise_labels(y_true, y_pred, average, labels,\n",
            "  File \"/workspace/.pip-modules/lib/python3.8/site-packages/sklearn/metrics/_classification.py\", line 1294, in _check_set_wise_labels\n",
            "    raise ValueError(\"Target is %s but average='binary'. Please \"\n",
            "ValueError: Target is multiclass but average='binary'. Please choose another average setting, one of [None, 'micro', 'macro', 'weighted'].\n",
            "\n",
            "  warnings.warn(\n",
            "/workspace/.pip-modules/lib/python3.8/site-packages/sklearn/model_selection/_search.py:922: UserWarning: One or more of the test scores are non-finite: [nan nan nan nan nan nan nan nan nan]\n",
            "  warnings.warn(\n"
          ]
        }
      ],
      "source": [
        "from sklearn.metrics import recall_score, make_scorer\n",
        "search = HyperparameterOptimizationSearch(models=models_search, params=params_search)\n",
        "search.fit(X_train, y_train,\n",
        "           scoring =  make_scorer(recall_score, pos_label=1),\n",
        "           n_jobs=-1, cv=5)"
      ]
    },
    {
      "cell_type": "markdown",
      "metadata": {
        "id": "l8oVKtHyr-X8"
      },
      "source": [
        "Check results"
      ]
    },
    {
      "cell_type": "code",
      "execution_count": 38,
      "metadata": {
        "id": "8AFyZ6-pr9tN"
      },
      "outputs": [
        {
          "data": {
            "text/html": [
              "<div>\n",
              "<style scoped>\n",
              "    .dataframe tbody tr th:only-of-type {\n",
              "        vertical-align: middle;\n",
              "    }\n",
              "\n",
              "    .dataframe tbody tr th {\n",
              "        vertical-align: top;\n",
              "    }\n",
              "\n",
              "    .dataframe thead th {\n",
              "        text-align: right;\n",
              "    }\n",
              "</style>\n",
              "<table border=\"1\" class=\"dataframe\">\n",
              "  <thead>\n",
              "    <tr style=\"text-align: right;\">\n",
              "      <th></th>\n",
              "      <th>estimator</th>\n",
              "      <th>min_score</th>\n",
              "      <th>mean_score</th>\n",
              "      <th>max_score</th>\n",
              "      <th>std_score</th>\n",
              "      <th>model__learning_rate</th>\n",
              "      <th>model__max_depth</th>\n",
              "    </tr>\n",
              "  </thead>\n",
              "  <tbody>\n",
              "    <tr>\n",
              "      <th>0</th>\n",
              "      <td>XGBClassifier</td>\n",
              "      <td>NaN</td>\n",
              "      <td>NaN</td>\n",
              "      <td>NaN</td>\n",
              "      <td>NaN</td>\n",
              "      <td>0.1</td>\n",
              "      <td>3</td>\n",
              "    </tr>\n",
              "    <tr>\n",
              "      <th>1</th>\n",
              "      <td>XGBClassifier</td>\n",
              "      <td>NaN</td>\n",
              "      <td>NaN</td>\n",
              "      <td>NaN</td>\n",
              "      <td>NaN</td>\n",
              "      <td>0.1</td>\n",
              "      <td>10</td>\n",
              "    </tr>\n",
              "    <tr>\n",
              "      <th>2</th>\n",
              "      <td>XGBClassifier</td>\n",
              "      <td>NaN</td>\n",
              "      <td>NaN</td>\n",
              "      <td>NaN</td>\n",
              "      <td>NaN</td>\n",
              "      <td>0.1</td>\n",
              "      <td>None</td>\n",
              "    </tr>\n",
              "    <tr>\n",
              "      <th>3</th>\n",
              "      <td>XGBClassifier</td>\n",
              "      <td>NaN</td>\n",
              "      <td>NaN</td>\n",
              "      <td>NaN</td>\n",
              "      <td>NaN</td>\n",
              "      <td>0.01</td>\n",
              "      <td>3</td>\n",
              "    </tr>\n",
              "    <tr>\n",
              "      <th>4</th>\n",
              "      <td>XGBClassifier</td>\n",
              "      <td>NaN</td>\n",
              "      <td>NaN</td>\n",
              "      <td>NaN</td>\n",
              "      <td>NaN</td>\n",
              "      <td>0.01</td>\n",
              "      <td>10</td>\n",
              "    </tr>\n",
              "    <tr>\n",
              "      <th>5</th>\n",
              "      <td>XGBClassifier</td>\n",
              "      <td>NaN</td>\n",
              "      <td>NaN</td>\n",
              "      <td>NaN</td>\n",
              "      <td>NaN</td>\n",
              "      <td>0.01</td>\n",
              "      <td>None</td>\n",
              "    </tr>\n",
              "    <tr>\n",
              "      <th>6</th>\n",
              "      <td>XGBClassifier</td>\n",
              "      <td>NaN</td>\n",
              "      <td>NaN</td>\n",
              "      <td>NaN</td>\n",
              "      <td>NaN</td>\n",
              "      <td>0.001</td>\n",
              "      <td>3</td>\n",
              "    </tr>\n",
              "    <tr>\n",
              "      <th>7</th>\n",
              "      <td>XGBClassifier</td>\n",
              "      <td>NaN</td>\n",
              "      <td>NaN</td>\n",
              "      <td>NaN</td>\n",
              "      <td>NaN</td>\n",
              "      <td>0.001</td>\n",
              "      <td>10</td>\n",
              "    </tr>\n",
              "    <tr>\n",
              "      <th>8</th>\n",
              "      <td>XGBClassifier</td>\n",
              "      <td>NaN</td>\n",
              "      <td>NaN</td>\n",
              "      <td>NaN</td>\n",
              "      <td>NaN</td>\n",
              "      <td>0.001</td>\n",
              "      <td>None</td>\n",
              "    </tr>\n",
              "  </tbody>\n",
              "</table>\n",
              "</div>"
            ],
            "text/plain": [
              "       estimator min_score mean_score max_score std_score  \\\n",
              "0  XGBClassifier       NaN        NaN       NaN       NaN   \n",
              "1  XGBClassifier       NaN        NaN       NaN       NaN   \n",
              "2  XGBClassifier       NaN        NaN       NaN       NaN   \n",
              "3  XGBClassifier       NaN        NaN       NaN       NaN   \n",
              "4  XGBClassifier       NaN        NaN       NaN       NaN   \n",
              "5  XGBClassifier       NaN        NaN       NaN       NaN   \n",
              "6  XGBClassifier       NaN        NaN       NaN       NaN   \n",
              "7  XGBClassifier       NaN        NaN       NaN       NaN   \n",
              "8  XGBClassifier       NaN        NaN       NaN       NaN   \n",
              "\n",
              "  model__learning_rate model__max_depth  \n",
              "0                  0.1                3  \n",
              "1                  0.1               10  \n",
              "2                  0.1             None  \n",
              "3                 0.01                3  \n",
              "4                 0.01               10  \n",
              "5                 0.01             None  \n",
              "6                0.001                3  \n",
              "7                0.001               10  \n",
              "8                0.001             None  "
            ]
          },
          "execution_count": 38,
          "metadata": {},
          "output_type": "execute_result"
        }
      ],
      "source": [
        "grid_search_summary, grid_search_pipelines = search.score_summary(sort_by='mean_score')\n",
        "grid_search_summary"
      ]
    },
    {
      "cell_type": "markdown",
      "metadata": {},
      "source": [
        "Get best model name programmatically"
      ]
    },
    {
      "cell_type": "code",
      "execution_count": 39,
      "metadata": {},
      "outputs": [
        {
          "data": {
            "text/plain": [
              "'XGBClassifier'"
            ]
          },
          "execution_count": 39,
          "metadata": {},
          "output_type": "execute_result"
        }
      ],
      "source": [
        "best_model = grid_search_summary.iloc[0,0]\n",
        "best_model"
      ]
    },
    {
      "cell_type": "markdown",
      "metadata": {
        "id": "htAXEVFpwiBV"
      },
      "source": [
        "Parameters for best model"
      ]
    },
    {
      "cell_type": "code",
      "execution_count": 40,
      "metadata": {
        "id": "oDIt27RdKOG8"
      },
      "outputs": [
        {
          "data": {
            "text/plain": [
              "{'model__learning_rate': 0.1, 'model__max_depth': 3}"
            ]
          },
          "execution_count": 40,
          "metadata": {},
          "output_type": "execute_result"
        }
      ],
      "source": [
        "best_parameters = grid_search_pipelines[best_model].best_params_\n",
        "best_parameters"
      ]
    },
    {
      "cell_type": "markdown",
      "metadata": {
        "id": "eAnJQlDlw1FE"
      },
      "source": [
        "Define the best clf pipeline"
      ]
    },
    {
      "cell_type": "code",
      "execution_count": 41,
      "metadata": {
        "id": "zLotNfy4MKDE"
      },
      "outputs": [
        {
          "data": {
            "text/plain": [
              "Pipeline(steps=[('scaler', StandardScaler()),\n",
              "                ('feat_selection',\n",
              "                 SelectFromModel(estimator=XGBClassifier(base_score=None,\n",
              "                                                         booster=None,\n",
              "                                                         colsample_bylevel=None,\n",
              "                                                         colsample_bynode=None,\n",
              "                                                         colsample_bytree=None,\n",
              "                                                         gamma=None,\n",
              "                                                         gpu_id=None,\n",
              "                                                         importance_type='gain',\n",
              "                                                         interaction_constraints=None,\n",
              "                                                         learning_rate=None,\n",
              "                                                         max_delta_step=None,\n",
              "                                                         max_depth=None,\n",
              "                                                         min_child_weight=None,\n",
              "                                                         m...\n",
              "                               importance_type='gain',\n",
              "                               interaction_constraints='', learning_rate=0.1,\n",
              "                               max_delta_step=0, max_depth=3,\n",
              "                               min_child_weight=1, missing=nan,\n",
              "                               monotone_constraints='()', n_estimators=100,\n",
              "                               n_jobs=0, num_parallel_tree=1,\n",
              "                               objective='multi:softprob', random_state=0,\n",
              "                               reg_alpha=0, reg_lambda=1, scale_pos_weight=None,\n",
              "                               subsample=1, tree_method='exact',\n",
              "                               validate_parameters=1, verbosity=None))])"
            ]
          },
          "execution_count": 41,
          "metadata": {},
          "output_type": "execute_result"
        }
      ],
      "source": [
        "pipeline_clf = grid_search_pipelines[best_model].best_estimator_\n",
        "pipeline_clf"
      ]
    },
    {
      "cell_type": "markdown",
      "metadata": {
        "id": "UgdxKijH6qJS"
      },
      "source": [
        "## Assess feature importance"
      ]
    },
    {
      "cell_type": "code",
      "execution_count": 42,
      "metadata": {},
      "outputs": [
        {
          "data": {
            "text/html": [
              "<div>\n",
              "<style scoped>\n",
              "    .dataframe tbody tr th:only-of-type {\n",
              "        vertical-align: middle;\n",
              "    }\n",
              "\n",
              "    .dataframe tbody tr th {\n",
              "        vertical-align: top;\n",
              "    }\n",
              "\n",
              "    .dataframe thead th {\n",
              "        text-align: right;\n",
              "    }\n",
              "</style>\n",
              "<table border=\"1\" class=\"dataframe\">\n",
              "  <thead>\n",
              "    <tr style=\"text-align: right;\">\n",
              "      <th></th>\n",
              "      <th>0</th>\n",
              "      <th>1</th>\n",
              "      <th>2</th>\n",
              "      <th>3</th>\n",
              "      <th>4</th>\n",
              "      <th>5</th>\n",
              "      <th>6</th>\n",
              "      <th>7</th>\n",
              "      <th>8</th>\n",
              "      <th>9</th>\n",
              "      <th>10</th>\n",
              "      <th>11</th>\n",
              "      <th>12</th>\n",
              "      <th>13</th>\n",
              "      <th>14</th>\n",
              "      <th>15</th>\n",
              "      <th>16</th>\n",
              "      <th>17</th>\n",
              "      <th>18</th>\n",
              "      <th>19</th>\n",
              "    </tr>\n",
              "  </thead>\n",
              "  <tbody>\n",
              "    <tr>\n",
              "      <th>0</th>\n",
              "      <td>1.839177</td>\n",
              "      <td>1.765869</td>\n",
              "      <td>1.698839</td>\n",
              "      <td>1.040224</td>\n",
              "      <td>0.274505</td>\n",
              "      <td>1.856509</td>\n",
              "      <td>1.842401</td>\n",
              "      <td>1.818269</td>\n",
              "      <td>1.692738</td>\n",
              "      <td>1.832645</td>\n",
              "      <td>1.692988</td>\n",
              "      <td>2.034527</td>\n",
              "      <td>1.363841</td>\n",
              "      <td>0.434620</td>\n",
              "      <td>0.992116</td>\n",
              "      <td>-0.166453</td>\n",
              "      <td>2.081485</td>\n",
              "      <td>2.134575</td>\n",
              "      <td>1.958760</td>\n",
              "      <td>1.723598</td>\n",
              "    </tr>\n",
              "    <tr>\n",
              "      <th>1</th>\n",
              "      <td>-0.240682</td>\n",
              "      <td>0.139060</td>\n",
              "      <td>0.008346</td>\n",
              "      <td>1.040224</td>\n",
              "      <td>0.274505</td>\n",
              "      <td>0.123381</td>\n",
              "      <td>0.145992</td>\n",
              "      <td>0.235350</td>\n",
              "      <td>0.257541</td>\n",
              "      <td>0.180991</td>\n",
              "      <td>-0.089035</td>\n",
              "      <td>-0.372700</td>\n",
              "      <td>0.602475</td>\n",
              "      <td>0.237634</td>\n",
              "      <td>0.236785</td>\n",
              "      <td>-1.523499</td>\n",
              "      <td>-0.741767</td>\n",
              "      <td>-0.598004</td>\n",
              "      <td>-0.617318</td>\n",
              "      <td>-0.045816</td>\n",
              "    </tr>\n",
              "    <tr>\n",
              "      <th>2</th>\n",
              "      <td>-0.172050</td>\n",
              "      <td>-0.656773</td>\n",
              "      <td>-0.232918</td>\n",
              "      <td>1.040224</td>\n",
              "      <td>0.274505</td>\n",
              "      <td>0.047806</td>\n",
              "      <td>0.043741</td>\n",
              "      <td>0.022025</td>\n",
              "      <td>0.057745</td>\n",
              "      <td>0.116487</td>\n",
              "      <td>0.302293</td>\n",
              "      <td>-0.095566</td>\n",
              "      <td>-0.413384</td>\n",
              "      <td>-1.707131</td>\n",
              "      <td>0.340854</td>\n",
              "      <td>-1.163546</td>\n",
              "      <td>-0.136259</td>\n",
              "      <td>0.038101</td>\n",
              "      <td>-0.259194</td>\n",
              "      <td>0.572699</td>\n",
              "    </tr>\n",
              "  </tbody>\n",
              "</table>\n",
              "</div>"
            ],
            "text/plain": [
              "         0         1         2         3         4         5         6   \\\n",
              "0  1.839177  1.765869  1.698839  1.040224  0.274505  1.856509  1.842401   \n",
              "1 -0.240682  0.139060  0.008346  1.040224  0.274505  0.123381  0.145992   \n",
              "2 -0.172050 -0.656773 -0.232918  1.040224  0.274505  0.047806  0.043741   \n",
              "\n",
              "         7         8         9         10        11        12        13  \\\n",
              "0  1.818269  1.692738  1.832645  1.692988  2.034527  1.363841  0.434620   \n",
              "1  0.235350  0.257541  0.180991 -0.089035 -0.372700  0.602475  0.237634   \n",
              "2  0.022025  0.057745  0.116487  0.302293 -0.095566 -0.413384 -1.707131   \n",
              "\n",
              "         14        15        16        17        18        19  \n",
              "0  0.992116 -0.166453  2.081485  2.134575  1.958760  1.723598  \n",
              "1  0.236785 -1.523499 -0.741767 -0.598004 -0.617318 -0.045816  \n",
              "2  0.340854 -1.163546 -0.136259  0.038101 -0.259194  0.572699  "
            ]
          },
          "execution_count": 42,
          "metadata": {},
          "output_type": "execute_result"
        }
      ],
      "source": [
        "# Convert X_train (which is a numpy array) to a DataFrame\n",
        "X_train = pd.DataFrame(X_train)\n",
        "X_train.head(3)"
      ]
    },
    {
      "cell_type": "markdown",
      "metadata": {
        "id": "n30pl2dowzW3"
      },
      "source": [
        "* With the current model, we can assess with `.features_importances_`"
      ]
    },
    {
      "cell_type": "code",
      "execution_count": 43,
      "metadata": {
        "id": "4XGczhv2uo2C"
      },
      "outputs": [
        {
          "name": "stdout",
          "output_type": "stream",
          "text": [
            "* These are the 5 most important features in descending order. The model was trained on them: \n",
            "[7, 8, 15, 0, 14]\n"
          ]
        },
        {
          "data": {
            "image/png": "[encoded data removed]",
            "text/plain": [
              "<Figure size 640x480 with 1 Axes>"
            ]
          },
          "metadata": {},
          "output_type": "display_data"
        }
      ],
      "source": [
        "# create DataFrame to display feature importance\n",
        "df_feature_importance = (pd.DataFrame(data={\n",
        "    'Feature': X_train.columns[pipeline_clf['feat_selection'].get_support()],\n",
        "    'Importance': pipeline_clf['model'].feature_importances_})\n",
        "    .sort_values(by='Importance', ascending=False)\n",
        ")\n",
        "\n",
        "# re-assign best_features order\n",
        "best_features = df_feature_importance['Feature'].to_list()\n",
        "\n",
        "# Most important features statement and plot\n",
        "print(f\"* These are the {len(best_features)} most important features in descending order. \"\n",
        "      f\"The model was trained on them: \\n{df_feature_importance['Feature'].to_list()}\")\n",
        "\n",
        "df_feature_importance.plot(kind='bar', x='Feature', y='Importance')\n",
        "plt.show()\n"
      ]
    },
    {
      "cell_type": "code",
      "execution_count": 44,
      "metadata": {},
      "outputs": [
        {
          "name": "stdout",
          "output_type": "stream",
          "text": [
            "The name of the 19th column is: 18\n",
            "The name of the 15th column is: 14\n"
          ]
        }
      ],
      "source": [
        "# Access the column names using iloc\n",
        "nineteenth_column_name = X_train.columns[18]  # 18 corresponds to the 19th column\n",
        "fifteenth_column_name = X_train.columns[14]    # 14 corresponds to the 15th column\n",
        "\n",
        "print(f\"The name of the 19th column is: {nineteenth_column_name}\")\n",
        "print(f\"The name of the 15th column is: {fifteenth_column_name}\")\n"
      ]
    },
    {
      "cell_type": "code",
      "execution_count": 45,
      "metadata": {},
      "outputs": [
        {
          "name": "stdout",
          "output_type": "stream",
          "text": [
            "The name of the 3th column is: 2\n"
          ]
        }
      ],
      "source": [
        "# Access the column names using iloc\n",
        "third_column_name = X_train.columns[2]\n",
        "\n",
        "print(f\"The name of the 3th column is: {third_column_name}\")"
      ]
    },
    {
      "cell_type": "markdown",
      "metadata": {
        "id": "hXtmFP_Ulpnd"
      },
      "source": [
        "## Evaluate Pipeline on Train and Test Sets"
      ]
    },
    {
      "cell_type": "code",
      "execution_count": 46,
      "metadata": {
        "id": "myG6tDSGan4r"
      },
      "outputs": [],
      "source": [
        "def confusion_matrix_and_report(X, y, pipeline, label_map):\n",
        "    \"\"\"\n",
        "    Evaluates the performance of a classification model by generating a confusion matrix\n",
        "    and a classification report.\n",
        "\n",
        "    This function uses the provided pipeline to make predictions on the input features,\n",
        "    compares these predictions against the true labels, and outputs a confusion matrix\n",
        "    along with a detailed classification report that includes precision, recall, and F1-score\n",
        "    for each class.\n",
        "\n",
        "    Parameters:\n",
        "        X (array-like or DataFrame): The input features for prediction.\n",
        "        y (array-like): The true labels corresponding to the input features.\n",
        "        pipeline (Pipeline): A scikit-learn pipeline object that includes a trained\n",
        "                             classification model.\n",
        "        label_map (list): A list of labels corresponding to the classes in `y`, used for\n",
        "                          labeling the confusion matrix and classification report.\n",
        "\n",
        "    Outputs:\n",
        "        Prints:\n",
        "        - A confusion matrix showing the count of true positive, true negative, false positive,\n",
        "          and false negative predictions.\n",
        "        - A classification report detailing the precision, recall, F1-score, and support for\n",
        "          each class.\n",
        "\n",
        "    Notes:\n",
        "        - Ensure that the pipeline has been fitted with training data prior to calling this function.\n",
        "        - The order of labels in `label_map` should correspond to the order of classes in `y`.\n",
        "    \"\"\"\n",
        "    prediction = pipeline.predict(X)\n",
        "\n",
        "    print('---  Confusion Matrix  ---')\n",
        "    print(pd.DataFrame(confusion_matrix(y_true=y, y_pred=prediction),\n",
        "          columns=[[\"Actual \" + sub for sub in label_map]],\n",
        "          index=[[\"Prediction \" + sub for sub in label_map]]\n",
        "          ))\n",
        "    print(\"\\n\")\n",
        "\n",
        "    print('---  Classification Report  ---')\n",
        "    print(classification_report(y, prediction, target_names=label_map), \"\\n\")\n",
        "\n",
        "def clf_performance(X_train, y_train, pipeline, label_map):\n",
        "    \"\"\"\n",
        "    Evaluates and reports the performance of a classification model on the training set.\n",
        "\n",
        "    This function prints the confusion matrix and classification report for the training set.\n",
        "\n",
        "    Parameters:\n",
        "        X_train (array-like or DataFrame): The input features for the training set.\n",
        "        y_train (array-like): The true labels for the training set.\n",
        "        pipeline (Pipeline): A scikit-learn pipeline object that includes a trained\n",
        "                             classification model.\n",
        "        label_map (list): A list of labels corresponding to the classes in `y_train`,\n",
        "                          used for labeling the confusion matrix and classification report.\n",
        "\n",
        "    Outputs:\n",
        "        Prints:\n",
        "        - A confusion matrix and classification report for the training set,\n",
        "          providing insights into the model's performance in terms of\n",
        "          accuracy, precision, recall, and F1-score.\n",
        "    \"\"\"\n",
        "    print(\"#### Train Set #### \\n\")\n",
        "    confusion_matrix_and_report(X_train, y_train, pipeline, label_map)"
      ]
    },
    {
      "cell_type": "markdown",
      "metadata": {
        "id": "qpUfEAGlW5aK"
      },
      "source": [
        "Evaluation: We cross check with metrics defined at ML business case\n",
        "* 80% Recall for Multi Engine, on train and test set\n",
        "* 80% Precision for no Multi Engine on train and test set. "
      ]
    },
    {
      "cell_type": "code",
      "execution_count": 47,
      "metadata": {},
      "outputs": [
        {
          "name": "stdout",
          "output_type": "stream",
          "text": [
            "Unique classes in y_train: [0 1 2]\n",
            "Unique classes in y_test: [0 1 2]\n"
          ]
        }
      ],
      "source": [
        "print(f\"Unique classes in y_train: {np.unique(y_train)}\")\n",
        "print(f\"Unique classes in y_test: {np.unique(y_test)}\")"
      ]
    },
    {
      "cell_type": "markdown",
      "metadata": {},
      "source": [
        "Adding a non-existent third Engine only with the purpose of solving the dimension mismatch."
      ]
    },
    {
      "cell_type": "code",
      "execution_count": 48,
      "metadata": {},
      "outputs": [
        {
          "name": "stdout",
          "output_type": "stream",
          "text": [
            "{'OrdinalCategoricalEncoder': OrdinalEncoder(variables=['Multi_Engine', 'TP_mods']), 'YeoJohnsonTransformer': PowerTransformer()}\n"
          ]
        }
      ],
      "source": [
        "# Print all steps in the pipeline to see the names of each step\n",
        "print(pipeline.named_steps)"
      ]
    },
    {
      "cell_type": "code",
      "execution_count": 49,
      "metadata": {},
      "outputs": [
        {
          "name": "stdout",
          "output_type": "stream",
          "text": [
            "#### Train Set #### \n",
            "\n",
            "---  Confusion Matrix  ---\n",
            "                         Actual Single Engine Actual Multi Engine  \\\n",
            "Prediction Single Engine                  488                   0   \n",
            "Prediction Multi Engine                     0                 488   \n",
            "Prediction Other Engine                     1                   0   \n",
            "\n",
            "                         Actual Other Engine  \n",
            "Prediction Single Engine                   0  \n",
            "Prediction Multi Engine                    0  \n",
            "Prediction Other Engine                  121  \n",
            "\n",
            "\n",
            "---  Classification Report  ---\n",
            "               precision    recall  f1-score   support\n",
            "\n",
            "Single Engine       1.00      1.00      1.00       488\n",
            " Multi Engine       1.00      1.00      1.00       488\n",
            " Other Engine       1.00      0.99      1.00       122\n",
            "\n",
            "     accuracy                           1.00      1098\n",
            "    macro avg       1.00      1.00      1.00      1098\n",
            " weighted avg       1.00      1.00      1.00      1098\n",
            " \n",
            "\n"
          ]
        }
      ],
      "source": [
        "clf_performance(X_train=X_train, y_train=y_train,\n",
        "                 pipeline=pipeline_clf,\n",
        "                 label_map=['Single Engine', 'Multi Engine', 'Other Engine'])"
      ]
    },
    {
      "cell_type": "code",
      "execution_count": 50,
      "metadata": {},
      "outputs": [
        {
          "name": "stdout",
          "output_type": "stream",
          "text": [
            "Unique labels in y_test: [0 1 2]\n"
          ]
        }
      ],
      "source": [
        "print(\"Unique labels in y_test:\", np.unique(y_test))"
      ]
    },
    {
      "cell_type": "code",
      "execution_count": 51,
      "metadata": {},
      "outputs": [
        {
          "name": "stdout",
          "output_type": "stream",
          "text": [
            "Unique labels in y_test: [0 1 2]\n"
          ]
        }
      ],
      "source": [
        "print(\"Unique labels in y_test:\", np.unique(y_test))\n"
      ]
    },
    {
      "cell_type": "markdown",
      "metadata": {
        "id": "7WgttWjtHHOQ"
      },
      "source": [
        "# Step 3: Refit pipeline with best features"
      ]
    },
    {
      "cell_type": "markdown",
      "metadata": {
        "id": "kCyOyebVHVmA"
      },
      "source": [
        "## Refit ML Pipeline and Resampling"
      ]
    },
    {
      "cell_type": "markdown",
      "metadata": {
        "id": "R4PpI2sKC5IL"
      },
      "source": [
        "In theory, a pipeline fitted **using only the most important features** should give the same result as the one fitted with **all variables and feature selection**\n",
        "\n",
        "* However, in this project we have a step for feature augmentation, which is to balance the target Train Set using SMOTE().\n"
      ]
    },
    {
      "cell_type": "markdown",
      "metadata": {
        "id": "Km_-hW0f68DP"
      },
      "source": [
        "## Rewrite ML pipeline for Data Cleaning and Feature Engineering"
      ]
    },
    {
      "cell_type": "markdown",
      "metadata": {},
      "source": [
        "The features have not retained their original column names most likely due to feature reduction. "
      ]
    },
    {
      "cell_type": "code",
      "execution_count": 52,
      "metadata": {},
      "outputs": [
        {
          "data": {
            "text/plain": [
              "[7, 8, 15, 0, 14]"
            ]
          },
          "execution_count": 52,
          "metadata": {},
          "output_type": "execute_result"
        }
      ],
      "source": [
        "best_features"
      ]
    },
    {
      "cell_type": "markdown",
      "metadata": {
        "id": "EBeckIjkCa4k"
      },
      "source": [
        "New Pipeline for DataCleaning And FeatureEngineering"
      ]
    },
    {
      "cell_type": "code",
      "execution_count": 53,
      "metadata": {
        "id": "bc8ptvFiHJmb"
      },
      "outputs": [],
      "source": [
        "def PipelineDataCleaningAndFeatureEngineering():\n",
        "    pipeline_base = Pipeline([\n",
        "\n",
        "        (\"OrdinalCategoricalEncoder\", OrdinalEncoder(encoding_method='arbitrary',\n",
        "                                                     variables=[7, 8, 15, 0, 14])),\n",
        "\n",
        "    ])\n",
        "\n",
        "    return pipeline_base\n"
      ]
    },
    {
      "cell_type": "markdown",
      "metadata": {
        "id": "uGNs9PU16_Ls"
      },
      "source": [
        "## Rewrite ML Pipeline for Modelling"
      ]
    },
    {
      "cell_type": "markdown",
      "metadata": {
        "id": "gpjmxzTbCXlg"
      },
      "source": [
        "Function for Pipeline optmisation"
      ]
    },
    {
      "cell_type": "code",
      "execution_count": 54,
      "metadata": {
        "id": "8E76QmoMEWA0"
      },
      "outputs": [],
      "source": [
        "# Pipeline Optmization: Model\n",
        "def PipelineClf(model):\n",
        "    pipeline_base = Pipeline([\n",
        "        (\"scaler\", StandardScaler()),\n",
        "        # no feature selection needed anymore!!! We know which features to use already!\n",
        "        (\"model\", model),\n",
        "    ])\n",
        "\n",
        "    return pipeline_base\n"
      ]
    },
    {
      "cell_type": "markdown",
      "metadata": {
        "id": "75hfh3o5GhoU"
      },
      "source": [
        "## Split Train Test Set, considering only with best features"
      ]
    },
    {
      "cell_type": "code",
      "execution_count": 55,
      "metadata": {
        "id": "x6dX0VeKGhod"
      },
      "outputs": [
        {
          "name": "stdout",
          "output_type": "stream",
          "text": [
            "(685, 20) (685,) (172, 20) (172,)\n"
          ]
        }
      ],
      "source": [
        "X_train, X_test, y_train, y_test = train_test_split(\n",
        "    df.drop(['Engine_Type'], axis=1),\n",
        "    df['Engine_Type'],\n",
        "    test_size=0.2,\n",
        "    random_state=0,\n",
        ")\n",
        "\n",
        "print(X_train.shape, y_train.shape, X_test.shape, y_test.shape)"
      ]
    },
    {
      "cell_type": "markdown",
      "metadata": {
        "id": "c19a3t6jI6H6"
      },
      "source": [
        "We filter only the most important variables"
      ]
    },
    {
      "cell_type": "code",
      "execution_count": 56,
      "metadata": {
        "id": "p5Acb9T_GXjU"
      },
      "outputs": [
        {
          "name": "stdout",
          "output_type": "stream",
          "text": [
            "(685, 0) (685,) (172, 0) (172,)\n"
          ]
        },
        {
          "data": {
            "text/html": [
              "<div>\n",
              "<style scoped>\n",
              "    .dataframe tbody tr th:only-of-type {\n",
              "        vertical-align: middle;\n",
              "    }\n",
              "\n",
              "    .dataframe tbody tr th {\n",
              "        vertical-align: top;\n",
              "    }\n",
              "\n",
              "    .dataframe thead th {\n",
              "        text-align: right;\n",
              "    }\n",
              "</style>\n",
              "<table border=\"1\" class=\"dataframe\">\n",
              "  <thead>\n",
              "    <tr style=\"text-align: right;\">\n",
              "      <th></th>\n",
              "    </tr>\n",
              "  </thead>\n",
              "  <tbody>\n",
              "    <tr>\n",
              "      <th>196</th>\n",
              "    </tr>\n",
              "    <tr>\n",
              "      <th>645</th>\n",
              "    </tr>\n",
              "    <tr>\n",
              "      <th>122</th>\n",
              "    </tr>\n",
              "  </tbody>\n",
              "</table>\n",
              "</div>"
            ],
            "text/plain": [
              "Empty DataFrame\n",
              "Columns: []\n",
              "Index: [196, 645, 122]"
            ]
          },
          "execution_count": 56,
          "metadata": {},
          "output_type": "execute_result"
        }
      ],
      "source": [
        "X_train = X_train.filter(best_features)\n",
        "X_test = X_test.filter(best_features)\n",
        "\n",
        "print(X_train.shape, y_train.shape, X_test.shape, y_test.shape)\n",
        "X_train.head(3)"
      ]
    },
    {
      "cell_type": "markdown",
      "metadata": {
        "id": "EQxIFw3KGhog"
      },
      "source": [
        "Check Train Set Target distribution"
      ]
    },
    {
      "cell_type": "code",
      "execution_count": 57,
      "metadata": {
        "id": "7ZQyth-2Ghog"
      },
      "outputs": [
        {
          "data": {
            "image/png": "[encoded data removed]",
            "text/plain": [
              "<Figure size 640x480 with 1 Axes>"
            ]
          },
          "metadata": {},
          "output_type": "display_data"
        }
      ],
      "source": [
        "y_train.value_counts().plot(kind='bar', title='Train Set Target Distribution')\n",
        "plt.show()"
      ]
    },
    {
      "cell_type": "markdown",
      "metadata": {
        "id": "b_WjvD_QIJ_L"
      },
      "source": [
        "## Grid Search CV: Sklearn"
      ]
    },
    {
      "cell_type": "markdown",
      "metadata": {
        "id": "ESkqrySI7N6u"
      },
      "source": [
        "Using the most suitable model from the last section and its best hyperparameter configuration."
      ]
    },
    {
      "cell_type": "markdown",
      "metadata": {
        "id": "F6fFaXDOIJ_M"
      },
      "source": [
        "We are using the same model from  the last GridCV search"
      ]
    },
    {
      "cell_type": "code",
      "execution_count": 58,
      "metadata": {
        "id": "H7F0z__h1qSA"
      },
      "outputs": [
        {
          "data": {
            "text/plain": [
              "{'XGBClassifier': XGBClassifier(base_score=None, booster=None, colsample_bylevel=None,\n",
              "               colsample_bynode=None, colsample_bytree=None, gamma=None,\n",
              "               gpu_id=None, importance_type='gain', interaction_constraints=None,\n",
              "               learning_rate=None, max_delta_step=None, max_depth=None,\n",
              "               min_child_weight=None, missing=nan, monotone_constraints=None,\n",
              "               n_estimators=100, n_jobs=None, num_parallel_tree=None,\n",
              "               random_state=0, reg_alpha=None, reg_lambda=None,\n",
              "               scale_pos_weight=None, subsample=None, tree_method=None,\n",
              "               validate_parameters=None, verbosity=None)}"
            ]
          },
          "execution_count": 58,
          "metadata": {},
          "output_type": "execute_result"
        }
      ],
      "source": [
        "models_search   # XGBClassifier"
      ]
    },
    {
      "cell_type": "markdown",
      "metadata": {
        "id": "qRteBPgd3ldU"
      },
      "source": [
        "And the best parameters from the last GridCV search "
      ]
    },
    {
      "cell_type": "code",
      "execution_count": 59,
      "metadata": {
        "id": "IbGNBeZk3V8r"
      },
      "outputs": [
        {
          "data": {
            "text/plain": [
              "{'model__learning_rate': 0.1, 'model__max_depth': 3}"
            ]
          },
          "execution_count": 59,
          "metadata": {},
          "output_type": "execute_result"
        }
      ],
      "source": [
        "best_parameters"
      ]
    },
    {
      "cell_type": "markdown",
      "metadata": {
        "id": "YlLJP5Ds3rYp"
      },
      "source": [
        "You will need to type in manually since the hyperparameter values have to be a list. The previous dictionary is not in this format."
      ]
    },
    {
      "cell_type": "code",
      "execution_count": 60,
      "metadata": {
        "id": "9bC8RmE-2Mi2"
      },
      "outputs": [
        {
          "data": {
            "text/plain": [
              "{'XGBClassifier': {'model__learning_rate': [0.01], 'model__max_depth': [3]}}"
            ]
          },
          "execution_count": 60,
          "metadata": {},
          "output_type": "execute_result"
        }
      ],
      "source": [
        "params_search = {'XGBClassifier':  {\n",
        "    'model__learning_rate': [0.01],   # the value should be in []\n",
        "    'model__max_depth': [3]},  # the value should be in []\n",
        "}\n",
        "params_search\n"
      ]
    },
    {
      "cell_type": "markdown",
      "metadata": {
        "id": "tZcP3yXpIJ_O"
      },
      "source": [
        "Define the best clf pipeline"
      ]
    },
    {
      "cell_type": "code",
      "execution_count": 61,
      "metadata": {
        "id": "fqIk1g95IJ_N"
      },
      "outputs": [
        {
          "data": {
            "text/plain": [
              "Pipeline(steps=[('scaler', StandardScaler()),\n",
              "                ('feat_selection',\n",
              "                 SelectFromModel(estimator=XGBClassifier(base_score=None,\n",
              "                                                         booster=None,\n",
              "                                                         colsample_bylevel=None,\n",
              "                                                         colsample_bynode=None,\n",
              "                                                         colsample_bytree=None,\n",
              "                                                         gamma=None,\n",
              "                                                         gpu_id=None,\n",
              "                                                         importance_type='gain',\n",
              "                                                         interaction_constraints=None,\n",
              "                                                         learning_rate=None,\n",
              "                                                         max_delta_step=None,\n",
              "                                                         max_depth=None,\n",
              "                                                         min_child_weight=None,\n",
              "                                                         m...\n",
              "                               importance_type='gain',\n",
              "                               interaction_constraints='', learning_rate=0.1,\n",
              "                               max_delta_step=0, max_depth=3,\n",
              "                               min_child_weight=1, missing=nan,\n",
              "                               monotone_constraints='()', n_estimators=100,\n",
              "                               n_jobs=0, num_parallel_tree=1,\n",
              "                               objective='multi:softprob', random_state=0,\n",
              "                               reg_alpha=0, reg_lambda=1, scale_pos_weight=None,\n",
              "                               subsample=1, tree_method='exact',\n",
              "                               validate_parameters=1, verbosity=None))])"
            ]
          },
          "execution_count": 61,
          "metadata": {},
          "output_type": "execute_result"
        }
      ],
      "source": [
        "best_model = grid_search_summary.iloc[0, 0]\n",
        "pipeline_clf = grid_search_pipelines[best_model].best_estimator_\n",
        "pipeline_clf"
      ]
    },
    {
      "cell_type": "markdown",
      "metadata": {},
      "source": [
        "---"
      ]
    }
  ],
  "metadata": {
    "accelerator": "GPU",
    "colab": {
      "name": "Modeling and Evaluation - Predict Customer Churn.ipynb",
      "provenance": []
    },
    "kernelspec": {
      "display_name": "Python 3",
      "language": "python",
      "name": "python3"
    },
    "language_info": {
      "codemirror_mode": {
        "name": "ipython",
        "version": 3
      },
      "file_extension": ".py",
      "mimetype": "text/x-python",
      "name": "python",
      "nbconvert_exporter": "python",
      "pygments_lexer": "ipython3",
      "version": "3.8.18"
    },
    "orig_nbformat": 2
  },
  "nbformat": 4,
  "nbformat_minor": 2
}
